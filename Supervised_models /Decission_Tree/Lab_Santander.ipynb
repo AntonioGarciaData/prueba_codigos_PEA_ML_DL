{
  "nbformat": 4,
  "nbformat_minor": 0,
  "metadata": {
    "colab": {
      "name": "Lab: Santander.ipynb",
      "provenance": [],
      "machine_shape": "hm",
      "include_colab_link": true
    },
    "kernelspec": {
      "name": "python3",
      "display_name": "Python 3"
    },
    "gpuClass": "standard"
  },
  "cells": [
    {
      "cell_type": "markdown",
      "metadata": {
        "id": "view-in-github",
        "colab_type": "text"
      },
      "source": [
        "<a href=\"https://colab.research.google.com/github/AntonioGarciaData/prueba_codigos_PEA_ML_DL/blob/main/Supervised_models%20/Decission_Tree/Lab_Santander.ipynb\" target=\"_parent\"><img src=\"https://colab.research.google.com/assets/colab-badge.svg\" alt=\"Open In Colab\"/></a>"
      ]
    },
    {
      "cell_type": "markdown",
      "metadata": {
        "id": "d52SmLiMKz01"
      },
      "source": [
        "\n",
        "<h1 align=center><font size = 5>Santander Customer Satisfaction\n",
        "</font></h1>\n",
        "\n",
        "---"
      ]
    },
    {
      "cell_type": "markdown",
      "metadata": {
        "id": "Is3nFhGglsft"
      },
      "source": [
        "## Tabla de Contenidos\n",
        "\n",
        "<div class=\"alert alert-block alert-info\" style=\"margin-top: 20px\">\n",
        "\n",
        "<font size = 3>\n",
        "    \n",
        "1. <a href=\"#item31\">Introducción</a>  \n",
        "2. <a href=\"#item32\">Santander Problem</a>  \n",
        "3. <a href=\"#item33\">Descargar y limpiar el Dataset</a>  \n",
        "4. <a href=\"#item34\">SMOTE Algorithm</a>  \n",
        "5. <a href=\"#item34\">Decision Trees</a>  \n",
        "7. <a href=\"#item34\">Cross Validation y GridSearch</a>  \n",
        "6. <a href=\"#item34\">Random Forest</a>  \n",
        "8. <a href=\"#item34\">AdaBoost</a>  \n",
        "9. <a href=\"#item34\">XGBoost</a> \n",
        "10. <a href=\"#item34\">RandomSearch</a> \n",
        "11. <a href=\"#item34\">¿Cómo implementar un modelo?</a>  \n",
        "\n",
        "</font>\n",
        "</div>"
      ]
    },
    {
      "cell_type": "markdown",
      "metadata": {
        "button": false,
        "deletable": true,
        "new_sheet": false,
        "run_control": {
          "read_only": false
        },
        "id": "R_NIQeNlLo19"
      },
      "source": [
        "## Introducción\n"
      ]
    },
    {
      "cell_type": "markdown",
      "metadata": {
        "id": "g7LRGuxBHMpw"
      },
      "source": [
        "En este laboratorio, aprenderá a usar python para construir modelos de ensemble."
      ]
    },
    {
      "cell_type": "markdown",
      "metadata": {
        "id": "yFB_r2dkHMp7"
      },
      "source": [
        "\n",
        "<h3>Objetivo de este Notebook<h3>    \n",
        "<h5> 1. Como construir e interpretar un modelo de ensemble.</h5>\n",
        "<h5> 2. Descargar y limpiar un Dataset </h5>\n",
        "<h5> 3. Realizar los pasos necesarios previos a la etapa de modelamiento </h5>\n",
        "<h5> 4. Entrenar y Testear modelo </h5>     "
      ]
    },
    {
      "cell_type": "markdown",
      "metadata": {
        "id": "cWBGqVX6HMp8"
      },
      "source": [
        "Primero, importemos algunos módulos que necesitaremos para el análisis y construcción del modelo."
      ]
    },
    {
      "cell_type": "code",
      "metadata": {
        "id": "PEMIsurDJf4M"
      },
      "source": [
        "\n",
        "# Scikit-Learn \n",
        "import sklearn\n",
        "assert sklearn.__version__ >= \"0.20\"\n",
        "\n",
        "# Imports comunes\n",
        "import pandas as pd\n",
        "import numpy as np\n",
        "import os\n",
        "\n",
        "# Configuración de tamaño de gráficos matplotlib\n",
        "%matplotlib inline\n",
        "import matplotlib as mpl\n",
        "import matplotlib.pyplot as plt\n",
        "\n",
        "mpl.rc('axes', labelsize=14)\n",
        "mpl.rc('xtick', labelsize=12)\n",
        "mpl.rc('ytick', labelsize=12)\n",
        "\n",
        "# Ignore las advertencias poco útiles\n",
        "import warnings\n",
        "warnings.filterwarnings(action=\"ignore\", message=\"^internal gelsd\")"
      ],
      "execution_count": 1,
      "outputs": []
    },
    {
      "cell_type": "markdown",
      "metadata": {
        "id": "rtJhMpGIoKSg"
      },
      "source": [
        "## Santander Customer Satisfaction"
      ]
    },
    {
      "cell_type": "markdown",
      "metadata": {
        "id": "KZwf0QHnLBB6"
      },
      "source": [
        "\n",
        "Desde los equipos de soporte de primera línea hasta los ejecutivos, la satisfacción del cliente es una medida clave del éxito de una empresa. Los clientes insatisfechos no se quedan. Es más, los clientes insatisfechos rara vez expresan su insatisfacción antes de irse.\n",
        "\n",
        "El banco Santander está pidiendo a la comunidad data scientist que los ayude a identificar clientes insatisfechos desde su primera interacción. Hacerlo permitiría a Santander tomar medidas proactivas para mejorar la felicidad de un cliente antes de que sea demasiado tarde.\n",
        "\n",
        "En este laboratorio, trabajará con cientos de variables anónimas para predecir si un cliente está satisfecho o insatisfecho con su experiencia bancaria."
      ]
    },
    {
      "cell_type": "markdown",
      "metadata": {
        "id": "WMTTs7KsMZIF"
      },
      "source": [
        "<img src=\"https://storage.googleapis.com/kaggle-competitions/kaggle/4986/media/santander_custsat_red.png\" alt=\"HTML5 Icon\" style=\"width: 600px; height: 450px;\">\n",
        "<div style=\"text-align: center\">¿Qué clientes son clientes satisfechos? </div>"
      ]
    },
    {
      "cell_type": "markdown",
      "metadata": {
        "id": "RA0bDOj5LtM7"
      },
      "source": [
        "\n",
        "<b>Descripción de datos</b>\n",
        "\n",
        "El data frame de Santander tiene 76,020 filas y 371 columnas.\n",
        "\n",
        "\n",
        "---\n",
        "\n",
        "Se le proporciona un conjunto de datos anónimos que contiene una gran cantidad de variables numéricas. La columna <b>\"OBJETIVO\"</b> es la variable a predecir. Es igual a uno para clientes insatisfechos y 0 para clientes satisfechos.\n",
        "\n",
        "La tarea consiste en predecir la probabilidad de que cada cliente del conjunto de prueba sea un cliente insatisfecho.\n",
        "\n",
        "\n",
        "---\n",
        "\n",
        "\n",
        "<strong>Puede consultar este [link](https://www.kaggle.com/c/santander-customer-satisfaction/overview) para leer más sobre la fuente de datos Santander.</strong>\n"
      ]
    },
    {
      "cell_type": "markdown",
      "metadata": {
        "button": false,
        "deletable": true,
        "new_sheet": false,
        "run_control": {
          "read_only": false
        },
        "id": "_dC4JellLo2B"
      },
      "source": [
        "## Descargar y limpiar Dataset\n"
      ]
    },
    {
      "cell_type": "code",
      "metadata": {
        "id": "5NynpymMcdab",
        "outputId": "b531c1d2-690a-436f-fdde-80de4fb86cac",
        "colab": {
          "base_uri": "https://localhost:8080/",
          "height": 300
        }
      },
      "source": [
        "# Cargar Data\n",
        "import pandas as pd\n",
        "pddf = pd.read_csv(\"santander.csv\")\n",
        "pddf.head()"
      ],
      "execution_count": 2,
      "outputs": [
        {
          "output_type": "execute_result",
          "data": {
            "text/plain": [
              "   ID  var3  var15  imp_ent_var16_ult1  imp_op_var39_comer_ult1  \\\n",
              "0   1     2     23                 0.0                      0.0   \n",
              "1   3     2     34                 0.0                      0.0   \n",
              "2   4     2     23                 0.0                      0.0   \n",
              "3   8     2     37                 0.0                    195.0   \n",
              "4  10     2     39                 0.0                      0.0   \n",
              "\n",
              "   imp_op_var39_comer_ult3  imp_op_var40_comer_ult1  imp_op_var40_comer_ult3  \\\n",
              "0                      0.0                      0.0                      0.0   \n",
              "1                      0.0                      0.0                      0.0   \n",
              "2                      0.0                      0.0                      0.0   \n",
              "3                    195.0                      0.0                      0.0   \n",
              "4                      0.0                      0.0                      0.0   \n",
              "\n",
              "   imp_op_var40_efect_ult1  imp_op_var40_efect_ult3  ...  \\\n",
              "0                      0.0                      0.0  ...   \n",
              "1                      0.0                      0.0  ...   \n",
              "2                      0.0                      0.0  ...   \n",
              "3                      0.0                      0.0  ...   \n",
              "4                      0.0                      0.0  ...   \n",
              "\n",
              "   saldo_medio_var33_hace2  saldo_medio_var33_hace3  saldo_medio_var33_ult1  \\\n",
              "0                      0.0                      0.0                     0.0   \n",
              "1                      0.0                      0.0                     0.0   \n",
              "2                      0.0                      0.0                     0.0   \n",
              "3                      0.0                      0.0                     0.0   \n",
              "4                      0.0                      0.0                     0.0   \n",
              "\n",
              "   saldo_medio_var33_ult3  saldo_medio_var44_hace2  saldo_medio_var44_hace3  \\\n",
              "0                     0.0                      0.0                      0.0   \n",
              "1                     0.0                      0.0                      0.0   \n",
              "2                     0.0                      0.0                      0.0   \n",
              "3                     0.0                      0.0                      0.0   \n",
              "4                     0.0                      0.0                      0.0   \n",
              "\n",
              "   saldo_medio_var44_ult1  saldo_medio_var44_ult3          var38  TARGET  \n",
              "0                     0.0                     0.0   39205.170000       0  \n",
              "1                     0.0                     0.0   49278.030000       0  \n",
              "2                     0.0                     0.0   67333.770000       0  \n",
              "3                     0.0                     0.0   64007.970000       0  \n",
              "4                     0.0                     0.0  117310.979016       0  \n",
              "\n",
              "[5 rows x 371 columns]"
            ],
            "text/html": [
              "\n",
              "  <div id=\"df-1f8579cf-94e0-47fb-8840-749e79973780\">\n",
              "    <div class=\"colab-df-container\">\n",
              "      <div>\n",
              "<style scoped>\n",
              "    .dataframe tbody tr th:only-of-type {\n",
              "        vertical-align: middle;\n",
              "    }\n",
              "\n",
              "    .dataframe tbody tr th {\n",
              "        vertical-align: top;\n",
              "    }\n",
              "\n",
              "    .dataframe thead th {\n",
              "        text-align: right;\n",
              "    }\n",
              "</style>\n",
              "<table border=\"1\" class=\"dataframe\">\n",
              "  <thead>\n",
              "    <tr style=\"text-align: right;\">\n",
              "      <th></th>\n",
              "      <th>ID</th>\n",
              "      <th>var3</th>\n",
              "      <th>var15</th>\n",
              "      <th>imp_ent_var16_ult1</th>\n",
              "      <th>imp_op_var39_comer_ult1</th>\n",
              "      <th>imp_op_var39_comer_ult3</th>\n",
              "      <th>imp_op_var40_comer_ult1</th>\n",
              "      <th>imp_op_var40_comer_ult3</th>\n",
              "      <th>imp_op_var40_efect_ult1</th>\n",
              "      <th>imp_op_var40_efect_ult3</th>\n",
              "      <th>...</th>\n",
              "      <th>saldo_medio_var33_hace2</th>\n",
              "      <th>saldo_medio_var33_hace3</th>\n",
              "      <th>saldo_medio_var33_ult1</th>\n",
              "      <th>saldo_medio_var33_ult3</th>\n",
              "      <th>saldo_medio_var44_hace2</th>\n",
              "      <th>saldo_medio_var44_hace3</th>\n",
              "      <th>saldo_medio_var44_ult1</th>\n",
              "      <th>saldo_medio_var44_ult3</th>\n",
              "      <th>var38</th>\n",
              "      <th>TARGET</th>\n",
              "    </tr>\n",
              "  </thead>\n",
              "  <tbody>\n",
              "    <tr>\n",
              "      <th>0</th>\n",
              "      <td>1</td>\n",
              "      <td>2</td>\n",
              "      <td>23</td>\n",
              "      <td>0.0</td>\n",
              "      <td>0.0</td>\n",
              "      <td>0.0</td>\n",
              "      <td>0.0</td>\n",
              "      <td>0.0</td>\n",
              "      <td>0.0</td>\n",
              "      <td>0.0</td>\n",
              "      <td>...</td>\n",
              "      <td>0.0</td>\n",
              "      <td>0.0</td>\n",
              "      <td>0.0</td>\n",
              "      <td>0.0</td>\n",
              "      <td>0.0</td>\n",
              "      <td>0.0</td>\n",
              "      <td>0.0</td>\n",
              "      <td>0.0</td>\n",
              "      <td>39205.170000</td>\n",
              "      <td>0</td>\n",
              "    </tr>\n",
              "    <tr>\n",
              "      <th>1</th>\n",
              "      <td>3</td>\n",
              "      <td>2</td>\n",
              "      <td>34</td>\n",
              "      <td>0.0</td>\n",
              "      <td>0.0</td>\n",
              "      <td>0.0</td>\n",
              "      <td>0.0</td>\n",
              "      <td>0.0</td>\n",
              "      <td>0.0</td>\n",
              "      <td>0.0</td>\n",
              "      <td>...</td>\n",
              "      <td>0.0</td>\n",
              "      <td>0.0</td>\n",
              "      <td>0.0</td>\n",
              "      <td>0.0</td>\n",
              "      <td>0.0</td>\n",
              "      <td>0.0</td>\n",
              "      <td>0.0</td>\n",
              "      <td>0.0</td>\n",
              "      <td>49278.030000</td>\n",
              "      <td>0</td>\n",
              "    </tr>\n",
              "    <tr>\n",
              "      <th>2</th>\n",
              "      <td>4</td>\n",
              "      <td>2</td>\n",
              "      <td>23</td>\n",
              "      <td>0.0</td>\n",
              "      <td>0.0</td>\n",
              "      <td>0.0</td>\n",
              "      <td>0.0</td>\n",
              "      <td>0.0</td>\n",
              "      <td>0.0</td>\n",
              "      <td>0.0</td>\n",
              "      <td>...</td>\n",
              "      <td>0.0</td>\n",
              "      <td>0.0</td>\n",
              "      <td>0.0</td>\n",
              "      <td>0.0</td>\n",
              "      <td>0.0</td>\n",
              "      <td>0.0</td>\n",
              "      <td>0.0</td>\n",
              "      <td>0.0</td>\n",
              "      <td>67333.770000</td>\n",
              "      <td>0</td>\n",
              "    </tr>\n",
              "    <tr>\n",
              "      <th>3</th>\n",
              "      <td>8</td>\n",
              "      <td>2</td>\n",
              "      <td>37</td>\n",
              "      <td>0.0</td>\n",
              "      <td>195.0</td>\n",
              "      <td>195.0</td>\n",
              "      <td>0.0</td>\n",
              "      <td>0.0</td>\n",
              "      <td>0.0</td>\n",
              "      <td>0.0</td>\n",
              "      <td>...</td>\n",
              "      <td>0.0</td>\n",
              "      <td>0.0</td>\n",
              "      <td>0.0</td>\n",
              "      <td>0.0</td>\n",
              "      <td>0.0</td>\n",
              "      <td>0.0</td>\n",
              "      <td>0.0</td>\n",
              "      <td>0.0</td>\n",
              "      <td>64007.970000</td>\n",
              "      <td>0</td>\n",
              "    </tr>\n",
              "    <tr>\n",
              "      <th>4</th>\n",
              "      <td>10</td>\n",
              "      <td>2</td>\n",
              "      <td>39</td>\n",
              "      <td>0.0</td>\n",
              "      <td>0.0</td>\n",
              "      <td>0.0</td>\n",
              "      <td>0.0</td>\n",
              "      <td>0.0</td>\n",
              "      <td>0.0</td>\n",
              "      <td>0.0</td>\n",
              "      <td>...</td>\n",
              "      <td>0.0</td>\n",
              "      <td>0.0</td>\n",
              "      <td>0.0</td>\n",
              "      <td>0.0</td>\n",
              "      <td>0.0</td>\n",
              "      <td>0.0</td>\n",
              "      <td>0.0</td>\n",
              "      <td>0.0</td>\n",
              "      <td>117310.979016</td>\n",
              "      <td>0</td>\n",
              "    </tr>\n",
              "  </tbody>\n",
              "</table>\n",
              "<p>5 rows × 371 columns</p>\n",
              "</div>\n",
              "      <button class=\"colab-df-convert\" onclick=\"convertToInteractive('df-1f8579cf-94e0-47fb-8840-749e79973780')\"\n",
              "              title=\"Convert this dataframe to an interactive table.\"\n",
              "              style=\"display:none;\">\n",
              "        \n",
              "  <svg xmlns=\"http://www.w3.org/2000/svg\" height=\"24px\"viewBox=\"0 0 24 24\"\n",
              "       width=\"24px\">\n",
              "    <path d=\"M0 0h24v24H0V0z\" fill=\"none\"/>\n",
              "    <path d=\"M18.56 5.44l.94 2.06.94-2.06 2.06-.94-2.06-.94-.94-2.06-.94 2.06-2.06.94zm-11 1L8.5 8.5l.94-2.06 2.06-.94-2.06-.94L8.5 2.5l-.94 2.06-2.06.94zm10 10l.94 2.06.94-2.06 2.06-.94-2.06-.94-.94-2.06-.94 2.06-2.06.94z\"/><path d=\"M17.41 7.96l-1.37-1.37c-.4-.4-.92-.59-1.43-.59-.52 0-1.04.2-1.43.59L10.3 9.45l-7.72 7.72c-.78.78-.78 2.05 0 2.83L4 21.41c.39.39.9.59 1.41.59.51 0 1.02-.2 1.41-.59l7.78-7.78 2.81-2.81c.8-.78.8-2.07 0-2.86zM5.41 20L4 18.59l7.72-7.72 1.47 1.35L5.41 20z\"/>\n",
              "  </svg>\n",
              "      </button>\n",
              "      \n",
              "  <style>\n",
              "    .colab-df-container {\n",
              "      display:flex;\n",
              "      flex-wrap:wrap;\n",
              "      gap: 12px;\n",
              "    }\n",
              "\n",
              "    .colab-df-convert {\n",
              "      background-color: #E8F0FE;\n",
              "      border: none;\n",
              "      border-radius: 50%;\n",
              "      cursor: pointer;\n",
              "      display: none;\n",
              "      fill: #1967D2;\n",
              "      height: 32px;\n",
              "      padding: 0 0 0 0;\n",
              "      width: 32px;\n",
              "    }\n",
              "\n",
              "    .colab-df-convert:hover {\n",
              "      background-color: #E2EBFA;\n",
              "      box-shadow: 0px 1px 2px rgba(60, 64, 67, 0.3), 0px 1px 3px 1px rgba(60, 64, 67, 0.15);\n",
              "      fill: #174EA6;\n",
              "    }\n",
              "\n",
              "    [theme=dark] .colab-df-convert {\n",
              "      background-color: #3B4455;\n",
              "      fill: #D2E3FC;\n",
              "    }\n",
              "\n",
              "    [theme=dark] .colab-df-convert:hover {\n",
              "      background-color: #434B5C;\n",
              "      box-shadow: 0px 1px 3px 1px rgba(0, 0, 0, 0.15);\n",
              "      filter: drop-shadow(0px 1px 2px rgba(0, 0, 0, 0.3));\n",
              "      fill: #FFFFFF;\n",
              "    }\n",
              "  </style>\n",
              "\n",
              "      <script>\n",
              "        const buttonEl =\n",
              "          document.querySelector('#df-1f8579cf-94e0-47fb-8840-749e79973780 button.colab-df-convert');\n",
              "        buttonEl.style.display =\n",
              "          google.colab.kernel.accessAllowed ? 'block' : 'none';\n",
              "\n",
              "        async function convertToInteractive(key) {\n",
              "          const element = document.querySelector('#df-1f8579cf-94e0-47fb-8840-749e79973780');\n",
              "          const dataTable =\n",
              "            await google.colab.kernel.invokeFunction('convertToInteractive',\n",
              "                                                     [key], {});\n",
              "          if (!dataTable) return;\n",
              "\n",
              "          const docLinkHtml = 'Like what you see? Visit the ' +\n",
              "            '<a target=\"_blank\" href=https://colab.research.google.com/notebooks/data_table.ipynb>data table notebook</a>'\n",
              "            + ' to learn more about interactive tables.';\n",
              "          element.innerHTML = '';\n",
              "          dataTable['output_type'] = 'display_data';\n",
              "          await google.colab.output.renderOutput(dataTable, element);\n",
              "          const docLink = document.createElement('div');\n",
              "          docLink.innerHTML = docLinkHtml;\n",
              "          element.appendChild(docLink);\n",
              "        }\n",
              "      </script>\n",
              "    </div>\n",
              "  </div>\n",
              "  "
            ]
          },
          "metadata": {},
          "execution_count": 2
        }
      ]
    },
    {
      "cell_type": "code",
      "metadata": {
        "id": "9uoUNKzPhEEx",
        "colab": {
          "base_uri": "https://localhost:8080/"
        },
        "outputId": "f552dc33-adf7-4bb5-c1d5-943d20a44ce9"
      },
      "source": [
        "pddf.shape"
      ],
      "execution_count": 3,
      "outputs": [
        {
          "output_type": "execute_result",
          "data": {
            "text/plain": [
              "(76020, 371)"
            ]
          },
          "metadata": {},
          "execution_count": 3
        }
      ]
    },
    {
      "cell_type": "code",
      "metadata": {
        "id": "4tuDnh9shR1u"
      },
      "source": [
        "# Cargar seaborn \n",
        "import seaborn as sns\n",
        "sns.set(style=\"whitegrid\", color_codes = True)\n",
        "sns.set(rc={'figure.figsize':(10,6)})"
      ],
      "execution_count": 4,
      "outputs": []
    },
    {
      "cell_type": "code",
      "metadata": {
        "id": "5FRnVO_GhTwz",
        "outputId": "ac9960b1-2122-4808-d042-c1a455b4555b",
        "colab": {
          "base_uri": "https://localhost:8080/",
          "height": 567
        }
      },
      "source": [
        "# Analizando el target \n",
        "sns.countplot(x = 'TARGET', data = pddf, palette = 'hls')\n"
      ],
      "execution_count": 5,
      "outputs": [
        {
          "output_type": "execute_result",
          "data": {
            "text/plain": [
              "<Axes: xlabel='TARGET', ylabel='count'>"
            ]
          },
          "metadata": {},
          "execution_count": 5
        },
        {
          "output_type": "display_data",
          "data": {
            "text/plain": [
              "<Figure size 1000x600 with 1 Axes>"
            ],
            "image/png": "[encoded data removed]"
          },
          "metadata": {}
        }
      ]
    },
    {
      "cell_type": "code",
      "source": [
        "pddf.groupby('TARGET')['ID'].count()"
      ],
      "metadata": {
        "colab": {
          "base_uri": "https://localhost:8080/"
        },
        "id": "-mR9zrqmjXIl",
        "outputId": "ddf1e3df-6e44-4ce7-fbbb-925781ab924f"
      },
      "execution_count": 6,
      "outputs": [
        {
          "output_type": "execute_result",
          "data": {
            "text/plain": [
              "TARGET\n",
              "0    73012\n",
              "1     3008\n",
              "Name: ID, dtype: int64"
            ]
          },
          "metadata": {},
          "execution_count": 6
        }
      ]
    },
    {
      "cell_type": "code",
      "metadata": {
        "id": "IXN9cJ2H2JZQ",
        "outputId": "328779b8-b665-4c9a-b44f-8dd3125f5654",
        "colab": {
          "base_uri": "https://localhost:8080/",
          "height": 300
        }
      },
      "source": [
        "pddf[['TARGET']].describe()"
      ],
      "execution_count": 7,
      "outputs": [
        {
          "output_type": "execute_result",
          "data": {
            "text/plain": [
              "             TARGET\n",
              "count  76020.000000\n",
              "mean       0.039569\n",
              "std        0.194945\n",
              "min        0.000000\n",
              "25%        0.000000\n",
              "50%        0.000000\n",
              "75%        0.000000\n",
              "max        1.000000"
            ],
            "text/html": [
              "\n",
              "  <div id=\"df-adef9c49-ceb6-490f-a404-599f43e24f51\">\n",
              "    <div class=\"colab-df-container\">\n",
              "      <div>\n",
              "<style scoped>\n",
              "    .dataframe tbody tr th:only-of-type {\n",
              "        vertical-align: middle;\n",
              "    }\n",
              "\n",
              "    .dataframe tbody tr th {\n",
              "        vertical-align: top;\n",
              "    }\n",
              "\n",
              "    .dataframe thead th {\n",
              "        text-align: right;\n",
              "    }\n",
              "</style>\n",
              "<table border=\"1\" class=\"dataframe\">\n",
              "  <thead>\n",
              "    <tr style=\"text-align: right;\">\n",
              "      <th></th>\n",
              "      <th>TARGET</th>\n",
              "    </tr>\n",
              "  </thead>\n",
              "  <tbody>\n",
              "    <tr>\n",
              "      <th>count</th>\n",
              "      <td>76020.000000</td>\n",
              "    </tr>\n",
              "    <tr>\n",
              "      <th>mean</th>\n",
              "      <td>0.039569</td>\n",
              "    </tr>\n",
              "    <tr>\n",
              "      <th>std</th>\n",
              "      <td>0.194945</td>\n",
              "    </tr>\n",
              "    <tr>\n",
              "      <th>min</th>\n",
              "      <td>0.000000</td>\n",
              "    </tr>\n",
              "    <tr>\n",
              "      <th>25%</th>\n",
              "      <td>0.000000</td>\n",
              "    </tr>\n",
              "    <tr>\n",
              "      <th>50%</th>\n",
              "      <td>0.000000</td>\n",
              "    </tr>\n",
              "    <tr>\n",
              "      <th>75%</th>\n",
              "      <td>0.000000</td>\n",
              "    </tr>\n",
              "    <tr>\n",
              "      <th>max</th>\n",
              "      <td>1.000000</td>\n",
              "    </tr>\n",
              "  </tbody>\n",
              "</table>\n",
              "</div>\n",
              "      <button class=\"colab-df-convert\" onclick=\"convertToInteractive('df-adef9c49-ceb6-490f-a404-599f43e24f51')\"\n",
              "              title=\"Convert this dataframe to an interactive table.\"\n",
              "              style=\"display:none;\">\n",
              "        \n",
              "  <svg xmlns=\"http://www.w3.org/2000/svg\" height=\"24px\"viewBox=\"0 0 24 24\"\n",
              "       width=\"24px\">\n",
              "    <path d=\"M0 0h24v24H0V0z\" fill=\"none\"/>\n",
              "    <path d=\"M18.56 5.44l.94 2.06.94-2.06 2.06-.94-2.06-.94-.94-2.06-.94 2.06-2.06.94zm-11 1L8.5 8.5l.94-2.06 2.06-.94-2.06-.94L8.5 2.5l-.94 2.06-2.06.94zm10 10l.94 2.06.94-2.06 2.06-.94-2.06-.94-.94-2.06-.94 2.06-2.06.94z\"/><path d=\"M17.41 7.96l-1.37-1.37c-.4-.4-.92-.59-1.43-.59-.52 0-1.04.2-1.43.59L10.3 9.45l-7.72 7.72c-.78.78-.78 2.05 0 2.83L4 21.41c.39.39.9.59 1.41.59.51 0 1.02-.2 1.41-.59l7.78-7.78 2.81-2.81c.8-.78.8-2.07 0-2.86zM5.41 20L4 18.59l7.72-7.72 1.47 1.35L5.41 20z\"/>\n",
              "  </svg>\n",
              "      </button>\n",
              "      \n",
              "  <style>\n",
              "    .colab-df-container {\n",
              "      display:flex;\n",
              "      flex-wrap:wrap;\n",
              "      gap: 12px;\n",
              "    }\n",
              "\n",
              "    .colab-df-convert {\n",
              "      background-color: #E8F0FE;\n",
              "      border: none;\n",
              "      border-radius: 50%;\n",
              "      cursor: pointer;\n",
              "      display: none;\n",
              "      fill: #1967D2;\n",
              "      height: 32px;\n",
              "      padding: 0 0 0 0;\n",
              "      width: 32px;\n",
              "    }\n",
              "\n",
              "    .colab-df-convert:hover {\n",
              "      background-color: #E2EBFA;\n",
              "      box-shadow: 0px 1px 2px rgba(60, 64, 67, 0.3), 0px 1px 3px 1px rgba(60, 64, 67, 0.15);\n",
              "      fill: #174EA6;\n",
              "    }\n",
              "\n",
              "    [theme=dark] .colab-df-convert {\n",
              "      background-color: #3B4455;\n",
              "      fill: #D2E3FC;\n",
              "    }\n",
              "\n",
              "    [theme=dark] .colab-df-convert:hover {\n",
              "      background-color: #434B5C;\n",
              "      box-shadow: 0px 1px 3px 1px rgba(0, 0, 0, 0.15);\n",
              "      filter: drop-shadow(0px 1px 2px rgba(0, 0, 0, 0.3));\n",
              "      fill: #FFFFFF;\n",
              "    }\n",
              "  </style>\n",
              "\n",
              "      <script>\n",
              "        const buttonEl =\n",
              "          document.querySelector('#df-adef9c49-ceb6-490f-a404-599f43e24f51 button.colab-df-convert');\n",
              "        buttonEl.style.display =\n",
              "          google.colab.kernel.accessAllowed ? 'block' : 'none';\n",
              "\n",
              "        async function convertToInteractive(key) {\n",
              "          const element = document.querySelector('#df-adef9c49-ceb6-490f-a404-599f43e24f51');\n",
              "          const dataTable =\n",
              "            await google.colab.kernel.invokeFunction('convertToInteractive',\n",
              "                                                     [key], {});\n",
              "          if (!dataTable) return;\n",
              "\n",
              "          const docLinkHtml = 'Like what you see? Visit the ' +\n",
              "            '<a target=\"_blank\" href=https://colab.research.google.com/notebooks/data_table.ipynb>data table notebook</a>'\n",
              "            + ' to learn more about interactive tables.';\n",
              "          element.innerHTML = '';\n",
              "          dataTable['output_type'] = 'display_data';\n",
              "          await google.colab.output.renderOutput(dataTable, element);\n",
              "          const docLink = document.createElement('div');\n",
              "          docLink.innerHTML = docLinkHtml;\n",
              "          element.appendChild(docLink);\n",
              "        }\n",
              "      </script>\n",
              "    </div>\n",
              "  </div>\n",
              "  "
            ]
          },
          "metadata": {},
          "execution_count": 7
        }
      ]
    },
    {
      "cell_type": "code",
      "metadata": {
        "id": "Gp3tJewWi2Al",
        "outputId": "dbbee775-2d83-4850-a691-57282c88bdb1",
        "colab": {
          "base_uri": "https://localhost:8080/"
        }
      },
      "source": [
        "# Indentificar las variables \n",
        "\n",
        "features = list(set(pddf.columns.tolist()) - set(['ID','TARGET']))\n",
        "features"
      ],
      "execution_count": 8,
      "outputs": [
        {
          "output_type": "execute_result",
          "data": {
            "text/plain": [
              "['ind_var8_0',\n",
              " 'imp_op_var40_efect_ult1',\n",
              " 'num_var22_hace3',\n",
              " 'ind_var6_0',\n",
              " 'ind_var5_0',\n",
              " 'imp_aport_var17_hace3',\n",
              " 'num_var31',\n",
              " 'num_op_var39_comer_ult1',\n",
              " 'num_compra_var44_ult1',\n",
              " 'imp_trasp_var17_in_hace3',\n",
              " 'saldo_var17',\n",
              " 'imp_op_var40_efect_ult3',\n",
              " 'num_var45_hace3',\n",
              " 'num_op_var39_ult1',\n",
              " 'num_var45_ult3',\n",
              " 'saldo_medio_var17_ult1',\n",
              " 'num_var22_hace2',\n",
              " 'saldo_medio_var8_ult3',\n",
              " 'saldo_var25',\n",
              " 'num_trasp_var33_out_ult1',\n",
              " 'delta_num_compra_var44_1y3',\n",
              " 'ind_var46',\n",
              " 'saldo_var5',\n",
              " 'delta_num_trasp_var33_out_1y3',\n",
              " 'num_var7_emit_ult1',\n",
              " 'ind_var24_0',\n",
              " 'num_aport_var13_hace3',\n",
              " 'saldo_medio_var13_medio_hace3',\n",
              " 'saldo_medio_var44_ult3',\n",
              " 'imp_reemb_var33_hace3',\n",
              " 'ind_var43_recib_ult1',\n",
              " 'delta_imp_amort_var18_1y3',\n",
              " 'num_trasp_var17_in_ult1',\n",
              " 'imp_trasp_var17_in_ult1',\n",
              " 'imp_var43_emit_ult1',\n",
              " 'num_var41_0',\n",
              " 'num_var33_0',\n",
              " 'ind_var33_0',\n",
              " 'num_trasp_var33_in_hace3',\n",
              " 'saldo_var13_medio',\n",
              " 'ind_var13_medio',\n",
              " 'num_var8_0',\n",
              " 'ind_var37',\n",
              " 'saldo_medio_var5_ult1',\n",
              " 'num_var44',\n",
              " 'ind_var25',\n",
              " 'imp_amort_var18_hace3',\n",
              " 'imp_venta_var44_hace3',\n",
              " 'imp_venta_var44_ult1',\n",
              " 'delta_num_trasp_var33_in_1y3',\n",
              " 'ind_var46_0',\n",
              " 'ind_var6',\n",
              " 'delta_imp_trasp_var17_in_1y3',\n",
              " 'saldo_medio_var13_largo_ult1',\n",
              " 'num_aport_var13_ult1',\n",
              " 'num_meses_var29_ult3',\n",
              " 'saldo_var31',\n",
              " 'delta_imp_aport_var17_1y3',\n",
              " 'ind_var13_0',\n",
              " 'saldo_var20',\n",
              " 'ind_var26_cte',\n",
              " 'ind_var14',\n",
              " 'delta_imp_trasp_var33_in_1y3',\n",
              " 'ind_var32_cte',\n",
              " 'ind_var20',\n",
              " 'num_var44_0',\n",
              " 'saldo_medio_var29_hace2',\n",
              " 'delta_imp_amort_var34_1y3',\n",
              " 'num_var5_0',\n",
              " 'num_var22_ult3',\n",
              " 'imp_op_var40_comer_ult1',\n",
              " 'var38',\n",
              " 'num_var17_0',\n",
              " 'ind_var29_0',\n",
              " 'ind_var39_0',\n",
              " 'ind_var25_0',\n",
              " 'saldo_var41',\n",
              " 'num_var12_0',\n",
              " 'imp_trasp_var33_in_hace3',\n",
              " 'num_var6_0',\n",
              " 'saldo_medio_var33_hace3',\n",
              " 'num_var13_medio',\n",
              " 'ind_var9_cte_ult1',\n",
              " 'num_var12',\n",
              " 'num_meses_var8_ult3',\n",
              " 'delta_num_reemb_var17_1y3',\n",
              " 'imp_amort_var34_hace3',\n",
              " 'ind_var1_0',\n",
              " 'delta_imp_reemb_var33_1y3',\n",
              " 'num_var29',\n",
              " 'delta_imp_reemb_var17_1y3',\n",
              " 'imp_aport_var13_ult1',\n",
              " 'num_meses_var13_corto_ult3',\n",
              " 'num_var45_ult1',\n",
              " 'num_op_var40_comer_ult1',\n",
              " 'num_var41',\n",
              " 'saldo_var37',\n",
              " 'num_reemb_var17_hace3',\n",
              " 'delta_imp_venta_var44_1y3',\n",
              " 'num_var18',\n",
              " 'num_var40',\n",
              " 'num_op_var41_ult1',\n",
              " 'saldo_var12',\n",
              " 'ind_var13_largo',\n",
              " 'num_op_var40_efect_ult1',\n",
              " 'num_trasp_var33_out_hace3',\n",
              " 'num_var13_corto_0',\n",
              " 'num_meses_var17_ult3',\n",
              " 'num_var13_corto',\n",
              " 'saldo_medio_var5_hace3',\n",
              " 'num_var13',\n",
              " 'ind_var25_cte',\n",
              " 'ind_var39',\n",
              " 'ind_var20_0',\n",
              " 'num_meses_var5_ult3',\n",
              " 'delta_imp_aport_var33_1y3',\n",
              " 'saldo_medio_var12_ult1',\n",
              " 'delta_num_aport_var13_1y3',\n",
              " 'num_op_var41_hace3',\n",
              " 'saldo_medio_var44_ult1',\n",
              " 'num_var37_med_ult2',\n",
              " 'ind_var10cte_ult1',\n",
              " 'num_var42_0',\n",
              " 'saldo_medio_var13_corto_ult1',\n",
              " 'num_var26_0',\n",
              " 'num_var46_0',\n",
              " 'saldo_medio_var29_ult3',\n",
              " 'imp_op_var41_efect_ult3',\n",
              " 'saldo_medio_var33_ult1',\n",
              " 'num_op_var40_hace3',\n",
              " 'imp_op_var40_comer_ult3',\n",
              " 'num_op_var41_comer_ult3',\n",
              " 'ind_var32',\n",
              " 'saldo_medio_var44_hace2',\n",
              " 'imp_var7_recib_ult1',\n",
              " 'num_var37_0',\n",
              " 'num_op_var41_hace2',\n",
              " 'num_var28_0',\n",
              " 'ind_var13_largo_0',\n",
              " 'num_ent_var16_ult1',\n",
              " 'imp_trasp_var33_out_ult1',\n",
              " 'num_var30_0',\n",
              " 'imp_sal_var16_ult1',\n",
              " 'saldo_var26',\n",
              " 'saldo_medio_var8_hace3',\n",
              " 'num_op_var39_hace3',\n",
              " 'num_var34',\n",
              " 'num_reemb_var33_ult1',\n",
              " 'num_meses_var13_medio_ult3',\n",
              " 'saldo_medio_var13_medio_ult3',\n",
              " 'num_trasp_var17_in_hace3',\n",
              " 'saldo_medio_var44_hace3',\n",
              " 'delta_imp_trasp_var33_out_1y3',\n",
              " 'num_var39_0',\n",
              " 'num_var26',\n",
              " 'saldo_var29',\n",
              " 'num_var2_ult1',\n",
              " 'num_var43_recib_ult1',\n",
              " 'ind_var2',\n",
              " 'saldo_var14',\n",
              " 'saldo_medio_var17_hace2',\n",
              " 'saldo_medio_var29_ult1',\n",
              " 'num_var30',\n",
              " 'imp_op_var41_comer_ult1',\n",
              " 'num_op_var39_efect_ult1',\n",
              " 'ind_var31',\n",
              " 'imp_op_var39_comer_ult1',\n",
              " 'saldo_medio_var13_largo_hace2',\n",
              " 'saldo_medio_var8_ult1',\n",
              " 'saldo_medio_var13_largo_hace3',\n",
              " 'saldo_medio_var13_corto_hace2',\n",
              " 'num_var46',\n",
              " 'saldo_var13',\n",
              " 'ind_var17',\n",
              " 'ind_var41_0',\n",
              " 'ind_var34',\n",
              " 'imp_op_var41_efect_ult1',\n",
              " 'num_op_var40_ult3',\n",
              " 'saldo_var8',\n",
              " 'saldo_medio_var17_ult3',\n",
              " 'saldo_var42',\n",
              " 'num_aport_var17_ult1',\n",
              " 'ind_var44_0',\n",
              " 'delta_imp_trasp_var17_out_1y3',\n",
              " 'saldo_var6',\n",
              " 'num_var13_largo',\n",
              " 'saldo_medio_var5_ult3',\n",
              " 'num_trasp_var17_out_hace3',\n",
              " 'num_op_var41_comer_ult1',\n",
              " 'num_var27',\n",
              " 'saldo_var24',\n",
              " 'delta_num_reemb_var33_1y3',\n",
              " 'num_reemb_var33_hace3',\n",
              " 'num_sal_var16_ult1',\n",
              " 'saldo_var28',\n",
              " 'imp_compra_var44_hace3',\n",
              " 'ind_var12',\n",
              " 'imp_trasp_var33_out_hace3',\n",
              " 'num_venta_var44_hace3',\n",
              " 'num_var42',\n",
              " 'ind_var30',\n",
              " 'saldo_medio_var5_hace2',\n",
              " 'num_reemb_var13_ult1',\n",
              " 'num_var6',\n",
              " 'ind_var37_0',\n",
              " 'ind_var5',\n",
              " 'num_reemb_var17_ult1',\n",
              " 'num_var35',\n",
              " 'delta_imp_aport_var13_1y3',\n",
              " 'ind_var13_corto_0',\n",
              " 'num_var14',\n",
              " 'num_venta_var44_ult1',\n",
              " 'ind_var34_0',\n",
              " 'delta_num_aport_var17_1y3',\n",
              " 'saldo_medio_var33_hace2',\n",
              " 'num_var5',\n",
              " 'imp_trasp_var33_in_ult1',\n",
              " 'num_var25',\n",
              " 'num_op_var40_comer_ult3',\n",
              " 'saldo_var13_corto',\n",
              " 'var36',\n",
              " 'num_var33',\n",
              " 'num_op_var39_ult3',\n",
              " 'saldo_medio_var13_medio_ult1',\n",
              " 'saldo_var44',\n",
              " 'num_var25_0',\n",
              " 'num_trasp_var11_ult1',\n",
              " 'saldo_medio_var33_ult3',\n",
              " 'num_meses_var39_vig_ult3',\n",
              " 'ind_var14_0',\n",
              " 'ind_var28',\n",
              " 'num_var40_0',\n",
              " 'ind_var27_0',\n",
              " 'var3',\n",
              " 'num_var39',\n",
              " 'ind_var12_0',\n",
              " 'ind_var9_ult1',\n",
              " 'imp_reemb_var13_hace3',\n",
              " 'imp_op_var41_comer_ult3',\n",
              " 'num_var17',\n",
              " 'num_meses_var12_ult3',\n",
              " 'num_op_var39_efect_ult3',\n",
              " 'saldo_var13_largo',\n",
              " 'delta_num_trasp_var17_in_1y3',\n",
              " 'var21',\n",
              " 'num_aport_var17_hace3',\n",
              " 'ind_var13',\n",
              " 'imp_op_var39_comer_ult3',\n",
              " 'saldo_var27',\n",
              " 'num_op_var41_efect_ult3',\n",
              " 'ind_var1',\n",
              " 'num_op_var40_efect_ult3',\n",
              " 'num_var18_0',\n",
              " 'num_var4',\n",
              " 'imp_ent_var16_ult1',\n",
              " 'ind_var17_0',\n",
              " 'saldo_medio_var12_hace2',\n",
              " 'imp_aport_var33_hace3',\n",
              " 'var15',\n",
              " 'imp_trasp_var17_out_ult1',\n",
              " 'saldo_var34',\n",
              " 'num_var2_0_ult1',\n",
              " 'saldo_var30',\n",
              " 'imp_aport_var13_hace3',\n",
              " 'delta_num_reemb_var13_1y3',\n",
              " 'num_var31_0',\n",
              " 'num_var34_0',\n",
              " 'num_var22_ult1',\n",
              " 'imp_trasp_var17_out_hace3',\n",
              " 'num_aport_var33_ult1',\n",
              " 'ind_var28_0',\n",
              " 'ind_var26',\n",
              " 'imp_reemb_var13_ult1',\n",
              " 'saldo_medio_var29_hace3',\n",
              " 'imp_aport_var17_ult1',\n",
              " 'num_aport_var33_hace3',\n",
              " 'num_var24_0',\n",
              " 'ind_var44',\n",
              " 'num_var28',\n",
              " 'num_var29_0',\n",
              " 'ind_var31_0',\n",
              " 'imp_op_var41_ult1',\n",
              " 'num_var13_largo_0',\n",
              " 'ind_var8',\n",
              " 'ind_var29',\n",
              " 'num_op_var39_comer_ult3',\n",
              " 'imp_var7_emit_ult1',\n",
              " 'ind_var7_recib_ult1',\n",
              " 'imp_op_var39_ult1',\n",
              " 'num_var7_recib_ult1',\n",
              " 'saldo_var40',\n",
              " 'delta_num_venta_var44_1y3',\n",
              " 'delta_imp_compra_var44_1y3',\n",
              " 'ind_var13_corto',\n",
              " 'imp_compra_var44_ult1',\n",
              " 'ind_var32_0',\n",
              " 'ind_var33',\n",
              " 'saldo_var46',\n",
              " 'imp_reemb_var17_ult1',\n",
              " 'num_var13_0',\n",
              " 'num_meses_var33_ult3',\n",
              " 'num_trasp_var17_out_ult1',\n",
              " 'num_op_var41_efect_ult1',\n",
              " 'imp_op_var39_efect_ult3',\n",
              " 'num_var45_hace2',\n",
              " 'saldo_medio_var13_corto_ult3',\n",
              " 'num_var13_medio_0',\n",
              " 'saldo_medio_var8_hace2',\n",
              " 'imp_reemb_var17_hace3',\n",
              " 'num_op_var39_hace2',\n",
              " 'ind_var40_0',\n",
              " 'imp_op_var40_ult1',\n",
              " 'num_meses_var44_ult3',\n",
              " 'imp_reemb_var33_ult1',\n",
              " 'ind_var40',\n",
              " 'saldo_medio_var12_hace3',\n",
              " 'num_var37',\n",
              " 'num_var8',\n",
              " 'num_op_var40_hace2',\n",
              " 'saldo_var32',\n",
              " 'num_var14_0',\n",
              " 'num_var27_0',\n",
              " 'saldo_var1',\n",
              " 'delta_num_trasp_var17_out_1y3',\n",
              " 'saldo_medio_var13_corto_hace3',\n",
              " 'ind_var43_emit_ult1',\n",
              " 'saldo_var2_ult1',\n",
              " 'ind_var18_0',\n",
              " 'saldo_medio_var13_largo_ult3',\n",
              " 'num_var20_0',\n",
              " 'num_var24',\n",
              " 'num_op_var40_ult1',\n",
              " 'saldo_var18',\n",
              " 'saldo_medio_var12_ult3',\n",
              " 'saldo_medio_var13_medio_hace2',\n",
              " 'delta_num_aport_var33_1y3',\n",
              " 'saldo_var33',\n",
              " 'imp_amort_var18_ult1',\n",
              " 'ind_var41',\n",
              " 'ind_var24',\n",
              " 'ind_var13_medio_0',\n",
              " 'num_op_var41_ult3',\n",
              " 'imp_amort_var34_ult1',\n",
              " 'num_med_var22_ult3',\n",
              " 'imp_trans_var37_ult1',\n",
              " 'delta_imp_reemb_var13_1y3',\n",
              " 'num_reemb_var13_hace3',\n",
              " 'num_trasp_var33_in_ult1',\n",
              " 'num_meses_var13_largo_ult3',\n",
              " 'ind_var2_0',\n",
              " 'saldo_medio_var17_hace3',\n",
              " 'num_var32_0',\n",
              " 'ind_var10_ult1',\n",
              " 'num_var43_emit_ult1',\n",
              " 'ind_var26_0',\n",
              " 'num_var1_0',\n",
              " 'num_med_var45_ult3',\n",
              " 'ind_var18',\n",
              " 'ind_var19',\n",
              " 'num_var20',\n",
              " 'imp_op_var39_efect_ult1',\n",
              " 'ind_var37_cte',\n",
              " 'num_var32',\n",
              " 'imp_aport_var33_ult1',\n",
              " 'ind_var30_0',\n",
              " 'num_compra_var44_hace3',\n",
              " 'num_var1',\n",
              " 'ind_var27',\n",
              " 'ind_var7_emit_ult1']"
            ]
          },
          "metadata": {},
          "execution_count": 8
        }
      ]
    },
    {
      "cell_type": "code",
      "metadata": {
        "id": "S3f-viEzjfAu"
      },
      "source": [
        "# Determinando matrices de datos\n",
        "\n",
        "X = pddf[features]\n",
        "y = pddf.TARGET\n"
      ],
      "execution_count": 9,
      "outputs": []
    },
    {
      "cell_type": "code",
      "metadata": {
        "id": "mzy50oqNjwPG"
      },
      "source": [
        "# Muestreo de data\n",
        "\n",
        "from sklearn.model_selection import train_test_split\n",
        "\n",
        "X_train, X_test, y_train, y_test = train_test_split(X, y, \n",
        "                                                    stratify = y,\n",
        "                                                    test_size = 0.3,\n",
        "                                                    random_state = 123)\n"
      ],
      "execution_count": 10,
      "outputs": []
    },
    {
      "cell_type": "code",
      "source": [
        "y_train.mean()"
      ],
      "metadata": {
        "id": "1mBfZirX71EU",
        "outputId": "61a2ce3d-b9aa-4138-dcc0-9711586af037",
        "colab": {
          "base_uri": "https://localhost:8080/"
        }
      },
      "execution_count": 11,
      "outputs": [
        {
          "output_type": "execute_result",
          "data": {
            "text/plain": [
              "0.039576051415041155"
            ]
          },
          "metadata": {},
          "execution_count": 11
        }
      ]
    },
    {
      "cell_type": "code",
      "source": [
        "y_test.mean()"
      ],
      "metadata": {
        "id": "5NdPLei379rp",
        "outputId": "bbf904c7-9932-4117-9aff-70d17dc6bcf3",
        "colab": {
          "base_uri": "https://localhost:8080/"
        }
      },
      "execution_count": 12,
      "outputs": [
        {
          "output_type": "execute_result",
          "data": {
            "text/plain": [
              "0.03955099535210033"
            ]
          },
          "metadata": {},
          "execution_count": 12
        }
      ]
    },
    {
      "cell_type": "markdown",
      "metadata": {
        "id": "acYMp0BJbTca"
      },
      "source": [
        "# SMOTE Algorithm"
      ]
    },
    {
      "cell_type": "markdown",
      "metadata": {
        "id": "lmJ90AeP1a2L"
      },
      "source": [
        "\n",
        "<b>Synthetic Minority Oversampling Technique</b>\n",
        "\n",
        "Es uno de los métodos de sobremuestreo más utilizados para resolver el problema del desbalanceo.\n",
        "Su objetivo es equilibrar la distribución de clases aumentando aleatoriamente los ejemplos de clases minoritarias al replicarlos."
      ]
    },
    {
      "cell_type": "markdown",
      "metadata": {
        "id": "xMphbZhrkadV"
      },
      "source": [
        "\n",
        "SMOTE sintetiza nuevas instancias minoritarias entre instancias minoritarias existentes. Genera los registros de entrenamiento virtual por interpolación lineal para la clase minoritaria. Estos registros de entrenamiento sintéticos se generan seleccionando aleatoriamente uno o más de los k vecinos más cercanos para cada ejemplo en la clase minoritaria. Después del proceso de sobremuestreo, los datos se reconstruyen y se pueden aplicar varios modelos de clasificación para los datos procesados.\n",
        "¡Más información detallada sobre cómo funciona el algoritmo SMOTE!\n",
        "\n",
        "<strong>Puede consultar este [link](https://imbalanced-learn.org/stable/generated/imblearn.over_sampling.SMOTE.html) para leer más sobre SMOTE.</strong>\n",
        "\n",
        "<img src=\"https://i.ytimg.com/vi/U3X98xZ4_no/maxresdefault.jpg\" alt=\"HTML5 Icon\" style=\"width: 400px; height: 250px;\">\n",
        "\n",
        "\n",
        "\n"
      ]
    },
    {
      "cell_type": "code",
      "metadata": {
        "id": "33eQ1J8BillH"
      },
      "source": [
        "# Aplicando SMOTE para oversampling\n",
        "\n",
        "from imblearn.over_sampling import SMOTE\n"
      ],
      "execution_count": 13,
      "outputs": []
    },
    {
      "cell_type": "code",
      "source": [
        "sm = SMOTE(random_state = 123)\n",
        "X_train_res, y_train_res = sm.fit_resample(X_train, y_train.ravel())\n"
      ],
      "metadata": {
        "id": "PU3B7ZNUqu0M"
      },
      "execution_count": 14,
      "outputs": []
    },
    {
      "cell_type": "code",
      "metadata": {
        "colab": {
          "base_uri": "https://localhost:8080/",
          "height": 544
        },
        "id": "5dN-0BsBFjpB",
        "outputId": "8e5e64bf-1310-4a80-f28e-836c4ff16e48"
      },
      "source": [
        "# Analizando el target \n",
        "sns.countplot(x = y_train_res, palette = 'hls')"
      ],
      "execution_count": 15,
      "outputs": [
        {
          "output_type": "execute_result",
          "data": {
            "text/plain": [
              "<Axes: ylabel='count'>"
            ]
          },
          "metadata": {},
          "execution_count": 15
        },
        {
          "output_type": "display_data",
          "data": {
            "text/plain": [
              "<Figure size 1000x600 with 1 Axes>"
            ],
            "image/png": "[encoded data removed]"
          },
          "metadata": {}
        }
      ]
    },
    {
      "cell_type": "markdown",
      "metadata": {
        "id": "yIKZh3IJ_w6B"
      },
      "source": [
        "# Decision Tree"
      ]
    },
    {
      "cell_type": "code",
      "metadata": {
        "id": "5wwflOn2M1xa"
      },
      "source": [
        "# Cargar librerías \n",
        "\n",
        "from sklearn.tree import DecisionTreeClassifier\n"
      ],
      "execution_count": 16,
      "outputs": []
    },
    {
      "cell_type": "code",
      "metadata": {
        "colab": {
          "base_uri": "https://localhost:8080/",
          "height": 75
        },
        "id": "ji5YxHcwM6Rv",
        "outputId": "eb472cf5-0f90-4038-f485-44193911e467"
      },
      "source": [
        "# Definiendo modelo\n",
        "\n",
        "\n",
        "dtree = DecisionTreeClassifier(max_depth = 5, \n",
        "                               #class_weight = {0: 1, 1: 25.272},\n",
        "                               min_samples_leaf = 0.05,\n",
        "                               random_state = 123)\n",
        "\n",
        "dtree = dtree.fit(X_train_res, y_train_res)\n",
        "    \n",
        "dtree"
      ],
      "execution_count": 17,
      "outputs": [
        {
          "output_type": "execute_result",
          "data": {
            "text/plain": [
              "DecisionTreeClassifier(max_depth=5, min_samples_leaf=0.05, random_state=123)"
            ],
            "text/html": [
              "<style>#sk-container-id-1 {color: black;background-color: white;}#sk-container-id-1 pre{padding: 0;}#sk-container-id-1 div.sk-toggleable {background-color: white;}#sk-container-id-1 label.sk-toggleable__label {cursor: pointer;display: block;width: 100%;margin-bottom: 0;padding: 0.3em;box-sizing: border-box;text-align: center;}#sk-container-id-1 label.sk-toggleable__label-arrow:before {content: \"▸\";float: left;margin-right: 0.25em;color: #696969;}#sk-container-id-1 label.sk-toggleable__label-arrow:hover:before {color: black;}#sk-container-id-1 div.sk-estimator:hover label.sk-toggleable__label-arrow:before {color: black;}#sk-container-id-1 div.sk-toggleable__content {max-height: 0;max-width: 0;overflow: hidden;text-align: left;background-color: #f0f8ff;}#sk-container-id-1 div.sk-toggleable__content pre {margin: 0.2em;color: black;border-radius: 0.25em;background-color: #f0f8ff;}#sk-container-id-1 input.sk-toggleable__control:checked~div.sk-toggleable__content {max-height: 200px;max-width: 100%;overflow: auto;}#sk-container-id-1 input.sk-toggleable__control:checked~label.sk-toggleable__label-arrow:before {content: \"▾\";}#sk-container-id-1 div.sk-estimator input.sk-toggleable__control:checked~label.sk-toggleable__label {background-color: #d4ebff;}#sk-container-id-1 div.sk-label input.sk-toggleable__control:checked~label.sk-toggleable__label {background-color: #d4ebff;}#sk-container-id-1 input.sk-hidden--visually {border: 0;clip: rect(1px 1px 1px 1px);clip: rect(1px, 1px, 1px, 1px);height: 1px;margin: -1px;overflow: hidden;padding: 0;position: absolute;width: 1px;}#sk-container-id-1 div.sk-estimator {font-family: monospace;background-color: #f0f8ff;border: 1px dotted black;border-radius: 0.25em;box-sizing: border-box;margin-bottom: 0.5em;}#sk-container-id-1 div.sk-estimator:hover {background-color: #d4ebff;}#sk-container-id-1 div.sk-parallel-item::after {content: \"\";width: 100%;border-bottom: 1px solid gray;flex-grow: 1;}#sk-container-id-1 div.sk-label:hover label.sk-toggleable__label {background-color: #d4ebff;}#sk-container-id-1 div.sk-serial::before {content: \"\";position: absolute;border-left: 1px solid gray;box-sizing: border-box;top: 0;bottom: 0;left: 50%;z-index: 0;}#sk-container-id-1 div.sk-serial {display: flex;flex-direction: column;align-items: center;background-color: white;padding-right: 0.2em;padding-left: 0.2em;position: relative;}#sk-container-id-1 div.sk-item {position: relative;z-index: 1;}#sk-container-id-1 div.sk-parallel {display: flex;align-items: stretch;justify-content: center;background-color: white;position: relative;}#sk-container-id-1 div.sk-item::before, #sk-container-id-1 div.sk-parallel-item::before {content: \"\";position: absolute;border-left: 1px solid gray;box-sizing: border-box;top: 0;bottom: 0;left: 50%;z-index: -1;}#sk-container-id-1 div.sk-parallel-item {display: flex;flex-direction: column;z-index: 1;position: relative;background-color: white;}#sk-container-id-1 div.sk-parallel-item:first-child::after {align-self: flex-end;width: 50%;}#sk-container-id-1 div.sk-parallel-item:last-child::after {align-self: flex-start;width: 50%;}#sk-container-id-1 div.sk-parallel-item:only-child::after {width: 0;}#sk-container-id-1 div.sk-dashed-wrapped {border: 1px dashed gray;margin: 0 0.4em 0.5em 0.4em;box-sizing: border-box;padding-bottom: 0.4em;background-color: white;}#sk-container-id-1 div.sk-label label {font-family: monospace;font-weight: bold;display: inline-block;line-height: 1.2em;}#sk-container-id-1 div.sk-label-container {text-align: center;}#sk-container-id-1 div.sk-container {/* jupyter's `normalize.less` sets `[hidden] { display: none; }` but bootstrap.min.css set `[hidden] { display: none !important; }` so we also need the `!important` here to be able to override the default hidden behavior on the sphinx rendered scikit-learn.org. See: https://github.com/scikit-learn/scikit-learn/issues/21755 */display: inline-block !important;position: relative;}#sk-container-id-1 div.sk-text-repr-fallback {display: none;}</style><div id=\"sk-container-id-1\" class=\"sk-top-container\"><div class=\"sk-text-repr-fallback\"><pre>DecisionTreeClassifier(max_depth=5, min_samples_leaf=0.05, random_state=123)</pre><b>In a Jupyter environment, please rerun this cell to show the HTML representation or trust the notebook. <br />On GitHub, the HTML representation is unable to render, please try loading this page with nbviewer.org.</b></div><div class=\"sk-container\" hidden><div class=\"sk-item\"><div class=\"sk-estimator sk-toggleable\"><input class=\"sk-toggleable__control sk-hidden--visually\" id=\"sk-estimator-id-1\" type=\"checkbox\" checked><label for=\"sk-estimator-id-1\" class=\"sk-toggleable__label sk-toggleable__label-arrow\">DecisionTreeClassifier</label><div class=\"sk-toggleable__content\"><pre>DecisionTreeClassifier(max_depth=5, min_samples_leaf=0.05, random_state=123)</pre></div></div></div></div></div>"
            ]
          },
          "metadata": {},
          "execution_count": 17
        }
      ]
    },
    {
      "cell_type": "code",
      "metadata": {
        "colab": {
          "base_uri": "https://localhost:8080/"
        },
        "id": "fueCZLMlM9bm",
        "outputId": "6583b822-c640-463e-c26f-3515bdcebf32"
      },
      "source": [
        "# Graficando resultados\n",
        "\n",
        "from sklearn.tree import export_graphviz\n",
        "from pydotplus import graph_from_dot_data\n",
        "\n",
        "dot_data = export_graphviz(dtree,\n",
        "                           feature_names = features,\n",
        "                           filled = True,\n",
        "                           rounded = True,\n",
        "                           special_characters = True)\n",
        "\n",
        "graph = graph_from_dot_data(dot_data)\n",
        "graph.write_png('tree.png')\n",
        "print(graph)\n"
      ],
      "execution_count": 18,
      "outputs": [
        {
          "output_type": "stream",
          "name": "stdout",
          "text": [
            "<pydotplus.graphviz.Dot object at 0x7fb7bae73640>\n"
          ]
        }
      ]
    },
    {
      "cell_type": "markdown",
      "metadata": {
        "id": "G6VZANgBNsvr"
      },
      "source": [
        "<b>Bondad de ajuste</b>"
      ]
    },
    {
      "cell_type": "code",
      "metadata": {
        "id": "W1FA5RrONrrC"
      },
      "source": [
        "# Usando el modelo para predecir\n",
        "\n",
        "X_train['probability'] = dtree.predict_proba(X_train[features])[:,1]\n",
        "X_test['probability']  = dtree.predict_proba(X_test[features])[:,1]\n",
        "\n",
        "X_train['prediction'] = dtree.predict(X_train[features])\n",
        "X_test['prediction']  = dtree.predict(X_test[features])"
      ],
      "execution_count": 19,
      "outputs": []
    },
    {
      "cell_type": "code",
      "metadata": {
        "id": "-ERcxSdUN33K",
        "colab": {
          "base_uri": "https://localhost:8080/",
          "height": 238
        },
        "outputId": "76dd4b52-8ce6-4dc4-b5b5-e7b2a6b640ea"
      },
      "source": [
        "#Resumen de todas las métricas del modelo\n",
        "from sklearn.metrics import *\n",
        "\n",
        "metricsDtree_smote = pd.DataFrame({'metric':['AUC','Gini','Accuracy','Precision','Recall','F1-score'],\n",
        "                                'dTree_smote_train':[roc_auc_score(y_train, X_train.probability),\n",
        "                                        (roc_auc_score(y_train, X_train.probability)*2-1),\n",
        "                                        accuracy_score(y_train, X_train.prediction),\n",
        "                                        precision_score(y_train, X_train.prediction),\n",
        "                                        recall_score(y_train, X_train.prediction),\n",
        "                                        f1_score(y_train, X_train.prediction)],\n",
        "\n",
        "                                'dTree_smote_test':[roc_auc_score(y_test, X_test.probability),\n",
        "                                        (roc_auc_score(y_test, X_test.probability)*2-1),\n",
        "                                        accuracy_score(y_test, X_test.prediction),\n",
        "                                        precision_score(y_test, X_test.prediction),\n",
        "                                        recall_score(y_test, X_test.prediction),\n",
        "                                        f1_score(y_test, X_test.prediction)]})\n",
        "\n",
        "metricsDtree_smote"
      ],
      "execution_count": 20,
      "outputs": [
        {
          "output_type": "execute_result",
          "data": {
            "text/plain": [
              "      metric  dTree_smote_train  dTree_smote_test\n",
              "0        AUC           0.800894          0.799110\n",
              "1       Gini           0.601789          0.598221\n",
              "2   Accuracy           0.783309          0.788389\n",
              "3  Precision           0.112491          0.115143\n",
              "4     Recall           0.649573          0.650776\n",
              "5   F1-score           0.191771          0.195667"
            ],
            "text/html": [
              "\n",
              "  <div id=\"df-2dbbe3df-c9cf-4153-b508-917b60be1626\">\n",
              "    <div class=\"colab-df-container\">\n",
              "      <div>\n",
              "<style scoped>\n",
              "    .dataframe tbody tr th:only-of-type {\n",
              "        vertical-align: middle;\n",
              "    }\n",
              "\n",
              "    .dataframe tbody tr th {\n",
              "        vertical-align: top;\n",
              "    }\n",
              "\n",
              "    .dataframe thead th {\n",
              "        text-align: right;\n",
              "    }\n",
              "</style>\n",
              "<table border=\"1\" class=\"dataframe\">\n",
              "  <thead>\n",
              "    <tr style=\"text-align: right;\">\n",
              "      <th></th>\n",
              "      <th>metric</th>\n",
              "      <th>dTree_smote_train</th>\n",
              "      <th>dTree_smote_test</th>\n",
              "    </tr>\n",
              "  </thead>\n",
              "  <tbody>\n",
              "    <tr>\n",
              "      <th>0</th>\n",
              "      <td>AUC</td>\n",
              "      <td>0.800894</td>\n",
              "      <td>0.799110</td>\n",
              "    </tr>\n",
              "    <tr>\n",
              "      <th>1</th>\n",
              "      <td>Gini</td>\n",
              "      <td>0.601789</td>\n",
              "      <td>0.598221</td>\n",
              "    </tr>\n",
              "    <tr>\n",
              "      <th>2</th>\n",
              "      <td>Accuracy</td>\n",
              "      <td>0.783309</td>\n",
              "      <td>0.788389</td>\n",
              "    </tr>\n",
              "    <tr>\n",
              "      <th>3</th>\n",
              "      <td>Precision</td>\n",
              "      <td>0.112491</td>\n",
              "      <td>0.115143</td>\n",
              "    </tr>\n",
              "    <tr>\n",
              "      <th>4</th>\n",
              "      <td>Recall</td>\n",
              "      <td>0.649573</td>\n",
              "      <td>0.650776</td>\n",
              "    </tr>\n",
              "    <tr>\n",
              "      <th>5</th>\n",
              "      <td>F1-score</td>\n",
              "      <td>0.191771</td>\n",
              "      <td>0.195667</td>\n",
              "    </tr>\n",
              "  </tbody>\n",
              "</table>\n",
              "</div>\n",
              "      <button class=\"colab-df-convert\" onclick=\"convertToInteractive('df-2dbbe3df-c9cf-4153-b508-917b60be1626')\"\n",
              "              title=\"Convert this dataframe to an interactive table.\"\n",
              "              style=\"display:none;\">\n",
              "        \n",
              "  <svg xmlns=\"http://www.w3.org/2000/svg\" height=\"24px\"viewBox=\"0 0 24 24\"\n",
              "       width=\"24px\">\n",
              "    <path d=\"M0 0h24v24H0V0z\" fill=\"none\"/>\n",
              "    <path d=\"M18.56 5.44l.94 2.06.94-2.06 2.06-.94-2.06-.94-.94-2.06-.94 2.06-2.06.94zm-11 1L8.5 8.5l.94-2.06 2.06-.94-2.06-.94L8.5 2.5l-.94 2.06-2.06.94zm10 10l.94 2.06.94-2.06 2.06-.94-2.06-.94-.94-2.06-.94 2.06-2.06.94z\"/><path d=\"M17.41 7.96l-1.37-1.37c-.4-.4-.92-.59-1.43-.59-.52 0-1.04.2-1.43.59L10.3 9.45l-7.72 7.72c-.78.78-.78 2.05 0 2.83L4 21.41c.39.39.9.59 1.41.59.51 0 1.02-.2 1.41-.59l7.78-7.78 2.81-2.81c.8-.78.8-2.07 0-2.86zM5.41 20L4 18.59l7.72-7.72 1.47 1.35L5.41 20z\"/>\n",
              "  </svg>\n",
              "      </button>\n",
              "      \n",
              "  <style>\n",
              "    .colab-df-container {\n",
              "      display:flex;\n",
              "      flex-wrap:wrap;\n",
              "      gap: 12px;\n",
              "    }\n",
              "\n",
              "    .colab-df-convert {\n",
              "      background-color: #E8F0FE;\n",
              "      border: none;\n",
              "      border-radius: 50%;\n",
              "      cursor: pointer;\n",
              "      display: none;\n",
              "      fill: #1967D2;\n",
              "      height: 32px;\n",
              "      padding: 0 0 0 0;\n",
              "      width: 32px;\n",
              "    }\n",
              "\n",
              "    .colab-df-convert:hover {\n",
              "      background-color: #E2EBFA;\n",
              "      box-shadow: 0px 1px 2px rgba(60, 64, 67, 0.3), 0px 1px 3px 1px rgba(60, 64, 67, 0.15);\n",
              "      fill: #174EA6;\n",
              "    }\n",
              "\n",
              "    [theme=dark] .colab-df-convert {\n",
              "      background-color: #3B4455;\n",
              "      fill: #D2E3FC;\n",
              "    }\n",
              "\n",
              "    [theme=dark] .colab-df-convert:hover {\n",
              "      background-color: #434B5C;\n",
              "      box-shadow: 0px 1px 3px 1px rgba(0, 0, 0, 0.15);\n",
              "      filter: drop-shadow(0px 1px 2px rgba(0, 0, 0, 0.3));\n",
              "      fill: #FFFFFF;\n",
              "    }\n",
              "  </style>\n",
              "\n",
              "      <script>\n",
              "        const buttonEl =\n",
              "          document.querySelector('#df-2dbbe3df-c9cf-4153-b508-917b60be1626 button.colab-df-convert');\n",
              "        buttonEl.style.display =\n",
              "          google.colab.kernel.accessAllowed ? 'block' : 'none';\n",
              "\n",
              "        async function convertToInteractive(key) {\n",
              "          const element = document.querySelector('#df-2dbbe3df-c9cf-4153-b508-917b60be1626');\n",
              "          const dataTable =\n",
              "            await google.colab.kernel.invokeFunction('convertToInteractive',\n",
              "                                                     [key], {});\n",
              "          if (!dataTable) return;\n",
              "\n",
              "          const docLinkHtml = 'Like what you see? Visit the ' +\n",
              "            '<a target=\"_blank\" href=https://colab.research.google.com/notebooks/data_table.ipynb>data table notebook</a>'\n",
              "            + ' to learn more about interactive tables.';\n",
              "          element.innerHTML = '';\n",
              "          dataTable['output_type'] = 'display_data';\n",
              "          await google.colab.output.renderOutput(dataTable, element);\n",
              "          const docLink = document.createElement('div');\n",
              "          docLink.innerHTML = docLinkHtml;\n",
              "          element.appendChild(docLink);\n",
              "        }\n",
              "      </script>\n",
              "    </div>\n",
              "  </div>\n",
              "  "
            ]
          },
          "metadata": {},
          "execution_count": 20
        }
      ]
    },
    {
      "cell_type": "markdown",
      "source": [
        "### balanceo por pesos"
      ],
      "metadata": {
        "id": "HWFSMtPOs26a"
      }
    },
    {
      "cell_type": "code",
      "source": [
        "# Muestreo de data\n",
        "from sklearn.model_selection import train_test_split\n",
        "\n",
        "X_train, X_test, y_train, y_test = train_test_split(X, y, \n",
        "                                                    stratify = y,\n",
        "                                                    test_size = 0.3,\n",
        "                                                    random_state = 123)\n"
      ],
      "metadata": {
        "id": "j7ca0VxwupBW"
      },
      "execution_count": 21,
      "outputs": []
    },
    {
      "cell_type": "code",
      "source": [
        "y_train.shape[0] - y_train.sum()"
      ],
      "metadata": {
        "colab": {
          "base_uri": "https://localhost:8080/"
        },
        "id": "T7GFotgi1xNr",
        "outputId": "0a6f09f2-3087-4310-ee95-2ec348c88543"
      },
      "execution_count": 22,
      "outputs": [
        {
          "output_type": "execute_result",
          "data": {
            "text/plain": [
              "51108"
            ]
          },
          "metadata": {},
          "execution_count": 22
        }
      ]
    },
    {
      "cell_type": "code",
      "source": [
        "y_train.sum()"
      ],
      "metadata": {
        "colab": {
          "base_uri": "https://localhost:8080/"
        },
        "id": "l633NoTQ1r2A",
        "outputId": "8ada53a7-e5ce-4038-e61f-4743ac76d0ba"
      },
      "execution_count": 23,
      "outputs": [
        {
          "output_type": "execute_result",
          "data": {
            "text/plain": [
              "2106"
            ]
          },
          "metadata": {},
          "execution_count": 23
        }
      ]
    },
    {
      "cell_type": "code",
      "source": [
        "(y_train.shape[0] - y_train.sum())/y_train.sum()"
      ],
      "metadata": {
        "colab": {
          "base_uri": "https://localhost:8080/"
        },
        "id": "aGMl7HzE16Ll",
        "outputId": "6399c39e-d0e3-40bd-dd79-f3f05d76fe7e"
      },
      "execution_count": 24,
      "outputs": [
        {
          "output_type": "execute_result",
          "data": {
            "text/plain": [
              "24.267806267806268"
            ]
          },
          "metadata": {},
          "execution_count": 24
        }
      ]
    },
    {
      "cell_type": "code",
      "metadata": {
        "colab": {
          "base_uri": "https://localhost:8080/",
          "height": 92
        },
        "id": "uIz4-gQv9I5h",
        "outputId": "e44d7ff9-ef00-4576-cd73-c24eb30611a4"
      },
      "source": [
        "# Definiendo modelo\n",
        "\n",
        "\n",
        "dtree = DecisionTreeClassifier(max_depth = 5, \n",
        "                               class_weight = {0: 1, 1: 24.267},\n",
        "                               min_samples_leaf = 0.05,\n",
        "                               random_state = 123)\n",
        "\n",
        "dtree = dtree.fit(X_train, y_train)\n",
        "    \n",
        "dtree"
      ],
      "execution_count": 25,
      "outputs": [
        {
          "output_type": "execute_result",
          "data": {
            "text/plain": [
              "DecisionTreeClassifier(class_weight={0: 1, 1: 24.267}, max_depth=5,\n",
              "                       min_samples_leaf=0.05, random_state=123)"
            ],
            "text/html": [
              "<style>#sk-container-id-2 {color: black;background-color: white;}#sk-container-id-2 pre{padding: 0;}#sk-container-id-2 div.sk-toggleable {background-color: white;}#sk-container-id-2 label.sk-toggleable__label {cursor: pointer;display: block;width: 100%;margin-bottom: 0;padding: 0.3em;box-sizing: border-box;text-align: center;}#sk-container-id-2 label.sk-toggleable__label-arrow:before {content: \"▸\";float: left;margin-right: 0.25em;color: #696969;}#sk-container-id-2 label.sk-toggleable__label-arrow:hover:before {color: black;}#sk-container-id-2 div.sk-estimator:hover label.sk-toggleable__label-arrow:before {color: black;}#sk-container-id-2 div.sk-toggleable__content {max-height: 0;max-width: 0;overflow: hidden;text-align: left;background-color: #f0f8ff;}#sk-container-id-2 div.sk-toggleable__content pre {margin: 0.2em;color: black;border-radius: 0.25em;background-color: #f0f8ff;}#sk-container-id-2 input.sk-toggleable__control:checked~div.sk-toggleable__content {max-height: 200px;max-width: 100%;overflow: auto;}#sk-container-id-2 input.sk-toggleable__control:checked~label.sk-toggleable__label-arrow:before {content: \"▾\";}#sk-container-id-2 div.sk-estimator input.sk-toggleable__control:checked~label.sk-toggleable__label {background-color: #d4ebff;}#sk-container-id-2 div.sk-label input.sk-toggleable__control:checked~label.sk-toggleable__label {background-color: #d4ebff;}#sk-container-id-2 input.sk-hidden--visually {border: 0;clip: rect(1px 1px 1px 1px);clip: rect(1px, 1px, 1px, 1px);height: 1px;margin: -1px;overflow: hidden;padding: 0;position: absolute;width: 1px;}#sk-container-id-2 div.sk-estimator {font-family: monospace;background-color: #f0f8ff;border: 1px dotted black;border-radius: 0.25em;box-sizing: border-box;margin-bottom: 0.5em;}#sk-container-id-2 div.sk-estimator:hover {background-color: #d4ebff;}#sk-container-id-2 div.sk-parallel-item::after {content: \"\";width: 100%;border-bottom: 1px solid gray;flex-grow: 1;}#sk-container-id-2 div.sk-label:hover label.sk-toggleable__label {background-color: #d4ebff;}#sk-container-id-2 div.sk-serial::before {content: \"\";position: absolute;border-left: 1px solid gray;box-sizing: border-box;top: 0;bottom: 0;left: 50%;z-index: 0;}#sk-container-id-2 div.sk-serial {display: flex;flex-direction: column;align-items: center;background-color: white;padding-right: 0.2em;padding-left: 0.2em;position: relative;}#sk-container-id-2 div.sk-item {position: relative;z-index: 1;}#sk-container-id-2 div.sk-parallel {display: flex;align-items: stretch;justify-content: center;background-color: white;position: relative;}#sk-container-id-2 div.sk-item::before, #sk-container-id-2 div.sk-parallel-item::before {content: \"\";position: absolute;border-left: 1px solid gray;box-sizing: border-box;top: 0;bottom: 0;left: 50%;z-index: -1;}#sk-container-id-2 div.sk-parallel-item {display: flex;flex-direction: column;z-index: 1;position: relative;background-color: white;}#sk-container-id-2 div.sk-parallel-item:first-child::after {align-self: flex-end;width: 50%;}#sk-container-id-2 div.sk-parallel-item:last-child::after {align-self: flex-start;width: 50%;}#sk-container-id-2 div.sk-parallel-item:only-child::after {width: 0;}#sk-container-id-2 div.sk-dashed-wrapped {border: 1px dashed gray;margin: 0 0.4em 0.5em 0.4em;box-sizing: border-box;padding-bottom: 0.4em;background-color: white;}#sk-container-id-2 div.sk-label label {font-family: monospace;font-weight: bold;display: inline-block;line-height: 1.2em;}#sk-container-id-2 div.sk-label-container {text-align: center;}#sk-container-id-2 div.sk-container {/* jupyter's `normalize.less` sets `[hidden] { display: none; }` but bootstrap.min.css set `[hidden] { display: none !important; }` so we also need the `!important` here to be able to override the default hidden behavior on the sphinx rendered scikit-learn.org. See: https://github.com/scikit-learn/scikit-learn/issues/21755 */display: inline-block !important;position: relative;}#sk-container-id-2 div.sk-text-repr-fallback {display: none;}</style><div id=\"sk-container-id-2\" class=\"sk-top-container\"><div class=\"sk-text-repr-fallback\"><pre>DecisionTreeClassifier(class_weight={0: 1, 1: 24.267}, max_depth=5,\n",
              "                       min_samples_leaf=0.05, random_state=123)</pre><b>In a Jupyter environment, please rerun this cell to show the HTML representation or trust the notebook. <br />On GitHub, the HTML representation is unable to render, please try loading this page with nbviewer.org.</b></div><div class=\"sk-container\" hidden><div class=\"sk-item\"><div class=\"sk-estimator sk-toggleable\"><input class=\"sk-toggleable__control sk-hidden--visually\" id=\"sk-estimator-id-2\" type=\"checkbox\" checked><label for=\"sk-estimator-id-2\" class=\"sk-toggleable__label sk-toggleable__label-arrow\">DecisionTreeClassifier</label><div class=\"sk-toggleable__content\"><pre>DecisionTreeClassifier(class_weight={0: 1, 1: 24.267}, max_depth=5,\n",
              "                       min_samples_leaf=0.05, random_state=123)</pre></div></div></div></div></div>"
            ]
          },
          "metadata": {},
          "execution_count": 25
        }
      ]
    },
    {
      "cell_type": "code",
      "metadata": {
        "id": "8bZkXPOOG-4u"
      },
      "source": [
        "# Usando el modelo para predecir\n",
        "\n",
        "X_train['probability'] = dtree.predict_proba(X_train[features])[:,1]\n",
        "X_test['probability']  = dtree.predict_proba(X_test[features])[:,1]\n",
        "\n",
        "X_train['prediction'] = dtree.predict(X_train[features])\n",
        "X_test['prediction']  = dtree.predict(X_test[features])"
      ],
      "execution_count": 26,
      "outputs": []
    },
    {
      "cell_type": "code",
      "source": [
        "#Resumen de todas las métricas del modelo\n",
        "from sklearn.metrics import *\n",
        "\n",
        "metricsDtree_w = pd.DataFrame({'metric':['AUC','Gini','Accuracy','Precision','Recall','F1-score'],\n",
        "                                'dTree_w_train':[roc_auc_score(y_train, X_train.probability),\n",
        "                                        (roc_auc_score(y_train, X_train.probability)*2-1),\n",
        "                                        accuracy_score(y_train, X_train.prediction),\n",
        "                                        precision_score(y_train, X_train.prediction),\n",
        "                                        recall_score(y_train, X_train.prediction),\n",
        "                                        f1_score(y_train, X_train.prediction)],\n",
        "\n",
        "                                'dTree_w_test':[roc_auc_score(y_test, X_test.probability),\n",
        "                                        (roc_auc_score(y_test, X_test.probability)*2-1),\n",
        "                                        accuracy_score(y_test, X_test.prediction),\n",
        "                                        precision_score(y_test, X_test.prediction),\n",
        "                                        recall_score(y_test, X_test.prediction),\n",
        "                                        f1_score(y_test, X_test.prediction)]})\n",
        "\n",
        "metricsDtree_w"
      ],
      "metadata": {
        "colab": {
          "base_uri": "https://localhost:8080/",
          "height": 238
        },
        "id": "HC7kRVzRusZy",
        "outputId": "23403fcf-5819-462a-a50f-71b2bec9e819"
      },
      "execution_count": 27,
      "outputs": [
        {
          "output_type": "execute_result",
          "data": {
            "text/plain": [
              "      metric  dTree_w_train  dTree_w_test\n",
              "0        AUC       0.820066      0.803175\n",
              "1       Gini       0.640132      0.606351\n",
              "2   Accuracy       0.704645      0.707402\n",
              "3  Precision       0.099323      0.095472\n",
              "4     Recall       0.801045      0.754989\n",
              "5   F1-score       0.176732      0.169508"
            ],
            "text/html": [
              "\n",
              "  <div id=\"df-118a4d2c-1997-4ac2-9609-6dbc0cbd1434\">\n",
              "    <div class=\"colab-df-container\">\n",
              "      <div>\n",
              "<style scoped>\n",
              "    .dataframe tbody tr th:only-of-type {\n",
              "        vertical-align: middle;\n",
              "    }\n",
              "\n",
              "    .dataframe tbody tr th {\n",
              "        vertical-align: top;\n",
              "    }\n",
              "\n",
              "    .dataframe thead th {\n",
              "        text-align: right;\n",
              "    }\n",
              "</style>\n",
              "<table border=\"1\" class=\"dataframe\">\n",
              "  <thead>\n",
              "    <tr style=\"text-align: right;\">\n",
              "      <th></th>\n",
              "      <th>metric</th>\n",
              "      <th>dTree_w_train</th>\n",
              "      <th>dTree_w_test</th>\n",
              "    </tr>\n",
              "  </thead>\n",
              "  <tbody>\n",
              "    <tr>\n",
              "      <th>0</th>\n",
              "      <td>AUC</td>\n",
              "      <td>0.820066</td>\n",
              "      <td>0.803175</td>\n",
              "    </tr>\n",
              "    <tr>\n",
              "      <th>1</th>\n",
              "      <td>Gini</td>\n",
              "      <td>0.640132</td>\n",
              "      <td>0.606351</td>\n",
              "    </tr>\n",
              "    <tr>\n",
              "      <th>2</th>\n",
              "      <td>Accuracy</td>\n",
              "      <td>0.704645</td>\n",
              "      <td>0.707402</td>\n",
              "    </tr>\n",
              "    <tr>\n",
              "      <th>3</th>\n",
              "      <td>Precision</td>\n",
              "      <td>0.099323</td>\n",
              "      <td>0.095472</td>\n",
              "    </tr>\n",
              "    <tr>\n",
              "      <th>4</th>\n",
              "      <td>Recall</td>\n",
              "      <td>0.801045</td>\n",
              "      <td>0.754989</td>\n",
              "    </tr>\n",
              "    <tr>\n",
              "      <th>5</th>\n",
              "      <td>F1-score</td>\n",
              "      <td>0.176732</td>\n",
              "      <td>0.169508</td>\n",
              "    </tr>\n",
              "  </tbody>\n",
              "</table>\n",
              "</div>\n",
              "      <button class=\"colab-df-convert\" onclick=\"convertToInteractive('df-118a4d2c-1997-4ac2-9609-6dbc0cbd1434')\"\n",
              "              title=\"Convert this dataframe to an interactive table.\"\n",
              "              style=\"display:none;\">\n",
              "        \n",
              "  <svg xmlns=\"http://www.w3.org/2000/svg\" height=\"24px\"viewBox=\"0 0 24 24\"\n",
              "       width=\"24px\">\n",
              "    <path d=\"M0 0h24v24H0V0z\" fill=\"none\"/>\n",
              "    <path d=\"M18.56 5.44l.94 2.06.94-2.06 2.06-.94-2.06-.94-.94-2.06-.94 2.06-2.06.94zm-11 1L8.5 8.5l.94-2.06 2.06-.94-2.06-.94L8.5 2.5l-.94 2.06-2.06.94zm10 10l.94 2.06.94-2.06 2.06-.94-2.06-.94-.94-2.06-.94 2.06-2.06.94z\"/><path d=\"M17.41 7.96l-1.37-1.37c-.4-.4-.92-.59-1.43-.59-.52 0-1.04.2-1.43.59L10.3 9.45l-7.72 7.72c-.78.78-.78 2.05 0 2.83L4 21.41c.39.39.9.59 1.41.59.51 0 1.02-.2 1.41-.59l7.78-7.78 2.81-2.81c.8-.78.8-2.07 0-2.86zM5.41 20L4 18.59l7.72-7.72 1.47 1.35L5.41 20z\"/>\n",
              "  </svg>\n",
              "      </button>\n",
              "      \n",
              "  <style>\n",
              "    .colab-df-container {\n",
              "      display:flex;\n",
              "      flex-wrap:wrap;\n",
              "      gap: 12px;\n",
              "    }\n",
              "\n",
              "    .colab-df-convert {\n",
              "      background-color: #E8F0FE;\n",
              "      border: none;\n",
              "      border-radius: 50%;\n",
              "      cursor: pointer;\n",
              "      display: none;\n",
              "      fill: #1967D2;\n",
              "      height: 32px;\n",
              "      padding: 0 0 0 0;\n",
              "      width: 32px;\n",
              "    }\n",
              "\n",
              "    .colab-df-convert:hover {\n",
              "      background-color: #E2EBFA;\n",
              "      box-shadow: 0px 1px 2px rgba(60, 64, 67, 0.3), 0px 1px 3px 1px rgba(60, 64, 67, 0.15);\n",
              "      fill: #174EA6;\n",
              "    }\n",
              "\n",
              "    [theme=dark] .colab-df-convert {\n",
              "      background-color: #3B4455;\n",
              "      fill: #D2E3FC;\n",
              "    }\n",
              "\n",
              "    [theme=dark] .colab-df-convert:hover {\n",
              "      background-color: #434B5C;\n",
              "      box-shadow: 0px 1px 3px 1px rgba(0, 0, 0, 0.15);\n",
              "      filter: drop-shadow(0px 1px 2px rgba(0, 0, 0, 0.3));\n",
              "      fill: #FFFFFF;\n",
              "    }\n",
              "  </style>\n",
              "\n",
              "      <script>\n",
              "        const buttonEl =\n",
              "          document.querySelector('#df-118a4d2c-1997-4ac2-9609-6dbc0cbd1434 button.colab-df-convert');\n",
              "        buttonEl.style.display =\n",
              "          google.colab.kernel.accessAllowed ? 'block' : 'none';\n",
              "\n",
              "        async function convertToInteractive(key) {\n",
              "          const element = document.querySelector('#df-118a4d2c-1997-4ac2-9609-6dbc0cbd1434');\n",
              "          const dataTable =\n",
              "            await google.colab.kernel.invokeFunction('convertToInteractive',\n",
              "                                                     [key], {});\n",
              "          if (!dataTable) return;\n",
              "\n",
              "          const docLinkHtml = 'Like what you see? Visit the ' +\n",
              "            '<a target=\"_blank\" href=https://colab.research.google.com/notebooks/data_table.ipynb>data table notebook</a>'\n",
              "            + ' to learn more about interactive tables.';\n",
              "          element.innerHTML = '';\n",
              "          dataTable['output_type'] = 'display_data';\n",
              "          await google.colab.output.renderOutput(dataTable, element);\n",
              "          const docLink = document.createElement('div');\n",
              "          docLink.innerHTML = docLinkHtml;\n",
              "          element.appendChild(docLink);\n",
              "        }\n",
              "      </script>\n",
              "    </div>\n",
              "  </div>\n",
              "  "
            ]
          },
          "metadata": {},
          "execution_count": 27
        }
      ]
    },
    {
      "cell_type": "code",
      "source": [
        "# Definiendo modelo\n",
        "\n",
        "dtree_unb = DecisionTreeClassifier(max_depth = 5, \n",
        "                               min_samples_leaf = 0.05,\n",
        "                               random_state = 123)\n",
        "\n",
        "dtree_unb = dtree_unb.fit(X_train[features], y_train)\n",
        "    \n",
        "# Usando el modelo para predecir\n",
        "\n",
        "X_train['probability_unb'] = dtree_unb.predict_proba(X_train[features])[:,1]\n",
        "X_test['probability_unb']  = dtree_unb.predict_proba(X_test[features])[:,1]\n",
        "\n",
        "X_train['prediction_unb'] = dtree_unb.predict(X_train[features])\n",
        "X_test['prediction_unb']  = dtree_unb.predict(X_test[features])\n",
        "\n",
        "#Resumen de todas las métricas del modelo\n",
        "metricsDtree_unb = pd.DataFrame({'metric':['AUC','Gini','Accuracy','Precision','Recall','F1-score'],\n",
        "                                'dTree_unb_train':[roc_auc_score(y_train, X_train.probability_unb),\n",
        "                                        (roc_auc_score(y_train, X_train.probability_unb)*2-1),\n",
        "                                        accuracy_score(y_train, X_train.prediction_unb),\n",
        "                                        precision_score(y_train, X_train.prediction_unb),\n",
        "                                        recall_score(y_train, X_train.prediction_unb),\n",
        "                                        f1_score(y_train, X_train.prediction_unb)],\n",
        "\n",
        "                                'dTree_unb_test':[roc_auc_score(y_test, X_test.probability_unb),\n",
        "                                        (roc_auc_score(y_test, X_test.probability_unb)*2-1),\n",
        "                                        accuracy_score(y_test, X_test.prediction_unb),\n",
        "                                        precision_score(y_test, X_test.prediction_unb),\n",
        "                                        recall_score(y_test, X_test.prediction_unb),\n",
        "                                        f1_score(y_test, X_test.prediction_unb)]})\n"
      ],
      "metadata": {
        "id": "JXaUiMmD-yTE",
        "outputId": "68859668-12f8-47c8-fd61-657008f5c7b0",
        "colab": {
          "base_uri": "https://localhost:8080/"
        }
      },
      "execution_count": 28,
      "outputs": [
        {
          "output_type": "stream",
          "name": "stderr",
          "text": [
            "/usr/local/lib/python3.10/dist-packages/sklearn/metrics/_classification.py:1344: UndefinedMetricWarning: Precision is ill-defined and being set to 0.0 due to no predicted samples. Use `zero_division` parameter to control this behavior.\n",
            "  _warn_prf(average, modifier, msg_start, len(result))\n",
            "/usr/local/lib/python3.10/dist-packages/sklearn/metrics/_classification.py:1344: UndefinedMetricWarning: Precision is ill-defined and being set to 0.0 due to no predicted samples. Use `zero_division` parameter to control this behavior.\n",
            "  _warn_prf(average, modifier, msg_start, len(result))\n"
          ]
        }
      ]
    },
    {
      "cell_type": "code",
      "source": [
        "temp = pd.merge(metricsDtree_smote, metricsDtree_w, on = ['metric'], how= 'left')\n",
        "pd.merge(temp, metricsDtree_unb, on = ['metric'], how= 'left')\n",
        "\n"
      ],
      "metadata": {
        "colab": {
          "base_uri": "https://localhost:8080/",
          "height": 238
        },
        "id": "rJpM3Q17u3DP",
        "outputId": "d41800b3-e8f6-48f8-c2a2-0d62c93f78d5"
      },
      "execution_count": 29,
      "outputs": [
        {
          "output_type": "execute_result",
          "data": {
            "text/plain": [
              "      metric  dTree_smote_train  dTree_smote_test  dTree_w_train  \\\n",
              "0        AUC           0.800894          0.799110       0.820066   \n",
              "1       Gini           0.601789          0.598221       0.640132   \n",
              "2   Accuracy           0.783309          0.788389       0.704645   \n",
              "3  Precision           0.112491          0.115143       0.099323   \n",
              "4     Recall           0.649573          0.650776       0.801045   \n",
              "5   F1-score           0.191771          0.195667       0.176732   \n",
              "\n",
              "   dTree_w_test  dTree_unb_train  dTree_unb_test  \n",
              "0      0.803175         0.823127        0.804982  \n",
              "1      0.606351         0.646253        0.609964  \n",
              "2      0.707402         0.960424        0.960449  \n",
              "3      0.095472         0.000000        0.000000  \n",
              "4      0.754989         0.000000        0.000000  \n",
              "5      0.169508         0.000000        0.000000  "
            ],
            "text/html": [
              "\n",
              "  <div id=\"df-b2771325-d5a2-4f2f-bc4c-c418a23092b7\">\n",
              "    <div class=\"colab-df-container\">\n",
              "      <div>\n",
              "<style scoped>\n",
              "    .dataframe tbody tr th:only-of-type {\n",
              "        vertical-align: middle;\n",
              "    }\n",
              "\n",
              "    .dataframe tbody tr th {\n",
              "        vertical-align: top;\n",
              "    }\n",
              "\n",
              "    .dataframe thead th {\n",
              "        text-align: right;\n",
              "    }\n",
              "</style>\n",
              "<table border=\"1\" class=\"dataframe\">\n",
              "  <thead>\n",
              "    <tr style=\"text-align: right;\">\n",
              "      <th></th>\n",
              "      <th>metric</th>\n",
              "      <th>dTree_smote_train</th>\n",
              "      <th>dTree_smote_test</th>\n",
              "      <th>dTree_w_train</th>\n",
              "      <th>dTree_w_test</th>\n",
              "      <th>dTree_unb_train</th>\n",
              "      <th>dTree_unb_test</th>\n",
              "    </tr>\n",
              "  </thead>\n",
              "  <tbody>\n",
              "    <tr>\n",
              "      <th>0</th>\n",
              "      <td>AUC</td>\n",
              "      <td>0.800894</td>\n",
              "      <td>0.799110</td>\n",
              "      <td>0.820066</td>\n",
              "      <td>0.803175</td>\n",
              "      <td>0.823127</td>\n",
              "      <td>0.804982</td>\n",
              "    </tr>\n",
              "    <tr>\n",
              "      <th>1</th>\n",
              "      <td>Gini</td>\n",
              "      <td>0.601789</td>\n",
              "      <td>0.598221</td>\n",
              "      <td>0.640132</td>\n",
              "      <td>0.606351</td>\n",
              "      <td>0.646253</td>\n",
              "      <td>0.609964</td>\n",
              "    </tr>\n",
              "    <tr>\n",
              "      <th>2</th>\n",
              "      <td>Accuracy</td>\n",
              "      <td>0.783309</td>\n",
              "      <td>0.788389</td>\n",
              "      <td>0.704645</td>\n",
              "      <td>0.707402</td>\n",
              "      <td>0.960424</td>\n",
              "      <td>0.960449</td>\n",
              "    </tr>\n",
              "    <tr>\n",
              "      <th>3</th>\n",
              "      <td>Precision</td>\n",
              "      <td>0.112491</td>\n",
              "      <td>0.115143</td>\n",
              "      <td>0.099323</td>\n",
              "      <td>0.095472</td>\n",
              "      <td>0.000000</td>\n",
              "      <td>0.000000</td>\n",
              "    </tr>\n",
              "    <tr>\n",
              "      <th>4</th>\n",
              "      <td>Recall</td>\n",
              "      <td>0.649573</td>\n",
              "      <td>0.650776</td>\n",
              "      <td>0.801045</td>\n",
              "      <td>0.754989</td>\n",
              "      <td>0.000000</td>\n",
              "      <td>0.000000</td>\n",
              "    </tr>\n",
              "    <tr>\n",
              "      <th>5</th>\n",
              "      <td>F1-score</td>\n",
              "      <td>0.191771</td>\n",
              "      <td>0.195667</td>\n",
              "      <td>0.176732</td>\n",
              "      <td>0.169508</td>\n",
              "      <td>0.000000</td>\n",
              "      <td>0.000000</td>\n",
              "    </tr>\n",
              "  </tbody>\n",
              "</table>\n",
              "</div>\n",
              "      <button class=\"colab-df-convert\" onclick=\"convertToInteractive('df-b2771325-d5a2-4f2f-bc4c-c418a23092b7')\"\n",
              "              title=\"Convert this dataframe to an interactive table.\"\n",
              "              style=\"display:none;\">\n",
              "        \n",
              "  <svg xmlns=\"http://www.w3.org/2000/svg\" height=\"24px\"viewBox=\"0 0 24 24\"\n",
              "       width=\"24px\">\n",
              "    <path d=\"M0 0h24v24H0V0z\" fill=\"none\"/>\n",
              "    <path d=\"M18.56 5.44l.94 2.06.94-2.06 2.06-.94-2.06-.94-.94-2.06-.94 2.06-2.06.94zm-11 1L8.5 8.5l.94-2.06 2.06-.94-2.06-.94L8.5 2.5l-.94 2.06-2.06.94zm10 10l.94 2.06.94-2.06 2.06-.94-2.06-.94-.94-2.06-.94 2.06-2.06.94z\"/><path d=\"M17.41 7.96l-1.37-1.37c-.4-.4-.92-.59-1.43-.59-.52 0-1.04.2-1.43.59L10.3 9.45l-7.72 7.72c-.78.78-.78 2.05 0 2.83L4 21.41c.39.39.9.59 1.41.59.51 0 1.02-.2 1.41-.59l7.78-7.78 2.81-2.81c.8-.78.8-2.07 0-2.86zM5.41 20L4 18.59l7.72-7.72 1.47 1.35L5.41 20z\"/>\n",
              "  </svg>\n",
              "      </button>\n",
              "      \n",
              "  <style>\n",
              "    .colab-df-container {\n",
              "      display:flex;\n",
              "      flex-wrap:wrap;\n",
              "      gap: 12px;\n",
              "    }\n",
              "\n",
              "    .colab-df-convert {\n",
              "      background-color: #E8F0FE;\n",
              "      border: none;\n",
              "      border-radius: 50%;\n",
              "      cursor: pointer;\n",
              "      display: none;\n",
              "      fill: #1967D2;\n",
              "      height: 32px;\n",
              "      padding: 0 0 0 0;\n",
              "      width: 32px;\n",
              "    }\n",
              "\n",
              "    .colab-df-convert:hover {\n",
              "      background-color: #E2EBFA;\n",
              "      box-shadow: 0px 1px 2px rgba(60, 64, 67, 0.3), 0px 1px 3px 1px rgba(60, 64, 67, 0.15);\n",
              "      fill: #174EA6;\n",
              "    }\n",
              "\n",
              "    [theme=dark] .colab-df-convert {\n",
              "      background-color: #3B4455;\n",
              "      fill: #D2E3FC;\n",
              "    }\n",
              "\n",
              "    [theme=dark] .colab-df-convert:hover {\n",
              "      background-color: #434B5C;\n",
              "      box-shadow: 0px 1px 3px 1px rgba(0, 0, 0, 0.15);\n",
              "      filter: drop-shadow(0px 1px 2px rgba(0, 0, 0, 0.3));\n",
              "      fill: #FFFFFF;\n",
              "    }\n",
              "  </style>\n",
              "\n",
              "      <script>\n",
              "        const buttonEl =\n",
              "          document.querySelector('#df-b2771325-d5a2-4f2f-bc4c-c418a23092b7 button.colab-df-convert');\n",
              "        buttonEl.style.display =\n",
              "          google.colab.kernel.accessAllowed ? 'block' : 'none';\n",
              "\n",
              "        async function convertToInteractive(key) {\n",
              "          const element = document.querySelector('#df-b2771325-d5a2-4f2f-bc4c-c418a23092b7');\n",
              "          const dataTable =\n",
              "            await google.colab.kernel.invokeFunction('convertToInteractive',\n",
              "                                                     [key], {});\n",
              "          if (!dataTable) return;\n",
              "\n",
              "          const docLinkHtml = 'Like what you see? Visit the ' +\n",
              "            '<a target=\"_blank\" href=https://colab.research.google.com/notebooks/data_table.ipynb>data table notebook</a>'\n",
              "            + ' to learn more about interactive tables.';\n",
              "          element.innerHTML = '';\n",
              "          dataTable['output_type'] = 'display_data';\n",
              "          await google.colab.output.renderOutput(dataTable, element);\n",
              "          const docLink = document.createElement('div');\n",
              "          docLink.innerHTML = docLinkHtml;\n",
              "          element.appendChild(docLink);\n",
              "        }\n",
              "      </script>\n",
              "    </div>\n",
              "  </div>\n",
              "  "
            ]
          },
          "metadata": {},
          "execution_count": 29
        }
      ]
    },
    {
      "cell_type": "code",
      "source": [
        "X_train['TARGET'] = y_train"
      ],
      "metadata": {
        "id": "2c1JABVUBU_3"
      },
      "execution_count": 30,
      "outputs": []
    },
    {
      "cell_type": "code",
      "source": [
        "X_train.probability_unb.hist(bins = 30)"
      ],
      "metadata": {
        "id": "K6wSrnhr_8Oo",
        "outputId": "521381d8-4805-42de-e7d3-dbadd2a63b0d",
        "colab": {
          "base_uri": "https://localhost:8080/",
          "height": 544
        }
      },
      "execution_count": 31,
      "outputs": [
        {
          "output_type": "execute_result",
          "data": {
            "text/plain": [
              "<Axes: >"
            ]
          },
          "metadata": {},
          "execution_count": 31
        },
        {
          "output_type": "display_data",
          "data": {
            "text/plain": [
              "<Figure size 1000x600 with 1 Axes>"
            ],
            "image/png": "[encoded data removed]"
          },
          "metadata": {}
        }
      ]
    },
    {
      "cell_type": "code",
      "source": [
        "X_train.loc[X_train.probability_unb < 0.04].TARGET.mean()"
      ],
      "metadata": {
        "id": "NvCNlaCkBp2w",
        "outputId": "2d1567e1-213a-41b9-90c6-1a73c832fac8",
        "colab": {
          "base_uri": "https://localhost:8080/"
        }
      },
      "execution_count": 32,
      "outputs": [
        {
          "output_type": "execute_result",
          "data": {
            "text/plain": [
              "0.016576626494897724"
            ]
          },
          "metadata": {},
          "execution_count": 32
        }
      ]
    },
    {
      "cell_type": "code",
      "source": [
        "X_train.probability.hist(bins = 30)"
      ],
      "metadata": {
        "id": "OuEUEOP5-kj1",
        "outputId": "682921c0-b4ab-46fc-fcae-86f5eb0cdd51",
        "colab": {
          "base_uri": "https://localhost:8080/",
          "height": 544
        }
      },
      "execution_count": 33,
      "outputs": [
        {
          "output_type": "execute_result",
          "data": {
            "text/plain": [
              "<Axes: >"
            ]
          },
          "metadata": {},
          "execution_count": 33
        },
        {
          "output_type": "display_data",
          "data": {
            "text/plain": [
              "<Figure size 1000x600 with 1 Axes>"
            ],
            "image/png": "[encoded data removed]"
          },
          "metadata": {}
        }
      ]
    },
    {
      "cell_type": "code",
      "source": [
        "X_train.loc[X_train.probability < 0.04].TARGET.mean()"
      ],
      "metadata": {
        "id": "PXXCMCuhA8cx",
        "outputId": "cceaad9f-412f-4ff5-b53c-285271ce87c3",
        "colab": {
          "base_uri": "https://localhost:8080/"
        }
      },
      "execution_count": 34,
      "outputs": [
        {
          "output_type": "execute_result",
          "data": {
            "text/plain": [
              "0.0007365126127784938"
            ]
          },
          "metadata": {},
          "execution_count": 34
        }
      ]
    },
    {
      "cell_type": "markdown",
      "metadata": {
        "id": "-12F-kygbFlA"
      },
      "source": [
        "# Cross Validation"
      ]
    },
    {
      "cell_type": "markdown",
      "metadata": {
        "id": "017Hk3aQ1gxe"
      },
      "source": [
        "\n",
        "\n",
        "<b>evaluar el desempeño del estimador</b>\n",
        " \n",
        " ---\n",
        "\n",
        "Aprender los parámetros de una función de predicción y probarlos con los mismos datos es un error metodológico: un modelo que simplemente repetiría las etiquetas de las muestras que acaba de ver tendría una puntuación perfecta, pero no podría predecir nada útil datos no vistos.\n",
        "Esta situación se llama Overfitting. Para evitarlo, es una práctica común cuando se realiza un modelo de machine learning (supervisado) mantener parte de los datos disponibles como un conjunto de pruebas X_test, y_test. \n"
      ]
    },
    {
      "cell_type": "markdown",
      "metadata": {
        "id": "B-8dUcfU1rBK"
      },
      "source": [
        "\n",
        "Al evaluar diferentes configuraciones (\"hiperparámetros\") para estimadores, todavía existe el riesgo de Overfitting en el conjunto de prueba porque los parámetros se pueden ajustar hasta que el estimador funcione de manera óptima. De esta manera, el conocimiento sobre el conjunto de pruebas puede \"filtrarse\" en el modelo y las métricas de evaluación ya no informan sobre el desempeño de generalización. Para resolver este problema, se puede presentar otra parte del conjunto de datos como el llamado \"conjunto de validación\": el entrenamiento continúa en el conjunto de entrenamiento, después de lo cual se realiza la evaluación en el conjunto de validación y cuando el experimento parece tener éxito , la evaluación final se puede realizar en el equipo de prueba.\n",
        " "
      ]
    },
    {
      "cell_type": "markdown",
      "metadata": {
        "id": "4a9DL3JGxmf_"
      },
      "source": [
        "\n",
        "\n",
        " \n",
        "Sin embargo, al dividir los datos disponibles en tres conjuntos, reducimos drásticamente la cantidad de muestras que se pueden usar para aprender el modelo, y los resultados pueden depender de una elección aleatoria particular para el par de conjuntos (entrenamiento, validación).\n",
        "\n",
        "\n",
        "Una solución a este problema es un procedimiento llamado validación cruzada. Un conjunto de prueba aún debe mantenerse para la evaluación final, pero el conjunto de validación ya no es necesario al hacer CV. En el enfoque básico, llamado k-fold CV, el conjunto de entrenamiento se divide en k conjuntos más pequeños . Se sigue el siguiente procedimiento para cada uno de los k \"folds\":\n",
        "\n",
        "\n",
        "\n",
        "\n",
        "\n",
        "\n",
        "\n",
        "1.   Se entrena un modelo utilizando los folds como datos de entrenamiento\n",
        "\n",
        "2.   El modelo resultante se valida en la parte restante de los datos (es decir, se utiliza como un conjunto de prueba para calcular una medida de rendimiento como la precisión)\n",
        "\n",
        "\n",
        "<img src=\"https://scikit-learn.org/stable/_images/grid_search_cross_validation.png\" alt=\"HTML5 Icon\" style=\"width: 400px; height: 250px;\">\n",
        "\n",
        "---\n",
        "\n",
        "La medida de rendimiento informada por la validación cruzada de k veces es el promedio de los valores calculados en el ciclo. Este enfoque puede ser computacionalmente costoso, pero no desperdicia demasiados datos (como es el caso cuando se fija un conjunto de validación arbitrario), lo cual es una gran ventaja en problemas como la inferencia inversa donde el número de muestras es muy pequeño.\n",
        "\n",
        "---\n",
        "\n",
        "\n",
        "<strong>Puede consultar este [link](https://scikit-learn.org/stable/modules/cross_validation.html) para leer más sobre CrossValidation.</strong>\n",
        "\n",
        "\n",
        "\n",
        "\n",
        "\n"
      ]
    },
    {
      "cell_type": "code",
      "metadata": {
        "id": "lsgndgPM_0pW"
      },
      "source": [
        "# Cargar librerías para grid search\n",
        "\n",
        "from sklearn.model_selection import GridSearchCV\n",
        "from sklearn.metrics import *\n"
      ],
      "execution_count": 35,
      "outputs": []
    },
    {
      "cell_type": "code",
      "metadata": {
        "id": "WcPPbO8XpsMV"
      },
      "source": [
        "# Definiendo los parámetros a probar\n",
        "\n",
        "parameters = {'max_depth': np.linspace(2, 15, 14),\n",
        "              'min_samples_leaf' : np.array([0.01, 0.025, 0.05, 0.1, 0.2])}\n"
      ],
      "execution_count": 36,
      "outputs": []
    },
    {
      "cell_type": "code",
      "metadata": {
        "id": "JXR3A7CK_165"
      },
      "source": [
        "# Definiendo modelo\n",
        "\n",
        "dtree = DecisionTreeClassifier(random_state = 123)\n"
      ],
      "execution_count": 37,
      "outputs": []
    },
    {
      "cell_type": "code",
      "metadata": {
        "id": "gJmYXBZXrrOc",
        "colab": {
          "base_uri": "https://localhost:8080/",
          "height": 1000
        },
        "outputId": "d3208357-54dc-4638-f15c-8d2d5d798c40"
      },
      "source": [
        "# Ejecutando grid search con 5 folds\n",
        "\n",
        "GridSearch = GridSearchCV(dtree, parameters, cv = 5, verbose = 5, n_jobs = 5,\n",
        "                          refit = 'AUC',\n",
        "                          return_train_score = True)\n",
        "\n",
        "GridSearch.fit(X_train_res, y_train_res.ravel())\n",
        "#elapsed:  4.6min finished\n"
      ],
      "execution_count": 38,
      "outputs": [
        {
          "output_type": "stream",
          "name": "stdout",
          "text": [
            "Fitting 5 folds for each of 70 candidates, totalling 350 fits\n"
          ]
        },
        {
          "output_type": "error",
          "ename": "ValueError",
          "evalue": "ignored",
          "traceback": [
            "\u001b[0;31m---------------------------------------------------------------------------\u001b[0m",
            "\u001b[0;31mValueError\u001b[0m                                Traceback (most recent call last)",
            "\u001b[0;32m<ipython-input-38-fe7ab1016ce6>\u001b[0m in \u001b[0;36m<cell line: 7>\u001b[0;34m()\u001b[0m\n\u001b[1;32m      5\u001b[0m                           return_train_score = True)\n\u001b[1;32m      6\u001b[0m \u001b[0;34m\u001b[0m\u001b[0m\n\u001b[0;32m----> 7\u001b[0;31m \u001b[0mGridSearch\u001b[0m\u001b[0;34m.\u001b[0m\u001b[0mfit\u001b[0m\u001b[0;34m(\u001b[0m\u001b[0mX_train_res\u001b[0m\u001b[0;34m,\u001b[0m \u001b[0my_train_res\u001b[0m\u001b[0;34m.\u001b[0m\u001b[0mravel\u001b[0m\u001b[0;34m(\u001b[0m\u001b[0;34m)\u001b[0m\u001b[0;34m)\u001b[0m\u001b[0;34m\u001b[0m\u001b[0;34m\u001b[0m\u001b[0m\n\u001b[0m\u001b[1;32m      8\u001b[0m \u001b[0;31m#elapsed:  4.6min finished\u001b[0m\u001b[0;34m\u001b[0m\u001b[0;34m\u001b[0m\u001b[0m\n",
            "\u001b[0;32m/usr/local/lib/python3.10/dist-packages/sklearn/model_selection/_search.py\u001b[0m in \u001b[0;36mfit\u001b[0;34m(self, X, y, groups, **fit_params)\u001b[0m\n\u001b[1;32m    872\u001b[0m                 \u001b[0;32mreturn\u001b[0m \u001b[0mresults\u001b[0m\u001b[0;34m\u001b[0m\u001b[0;34m\u001b[0m\u001b[0m\n\u001b[1;32m    873\u001b[0m \u001b[0;34m\u001b[0m\u001b[0m\n\u001b[0;32m--> 874\u001b[0;31m             \u001b[0mself\u001b[0m\u001b[0;34m.\u001b[0m\u001b[0m_run_search\u001b[0m\u001b[0;34m(\u001b[0m\u001b[0mevaluate_candidates\u001b[0m\u001b[0;34m)\u001b[0m\u001b[0;34m\u001b[0m\u001b[0;34m\u001b[0m\u001b[0m\n\u001b[0m\u001b[1;32m    875\u001b[0m \u001b[0;34m\u001b[0m\u001b[0m\n\u001b[1;32m    876\u001b[0m             \u001b[0;31m# multimetric is determined here because in the case of a callable\u001b[0m\u001b[0;34m\u001b[0m\u001b[0;34m\u001b[0m\u001b[0m\n",
            "\u001b[0;32m/usr/local/lib/python3.10/dist-packages/sklearn/model_selection/_search.py\u001b[0m in \u001b[0;36m_run_search\u001b[0;34m(self, evaluate_candidates)\u001b[0m\n\u001b[1;32m   1386\u001b[0m     \u001b[0;32mdef\u001b[0m \u001b[0m_run_search\u001b[0m\u001b[0;34m(\u001b[0m\u001b[0mself\u001b[0m\u001b[0;34m,\u001b[0m \u001b[0mevaluate_candidates\u001b[0m\u001b[0;34m)\u001b[0m\u001b[0;34m:\u001b[0m\u001b[0;34m\u001b[0m\u001b[0;34m\u001b[0m\u001b[0m\n\u001b[1;32m   1387\u001b[0m         \u001b[0;34m\"\"\"Search all candidates in param_grid\"\"\"\u001b[0m\u001b[0;34m\u001b[0m\u001b[0;34m\u001b[0m\u001b[0m\n\u001b[0;32m-> 1388\u001b[0;31m         \u001b[0mevaluate_candidates\u001b[0m\u001b[0;34m(\u001b[0m\u001b[0mParameterGrid\u001b[0m\u001b[0;34m(\u001b[0m\u001b[0mself\u001b[0m\u001b[0;34m.\u001b[0m\u001b[0mparam_grid\u001b[0m\u001b[0;34m)\u001b[0m\u001b[0;34m)\u001b[0m\u001b[0;34m\u001b[0m\u001b[0;34m\u001b[0m\u001b[0m\n\u001b[0m\u001b[1;32m   1389\u001b[0m \u001b[0;34m\u001b[0m\u001b[0m\n\u001b[1;32m   1390\u001b[0m \u001b[0;34m\u001b[0m\u001b[0m\n",
            "\u001b[0;32m/usr/local/lib/python3.10/dist-packages/sklearn/model_selection/_search.py\u001b[0m in \u001b[0;36mevaluate_candidates\u001b[0;34m(candidate_params, cv, more_results)\u001b[0m\n\u001b[1;32m    849\u001b[0m                     )\n\u001b[1;32m    850\u001b[0m \u001b[0;34m\u001b[0m\u001b[0m\n\u001b[0;32m--> 851\u001b[0;31m                 \u001b[0m_warn_or_raise_about_fit_failures\u001b[0m\u001b[0;34m(\u001b[0m\u001b[0mout\u001b[0m\u001b[0;34m,\u001b[0m \u001b[0mself\u001b[0m\u001b[0;34m.\u001b[0m\u001b[0merror_score\u001b[0m\u001b[0;34m)\u001b[0m\u001b[0;34m\u001b[0m\u001b[0;34m\u001b[0m\u001b[0m\n\u001b[0m\u001b[1;32m    852\u001b[0m \u001b[0;34m\u001b[0m\u001b[0m\n\u001b[1;32m    853\u001b[0m                 \u001b[0;31m# For callable self.scoring, the return type is only know after\u001b[0m\u001b[0;34m\u001b[0m\u001b[0;34m\u001b[0m\u001b[0m\n",
            "\u001b[0;32m/usr/local/lib/python3.10/dist-packages/sklearn/model_selection/_validation.py\u001b[0m in \u001b[0;36m_warn_or_raise_about_fit_failures\u001b[0;34m(results, error_score)\u001b[0m\n\u001b[1;32m    365\u001b[0m                 \u001b[0;34mf\"Below are more details about the failures:\\n{fit_errors_summary}\"\u001b[0m\u001b[0;34m\u001b[0m\u001b[0;34m\u001b[0m\u001b[0m\n\u001b[1;32m    366\u001b[0m             )\n\u001b[0;32m--> 367\u001b[0;31m             \u001b[0;32mraise\u001b[0m \u001b[0mValueError\u001b[0m\u001b[0;34m(\u001b[0m\u001b[0mall_fits_failed_message\u001b[0m\u001b[0;34m)\u001b[0m\u001b[0;34m\u001b[0m\u001b[0;34m\u001b[0m\u001b[0m\n\u001b[0m\u001b[1;32m    368\u001b[0m \u001b[0;34m\u001b[0m\u001b[0m\n\u001b[1;32m    369\u001b[0m         \u001b[0;32melse\u001b[0m\u001b[0;34m:\u001b[0m\u001b[0;34m\u001b[0m\u001b[0;34m\u001b[0m\u001b[0m\n",
            "\u001b[0;31mValueError\u001b[0m: \nAll the 350 fits failed.\nIt is very likely that your model is misconfigured.\nYou can try to debug the error by setting error_score='raise'.\n\nBelow are more details about the failures:\n--------------------------------------------------------------------------------\n25 fits failed with the following error:\nTraceback (most recent call last):\n  File \"/usr/local/lib/python3.10/dist-packages/sklearn/model_selection/_validation.py\", line 686, in _fit_and_score\n    estimator.fit(X_train, y_train, **fit_params)\n  File \"/usr/local/lib/python3.10/dist-packages/sklearn/tree/_classes.py\", line 889, in fit\n    super().fit(\n  File \"/usr/local/lib/python3.10/dist-packages/sklearn/tree/_classes.py\", line 177, in fit\n    self._validate_params()\n  File \"/usr/local/lib/python3.10/dist-packages/sklearn/base.py\", line 600, in _validate_params\n    validate_parameter_constraints(\n  File \"/usr/local/lib/python3.10/dist-packages/sklearn/utils/_param_validation.py\", line 97, in validate_parameter_constraints\n    raise InvalidParameterError(\nsklearn.utils._param_validation.InvalidParameterError: The 'max_depth' parameter of DecisionTreeClassifier must be an int in the range [1, inf) or None. Got 2.0 instead.\n\n--------------------------------------------------------------------------------\n25 fits failed with the following error:\nTraceback (most recent call last):\n  File \"/usr/local/lib/python3.10/dist-packages/sklearn/model_selection/_validation.py\", line 686, in _fit_and_score\n    estimator.fit(X_train, y_train, **fit_params)\n  File \"/usr/local/lib/python3.10/dist-packages/sklearn/tree/_classes.py\", line 889, in fit\n    super().fit(\n  File \"/usr/local/lib/python3.10/dist-packages/sklearn/tree/_classes.py\", line 177, in fit\n    self._validate_params()\n  File \"/usr/local/lib/python3.10/dist-packages/sklearn/base.py\", line 600, in _validate_params\n    validate_parameter_constraints(\n  File \"/usr/local/lib/python3.10/dist-packages/sklearn/utils/_param_validation.py\", line 97, in validate_parameter_constraints\n    raise InvalidParameterError(\nsklearn.utils._param_validation.InvalidParameterError: The 'max_depth' parameter of DecisionTreeClassifier must be an int in the range [1, inf) or None. Got 3.0 instead.\n\n--------------------------------------------------------------------------------\n25 fits failed with the following error:\nTraceback (most recent call last):\n  File \"/usr/local/lib/python3.10/dist-packages/sklearn/model_selection/_validation.py\", line 686, in _fit_and_score\n    estimator.fit(X_train, y_train, **fit_params)\n  File \"/usr/local/lib/python3.10/dist-packages/sklearn/tree/_classes.py\", line 889, in fit\n    super().fit(\n  File \"/usr/local/lib/python3.10/dist-packages/sklearn/tree/_classes.py\", line 177, in fit\n    self._validate_params()\n  File \"/usr/local/lib/python3.10/dist-packages/sklearn/base.py\", line 600, in _validate_params\n    validate_parameter_constraints(\n  File \"/usr/local/lib/python3.10/dist-packages/sklearn/utils/_param_validation.py\", line 97, in validate_parameter_constraints\n    raise InvalidParameterError(\nsklearn.utils._param_validation.InvalidParameterError: The 'max_depth' parameter of DecisionTreeClassifier must be an int in the range [1, inf) or None. Got 4.0 instead.\n\n--------------------------------------------------------------------------------\n25 fits failed with the following error:\nTraceback (most recent call last):\n  File \"/usr/local/lib/python3.10/dist-packages/sklearn/model_selection/_validation.py\", line 686, in _fit_and_score\n    estimator.fit(X_train, y_train, **fit_params)\n  File \"/usr/local/lib/python3.10/dist-packages/sklearn/tree/_classes.py\", line 889, in fit\n    super().fit(\n  File \"/usr/local/lib/python3.10/dist-packages/sklearn/tree/_classes.py\", line 177, in fit\n    self._validate_params()\n  File \"/usr/local/lib/python3.10/dist-packages/sklearn/base.py\", line 600, in _validate_params\n    validate_parameter_constraints(\n  File \"/usr/local/lib/python3.10/dist-packages/sklearn/utils/_param_validation.py\", line 97, in validate_parameter_constraints\n    raise InvalidParameterError(\nsklearn.utils._param_validation.InvalidParameterError: The 'max_depth' parameter of DecisionTreeClassifier must be an int in the range [1, inf) or None. Got 5.0 instead.\n\n--------------------------------------------------------------------------------\n25 fits failed with the following error:\nTraceback (most recent call last):\n  File \"/usr/local/lib/python3.10/dist-packages/sklearn/model_selection/_validation.py\", line 686, in _fit_and_score\n    estimator.fit(X_train, y_train, **fit_params)\n  File \"/usr/local/lib/python3.10/dist-packages/sklearn/tree/_classes.py\", line 889, in fit\n    super().fit(\n  File \"/usr/local/lib/python3.10/dist-packages/sklearn/tree/_classes.py\", line 177, in fit\n    self._validate_params()\n  File \"/usr/local/lib/python3.10/dist-packages/sklearn/base.py\", line 600, in _validate_params\n    validate_parameter_constraints(\n  File \"/usr/local/lib/python3.10/dist-packages/sklearn/utils/_param_validation.py\", line 97, in validate_parameter_constraints\n    raise InvalidParameterError(\nsklearn.utils._param_validation.InvalidParameterError: The 'max_depth' parameter of DecisionTreeClassifier must be an int in the range [1, inf) or None. Got 6.0 instead.\n\n--------------------------------------------------------------------------------\n25 fits failed with the following error:\nTraceback (most recent call last):\n  File \"/usr/local/lib/python3.10/dist-packages/sklearn/model_selection/_validation.py\", line 686, in _fit_and_score\n    estimator.fit(X_train, y_train, **fit_params)\n  File \"/usr/local/lib/python3.10/dist-packages/sklearn/tree/_classes.py\", line 889, in fit\n    super().fit(\n  File \"/usr/local/lib/python3.10/dist-packages/sklearn/tree/_classes.py\", line 177, in fit\n    self._validate_params()\n  File \"/usr/local/lib/python3.10/dist-packages/sklearn/base.py\", line 600, in _validate_params\n    validate_parameter_constraints(\n  File \"/usr/local/lib/python3.10/dist-packages/sklearn/utils/_param_validation.py\", line 97, in validate_parameter_constraints\n    raise InvalidParameterError(\nsklearn.utils._param_validation.InvalidParameterError: The 'max_depth' parameter of DecisionTreeClassifier must be an int in the range [1, inf) or None. Got 7.0 instead.\n\n--------------------------------------------------------------------------------\n25 fits failed with the following error:\nTraceback (most recent call last):\n  File \"/usr/local/lib/python3.10/dist-packages/sklearn/model_selection/_validation.py\", line 686, in _fit_and_score\n    estimator.fit(X_train, y_train, **fit_params)\n  File \"/usr/local/lib/python3.10/dist-packages/sklearn/tree/_classes.py\", line 889, in fit\n    super().fit(\n  File \"/usr/local/lib/python3.10/dist-packages/sklearn/tree/_classes.py\", line 177, in fit\n    self._validate_params()\n  File \"/usr/local/lib/python3.10/dist-packages/sklearn/base.py\", line 600, in _validate_params\n    validate_parameter_constraints(\n  File \"/usr/local/lib/python3.10/dist-packages/sklearn/utils/_param_validation.py\", line 97, in validate_parameter_constraints\n    raise InvalidParameterError(\nsklearn.utils._param_validation.InvalidParameterError: The 'max_depth' parameter of DecisionTreeClassifier must be an int in the range [1, inf) or None. Got 8.0 instead.\n\n--------------------------------------------------------------------------------\n25 fits failed with the following error:\nTraceback (most recent call last):\n  File \"/usr/local/lib/python3.10/dist-packages/sklearn/model_selection/_validation.py\", line 686, in _fit_and_score\n    estimator.fit(X_train, y_train, **fit_params)\n  File \"/usr/local/lib/python3.10/dist-packages/sklearn/tree/_classes.py\", line 889, in fit\n    super().fit(\n  File \"/usr/local/lib/python3.10/dist-packages/sklearn/tree/_classes.py\", line 177, in fit\n    self._validate_params()\n  File \"/usr/local/lib/python3.10/dist-packages/sklearn/base.py\", line 600, in _validate_params\n    validate_parameter_constraints(\n  File \"/usr/local/lib/python3.10/dist-packages/sklearn/utils/_param_validation.py\", line 97, in validate_parameter_constraints\n    raise InvalidParameterError(\nsklearn.utils._param_validation.InvalidParameterError: The 'max_depth' parameter of DecisionTreeClassifier must be an int in the range [1, inf) or None. Got 9.0 instead.\n\n--------------------------------------------------------------------------------\n25 fits failed with the following error:\nTraceback (most recent call last):\n  File \"/usr/local/lib/python3.10/dist-packages/sklearn/model_selection/_validation.py\", line 686, in _fit_and_score\n    estimator.fit(X_train, y_train, **fit_params)\n  File \"/usr/local/lib/python3.10/dist-packages/sklearn/tree/_classes.py\", line 889, in fit\n    super().fit(\n  File \"/usr/local/lib/python3.10/dist-packages/sklearn/tree/_classes.py\", line 177, in fit\n    self._validate_params()\n  File \"/usr/local/lib/python3.10/dist-packages/sklearn/base.py\", line 600, in _validate_params\n    validate_parameter_constraints(\n  File \"/usr/local/lib/python3.10/dist-packages/sklearn/utils/_param_validation.py\", line 97, in validate_parameter_constraints\n    raise InvalidParameterError(\nsklearn.utils._param_validation.InvalidParameterError: The 'max_depth' parameter of DecisionTreeClassifier must be an int in the range [1, inf) or None. Got 10.0 instead.\n\n--------------------------------------------------------------------------------\n25 fits failed with the following error:\nTraceback (most recent call last):\n  File \"/usr/local/lib/python3.10/dist-packages/sklearn/model_selection/_validation.py\", line 686, in _fit_and_score\n    estimator.fit(X_train, y_train, **fit_params)\n  File \"/usr/local/lib/python3.10/dist-packages/sklearn/tree/_classes.py\", line 889, in fit\n    super().fit(\n  File \"/usr/local/lib/python3.10/dist-packages/sklearn/tree/_classes.py\", line 177, in fit\n    self._validate_params()\n  File \"/usr/local/lib/python3.10/dist-packages/sklearn/base.py\", line 600, in _validate_params\n    validate_parameter_constraints(\n  File \"/usr/local/lib/python3.10/dist-packages/sklearn/utils/_param_validation.py\", line 97, in validate_parameter_constraints\n    raise InvalidParameterError(\nsklearn.utils._param_validation.InvalidParameterError: The 'max_depth' parameter of DecisionTreeClassifier must be an int in the range [1, inf) or None. Got 11.0 instead.\n\n--------------------------------------------------------------------------------\n25 fits failed with the following error:\nTraceback (most recent call last):\n  File \"/usr/local/lib/python3.10/dist-packages/sklearn/model_selection/_validation.py\", line 686, in _fit_and_score\n    estimator.fit(X_train, y_train, **fit_params)\n  File \"/usr/local/lib/python3.10/dist-packages/sklearn/tree/_classes.py\", line 889, in fit\n    super().fit(\n  File \"/usr/local/lib/python3.10/dist-packages/sklearn/tree/_classes.py\", line 177, in fit\n    self._validate_params()\n  File \"/usr/local/lib/python3.10/dist-packages/sklearn/base.py\", line 600, in _validate_params\n    validate_parameter_constraints(\n  File \"/usr/local/lib/python3.10/dist-packages/sklearn/utils/_param_validation.py\", line 97, in validate_parameter_constraints\n    raise InvalidParameterError(\nsklearn.utils._param_validation.InvalidParameterError: The 'max_depth' parameter of DecisionTreeClassifier must be an int in the range [1, inf) or None. Got 12.0 instead.\n\n--------------------------------------------------------------------------------\n25 fits failed with the following error:\nTraceback (most recent call last):\n  File \"/usr/local/lib/python3.10/dist-packages/sklearn/model_selection/_validation.py\", line 686, in _fit_and_score\n    estimator.fit(X_train, y_train, **fit_params)\n  File \"/usr/local/lib/python3.10/dist-packages/sklearn/tree/_classes.py\", line 889, in fit\n    super().fit(\n  File \"/usr/local/lib/python3.10/dist-packages/sklearn/tree/_classes.py\", line 177, in fit\n    self._validate_params()\n  File \"/usr/local/lib/python3.10/dist-packages/sklearn/base.py\", line 600, in _validate_params\n    validate_parameter_constraints(\n  File \"/usr/local/lib/python3.10/dist-packages/sklearn/utils/_param_validation.py\", line 97, in validate_parameter_constraints\n    raise InvalidParameterError(\nsklearn.utils._param_validation.InvalidParameterError: The 'max_depth' parameter of DecisionTreeClassifier must be an int in the range [1, inf) or None. Got 13.0 instead.\n\n--------------------------------------------------------------------------------\n25 fits failed with the following error:\nTraceback (most recent call last):\n  File \"/usr/local/lib/python3.10/dist-packages/sklearn/model_selection/_validation.py\", line 686, in _fit_and_score\n    estimator.fit(X_train, y_train, **fit_params)\n  File \"/usr/local/lib/python3.10/dist-packages/sklearn/tree/_classes.py\", line 889, in fit\n    super().fit(\n  File \"/usr/local/lib/python3.10/dist-packages/sklearn/tree/_classes.py\", line 177, in fit\n    self._validate_params()\n  File \"/usr/local/lib/python3.10/dist-packages/sklearn/base.py\", line 600, in _validate_params\n    validate_parameter_constraints(\n  File \"/usr/local/lib/python3.10/dist-packages/sklearn/utils/_param_validation.py\", line 97, in validate_parameter_constraints\n    raise InvalidParameterError(\nsklearn.utils._param_validation.InvalidParameterError: The 'max_depth' parameter of DecisionTreeClassifier must be an int in the range [1, inf) or None. Got 14.0 instead.\n\n--------------------------------------------------------------------------------\n25 fits failed with the following error:\nTraceback (most recent call last):\n  File \"/usr/local/lib/python3.10/dist-packages/sklearn/model_selection/_validation.py\", line 686, in _fit_and_score\n    estimator.fit(X_train, y_train, **fit_params)\n  File \"/usr/local/lib/python3.10/dist-packages/sklearn/tree/_classes.py\", line 889, in fit\n    super().fit(\n  File \"/usr/local/lib/python3.10/dist-packages/sklearn/tree/_classes.py\", line 177, in fit\n    self._validate_params()\n  File \"/usr/local/lib/python3.10/dist-packages/sklearn/base.py\", line 600, in _validate_params\n    validate_parameter_constraints(\n  File \"/usr/local/lib/python3.10/dist-packages/sklearn/utils/_param_validation.py\", line 97, in validate_parameter_constraints\n    raise InvalidParameterError(\nsklearn.utils._param_validation.InvalidParameterError: The 'max_depth' parameter of DecisionTreeClassifier must be an int in the range [1, inf) or None. Got 15.0 instead.\n"
          ]
        }
      ]
    },
    {
      "cell_type": "code",
      "metadata": {
        "id": "6Ed2TLBPwhdq"
      },
      "source": [
        "GridSearch.best_params_"
      ],
      "execution_count": null,
      "outputs": []
    },
    {
      "cell_type": "code",
      "metadata": {
        "id": "Beqga9lp3yKn"
      },
      "source": [
        "def plot_search_results(grid):\n",
        "    \"\"\"\n",
        "    Params: \n",
        "        grid: A trained GridSearchCV object.\n",
        "    \"\"\"\n",
        "    ## Results from grid search\n",
        "    results = grid.cv_results_\n",
        "    means_test = results['mean_test_score']\n",
        "    stds_test = results['std_test_score']\n",
        "    means_train = results['mean_train_score']\n",
        "    stds_train = results['std_train_score']\n",
        "\n",
        "    ## Getting indexes of values per hyper-parameter\n",
        "    masks=[]\n",
        "    masks_names= list(grid.best_params_.keys())\n",
        "    for p_k, p_v in grid.best_params_.items():\n",
        "        masks.append(list(results['param_'+p_k].data==p_v))\n",
        "\n",
        "    params=grid.param_grid\n",
        "\n",
        "    ## Ploting results\n",
        "    fig, ax = plt.subplots(1,len(params),sharex='none', sharey='all',figsize=(20,5))\n",
        "    fig.suptitle('Score per parameter')\n",
        "    fig.text(0.04, 0.5, 'MEAN SCORE', va='center', rotation='vertical')\n",
        "    pram_preformace_in_best = {}\n",
        "    for i, p in enumerate(masks_names):\n",
        "        m = np.stack(masks[:i] + masks[i+1:])\n",
        "        pram_preformace_in_best\n",
        "        best_parms_mask = m.all(axis=0)\n",
        "        best_index = np.where(best_parms_mask)[0]\n",
        "        x = np.array(params[p])\n",
        "        y_1 = np.array(means_test[best_index])\n",
        "        e_1 = np.array(stds_test[best_index])\n",
        "        y_2 = np.array(means_train[best_index])\n",
        "        e_2 = np.array(stds_train[best_index])\n",
        "        ax[i].errorbar(x, y_1, e_1, linestyle='--', marker='o', label='test')\n",
        "        ax[i].errorbar(x, y_2, e_2, linestyle='-', marker='^',label='train' )\n",
        "        ax[i].set_xlabel(p.upper())\n",
        "\n",
        "    plt.legend()\n",
        "    plt.show()"
      ],
      "execution_count": 39,
      "outputs": []
    },
    {
      "cell_type": "code",
      "metadata": {
        "id": "MNRLjWmi4TH_",
        "colab": {
          "base_uri": "https://localhost:8080/",
          "height": 304
        },
        "outputId": "8104fb0c-55f6-413b-add8-8753e04f4e11"
      },
      "source": [
        "\n",
        "# Calling Method \n",
        "plot_search_results(GridSearch)\n"
      ],
      "execution_count": 40,
      "outputs": [
        {
          "output_type": "error",
          "ename": "AttributeError",
          "evalue": "ignored",
          "traceback": [
            "\u001b[0;31m---------------------------------------------------------------------------\u001b[0m",
            "\u001b[0;31mAttributeError\u001b[0m                            Traceback (most recent call last)",
            "\u001b[0;32m<ipython-input-40-19061198f2aa>\u001b[0m in \u001b[0;36m<cell line: 2>\u001b[0;34m()\u001b[0m\n\u001b[1;32m      1\u001b[0m \u001b[0;31m# Calling Method\u001b[0m\u001b[0;34m\u001b[0m\u001b[0;34m\u001b[0m\u001b[0m\n\u001b[0;32m----> 2\u001b[0;31m \u001b[0mplot_search_results\u001b[0m\u001b[0;34m(\u001b[0m\u001b[0mGridSearch\u001b[0m\u001b[0;34m)\u001b[0m\u001b[0;34m\u001b[0m\u001b[0;34m\u001b[0m\u001b[0m\n\u001b[0m",
            "\u001b[0;32m<ipython-input-39-dedded58d14f>\u001b[0m in \u001b[0;36mplot_search_results\u001b[0;34m(grid)\u001b[0m\n\u001b[1;32m      5\u001b[0m     \"\"\"\n\u001b[1;32m      6\u001b[0m     \u001b[0;31m## Results from grid search\u001b[0m\u001b[0;34m\u001b[0m\u001b[0;34m\u001b[0m\u001b[0m\n\u001b[0;32m----> 7\u001b[0;31m     \u001b[0mresults\u001b[0m \u001b[0;34m=\u001b[0m \u001b[0mgrid\u001b[0m\u001b[0;34m.\u001b[0m\u001b[0mcv_results_\u001b[0m\u001b[0;34m\u001b[0m\u001b[0;34m\u001b[0m\u001b[0m\n\u001b[0m\u001b[1;32m      8\u001b[0m     \u001b[0mmeans_test\u001b[0m \u001b[0;34m=\u001b[0m \u001b[0mresults\u001b[0m\u001b[0;34m[\u001b[0m\u001b[0;34m'mean_test_score'\u001b[0m\u001b[0;34m]\u001b[0m\u001b[0;34m\u001b[0m\u001b[0;34m\u001b[0m\u001b[0m\n\u001b[1;32m      9\u001b[0m     \u001b[0mstds_test\u001b[0m \u001b[0;34m=\u001b[0m \u001b[0mresults\u001b[0m\u001b[0;34m[\u001b[0m\u001b[0;34m'std_test_score'\u001b[0m\u001b[0;34m]\u001b[0m\u001b[0;34m\u001b[0m\u001b[0;34m\u001b[0m\u001b[0m\n",
            "\u001b[0;31mAttributeError\u001b[0m: 'GridSearchCV' object has no attribute 'cv_results_'"
          ]
        }
      ]
    },
    {
      "cell_type": "code",
      "metadata": {
        "id": "8ma6g_3-wxD5",
        "colab": {
          "base_uri": "https://localhost:8080/",
          "height": 75
        },
        "outputId": "65a2a348-abfc-4569-ae9f-1fa80cd74e6a"
      },
      "source": [
        "# Entrenamiento Óptimizado\n",
        "\n",
        "dtree = DecisionTreeClassifier(max_depth = 6, \n",
        "                               min_samples_leaf = 0.01,\n",
        "                               random_state = 123)\n",
        "\n",
        "dtree = dtree.fit(X_train_res, y_train_res)\n",
        "    \n",
        "dtree"
      ],
      "execution_count": 41,
      "outputs": [
        {
          "output_type": "execute_result",
          "data": {
            "text/plain": [
              "DecisionTreeClassifier(max_depth=6, min_samples_leaf=0.01, random_state=123)"
            ],
            "text/html": [
              "<style>#sk-container-id-3 {color: black;background-color: white;}#sk-container-id-3 pre{padding: 0;}#sk-container-id-3 div.sk-toggleable {background-color: white;}#sk-container-id-3 label.sk-toggleable__label {cursor: pointer;display: block;width: 100%;margin-bottom: 0;padding: 0.3em;box-sizing: border-box;text-align: center;}#sk-container-id-3 label.sk-toggleable__label-arrow:before {content: \"▸\";float: left;margin-right: 0.25em;color: #696969;}#sk-container-id-3 label.sk-toggleable__label-arrow:hover:before {color: black;}#sk-container-id-3 div.sk-estimator:hover label.sk-toggleable__label-arrow:before {color: black;}#sk-container-id-3 div.sk-toggleable__content {max-height: 0;max-width: 0;overflow: hidden;text-align: left;background-color: #f0f8ff;}#sk-container-id-3 div.sk-toggleable__content pre {margin: 0.2em;color: black;border-radius: 0.25em;background-color: #f0f8ff;}#sk-container-id-3 input.sk-toggleable__control:checked~div.sk-toggleable__content {max-height: 200px;max-width: 100%;overflow: auto;}#sk-container-id-3 input.sk-toggleable__control:checked~label.sk-toggleable__label-arrow:before {content: \"▾\";}#sk-container-id-3 div.sk-estimator input.sk-toggleable__control:checked~label.sk-toggleable__label {background-color: #d4ebff;}#sk-container-id-3 div.sk-label input.sk-toggleable__control:checked~label.sk-toggleable__label {background-color: #d4ebff;}#sk-container-id-3 input.sk-hidden--visually {border: 0;clip: rect(1px 1px 1px 1px);clip: rect(1px, 1px, 1px, 1px);height: 1px;margin: -1px;overflow: hidden;padding: 0;position: absolute;width: 1px;}#sk-container-id-3 div.sk-estimator {font-family: monospace;background-color: #f0f8ff;border: 1px dotted black;border-radius: 0.25em;box-sizing: border-box;margin-bottom: 0.5em;}#sk-container-id-3 div.sk-estimator:hover {background-color: #d4ebff;}#sk-container-id-3 div.sk-parallel-item::after {content: \"\";width: 100%;border-bottom: 1px solid gray;flex-grow: 1;}#sk-container-id-3 div.sk-label:hover label.sk-toggleable__label {background-color: #d4ebff;}#sk-container-id-3 div.sk-serial::before {content: \"\";position: absolute;border-left: 1px solid gray;box-sizing: border-box;top: 0;bottom: 0;left: 50%;z-index: 0;}#sk-container-id-3 div.sk-serial {display: flex;flex-direction: column;align-items: center;background-color: white;padding-right: 0.2em;padding-left: 0.2em;position: relative;}#sk-container-id-3 div.sk-item {position: relative;z-index: 1;}#sk-container-id-3 div.sk-parallel {display: flex;align-items: stretch;justify-content: center;background-color: white;position: relative;}#sk-container-id-3 div.sk-item::before, #sk-container-id-3 div.sk-parallel-item::before {content: \"\";position: absolute;border-left: 1px solid gray;box-sizing: border-box;top: 0;bottom: 0;left: 50%;z-index: -1;}#sk-container-id-3 div.sk-parallel-item {display: flex;flex-direction: column;z-index: 1;position: relative;background-color: white;}#sk-container-id-3 div.sk-parallel-item:first-child::after {align-self: flex-end;width: 50%;}#sk-container-id-3 div.sk-parallel-item:last-child::after {align-self: flex-start;width: 50%;}#sk-container-id-3 div.sk-parallel-item:only-child::after {width: 0;}#sk-container-id-3 div.sk-dashed-wrapped {border: 1px dashed gray;margin: 0 0.4em 0.5em 0.4em;box-sizing: border-box;padding-bottom: 0.4em;background-color: white;}#sk-container-id-3 div.sk-label label {font-family: monospace;font-weight: bold;display: inline-block;line-height: 1.2em;}#sk-container-id-3 div.sk-label-container {text-align: center;}#sk-container-id-3 div.sk-container {/* jupyter's `normalize.less` sets `[hidden] { display: none; }` but bootstrap.min.css set `[hidden] { display: none !important; }` so we also need the `!important` here to be able to override the default hidden behavior on the sphinx rendered scikit-learn.org. See: https://github.com/scikit-learn/scikit-learn/issues/21755 */display: inline-block !important;position: relative;}#sk-container-id-3 div.sk-text-repr-fallback {display: none;}</style><div id=\"sk-container-id-3\" class=\"sk-top-container\"><div class=\"sk-text-repr-fallback\"><pre>DecisionTreeClassifier(max_depth=6, min_samples_leaf=0.01, random_state=123)</pre><b>In a Jupyter environment, please rerun this cell to show the HTML representation or trust the notebook. <br />On GitHub, the HTML representation is unable to render, please try loading this page with nbviewer.org.</b></div><div class=\"sk-container\" hidden><div class=\"sk-item\"><div class=\"sk-estimator sk-toggleable\"><input class=\"sk-toggleable__control sk-hidden--visually\" id=\"sk-estimator-id-3\" type=\"checkbox\" checked><label for=\"sk-estimator-id-3\" class=\"sk-toggleable__label sk-toggleable__label-arrow\">DecisionTreeClassifier</label><div class=\"sk-toggleable__content\"><pre>DecisionTreeClassifier(max_depth=6, min_samples_leaf=0.01, random_state=123)</pre></div></div></div></div></div>"
            ]
          },
          "metadata": {},
          "execution_count": 41
        }
      ]
    },
    {
      "cell_type": "code",
      "metadata": {
        "id": "VcJQAjQkAt06",
        "outputId": "fa8eaf04-c2d1-44ad-f988-fe445ed9d92d",
        "colab": {
          "base_uri": "https://localhost:8080/"
        }
      },
      "source": [
        "# Graficando resultados\n",
        "\n",
        "from sklearn.tree import export_graphviz\n",
        "from pydotplus import graph_from_dot_data\n",
        "\n",
        "dot_data = export_graphviz(dtree,\n",
        "                           feature_names = features,\n",
        "                           filled = True,\n",
        "                           rounded = True,\n",
        "                           special_characters = True)\n",
        "\n",
        "graph = graph_from_dot_data(dot_data)\n",
        "graph.write_png('tree.png')\n",
        "print(graph)"
      ],
      "execution_count": 42,
      "outputs": [
        {
          "output_type": "stream",
          "name": "stdout",
          "text": [
            "<pydotplus.graphviz.Dot object at 0x7fb8273c6110>\n"
          ]
        }
      ]
    },
    {
      "cell_type": "markdown",
      "metadata": {
        "id": "Nx2FhGCj139S"
      },
      "source": [
        "<b>Bondad de ajuste</b>"
      ]
    },
    {
      "cell_type": "code",
      "metadata": {
        "id": "ZRo01-D713Lv"
      },
      "source": [
        "# Usando el modelo para predecir\n",
        "\n",
        "X_train['probability'] = dtree.predict_proba(X_train[features])[:,1]\n",
        "X_test['probability']  = dtree.predict_proba(X_test[features])[:,1]\n",
        "\n",
        "X_train['prediction'] = dtree.predict(X_train[features])\n",
        "X_test['prediction']  = dtree.predict(X_test[features])\n"
      ],
      "execution_count": 43,
      "outputs": []
    },
    {
      "cell_type": "code",
      "metadata": {
        "id": "H_1Osv5N1_kO",
        "colab": {
          "base_uri": "https://localhost:8080/",
          "height": 238
        },
        "outputId": "a10db70a-d1df-4b25-f49c-74b8d2af45c3"
      },
      "source": [
        "#Resumen de todas las métricas del modelo\n",
        "\n",
        "metricsDtreeOpt = pd.DataFrame({'metric':['AUC','Gini','Accuracy','Precision','Recall','F1-score'],\n",
        "                                'dTree_train':[roc_auc_score(y_train, X_train.probability),\n",
        "                                        (roc_auc_score(y_train, X_train.probability)*2-1),\n",
        "                                        accuracy_score(y_train, X_train.prediction),\n",
        "                                        precision_score(y_train, X_train.prediction),\n",
        "                                        recall_score(y_train, X_train.prediction),\n",
        "                                        f1_score(y_train, X_train.prediction)],\n",
        "\n",
        "                                'dTree_test':[roc_auc_score(y_test, X_test.probability),\n",
        "                                        (roc_auc_score(y_test, X_test.probability)*2-1),\n",
        "                                        accuracy_score(y_test, X_test.prediction),\n",
        "                                        precision_score(y_test, X_test.prediction),\n",
        "                                        recall_score(y_test, X_test.prediction),\n",
        "                                        f1_score(y_test, X_test.prediction)]})\n",
        "\n",
        "metricsDtreeOpt          "
      ],
      "execution_count": 44,
      "outputs": [
        {
          "output_type": "execute_result",
          "data": {
            "text/plain": [
              "      metric  dTree_train  dTree_test\n",
              "0        AUC     0.808715    0.798743\n",
              "1       Gini     0.617431    0.597487\n",
              "2   Accuracy     0.819127    0.818776\n",
              "3  Precision     0.133041    0.129727\n",
              "4     Recall     0.647198    0.627494\n",
              "5   F1-score     0.220711    0.215005"
            ],
            "text/html": [
              "\n",
              "  <div id=\"df-479b1519-5d87-4511-81a0-be8cd4ed5861\">\n",
              "    <div class=\"colab-df-container\">\n",
              "      <div>\n",
              "<style scoped>\n",
              "    .dataframe tbody tr th:only-of-type {\n",
              "        vertical-align: middle;\n",
              "    }\n",
              "\n",
              "    .dataframe tbody tr th {\n",
              "        vertical-align: top;\n",
              "    }\n",
              "\n",
              "    .dataframe thead th {\n",
              "        text-align: right;\n",
              "    }\n",
              "</style>\n",
              "<table border=\"1\" class=\"dataframe\">\n",
              "  <thead>\n",
              "    <tr style=\"text-align: right;\">\n",
              "      <th></th>\n",
              "      <th>metric</th>\n",
              "      <th>dTree_train</th>\n",
              "      <th>dTree_test</th>\n",
              "    </tr>\n",
              "  </thead>\n",
              "  <tbody>\n",
              "    <tr>\n",
              "      <th>0</th>\n",
              "      <td>AUC</td>\n",
              "      <td>0.808715</td>\n",
              "      <td>0.798743</td>\n",
              "    </tr>\n",
              "    <tr>\n",
              "      <th>1</th>\n",
              "      <td>Gini</td>\n",
              "      <td>0.617431</td>\n",
              "      <td>0.597487</td>\n",
              "    </tr>\n",
              "    <tr>\n",
              "      <th>2</th>\n",
              "      <td>Accuracy</td>\n",
              "      <td>0.819127</td>\n",
              "      <td>0.818776</td>\n",
              "    </tr>\n",
              "    <tr>\n",
              "      <th>3</th>\n",
              "      <td>Precision</td>\n",
              "      <td>0.133041</td>\n",
              "      <td>0.129727</td>\n",
              "    </tr>\n",
              "    <tr>\n",
              "      <th>4</th>\n",
              "      <td>Recall</td>\n",
              "      <td>0.647198</td>\n",
              "      <td>0.627494</td>\n",
              "    </tr>\n",
              "    <tr>\n",
              "      <th>5</th>\n",
              "      <td>F1-score</td>\n",
              "      <td>0.220711</td>\n",
              "      <td>0.215005</td>\n",
              "    </tr>\n",
              "  </tbody>\n",
              "</table>\n",
              "</div>\n",
              "      <button class=\"colab-df-convert\" onclick=\"convertToInteractive('df-479b1519-5d87-4511-81a0-be8cd4ed5861')\"\n",
              "              title=\"Convert this dataframe to an interactive table.\"\n",
              "              style=\"display:none;\">\n",
              "        \n",
              "  <svg xmlns=\"http://www.w3.org/2000/svg\" height=\"24px\"viewBox=\"0 0 24 24\"\n",
              "       width=\"24px\">\n",
              "    <path d=\"M0 0h24v24H0V0z\" fill=\"none\"/>\n",
              "    <path d=\"M18.56 5.44l.94 2.06.94-2.06 2.06-.94-2.06-.94-.94-2.06-.94 2.06-2.06.94zm-11 1L8.5 8.5l.94-2.06 2.06-.94-2.06-.94L8.5 2.5l-.94 2.06-2.06.94zm10 10l.94 2.06.94-2.06 2.06-.94-2.06-.94-.94-2.06-.94 2.06-2.06.94z\"/><path d=\"M17.41 7.96l-1.37-1.37c-.4-.4-.92-.59-1.43-.59-.52 0-1.04.2-1.43.59L10.3 9.45l-7.72 7.72c-.78.78-.78 2.05 0 2.83L4 21.41c.39.39.9.59 1.41.59.51 0 1.02-.2 1.41-.59l7.78-7.78 2.81-2.81c.8-.78.8-2.07 0-2.86zM5.41 20L4 18.59l7.72-7.72 1.47 1.35L5.41 20z\"/>\n",
              "  </svg>\n",
              "      </button>\n",
              "      \n",
              "  <style>\n",
              "    .colab-df-container {\n",
              "      display:flex;\n",
              "      flex-wrap:wrap;\n",
              "      gap: 12px;\n",
              "    }\n",
              "\n",
              "    .colab-df-convert {\n",
              "      background-color: #E8F0FE;\n",
              "      border: none;\n",
              "      border-radius: 50%;\n",
              "      cursor: pointer;\n",
              "      display: none;\n",
              "      fill: #1967D2;\n",
              "      height: 32px;\n",
              "      padding: 0 0 0 0;\n",
              "      width: 32px;\n",
              "    }\n",
              "\n",
              "    .colab-df-convert:hover {\n",
              "      background-color: #E2EBFA;\n",
              "      box-shadow: 0px 1px 2px rgba(60, 64, 67, 0.3), 0px 1px 3px 1px rgba(60, 64, 67, 0.15);\n",
              "      fill: #174EA6;\n",
              "    }\n",
              "\n",
              "    [theme=dark] .colab-df-convert {\n",
              "      background-color: #3B4455;\n",
              "      fill: #D2E3FC;\n",
              "    }\n",
              "\n",
              "    [theme=dark] .colab-df-convert:hover {\n",
              "      background-color: #434B5C;\n",
              "      box-shadow: 0px 1px 3px 1px rgba(0, 0, 0, 0.15);\n",
              "      filter: drop-shadow(0px 1px 2px rgba(0, 0, 0, 0.3));\n",
              "      fill: #FFFFFF;\n",
              "    }\n",
              "  </style>\n",
              "\n",
              "      <script>\n",
              "        const buttonEl =\n",
              "          document.querySelector('#df-479b1519-5d87-4511-81a0-be8cd4ed5861 button.colab-df-convert');\n",
              "        buttonEl.style.display =\n",
              "          google.colab.kernel.accessAllowed ? 'block' : 'none';\n",
              "\n",
              "        async function convertToInteractive(key) {\n",
              "          const element = document.querySelector('#df-479b1519-5d87-4511-81a0-be8cd4ed5861');\n",
              "          const dataTable =\n",
              "            await google.colab.kernel.invokeFunction('convertToInteractive',\n",
              "                                                     [key], {});\n",
              "          if (!dataTable) return;\n",
              "\n",
              "          const docLinkHtml = 'Like what you see? Visit the ' +\n",
              "            '<a target=\"_blank\" href=https://colab.research.google.com/notebooks/data_table.ipynb>data table notebook</a>'\n",
              "            + ' to learn more about interactive tables.';\n",
              "          element.innerHTML = '';\n",
              "          dataTable['output_type'] = 'display_data';\n",
              "          await google.colab.output.renderOutput(dataTable, element);\n",
              "          const docLink = document.createElement('div');\n",
              "          docLink.innerHTML = docLinkHtml;\n",
              "          element.appendChild(docLink);\n",
              "        }\n",
              "      </script>\n",
              "    </div>\n",
              "  </div>\n",
              "  "
            ]
          },
          "metadata": {},
          "execution_count": 44
        }
      ]
    },
    {
      "cell_type": "code",
      "source": [
        "pd.merge(metricsDtree_smote, metricsDtreeOpt, on = 'metric', how='left')"
      ],
      "metadata": {
        "colab": {
          "base_uri": "https://localhost:8080/",
          "height": 238
        },
        "id": "5U3JYapA_fOy",
        "outputId": "10300e42-dfdc-4a4f-fe7f-4f304e16d324"
      },
      "execution_count": 45,
      "outputs": [
        {
          "output_type": "execute_result",
          "data": {
            "text/plain": [
              "      metric  dTree_smote_train  dTree_smote_test  dTree_train  dTree_test\n",
              "0        AUC           0.800894          0.799110     0.808715    0.798743\n",
              "1       Gini           0.601789          0.598221     0.617431    0.597487\n",
              "2   Accuracy           0.783309          0.788389     0.819127    0.818776\n",
              "3  Precision           0.112491          0.115143     0.133041    0.129727\n",
              "4     Recall           0.649573          0.650776     0.647198    0.627494\n",
              "5   F1-score           0.191771          0.195667     0.220711    0.215005"
            ],
            "text/html": [
              "\n",
              "  <div id=\"df-cf5a5723-da0c-4258-9e77-784f346930d1\">\n",
              "    <div class=\"colab-df-container\">\n",
              "      <div>\n",
              "<style scoped>\n",
              "    .dataframe tbody tr th:only-of-type {\n",
              "        vertical-align: middle;\n",
              "    }\n",
              "\n",
              "    .dataframe tbody tr th {\n",
              "        vertical-align: top;\n",
              "    }\n",
              "\n",
              "    .dataframe thead th {\n",
              "        text-align: right;\n",
              "    }\n",
              "</style>\n",
              "<table border=\"1\" class=\"dataframe\">\n",
              "  <thead>\n",
              "    <tr style=\"text-align: right;\">\n",
              "      <th></th>\n",
              "      <th>metric</th>\n",
              "      <th>dTree_smote_train</th>\n",
              "      <th>dTree_smote_test</th>\n",
              "      <th>dTree_train</th>\n",
              "      <th>dTree_test</th>\n",
              "    </tr>\n",
              "  </thead>\n",
              "  <tbody>\n",
              "    <tr>\n",
              "      <th>0</th>\n",
              "      <td>AUC</td>\n",
              "      <td>0.800894</td>\n",
              "      <td>0.799110</td>\n",
              "      <td>0.808715</td>\n",
              "      <td>0.798743</td>\n",
              "    </tr>\n",
              "    <tr>\n",
              "      <th>1</th>\n",
              "      <td>Gini</td>\n",
              "      <td>0.601789</td>\n",
              "      <td>0.598221</td>\n",
              "      <td>0.617431</td>\n",
              "      <td>0.597487</td>\n",
              "    </tr>\n",
              "    <tr>\n",
              "      <th>2</th>\n",
              "      <td>Accuracy</td>\n",
              "      <td>0.783309</td>\n",
              "      <td>0.788389</td>\n",
              "      <td>0.819127</td>\n",
              "      <td>0.818776</td>\n",
              "    </tr>\n",
              "    <tr>\n",
              "      <th>3</th>\n",
              "      <td>Precision</td>\n",
              "      <td>0.112491</td>\n",
              "      <td>0.115143</td>\n",
              "      <td>0.133041</td>\n",
              "      <td>0.129727</td>\n",
              "    </tr>\n",
              "    <tr>\n",
              "      <th>4</th>\n",
              "      <td>Recall</td>\n",
              "      <td>0.649573</td>\n",
              "      <td>0.650776</td>\n",
              "      <td>0.647198</td>\n",
              "      <td>0.627494</td>\n",
              "    </tr>\n",
              "    <tr>\n",
              "      <th>5</th>\n",
              "      <td>F1-score</td>\n",
              "      <td>0.191771</td>\n",
              "      <td>0.195667</td>\n",
              "      <td>0.220711</td>\n",
              "      <td>0.215005</td>\n",
              "    </tr>\n",
              "  </tbody>\n",
              "</table>\n",
              "</div>\n",
              "      <button class=\"colab-df-convert\" onclick=\"convertToInteractive('df-cf5a5723-da0c-4258-9e77-784f346930d1')\"\n",
              "              title=\"Convert this dataframe to an interactive table.\"\n",
              "              style=\"display:none;\">\n",
              "        \n",
              "  <svg xmlns=\"http://www.w3.org/2000/svg\" height=\"24px\"viewBox=\"0 0 24 24\"\n",
              "       width=\"24px\">\n",
              "    <path d=\"M0 0h24v24H0V0z\" fill=\"none\"/>\n",
              "    <path d=\"M18.56 5.44l.94 2.06.94-2.06 2.06-.94-2.06-.94-.94-2.06-.94 2.06-2.06.94zm-11 1L8.5 8.5l.94-2.06 2.06-.94-2.06-.94L8.5 2.5l-.94 2.06-2.06.94zm10 10l.94 2.06.94-2.06 2.06-.94-2.06-.94-.94-2.06-.94 2.06-2.06.94z\"/><path d=\"M17.41 7.96l-1.37-1.37c-.4-.4-.92-.59-1.43-.59-.52 0-1.04.2-1.43.59L10.3 9.45l-7.72 7.72c-.78.78-.78 2.05 0 2.83L4 21.41c.39.39.9.59 1.41.59.51 0 1.02-.2 1.41-.59l7.78-7.78 2.81-2.81c.8-.78.8-2.07 0-2.86zM5.41 20L4 18.59l7.72-7.72 1.47 1.35L5.41 20z\"/>\n",
              "  </svg>\n",
              "      </button>\n",
              "      \n",
              "  <style>\n",
              "    .colab-df-container {\n",
              "      display:flex;\n",
              "      flex-wrap:wrap;\n",
              "      gap: 12px;\n",
              "    }\n",
              "\n",
              "    .colab-df-convert {\n",
              "      background-color: #E8F0FE;\n",
              "      border: none;\n",
              "      border-radius: 50%;\n",
              "      cursor: pointer;\n",
              "      display: none;\n",
              "      fill: #1967D2;\n",
              "      height: 32px;\n",
              "      padding: 0 0 0 0;\n",
              "      width: 32px;\n",
              "    }\n",
              "\n",
              "    .colab-df-convert:hover {\n",
              "      background-color: #E2EBFA;\n",
              "      box-shadow: 0px 1px 2px rgba(60, 64, 67, 0.3), 0px 1px 3px 1px rgba(60, 64, 67, 0.15);\n",
              "      fill: #174EA6;\n",
              "    }\n",
              "\n",
              "    [theme=dark] .colab-df-convert {\n",
              "      background-color: #3B4455;\n",
              "      fill: #D2E3FC;\n",
              "    }\n",
              "\n",
              "    [theme=dark] .colab-df-convert:hover {\n",
              "      background-color: #434B5C;\n",
              "      box-shadow: 0px 1px 3px 1px rgba(0, 0, 0, 0.15);\n",
              "      filter: drop-shadow(0px 1px 2px rgba(0, 0, 0, 0.3));\n",
              "      fill: #FFFFFF;\n",
              "    }\n",
              "  </style>\n",
              "\n",
              "      <script>\n",
              "        const buttonEl =\n",
              "          document.querySelector('#df-cf5a5723-da0c-4258-9e77-784f346930d1 button.colab-df-convert');\n",
              "        buttonEl.style.display =\n",
              "          google.colab.kernel.accessAllowed ? 'block' : 'none';\n",
              "\n",
              "        async function convertToInteractive(key) {\n",
              "          const element = document.querySelector('#df-cf5a5723-da0c-4258-9e77-784f346930d1');\n",
              "          const dataTable =\n",
              "            await google.colab.kernel.invokeFunction('convertToInteractive',\n",
              "                                                     [key], {});\n",
              "          if (!dataTable) return;\n",
              "\n",
              "          const docLinkHtml = 'Like what you see? Visit the ' +\n",
              "            '<a target=\"_blank\" href=https://colab.research.google.com/notebooks/data_table.ipynb>data table notebook</a>'\n",
              "            + ' to learn more about interactive tables.';\n",
              "          element.innerHTML = '';\n",
              "          dataTable['output_type'] = 'display_data';\n",
              "          await google.colab.output.renderOutput(dataTable, element);\n",
              "          const docLink = document.createElement('div');\n",
              "          docLink.innerHTML = docLinkHtml;\n",
              "          element.appendChild(docLink);\n",
              "        }\n",
              "      </script>\n",
              "    </div>\n",
              "  </div>\n",
              "  "
            ]
          },
          "metadata": {},
          "execution_count": 45
        }
      ]
    },
    {
      "cell_type": "markdown",
      "metadata": {
        "id": "GmVIV52EEYRj"
      },
      "source": [
        "<b>Importancias del modelo</b>"
      ]
    },
    {
      "cell_type": "code",
      "metadata": {
        "id": "lAjdljBUSFDp"
      },
      "source": [
        "# Muestreo de data\n",
        "\n",
        "from sklearn.model_selection import train_test_split\n",
        "\n",
        "X_train, X_test, y_train, y_test = train_test_split(X, y, \n",
        "                                                    stratify = y,\n",
        "                                                    test_size = 0.3,\n",
        "                                                    random_state = 123)"
      ],
      "execution_count": 46,
      "outputs": []
    },
    {
      "cell_type": "code",
      "metadata": {
        "id": "M6x8uQXSEYwf",
        "colab": {
          "base_uri": "https://localhost:8080/",
          "height": 551
        },
        "outputId": "9a87f2e4-e01d-414e-cd5f-11ca7f5e795c"
      },
      "source": [
        "\n",
        "importances = pd.DataFrame({'features' : X_train.columns.tolist() ,\n",
        "                            'importance' : dtree.feature_importances_}).sort_values('importance', ascending = False)\n",
        "\n",
        "importances.loc[importances.importance > 0]"
      ],
      "execution_count": 47,
      "outputs": [
        {
          "output_type": "execute_result",
          "data": {
            "text/plain": [
              "                     features  importance\n",
              "200                 ind_var30    0.489990\n",
              "258                     var15    0.279996\n",
              "262               saldo_var30    0.068183\n",
              "127   imp_op_var41_efect_ult3    0.044417\n",
              "71                      var38    0.039043\n",
              "96                saldo_var37    0.021746\n",
              "361             ind_var37_cte    0.018887\n",
              "69             num_var22_ult3    0.015889\n",
              "267            num_var22_ult1    0.006266\n",
              "253                  num_var4    0.005826\n",
              "220                     var36    0.003204\n",
              "228  num_meses_var39_vig_ult3    0.002604\n",
              "109    saldo_medio_var5_hace3    0.002280\n",
              "114       num_meses_var5_ult3    0.001586\n",
              "186     saldo_medio_var5_ult3    0.000058\n",
              "35                num_var41_0    0.000026"
            ],
            "text/html": [
              "\n",
              "  <div id=\"df-ffa4bd02-6d97-4990-a038-6c88b5594570\">\n",
              "    <div class=\"colab-df-container\">\n",
              "      <div>\n",
              "<style scoped>\n",
              "    .dataframe tbody tr th:only-of-type {\n",
              "        vertical-align: middle;\n",
              "    }\n",
              "\n",
              "    .dataframe tbody tr th {\n",
              "        vertical-align: top;\n",
              "    }\n",
              "\n",
              "    .dataframe thead th {\n",
              "        text-align: right;\n",
              "    }\n",
              "</style>\n",
              "<table border=\"1\" class=\"dataframe\">\n",
              "  <thead>\n",
              "    <tr style=\"text-align: right;\">\n",
              "      <th></th>\n",
              "      <th>features</th>\n",
              "      <th>importance</th>\n",
              "    </tr>\n",
              "  </thead>\n",
              "  <tbody>\n",
              "    <tr>\n",
              "      <th>200</th>\n",
              "      <td>ind_var30</td>\n",
              "      <td>0.489990</td>\n",
              "    </tr>\n",
              "    <tr>\n",
              "      <th>258</th>\n",
              "      <td>var15</td>\n",
              "      <td>0.279996</td>\n",
              "    </tr>\n",
              "    <tr>\n",
              "      <th>262</th>\n",
              "      <td>saldo_var30</td>\n",
              "      <td>0.068183</td>\n",
              "    </tr>\n",
              "    <tr>\n",
              "      <th>127</th>\n",
              "      <td>imp_op_var41_efect_ult3</td>\n",
              "      <td>0.044417</td>\n",
              "    </tr>\n",
              "    <tr>\n",
              "      <th>71</th>\n",
              "      <td>var38</td>\n",
              "      <td>0.039043</td>\n",
              "    </tr>\n",
              "    <tr>\n",
              "      <th>96</th>\n",
              "      <td>saldo_var37</td>\n",
              "      <td>0.021746</td>\n",
              "    </tr>\n",
              "    <tr>\n",
              "      <th>361</th>\n",
              "      <td>ind_var37_cte</td>\n",
              "      <td>0.018887</td>\n",
              "    </tr>\n",
              "    <tr>\n",
              "      <th>69</th>\n",
              "      <td>num_var22_ult3</td>\n",
              "      <td>0.015889</td>\n",
              "    </tr>\n",
              "    <tr>\n",
              "      <th>267</th>\n",
              "      <td>num_var22_ult1</td>\n",
              "      <td>0.006266</td>\n",
              "    </tr>\n",
              "    <tr>\n",
              "      <th>253</th>\n",
              "      <td>num_var4</td>\n",
              "      <td>0.005826</td>\n",
              "    </tr>\n",
              "    <tr>\n",
              "      <th>220</th>\n",
              "      <td>var36</td>\n",
              "      <td>0.003204</td>\n",
              "    </tr>\n",
              "    <tr>\n",
              "      <th>228</th>\n",
              "      <td>num_meses_var39_vig_ult3</td>\n",
              "      <td>0.002604</td>\n",
              "    </tr>\n",
              "    <tr>\n",
              "      <th>109</th>\n",
              "      <td>saldo_medio_var5_hace3</td>\n",
              "      <td>0.002280</td>\n",
              "    </tr>\n",
              "    <tr>\n",
              "      <th>114</th>\n",
              "      <td>num_meses_var5_ult3</td>\n",
              "      <td>0.001586</td>\n",
              "    </tr>\n",
              "    <tr>\n",
              "      <th>186</th>\n",
              "      <td>saldo_medio_var5_ult3</td>\n",
              "      <td>0.000058</td>\n",
              "    </tr>\n",
              "    <tr>\n",
              "      <th>35</th>\n",
              "      <td>num_var41_0</td>\n",
              "      <td>0.000026</td>\n",
              "    </tr>\n",
              "  </tbody>\n",
              "</table>\n",
              "</div>\n",
              "      <button class=\"colab-df-convert\" onclick=\"convertToInteractive('df-ffa4bd02-6d97-4990-a038-6c88b5594570')\"\n",
              "              title=\"Convert this dataframe to an interactive table.\"\n",
              "              style=\"display:none;\">\n",
              "        \n",
              "  <svg xmlns=\"http://www.w3.org/2000/svg\" height=\"24px\"viewBox=\"0 0 24 24\"\n",
              "       width=\"24px\">\n",
              "    <path d=\"M0 0h24v24H0V0z\" fill=\"none\"/>\n",
              "    <path d=\"M18.56 5.44l.94 2.06.94-2.06 2.06-.94-2.06-.94-.94-2.06-.94 2.06-2.06.94zm-11 1L8.5 8.5l.94-2.06 2.06-.94-2.06-.94L8.5 2.5l-.94 2.06-2.06.94zm10 10l.94 2.06.94-2.06 2.06-.94-2.06-.94-.94-2.06-.94 2.06-2.06.94z\"/><path d=\"M17.41 7.96l-1.37-1.37c-.4-.4-.92-.59-1.43-.59-.52 0-1.04.2-1.43.59L10.3 9.45l-7.72 7.72c-.78.78-.78 2.05 0 2.83L4 21.41c.39.39.9.59 1.41.59.51 0 1.02-.2 1.41-.59l7.78-7.78 2.81-2.81c.8-.78.8-2.07 0-2.86zM5.41 20L4 18.59l7.72-7.72 1.47 1.35L5.41 20z\"/>\n",
              "  </svg>\n",
              "      </button>\n",
              "      \n",
              "  <style>\n",
              "    .colab-df-container {\n",
              "      display:flex;\n",
              "      flex-wrap:wrap;\n",
              "      gap: 12px;\n",
              "    }\n",
              "\n",
              "    .colab-df-convert {\n",
              "      background-color: #E8F0FE;\n",
              "      border: none;\n",
              "      border-radius: 50%;\n",
              "      cursor: pointer;\n",
              "      display: none;\n",
              "      fill: #1967D2;\n",
              "      height: 32px;\n",
              "      padding: 0 0 0 0;\n",
              "      width: 32px;\n",
              "    }\n",
              "\n",
              "    .colab-df-convert:hover {\n",
              "      background-color: #E2EBFA;\n",
              "      box-shadow: 0px 1px 2px rgba(60, 64, 67, 0.3), 0px 1px 3px 1px rgba(60, 64, 67, 0.15);\n",
              "      fill: #174EA6;\n",
              "    }\n",
              "\n",
              "    [theme=dark] .colab-df-convert {\n",
              "      background-color: #3B4455;\n",
              "      fill: #D2E3FC;\n",
              "    }\n",
              "\n",
              "    [theme=dark] .colab-df-convert:hover {\n",
              "      background-color: #434B5C;\n",
              "      box-shadow: 0px 1px 3px 1px rgba(0, 0, 0, 0.15);\n",
              "      filter: drop-shadow(0px 1px 2px rgba(0, 0, 0, 0.3));\n",
              "      fill: #FFFFFF;\n",
              "    }\n",
              "  </style>\n",
              "\n",
              "      <script>\n",
              "        const buttonEl =\n",
              "          document.querySelector('#df-ffa4bd02-6d97-4990-a038-6c88b5594570 button.colab-df-convert');\n",
              "        buttonEl.style.display =\n",
              "          google.colab.kernel.accessAllowed ? 'block' : 'none';\n",
              "\n",
              "        async function convertToInteractive(key) {\n",
              "          const element = document.querySelector('#df-ffa4bd02-6d97-4990-a038-6c88b5594570');\n",
              "          const dataTable =\n",
              "            await google.colab.kernel.invokeFunction('convertToInteractive',\n",
              "                                                     [key], {});\n",
              "          if (!dataTable) return;\n",
              "\n",
              "          const docLinkHtml = 'Like what you see? Visit the ' +\n",
              "            '<a target=\"_blank\" href=https://colab.research.google.com/notebooks/data_table.ipynb>data table notebook</a>'\n",
              "            + ' to learn more about interactive tables.';\n",
              "          element.innerHTML = '';\n",
              "          dataTable['output_type'] = 'display_data';\n",
              "          await google.colab.output.renderOutput(dataTable, element);\n",
              "          const docLink = document.createElement('div');\n",
              "          docLink.innerHTML = docLinkHtml;\n",
              "          element.appendChild(docLink);\n",
              "        }\n",
              "      </script>\n",
              "    </div>\n",
              "  </div>\n",
              "  "
            ]
          },
          "metadata": {},
          "execution_count": 47
        }
      ]
    },
    {
      "cell_type": "markdown",
      "metadata": {
        "id": "WVj_S8JYEVdt"
      },
      "source": [
        "# Random Forest"
      ]
    },
    {
      "cell_type": "code",
      "metadata": {
        "id": "Gzp9XSwgQGen"
      },
      "source": [
        "# Muestreo de data\n",
        "\n",
        "from sklearn.model_selection import train_test_split\n",
        "\n",
        "X_train, X_test, y_train, y_test = train_test_split(X, y, \n",
        "                                                    stratify = y,\n",
        "                                                    test_size = 0.3,\n",
        "                                                    random_state = 123)\n",
        "\n"
      ],
      "execution_count": 48,
      "outputs": []
    },
    {
      "cell_type": "code",
      "metadata": {
        "id": "1iDJJfkx6Rk1"
      },
      "source": [
        "# Cargando librerías\n",
        "\n",
        "from sklearn.ensemble import RandomForestClassifier\n",
        "from sklearn.ensemble import RandomForestRegressor\n",
        "import time\n"
      ],
      "execution_count": 49,
      "outputs": []
    },
    {
      "cell_type": "code",
      "metadata": {
        "id": "y147KKmj6UOz"
      },
      "source": [
        "# Configurando modelo de random forest\n",
        "\n",
        "rfc = RandomForestClassifier(n_estimators = 100,\n",
        "                             max_depth = 6, \n",
        "                             min_samples_leaf = 0.01,\n",
        "                             class_weight = {0: 1, 1: 24.267},\n",
        "                             oob_score = True,\n",
        "                             verbose = 1, \n",
        "                             n_jobs = 4,\n",
        "                             random_state = 123)\n",
        "\n",
        "#oob_score: Out of bagging score, es el desempeño del modelo en la muestra que se \n",
        "#queda fuera del proceso de extraccion de subespacios de la data\n",
        "#es importante analizarlo por si el modelo deja fuera algunas caracteristicas importantes de la data"
      ],
      "execution_count": 50,
      "outputs": []
    },
    {
      "cell_type": "code",
      "source": [
        "import multiprocessing\n",
        "multiprocessing.cpu_count()"
      ],
      "metadata": {
        "colab": {
          "base_uri": "https://localhost:8080/"
        },
        "id": "OODpcooYY95W",
        "outputId": "aca56a61-0404-43dd-818f-db26c5404a91"
      },
      "execution_count": 51,
      "outputs": [
        {
          "output_type": "execute_result",
          "data": {
            "text/plain": [
              "4"
            ]
          },
          "metadata": {},
          "execution_count": 51
        }
      ]
    },
    {
      "cell_type": "code",
      "metadata": {
        "colab": {
          "base_uri": "https://localhost:8080/"
        },
        "id": "96K6OPOfAQbK",
        "outputId": "eef638d7-977c-44f7-e4b0-d557c8f2d5e9"
      },
      "source": [
        "\n",
        "start_time = time.time()\n",
        "rfc = rfc.fit(X_train, y_train)\n",
        "print(\"----%s seconds ---\" % ((time.time() - start_time)))\n"
      ],
      "execution_count": 52,
      "outputs": [
        {
          "output_type": "stream",
          "name": "stderr",
          "text": [
            "[Parallel(n_jobs=4)]: Using backend ThreadingBackend with 4 concurrent workers.\n",
            "[Parallel(n_jobs=4)]: Done  42 tasks      | elapsed:    0.7s\n",
            "[Parallel(n_jobs=4)]: Done 100 out of 100 | elapsed:    1.6s finished\n"
          ]
        },
        {
          "output_type": "stream",
          "name": "stdout",
          "text": [
            "----4.632899045944214 seconds ---\n"
          ]
        }
      ]
    },
    {
      "cell_type": "code",
      "metadata": {
        "id": "Wmr96VSSMLaD",
        "colab": {
          "base_uri": "https://localhost:8080/",
          "height": 424
        },
        "outputId": "653b8edc-56b2-446a-a8dc-6c8ac5b58ba0"
      },
      "source": [
        "importances = pd.DataFrame({'features' : X_train.columns.tolist() ,\n",
        "                            'importance' : rfc.feature_importances_}).sort_values('importance', ascending = False)\n",
        "\n",
        "importances.loc[importances.importance > 0]"
      ],
      "execution_count": 53,
      "outputs": [
        {
          "output_type": "execute_result",
          "data": {
            "text/plain": [
              "                   features  importance\n",
              "258                   var15    0.122002\n",
              "262             saldo_var30    0.083540\n",
              "207               num_var35    0.059246\n",
              "162               num_var30    0.058626\n",
              "180             saldo_var42    0.058425\n",
              "..                      ...         ...\n",
              "352          ind_var10_ult1    0.000038\n",
              "34      imp_var43_emit_ult1    0.000024\n",
              "68               num_var5_0    0.000023\n",
              "120      num_var37_med_ult2    0.000011\n",
              "307  saldo_medio_var8_hace2    0.000004\n",
              "\n",
              "[126 rows x 2 columns]"
            ],
            "text/html": [
              "\n",
              "  <div id=\"df-792f67b6-d6dc-40c1-9c73-56d5ec42571e\">\n",
              "    <div class=\"colab-df-container\">\n",
              "      <div>\n",
              "<style scoped>\n",
              "    .dataframe tbody tr th:only-of-type {\n",
              "        vertical-align: middle;\n",
              "    }\n",
              "\n",
              "    .dataframe tbody tr th {\n",
              "        vertical-align: top;\n",
              "    }\n",
              "\n",
              "    .dataframe thead th {\n",
              "        text-align: right;\n",
              "    }\n",
              "</style>\n",
              "<table border=\"1\" class=\"dataframe\">\n",
              "  <thead>\n",
              "    <tr style=\"text-align: right;\">\n",
              "      <th></th>\n",
              "      <th>features</th>\n",
              "      <th>importance</th>\n",
              "    </tr>\n",
              "  </thead>\n",
              "  <tbody>\n",
              "    <tr>\n",
              "      <th>258</th>\n",
              "      <td>var15</td>\n",
              "      <td>0.122002</td>\n",
              "    </tr>\n",
              "    <tr>\n",
              "      <th>262</th>\n",
              "      <td>saldo_var30</td>\n",
              "      <td>0.083540</td>\n",
              "    </tr>\n",
              "    <tr>\n",
              "      <th>207</th>\n",
              "      <td>num_var35</td>\n",
              "      <td>0.059246</td>\n",
              "    </tr>\n",
              "    <tr>\n",
              "      <th>162</th>\n",
              "      <td>num_var30</td>\n",
              "      <td>0.058626</td>\n",
              "    </tr>\n",
              "    <tr>\n",
              "      <th>180</th>\n",
              "      <td>saldo_var42</td>\n",
              "      <td>0.058425</td>\n",
              "    </tr>\n",
              "    <tr>\n",
              "      <th>...</th>\n",
              "      <td>...</td>\n",
              "      <td>...</td>\n",
              "    </tr>\n",
              "    <tr>\n",
              "      <th>352</th>\n",
              "      <td>ind_var10_ult1</td>\n",
              "      <td>0.000038</td>\n",
              "    </tr>\n",
              "    <tr>\n",
              "      <th>34</th>\n",
              "      <td>imp_var43_emit_ult1</td>\n",
              "      <td>0.000024</td>\n",
              "    </tr>\n",
              "    <tr>\n",
              "      <th>68</th>\n",
              "      <td>num_var5_0</td>\n",
              "      <td>0.000023</td>\n",
              "    </tr>\n",
              "    <tr>\n",
              "      <th>120</th>\n",
              "      <td>num_var37_med_ult2</td>\n",
              "      <td>0.000011</td>\n",
              "    </tr>\n",
              "    <tr>\n",
              "      <th>307</th>\n",
              "      <td>saldo_medio_var8_hace2</td>\n",
              "      <td>0.000004</td>\n",
              "    </tr>\n",
              "  </tbody>\n",
              "</table>\n",
              "<p>126 rows × 2 columns</p>\n",
              "</div>\n",
              "      <button class=\"colab-df-convert\" onclick=\"convertToInteractive('df-792f67b6-d6dc-40c1-9c73-56d5ec42571e')\"\n",
              "              title=\"Convert this dataframe to an interactive table.\"\n",
              "              style=\"display:none;\">\n",
              "        \n",
              "  <svg xmlns=\"http://www.w3.org/2000/svg\" height=\"24px\"viewBox=\"0 0 24 24\"\n",
              "       width=\"24px\">\n",
              "    <path d=\"M0 0h24v24H0V0z\" fill=\"none\"/>\n",
              "    <path d=\"M18.56 5.44l.94 2.06.94-2.06 2.06-.94-2.06-.94-.94-2.06-.94 2.06-2.06.94zm-11 1L8.5 8.5l.94-2.06 2.06-.94-2.06-.94L8.5 2.5l-.94 2.06-2.06.94zm10 10l.94 2.06.94-2.06 2.06-.94-2.06-.94-.94-2.06-.94 2.06-2.06.94z\"/><path d=\"M17.41 7.96l-1.37-1.37c-.4-.4-.92-.59-1.43-.59-.52 0-1.04.2-1.43.59L10.3 9.45l-7.72 7.72c-.78.78-.78 2.05 0 2.83L4 21.41c.39.39.9.59 1.41.59.51 0 1.02-.2 1.41-.59l7.78-7.78 2.81-2.81c.8-.78.8-2.07 0-2.86zM5.41 20L4 18.59l7.72-7.72 1.47 1.35L5.41 20z\"/>\n",
              "  </svg>\n",
              "      </button>\n",
              "      \n",
              "  <style>\n",
              "    .colab-df-container {\n",
              "      display:flex;\n",
              "      flex-wrap:wrap;\n",
              "      gap: 12px;\n",
              "    }\n",
              "\n",
              "    .colab-df-convert {\n",
              "      background-color: #E8F0FE;\n",
              "      border: none;\n",
              "      border-radius: 50%;\n",
              "      cursor: pointer;\n",
              "      display: none;\n",
              "      fill: #1967D2;\n",
              "      height: 32px;\n",
              "      padding: 0 0 0 0;\n",
              "      width: 32px;\n",
              "    }\n",
              "\n",
              "    .colab-df-convert:hover {\n",
              "      background-color: #E2EBFA;\n",
              "      box-shadow: 0px 1px 2px rgba(60, 64, 67, 0.3), 0px 1px 3px 1px rgba(60, 64, 67, 0.15);\n",
              "      fill: #174EA6;\n",
              "    }\n",
              "\n",
              "    [theme=dark] .colab-df-convert {\n",
              "      background-color: #3B4455;\n",
              "      fill: #D2E3FC;\n",
              "    }\n",
              "\n",
              "    [theme=dark] .colab-df-convert:hover {\n",
              "      background-color: #434B5C;\n",
              "      box-shadow: 0px 1px 3px 1px rgba(0, 0, 0, 0.15);\n",
              "      filter: drop-shadow(0px 1px 2px rgba(0, 0, 0, 0.3));\n",
              "      fill: #FFFFFF;\n",
              "    }\n",
              "  </style>\n",
              "\n",
              "      <script>\n",
              "        const buttonEl =\n",
              "          document.querySelector('#df-792f67b6-d6dc-40c1-9c73-56d5ec42571e button.colab-df-convert');\n",
              "        buttonEl.style.display =\n",
              "          google.colab.kernel.accessAllowed ? 'block' : 'none';\n",
              "\n",
              "        async function convertToInteractive(key) {\n",
              "          const element = document.querySelector('#df-792f67b6-d6dc-40c1-9c73-56d5ec42571e');\n",
              "          const dataTable =\n",
              "            await google.colab.kernel.invokeFunction('convertToInteractive',\n",
              "                                                     [key], {});\n",
              "          if (!dataTable) return;\n",
              "\n",
              "          const docLinkHtml = 'Like what you see? Visit the ' +\n",
              "            '<a target=\"_blank\" href=https://colab.research.google.com/notebooks/data_table.ipynb>data table notebook</a>'\n",
              "            + ' to learn more about interactive tables.';\n",
              "          element.innerHTML = '';\n",
              "          dataTable['output_type'] = 'display_data';\n",
              "          await google.colab.output.renderOutput(dataTable, element);\n",
              "          const docLink = document.createElement('div');\n",
              "          docLink.innerHTML = docLinkHtml;\n",
              "          element.appendChild(docLink);\n",
              "        }\n",
              "      </script>\n",
              "    </div>\n",
              "  </div>\n",
              "  "
            ]
          },
          "metadata": {},
          "execution_count": 53
        }
      ]
    },
    {
      "cell_type": "code",
      "metadata": {
        "id": "vl3qXL3JAmKv",
        "colab": {
          "base_uri": "https://localhost:8080/"
        },
        "outputId": "852a8908-5bb6-4bef-ec86-666faef6d549"
      },
      "source": [
        "# Usando el modelo para predecir\n",
        "\n",
        "X_train['probability'] = rfc.predict_proba(X_train[features])[:,1]\n",
        "X_test['probability']  = rfc.predict_proba(X_test[features])[:,1]\n",
        "\n",
        "X_train['prediction'] = rfc.predict(X_train[features])\n",
        "X_test['prediction']  = rfc.predict(X_test[features])\n",
        "\n"
      ],
      "execution_count": 54,
      "outputs": [
        {
          "output_type": "stream",
          "name": "stderr",
          "text": [
            "[Parallel(n_jobs=4)]: Using backend ThreadingBackend with 4 concurrent workers.\n",
            "[Parallel(n_jobs=4)]: Done  42 tasks      | elapsed:    0.1s\n",
            "[Parallel(n_jobs=4)]: Done 100 out of 100 | elapsed:    0.2s finished\n",
            "[Parallel(n_jobs=4)]: Using backend ThreadingBackend with 4 concurrent workers.\n",
            "[Parallel(n_jobs=4)]: Done  42 tasks      | elapsed:    0.0s\n",
            "[Parallel(n_jobs=4)]: Done 100 out of 100 | elapsed:    0.1s finished\n",
            "[Parallel(n_jobs=4)]: Using backend ThreadingBackend with 4 concurrent workers.\n",
            "[Parallel(n_jobs=4)]: Done  42 tasks      | elapsed:    0.1s\n",
            "[Parallel(n_jobs=4)]: Done 100 out of 100 | elapsed:    0.2s finished\n",
            "[Parallel(n_jobs=4)]: Using backend ThreadingBackend with 4 concurrent workers.\n",
            "[Parallel(n_jobs=4)]: Done  42 tasks      | elapsed:    0.1s\n",
            "[Parallel(n_jobs=4)]: Done 100 out of 100 | elapsed:    0.1s finished\n"
          ]
        }
      ]
    },
    {
      "cell_type": "code",
      "metadata": {
        "id": "4ffk7L4xBGIb",
        "colab": {
          "base_uri": "https://localhost:8080/",
          "height": 238
        },
        "outputId": "3197b154-85bf-473e-9b34-345c9a2072c2"
      },
      "source": [
        "#Resumen de todas las métricas del modelo\n",
        "\n",
        "metricsRfc = pd.DataFrame({'metric':['AUC','Gini','Accuracy','Precision','Recall','F1-score'],\n",
        "                                'rfc_train':[roc_auc_score(y_train, X_train.probability),\n",
        "                                        (roc_auc_score(y_train, X_train.probability)*2-1),\n",
        "                                        accuracy_score(y_train, X_train.prediction),\n",
        "                                        precision_score(y_train, X_train.prediction),\n",
        "                                        recall_score(y_train, X_train.prediction),\n",
        "                                        f1_score(y_train, X_train.prediction)],\n",
        "\n",
        "                                'rfc_test':[roc_auc_score(y_test, X_test.probability),\n",
        "                                        (roc_auc_score(y_test, X_test.probability)*2-1),\n",
        "                                        accuracy_score(y_test, X_test.prediction),\n",
        "                                        precision_score(y_test, X_test.prediction),\n",
        "                                        recall_score(y_test, X_test.prediction),\n",
        "                                        f1_score(y_test, X_test.prediction)]})\n",
        "\n",
        " \n",
        "metricsRes = pd.merge(metricsDtree_smote, metricsRfc, on = 'metric', how='left') \n",
        "metricsRes        "
      ],
      "execution_count": 55,
      "outputs": [
        {
          "output_type": "execute_result",
          "data": {
            "text/plain": [
              "      metric  dTree_smote_train  dTree_smote_test  rfc_train  rfc_test\n",
              "0        AUC           0.800894          0.799110   0.802901  0.800285\n",
              "1       Gini           0.601789          0.598221   0.605801  0.600570\n",
              "2   Accuracy           0.783309          0.788389   0.711862  0.712225\n",
              "3  Precision           0.112491          0.115143   0.090774  0.090909\n",
              "4     Recall           0.649573          0.650776   0.696581  0.697339\n",
              "5   F1-score           0.191771          0.195667   0.160618  0.160849"
            ],
            "text/html": [
              "\n",
              "  <div id=\"df-ee0063fe-5c61-4d03-8a53-680c4b3459df\">\n",
              "    <div class=\"colab-df-container\">\n",
              "      <div>\n",
              "<style scoped>\n",
              "    .dataframe tbody tr th:only-of-type {\n",
              "        vertical-align: middle;\n",
              "    }\n",
              "\n",
              "    .dataframe tbody tr th {\n",
              "        vertical-align: top;\n",
              "    }\n",
              "\n",
              "    .dataframe thead th {\n",
              "        text-align: right;\n",
              "    }\n",
              "</style>\n",
              "<table border=\"1\" class=\"dataframe\">\n",
              "  <thead>\n",
              "    <tr style=\"text-align: right;\">\n",
              "      <th></th>\n",
              "      <th>metric</th>\n",
              "      <th>dTree_smote_train</th>\n",
              "      <th>dTree_smote_test</th>\n",
              "      <th>rfc_train</th>\n",
              "      <th>rfc_test</th>\n",
              "    </tr>\n",
              "  </thead>\n",
              "  <tbody>\n",
              "    <tr>\n",
              "      <th>0</th>\n",
              "      <td>AUC</td>\n",
              "      <td>0.800894</td>\n",
              "      <td>0.799110</td>\n",
              "      <td>0.802901</td>\n",
              "      <td>0.800285</td>\n",
              "    </tr>\n",
              "    <tr>\n",
              "      <th>1</th>\n",
              "      <td>Gini</td>\n",
              "      <td>0.601789</td>\n",
              "      <td>0.598221</td>\n",
              "      <td>0.605801</td>\n",
              "      <td>0.600570</td>\n",
              "    </tr>\n",
              "    <tr>\n",
              "      <th>2</th>\n",
              "      <td>Accuracy</td>\n",
              "      <td>0.783309</td>\n",
              "      <td>0.788389</td>\n",
              "      <td>0.711862</td>\n",
              "      <td>0.712225</td>\n",
              "    </tr>\n",
              "    <tr>\n",
              "      <th>3</th>\n",
              "      <td>Precision</td>\n",
              "      <td>0.112491</td>\n",
              "      <td>0.115143</td>\n",
              "      <td>0.090774</td>\n",
              "      <td>0.090909</td>\n",
              "    </tr>\n",
              "    <tr>\n",
              "      <th>4</th>\n",
              "      <td>Recall</td>\n",
              "      <td>0.649573</td>\n",
              "      <td>0.650776</td>\n",
              "      <td>0.696581</td>\n",
              "      <td>0.697339</td>\n",
              "    </tr>\n",
              "    <tr>\n",
              "      <th>5</th>\n",
              "      <td>F1-score</td>\n",
              "      <td>0.191771</td>\n",
              "      <td>0.195667</td>\n",
              "      <td>0.160618</td>\n",
              "      <td>0.160849</td>\n",
              "    </tr>\n",
              "  </tbody>\n",
              "</table>\n",
              "</div>\n",
              "      <button class=\"colab-df-convert\" onclick=\"convertToInteractive('df-ee0063fe-5c61-4d03-8a53-680c4b3459df')\"\n",
              "              title=\"Convert this dataframe to an interactive table.\"\n",
              "              style=\"display:none;\">\n",
              "        \n",
              "  <svg xmlns=\"http://www.w3.org/2000/svg\" height=\"24px\"viewBox=\"0 0 24 24\"\n",
              "       width=\"24px\">\n",
              "    <path d=\"M0 0h24v24H0V0z\" fill=\"none\"/>\n",
              "    <path d=\"M18.56 5.44l.94 2.06.94-2.06 2.06-.94-2.06-.94-.94-2.06-.94 2.06-2.06.94zm-11 1L8.5 8.5l.94-2.06 2.06-.94-2.06-.94L8.5 2.5l-.94 2.06-2.06.94zm10 10l.94 2.06.94-2.06 2.06-.94-2.06-.94-.94-2.06-.94 2.06-2.06.94z\"/><path d=\"M17.41 7.96l-1.37-1.37c-.4-.4-.92-.59-1.43-.59-.52 0-1.04.2-1.43.59L10.3 9.45l-7.72 7.72c-.78.78-.78 2.05 0 2.83L4 21.41c.39.39.9.59 1.41.59.51 0 1.02-.2 1.41-.59l7.78-7.78 2.81-2.81c.8-.78.8-2.07 0-2.86zM5.41 20L4 18.59l7.72-7.72 1.47 1.35L5.41 20z\"/>\n",
              "  </svg>\n",
              "      </button>\n",
              "      \n",
              "  <style>\n",
              "    .colab-df-container {\n",
              "      display:flex;\n",
              "      flex-wrap:wrap;\n",
              "      gap: 12px;\n",
              "    }\n",
              "\n",
              "    .colab-df-convert {\n",
              "      background-color: #E8F0FE;\n",
              "      border: none;\n",
              "      border-radius: 50%;\n",
              "      cursor: pointer;\n",
              "      display: none;\n",
              "      fill: #1967D2;\n",
              "      height: 32px;\n",
              "      padding: 0 0 0 0;\n",
              "      width: 32px;\n",
              "    }\n",
              "\n",
              "    .colab-df-convert:hover {\n",
              "      background-color: #E2EBFA;\n",
              "      box-shadow: 0px 1px 2px rgba(60, 64, 67, 0.3), 0px 1px 3px 1px rgba(60, 64, 67, 0.15);\n",
              "      fill: #174EA6;\n",
              "    }\n",
              "\n",
              "    [theme=dark] .colab-df-convert {\n",
              "      background-color: #3B4455;\n",
              "      fill: #D2E3FC;\n",
              "    }\n",
              "\n",
              "    [theme=dark] .colab-df-convert:hover {\n",
              "      background-color: #434B5C;\n",
              "      box-shadow: 0px 1px 3px 1px rgba(0, 0, 0, 0.15);\n",
              "      filter: drop-shadow(0px 1px 2px rgba(0, 0, 0, 0.3));\n",
              "      fill: #FFFFFF;\n",
              "    }\n",
              "  </style>\n",
              "\n",
              "      <script>\n",
              "        const buttonEl =\n",
              "          document.querySelector('#df-ee0063fe-5c61-4d03-8a53-680c4b3459df button.colab-df-convert');\n",
              "        buttonEl.style.display =\n",
              "          google.colab.kernel.accessAllowed ? 'block' : 'none';\n",
              "\n",
              "        async function convertToInteractive(key) {\n",
              "          const element = document.querySelector('#df-ee0063fe-5c61-4d03-8a53-680c4b3459df');\n",
              "          const dataTable =\n",
              "            await google.colab.kernel.invokeFunction('convertToInteractive',\n",
              "                                                     [key], {});\n",
              "          if (!dataTable) return;\n",
              "\n",
              "          const docLinkHtml = 'Like what you see? Visit the ' +\n",
              "            '<a target=\"_blank\" href=https://colab.research.google.com/notebooks/data_table.ipynb>data table notebook</a>'\n",
              "            + ' to learn more about interactive tables.';\n",
              "          element.innerHTML = '';\n",
              "          dataTable['output_type'] = 'display_data';\n",
              "          await google.colab.output.renderOutput(dataTable, element);\n",
              "          const docLink = document.createElement('div');\n",
              "          docLink.innerHTML = docLinkHtml;\n",
              "          element.appendChild(docLink);\n",
              "        }\n",
              "      </script>\n",
              "    </div>\n",
              "  </div>\n",
              "  "
            ]
          },
          "metadata": {},
          "execution_count": 55
        }
      ]
    },
    {
      "cell_type": "markdown",
      "metadata": {
        "id": "O2fNkkfZ6K2I"
      },
      "source": []
    },
    {
      "cell_type": "markdown",
      "metadata": {
        "id": "V1LDuvW4qm9_"
      },
      "source": [
        "# AdaBoost"
      ]
    },
    {
      "cell_type": "code",
      "metadata": {
        "id": "yJ98Ze3jR7Hz"
      },
      "source": [
        "# Muestreo de data\n",
        "\n",
        "from sklearn.model_selection import train_test_split\n",
        "\n",
        "X_train, X_test, y_train, y_test = train_test_split(X, y, \n",
        "                                                    stratify = y,\n",
        "                                                    test_size = 0.3,\n",
        "                                                    random_state = 123)\n"
      ],
      "execution_count": 56,
      "outputs": []
    },
    {
      "cell_type": "code",
      "metadata": {
        "id": "wVu1x48_RYgW"
      },
      "source": [
        "# Cargando librerías\n",
        "\n",
        "from sklearn.ensemble import AdaBoostClassifier\n",
        "from sklearn.tree import DecisionTreeClassifier\n",
        "import time\n"
      ],
      "execution_count": 57,
      "outputs": []
    },
    {
      "cell_type": "code",
      "metadata": {
        "id": "teVH6RQmRfnm"
      },
      "source": [
        "# Configuramos el modelo de adaboost\n",
        "\n",
        "ada_clf = AdaBoostClassifier(\n",
        "          DecisionTreeClassifier(max_depth = 1),\n",
        "          n_estimators = 200,\n",
        "          algorithm = 'SAMME.R',\n",
        "          learning_rate = 0.5,\n",
        "          random_state = 123)\n"
      ],
      "execution_count": 58,
      "outputs": []
    },
    {
      "cell_type": "code",
      "metadata": {
        "colab": {
          "base_uri": "https://localhost:8080/"
        },
        "id": "nsuLZk2AR3qT",
        "outputId": "e604a7a0-46e5-4a43-ce97-7bb618a55690"
      },
      "source": [
        "start_time = time.time()\n",
        "ada_clf.fit(X_train, y_train)\n",
        "print(\"----%s seconds ---\" % ((time.time() - start_time)))\n"
      ],
      "execution_count": 59,
      "outputs": [
        {
          "output_type": "stream",
          "name": "stdout",
          "text": [
            "----44.90681838989258 seconds ---\n"
          ]
        }
      ]
    },
    {
      "cell_type": "code",
      "metadata": {
        "id": "W6Djb2INTCqA",
        "colab": {
          "base_uri": "https://localhost:8080/",
          "height": 424
        },
        "outputId": "f7cafa75-cc8a-458a-97c6-375cdc2d54ac"
      },
      "source": [
        "importances = pd.DataFrame({'features' : X_train.columns.tolist() ,\n",
        "                            'importance' : ada_clf.feature_importances_}).sort_values('importance', ascending = False)\n",
        "\n",
        "importances.loc[importances.importance > 0]"
      ],
      "execution_count": 60,
      "outputs": [
        {
          "output_type": "execute_result",
          "data": {
            "text/plain": [
              "                         features  importance\n",
              "71                          var38       0.075\n",
              "258                         var15       0.065\n",
              "262                   saldo_var30       0.050\n",
              "109        saldo_medio_var5_hace3       0.050\n",
              "166       imp_op_var39_comer_ult1       0.040\n",
              "..                            ...         ...\n",
              "123  saldo_medio_var13_corto_ult1       0.005\n",
              "176       imp_op_var41_efect_ult1       0.005\n",
              "303       imp_op_var39_efect_ult3       0.005\n",
              "247       imp_op_var39_comer_ult3       0.005\n",
              "68                     num_var5_0       0.005\n",
              "\n",
              "[65 rows x 2 columns]"
            ],
            "text/html": [
              "\n",
              "  <div id=\"df-b2a99153-83b9-45d0-890a-1e725f682ee4\">\n",
              "    <div class=\"colab-df-container\">\n",
              "      <div>\n",
              "<style scoped>\n",
              "    .dataframe tbody tr th:only-of-type {\n",
              "        vertical-align: middle;\n",
              "    }\n",
              "\n",
              "    .dataframe tbody tr th {\n",
              "        vertical-align: top;\n",
              "    }\n",
              "\n",
              "    .dataframe thead th {\n",
              "        text-align: right;\n",
              "    }\n",
              "</style>\n",
              "<table border=\"1\" class=\"dataframe\">\n",
              "  <thead>\n",
              "    <tr style=\"text-align: right;\">\n",
              "      <th></th>\n",
              "      <th>features</th>\n",
              "      <th>importance</th>\n",
              "    </tr>\n",
              "  </thead>\n",
              "  <tbody>\n",
              "    <tr>\n",
              "      <th>71</th>\n",
              "      <td>var38</td>\n",
              "      <td>0.075</td>\n",
              "    </tr>\n",
              "    <tr>\n",
              "      <th>258</th>\n",
              "      <td>var15</td>\n",
              "      <td>0.065</td>\n",
              "    </tr>\n",
              "    <tr>\n",
              "      <th>262</th>\n",
              "      <td>saldo_var30</td>\n",
              "      <td>0.050</td>\n",
              "    </tr>\n",
              "    <tr>\n",
              "      <th>109</th>\n",
              "      <td>saldo_medio_var5_hace3</td>\n",
              "      <td>0.050</td>\n",
              "    </tr>\n",
              "    <tr>\n",
              "      <th>166</th>\n",
              "      <td>imp_op_var39_comer_ult1</td>\n",
              "      <td>0.040</td>\n",
              "    </tr>\n",
              "    <tr>\n",
              "      <th>...</th>\n",
              "      <td>...</td>\n",
              "      <td>...</td>\n",
              "    </tr>\n",
              "    <tr>\n",
              "      <th>123</th>\n",
              "      <td>saldo_medio_var13_corto_ult1</td>\n",
              "      <td>0.005</td>\n",
              "    </tr>\n",
              "    <tr>\n",
              "      <th>176</th>\n",
              "      <td>imp_op_var41_efect_ult1</td>\n",
              "      <td>0.005</td>\n",
              "    </tr>\n",
              "    <tr>\n",
              "      <th>303</th>\n",
              "      <td>imp_op_var39_efect_ult3</td>\n",
              "      <td>0.005</td>\n",
              "    </tr>\n",
              "    <tr>\n",
              "      <th>247</th>\n",
              "      <td>imp_op_var39_comer_ult3</td>\n",
              "      <td>0.005</td>\n",
              "    </tr>\n",
              "    <tr>\n",
              "      <th>68</th>\n",
              "      <td>num_var5_0</td>\n",
              "      <td>0.005</td>\n",
              "    </tr>\n",
              "  </tbody>\n",
              "</table>\n",
              "<p>65 rows × 2 columns</p>\n",
              "</div>\n",
              "      <button class=\"colab-df-convert\" onclick=\"convertToInteractive('df-b2a99153-83b9-45d0-890a-1e725f682ee4')\"\n",
              "              title=\"Convert this dataframe to an interactive table.\"\n",
              "              style=\"display:none;\">\n",
              "        \n",
              "  <svg xmlns=\"http://www.w3.org/2000/svg\" height=\"24px\"viewBox=\"0 0 24 24\"\n",
              "       width=\"24px\">\n",
              "    <path d=\"M0 0h24v24H0V0z\" fill=\"none\"/>\n",
              "    <path d=\"M18.56 5.44l.94 2.06.94-2.06 2.06-.94-2.06-.94-.94-2.06-.94 2.06-2.06.94zm-11 1L8.5 8.5l.94-2.06 2.06-.94-2.06-.94L8.5 2.5l-.94 2.06-2.06.94zm10 10l.94 2.06.94-2.06 2.06-.94-2.06-.94-.94-2.06-.94 2.06-2.06.94z\"/><path d=\"M17.41 7.96l-1.37-1.37c-.4-.4-.92-.59-1.43-.59-.52 0-1.04.2-1.43.59L10.3 9.45l-7.72 7.72c-.78.78-.78 2.05 0 2.83L4 21.41c.39.39.9.59 1.41.59.51 0 1.02-.2 1.41-.59l7.78-7.78 2.81-2.81c.8-.78.8-2.07 0-2.86zM5.41 20L4 18.59l7.72-7.72 1.47 1.35L5.41 20z\"/>\n",
              "  </svg>\n",
              "      </button>\n",
              "      \n",
              "  <style>\n",
              "    .colab-df-container {\n",
              "      display:flex;\n",
              "      flex-wrap:wrap;\n",
              "      gap: 12px;\n",
              "    }\n",
              "\n",
              "    .colab-df-convert {\n",
              "      background-color: #E8F0FE;\n",
              "      border: none;\n",
              "      border-radius: 50%;\n",
              "      cursor: pointer;\n",
              "      display: none;\n",
              "      fill: #1967D2;\n",
              "      height: 32px;\n",
              "      padding: 0 0 0 0;\n",
              "      width: 32px;\n",
              "    }\n",
              "\n",
              "    .colab-df-convert:hover {\n",
              "      background-color: #E2EBFA;\n",
              "      box-shadow: 0px 1px 2px rgba(60, 64, 67, 0.3), 0px 1px 3px 1px rgba(60, 64, 67, 0.15);\n",
              "      fill: #174EA6;\n",
              "    }\n",
              "\n",
              "    [theme=dark] .colab-df-convert {\n",
              "      background-color: #3B4455;\n",
              "      fill: #D2E3FC;\n",
              "    }\n",
              "\n",
              "    [theme=dark] .colab-df-convert:hover {\n",
              "      background-color: #434B5C;\n",
              "      box-shadow: 0px 1px 3px 1px rgba(0, 0, 0, 0.15);\n",
              "      filter: drop-shadow(0px 1px 2px rgba(0, 0, 0, 0.3));\n",
              "      fill: #FFFFFF;\n",
              "    }\n",
              "  </style>\n",
              "\n",
              "      <script>\n",
              "        const buttonEl =\n",
              "          document.querySelector('#df-b2a99153-83b9-45d0-890a-1e725f682ee4 button.colab-df-convert');\n",
              "        buttonEl.style.display =\n",
              "          google.colab.kernel.accessAllowed ? 'block' : 'none';\n",
              "\n",
              "        async function convertToInteractive(key) {\n",
              "          const element = document.querySelector('#df-b2a99153-83b9-45d0-890a-1e725f682ee4');\n",
              "          const dataTable =\n",
              "            await google.colab.kernel.invokeFunction('convertToInteractive',\n",
              "                                                     [key], {});\n",
              "          if (!dataTable) return;\n",
              "\n",
              "          const docLinkHtml = 'Like what you see? Visit the ' +\n",
              "            '<a target=\"_blank\" href=https://colab.research.google.com/notebooks/data_table.ipynb>data table notebook</a>'\n",
              "            + ' to learn more about interactive tables.';\n",
              "          element.innerHTML = '';\n",
              "          dataTable['output_type'] = 'display_data';\n",
              "          await google.colab.output.renderOutput(dataTable, element);\n",
              "          const docLink = document.createElement('div');\n",
              "          docLink.innerHTML = docLinkHtml;\n",
              "          element.appendChild(docLink);\n",
              "        }\n",
              "      </script>\n",
              "    </div>\n",
              "  </div>\n",
              "  "
            ]
          },
          "metadata": {},
          "execution_count": 60
        }
      ]
    },
    {
      "cell_type": "code",
      "metadata": {
        "id": "KH8IEp0BTHr0"
      },
      "source": [
        "# Usando el modelo para predecir\n",
        "\n",
        "X_train['probability'] = ada_clf.predict_proba(X_train[features])[:,1]\n",
        "X_test['probability']  = ada_clf.predict_proba(X_test[features])[:,1]\n",
        "\n",
        "X_train['prediction'] = ada_clf.predict(X_train[features])\n",
        "X_test['prediction']  = ada_clf.predict(X_test[features])\n",
        "\n"
      ],
      "execution_count": 61,
      "outputs": []
    },
    {
      "cell_type": "code",
      "metadata": {
        "colab": {
          "base_uri": "https://localhost:8080/",
          "height": 238
        },
        "id": "4sciIpB0TP1T",
        "outputId": "560c3353-8734-4990-c333-c27dbbe964dc"
      },
      "source": [
        "#Resumen de todas las métricas del modelo\n",
        "\n",
        "metricsAdab = pd.DataFrame({'metric':['AUC','Gini','Accuracy','Precision','Recall','F1-score'],\n",
        "                                'adab_train':[roc_auc_score(y_train, X_train.probability),\n",
        "                                        (roc_auc_score(y_train, X_train.probability)*2-1),\n",
        "                                        accuracy_score(y_train, X_train.prediction),\n",
        "                                        precision_score(y_train, X_train.prediction),\n",
        "                                        recall_score(y_train, X_train.prediction),\n",
        "                                        f1_score(y_train, X_train.prediction)],\n",
        "\n",
        "                                'adab_test':[roc_auc_score(y_test, X_test.probability),\n",
        "                                        (roc_auc_score(y_test, X_test.probability)*2-1),\n",
        "                                        accuracy_score(y_test, X_test.prediction),\n",
        "                                        precision_score(y_test, X_test.prediction),\n",
        "                                        recall_score(y_test, X_test.prediction),\n",
        "                                        f1_score(y_test, X_test.prediction)]})\n",
        "\n",
        " \n",
        "metricsRes = pd.merge(metricsRes, metricsAdab, on = 'metric', how='left') \n",
        "metricsRes        "
      ],
      "execution_count": 62,
      "outputs": [
        {
          "output_type": "execute_result",
          "data": {
            "text/plain": [
              "      metric  dTree_smote_train  dTree_smote_test  rfc_train  rfc_test  \\\n",
              "0        AUC           0.800894          0.799110   0.802901  0.800285   \n",
              "1       Gini           0.601789          0.598221   0.605801  0.600570   \n",
              "2   Accuracy           0.783309          0.788389   0.711862  0.712225   \n",
              "3  Precision           0.112491          0.115143   0.090774  0.090909   \n",
              "4     Recall           0.649573          0.650776   0.696581  0.697339   \n",
              "5   F1-score           0.191771          0.195667   0.160618  0.160849   \n",
              "\n",
              "   adab_train  adab_test  \n",
              "0    0.858622   0.821658  \n",
              "1    0.717244   0.643317  \n",
              "2    0.960631   0.960405  \n",
              "3    0.720000   0.444444  \n",
              "4    0.008547   0.004435  \n",
              "5    0.016893   0.008782  "
            ],
            "text/html": [
              "\n",
              "  <div id=\"df-a1639396-316e-41d7-9b19-88693d3157fb\">\n",
              "    <div class=\"colab-df-container\">\n",
              "      <div>\n",
              "<style scoped>\n",
              "    .dataframe tbody tr th:only-of-type {\n",
              "        vertical-align: middle;\n",
              "    }\n",
              "\n",
              "    .dataframe tbody tr th {\n",
              "        vertical-align: top;\n",
              "    }\n",
              "\n",
              "    .dataframe thead th {\n",
              "        text-align: right;\n",
              "    }\n",
              "</style>\n",
              "<table border=\"1\" class=\"dataframe\">\n",
              "  <thead>\n",
              "    <tr style=\"text-align: right;\">\n",
              "      <th></th>\n",
              "      <th>metric</th>\n",
              "      <th>dTree_smote_train</th>\n",
              "      <th>dTree_smote_test</th>\n",
              "      <th>rfc_train</th>\n",
              "      <th>rfc_test</th>\n",
              "      <th>adab_train</th>\n",
              "      <th>adab_test</th>\n",
              "    </tr>\n",
              "  </thead>\n",
              "  <tbody>\n",
              "    <tr>\n",
              "      <th>0</th>\n",
              "      <td>AUC</td>\n",
              "      <td>0.800894</td>\n",
              "      <td>0.799110</td>\n",
              "      <td>0.802901</td>\n",
              "      <td>0.800285</td>\n",
              "      <td>0.858622</td>\n",
              "      <td>0.821658</td>\n",
              "    </tr>\n",
              "    <tr>\n",
              "      <th>1</th>\n",
              "      <td>Gini</td>\n",
              "      <td>0.601789</td>\n",
              "      <td>0.598221</td>\n",
              "      <td>0.605801</td>\n",
              "      <td>0.600570</td>\n",
              "      <td>0.717244</td>\n",
              "      <td>0.643317</td>\n",
              "    </tr>\n",
              "    <tr>\n",
              "      <th>2</th>\n",
              "      <td>Accuracy</td>\n",
              "      <td>0.783309</td>\n",
              "      <td>0.788389</td>\n",
              "      <td>0.711862</td>\n",
              "      <td>0.712225</td>\n",
              "      <td>0.960631</td>\n",
              "      <td>0.960405</td>\n",
              "    </tr>\n",
              "    <tr>\n",
              "      <th>3</th>\n",
              "      <td>Precision</td>\n",
              "      <td>0.112491</td>\n",
              "      <td>0.115143</td>\n",
              "      <td>0.090774</td>\n",
              "      <td>0.090909</td>\n",
              "      <td>0.720000</td>\n",
              "      <td>0.444444</td>\n",
              "    </tr>\n",
              "    <tr>\n",
              "      <th>4</th>\n",
              "      <td>Recall</td>\n",
              "      <td>0.649573</td>\n",
              "      <td>0.650776</td>\n",
              "      <td>0.696581</td>\n",
              "      <td>0.697339</td>\n",
              "      <td>0.008547</td>\n",
              "      <td>0.004435</td>\n",
              "    </tr>\n",
              "    <tr>\n",
              "      <th>5</th>\n",
              "      <td>F1-score</td>\n",
              "      <td>0.191771</td>\n",
              "      <td>0.195667</td>\n",
              "      <td>0.160618</td>\n",
              "      <td>0.160849</td>\n",
              "      <td>0.016893</td>\n",
              "      <td>0.008782</td>\n",
              "    </tr>\n",
              "  </tbody>\n",
              "</table>\n",
              "</div>\n",
              "      <button class=\"colab-df-convert\" onclick=\"convertToInteractive('df-a1639396-316e-41d7-9b19-88693d3157fb')\"\n",
              "              title=\"Convert this dataframe to an interactive table.\"\n",
              "              style=\"display:none;\">\n",
              "        \n",
              "  <svg xmlns=\"http://www.w3.org/2000/svg\" height=\"24px\"viewBox=\"0 0 24 24\"\n",
              "       width=\"24px\">\n",
              "    <path d=\"M0 0h24v24H0V0z\" fill=\"none\"/>\n",
              "    <path d=\"M18.56 5.44l.94 2.06.94-2.06 2.06-.94-2.06-.94-.94-2.06-.94 2.06-2.06.94zm-11 1L8.5 8.5l.94-2.06 2.06-.94-2.06-.94L8.5 2.5l-.94 2.06-2.06.94zm10 10l.94 2.06.94-2.06 2.06-.94-2.06-.94-.94-2.06-.94 2.06-2.06.94z\"/><path d=\"M17.41 7.96l-1.37-1.37c-.4-.4-.92-.59-1.43-.59-.52 0-1.04.2-1.43.59L10.3 9.45l-7.72 7.72c-.78.78-.78 2.05 0 2.83L4 21.41c.39.39.9.59 1.41.59.51 0 1.02-.2 1.41-.59l7.78-7.78 2.81-2.81c.8-.78.8-2.07 0-2.86zM5.41 20L4 18.59l7.72-7.72 1.47 1.35L5.41 20z\"/>\n",
              "  </svg>\n",
              "      </button>\n",
              "      \n",
              "  <style>\n",
              "    .colab-df-container {\n",
              "      display:flex;\n",
              "      flex-wrap:wrap;\n",
              "      gap: 12px;\n",
              "    }\n",
              "\n",
              "    .colab-df-convert {\n",
              "      background-color: #E8F0FE;\n",
              "      border: none;\n",
              "      border-radius: 50%;\n",
              "      cursor: pointer;\n",
              "      display: none;\n",
              "      fill: #1967D2;\n",
              "      height: 32px;\n",
              "      padding: 0 0 0 0;\n",
              "      width: 32px;\n",
              "    }\n",
              "\n",
              "    .colab-df-convert:hover {\n",
              "      background-color: #E2EBFA;\n",
              "      box-shadow: 0px 1px 2px rgba(60, 64, 67, 0.3), 0px 1px 3px 1px rgba(60, 64, 67, 0.15);\n",
              "      fill: #174EA6;\n",
              "    }\n",
              "\n",
              "    [theme=dark] .colab-df-convert {\n",
              "      background-color: #3B4455;\n",
              "      fill: #D2E3FC;\n",
              "    }\n",
              "\n",
              "    [theme=dark] .colab-df-convert:hover {\n",
              "      background-color: #434B5C;\n",
              "      box-shadow: 0px 1px 3px 1px rgba(0, 0, 0, 0.15);\n",
              "      filter: drop-shadow(0px 1px 2px rgba(0, 0, 0, 0.3));\n",
              "      fill: #FFFFFF;\n",
              "    }\n",
              "  </style>\n",
              "\n",
              "      <script>\n",
              "        const buttonEl =\n",
              "          document.querySelector('#df-a1639396-316e-41d7-9b19-88693d3157fb button.colab-df-convert');\n",
              "        buttonEl.style.display =\n",
              "          google.colab.kernel.accessAllowed ? 'block' : 'none';\n",
              "\n",
              "        async function convertToInteractive(key) {\n",
              "          const element = document.querySelector('#df-a1639396-316e-41d7-9b19-88693d3157fb');\n",
              "          const dataTable =\n",
              "            await google.colab.kernel.invokeFunction('convertToInteractive',\n",
              "                                                     [key], {});\n",
              "          if (!dataTable) return;\n",
              "\n",
              "          const docLinkHtml = 'Like what you see? Visit the ' +\n",
              "            '<a target=\"_blank\" href=https://colab.research.google.com/notebooks/data_table.ipynb>data table notebook</a>'\n",
              "            + ' to learn more about interactive tables.';\n",
              "          element.innerHTML = '';\n",
              "          dataTable['output_type'] = 'display_data';\n",
              "          await google.colab.output.renderOutput(dataTable, element);\n",
              "          const docLink = document.createElement('div');\n",
              "          docLink.innerHTML = docLinkHtml;\n",
              "          element.appendChild(docLink);\n",
              "        }\n",
              "      </script>\n",
              "    </div>\n",
              "  </div>\n",
              "  "
            ]
          },
          "metadata": {},
          "execution_count": 62
        }
      ]
    },
    {
      "cell_type": "code",
      "source": [
        "from scipy.stats import ks_2samp\n",
        "from sklearn.metrics import roc_auc_score\n",
        "def evaluate_ks_and_roc_auc(y_real, y_proba):\n",
        "    # Unite both visions to be able to filter\n",
        "    df = pd.DataFrame()\n",
        "    df['real'] = y_real\n",
        "    df['proba'] = y_proba\n",
        "    \n",
        "    # Recover each class\n",
        "    class0 = df[df['real'] == 0]\n",
        "    class1 = df[df['real'] == 1]\n",
        "    \n",
        "    ks = ks_2samp(class0['proba'], class1['proba'])\n",
        "    roc_auc = roc_auc_score(df['real'] , df['proba'])\n",
        "    \n",
        "    print(f\"KS: {ks.statistic:.4f} (p-value: {ks.pvalue:.3e})\")\n",
        "    print(f\"ROC AUC: {roc_auc:.4f}\")\n",
        "    return ks.statistic, roc_auc"
      ],
      "metadata": {
        "id": "r_69cQnznMYy"
      },
      "execution_count": 63,
      "outputs": []
    },
    {
      "cell_type": "code",
      "source": [
        "evaluate_ks_and_roc_auc(y_train, X_train.probability)"
      ],
      "metadata": {
        "id": "FA2xy8hanazY",
        "outputId": "8cf04c84-d7c1-44e1-dc7b-b3f134f08010",
        "colab": {
          "base_uri": "https://localhost:8080/"
        }
      },
      "execution_count": 64,
      "outputs": [
        {
          "output_type": "stream",
          "name": "stdout",
          "text": [
            "KS: 0.5658 (p-value: 0.000e+00)\n",
            "ROC AUC: 0.8586\n"
          ]
        },
        {
          "output_type": "execute_result",
          "data": {
            "text/plain": [
              "(0.5658434727465017, 0.858621819864026)"
            ]
          },
          "metadata": {},
          "execution_count": 64
        }
      ]
    },
    {
      "cell_type": "code",
      "source": [
        "evaluate_ks_and_roc_auc(y_test, X_test.probability)"
      ],
      "metadata": {
        "id": "Hot9sWRrnP1r",
        "outputId": "615dc467-d2b6-4d91-c5ae-35e75fef303e",
        "colab": {
          "base_uri": "https://localhost:8080/"
        }
      },
      "execution_count": 65,
      "outputs": [
        {
          "output_type": "stream",
          "name": "stdout",
          "text": [
            "KS: 0.5142 (p-value: 3.555e-213)\n",
            "ROC AUC: 0.8217\n"
          ]
        },
        {
          "output_type": "execute_result",
          "data": {
            "text/plain": [
              "(0.5142485289568348, 0.8216583622710024)"
            ]
          },
          "metadata": {},
          "execution_count": 65
        }
      ]
    },
    {
      "cell_type": "markdown",
      "metadata": {
        "id": "k22vTC0X1nLV"
      },
      "source": [
        "# XGBoost"
      ]
    },
    {
      "cell_type": "code",
      "metadata": {
        "id": "5hmm0d4tTyir"
      },
      "source": [
        "# Muestreo de data\n",
        "\n",
        "from sklearn.model_selection import train_test_split\n",
        "\n",
        "X_train, X_test, y_train, y_test = train_test_split(X, y, \n",
        "                                                    stratify = y,\n",
        "                                                    train_size = 0.6,\n",
        "                                                    random_state = 123)\n",
        "\n",
        "X_watch, X_test, y_watch, y_test = train_test_split(X_test, y_test, \n",
        "                                                    stratify = y_test,\n",
        "                                                    train_size = 0.5,\n",
        "                                                    random_state = 123)\n"
      ],
      "execution_count": 66,
      "outputs": []
    },
    {
      "cell_type": "code",
      "metadata": {
        "id": "iFg_jH_oTshe"
      },
      "source": [
        "# Cargando librerías\n",
        "\n",
        "import numpy as np\n",
        "import xgboost as xgb\n"
      ],
      "execution_count": 67,
      "outputs": []
    },
    {
      "cell_type": "code",
      "metadata": {
        "id": "wBuS6S3CT2Ji"
      },
      "source": [
        "\n",
        "dtrain = xgb.DMatrix(X_train, label = y_train)\n",
        "dwatch = xgb.DMatrix(X_watch, label = y_watch)\n",
        "dtest  = xgb.DMatrix(X_test, label = y_test)\n"
      ],
      "execution_count": 68,
      "outputs": []
    },
    {
      "cell_type": "code",
      "metadata": {
        "id": "mp_hF3TNUBlQ"
      },
      "source": [
        "# Definiendo parámetros\n",
        "\n",
        "param = {'objetive' : 'binary_logistic',\n",
        "         'max_depth' : 8,\n",
        "         'learning_rate': 0.05,\n",
        "         'min_data_leaf' : 0.05,\n",
        "         'grow_policy' : 'lossguide',\n",
        "         'seed' : 123}\n",
        "\n",
        "param['eval_metric'] = 'auc'\n",
        "num_round = 300         \n",
        "evallist = [(dtrain,'train'), (dwatch,'watchlist')]\n",
        "\n"
      ],
      "execution_count": 69,
      "outputs": []
    },
    {
      "cell_type": "code",
      "metadata": {
        "id": "nsoCfJBDT8_k",
        "colab": {
          "base_uri": "https://localhost:8080/"
        },
        "outputId": "bf9af2be-3ae7-4537-8826-e7f3bde2255d"
      },
      "source": [
        "import time\n",
        "\n",
        "start_time = time.time()\n",
        "xgBoost = xgb.train(param, dtrain, num_round, evallist, \n",
        "                    early_stopping_rounds = 5)\n",
        "print(\"----%s seconds ---\" % ((time.time() - start_time)))\n"
      ],
      "execution_count": 70,
      "outputs": [
        {
          "output_type": "stream",
          "name": "stderr",
          "text": [
            "/usr/local/lib/python3.10/dist-packages/xgboost/core.py:617: FutureWarning: Pass `evals` as keyword args.\n",
            "  warnings.warn(msg, FutureWarning)\n"
          ]
        },
        {
          "output_type": "stream",
          "name": "stdout",
          "text": [
            "[20:43:57] WARNING: ../src/learner.cc:767: \n",
            "Parameters: { \"min_data_leaf\", \"objetive\" } are not used.\n",
            "\n",
            "[0]\ttrain-auc:0.84292\twatchlist-auc:0.80076\n",
            "[1]\ttrain-auc:0.84437\twatchlist-auc:0.80093\n",
            "[2]\ttrain-auc:0.84804\twatchlist-auc:0.80307\n",
            "[3]\ttrain-auc:0.84907\twatchlist-auc:0.80407\n",
            "[4]\ttrain-auc:0.85054\twatchlist-auc:0.80352\n",
            "[5]\ttrain-auc:0.85463\twatchlist-auc:0.80374\n",
            "[6]\ttrain-auc:0.85564\twatchlist-auc:0.80312\n",
            "[7]\ttrain-auc:0.85800\twatchlist-auc:0.80401\n",
            "[8]\ttrain-auc:0.86128\twatchlist-auc:0.80553\n",
            "[9]\ttrain-auc:0.86222\twatchlist-auc:0.80576\n",
            "[10]\ttrain-auc:0.86409\twatchlist-auc:0.80634\n",
            "[11]\ttrain-auc:0.86528\twatchlist-auc:0.80605\n",
            "[12]\ttrain-auc:0.86661\twatchlist-auc:0.80642\n",
            "[13]\ttrain-auc:0.86769\twatchlist-auc:0.80696\n",
            "[14]\ttrain-auc:0.86938\twatchlist-auc:0.80746\n",
            "[15]\ttrain-auc:0.86993\twatchlist-auc:0.80792\n",
            "[16]\ttrain-auc:0.87177\twatchlist-auc:0.80723\n",
            "[17]\ttrain-auc:0.87291\twatchlist-auc:0.81040\n",
            "[18]\ttrain-auc:0.87407\twatchlist-auc:0.81077\n",
            "[19]\ttrain-auc:0.87509\twatchlist-auc:0.81120\n",
            "[20]\ttrain-auc:0.87738\twatchlist-auc:0.81245\n",
            "[21]\ttrain-auc:0.87882\twatchlist-auc:0.81315\n",
            "[22]\ttrain-auc:0.87998\twatchlist-auc:0.81346\n",
            "[23]\ttrain-auc:0.88108\twatchlist-auc:0.81387\n",
            "[24]\ttrain-auc:0.88236\twatchlist-auc:0.81404\n",
            "[25]\ttrain-auc:0.88335\twatchlist-auc:0.81401\n",
            "[26]\ttrain-auc:0.88512\twatchlist-auc:0.81403\n",
            "[27]\ttrain-auc:0.88586\twatchlist-auc:0.81399\n",
            "[28]\ttrain-auc:0.88716\twatchlist-auc:0.81406\n",
            "[29]\ttrain-auc:0.88951\twatchlist-auc:0.81407\n",
            "[30]\ttrain-auc:0.88990\twatchlist-auc:0.81413\n",
            "[31]\ttrain-auc:0.89143\twatchlist-auc:0.81407\n",
            "[32]\ttrain-auc:0.89209\twatchlist-auc:0.81455\n",
            "[33]\ttrain-auc:0.89322\twatchlist-auc:0.81458\n",
            "[34]\ttrain-auc:0.89458\twatchlist-auc:0.81431\n",
            "[35]\ttrain-auc:0.89555\twatchlist-auc:0.81417\n",
            "[36]\ttrain-auc:0.89626\twatchlist-auc:0.81411\n",
            "[37]\ttrain-auc:0.89750\twatchlist-auc:0.81402\n",
            "----23.31822443008423 seconds ---\n"
          ]
        }
      ]
    },
    {
      "cell_type": "markdown",
      "metadata": {
        "id": "C4z0wIVH-MIX"
      },
      "source": [
        "<b>Variables del Modelo</b>"
      ]
    },
    {
      "cell_type": "code",
      "metadata": {
        "id": "H4AWrUcz-Q3K",
        "colab": {
          "base_uri": "https://localhost:8080/"
        },
        "outputId": "b2a48cbd-05c3-43c0-df77-6519e977265c"
      },
      "source": [
        "importance = xgBoost.get_score(importance_type = 'total_gain')\n",
        "importance"
      ],
      "execution_count": 71,
      "outputs": [
        {
          "output_type": "execute_result",
          "data": {
            "text/plain": [
              "{'ind_var8_0': 15.227507591247559,\n",
              " 'imp_op_var40_efect_ult1': 15.830788612365723,\n",
              " 'num_var22_hace3': 64.40812683105469,\n",
              " 'ind_var5_0': 1.8324702978134155,\n",
              " 'num_var31': 0.28336966037750244,\n",
              " 'num_op_var39_comer_ult1': 40.097862243652344,\n",
              " 'saldo_var17': 5.726909637451172,\n",
              " 'imp_op_var40_efect_ult3': 1.3405892848968506,\n",
              " 'num_var45_hace3': 68.04540252685547,\n",
              " 'num_op_var39_ult1': 14.744752883911133,\n",
              " 'num_var45_ult3': 78.13323211669922,\n",
              " 'num_var22_hace2': 58.45054244995117,\n",
              " 'saldo_medio_var8_ult3': 36.389095306396484,\n",
              " 'saldo_var25': 10.731063842773438,\n",
              " 'saldo_var5': 67.97837829589844,\n",
              " 'ind_var24_0': 3.856999397277832,\n",
              " 'num_aport_var13_hace3': 0.4537043571472168,\n",
              " 'ind_var43_recib_ult1': 0.5896029472351074,\n",
              " 'imp_var43_emit_ult1': 33.66438293457031,\n",
              " 'num_var41_0': 9.586019515991211,\n",
              " 'ind_var37': 11.397041320800781,\n",
              " 'saldo_medio_var5_ult1': 42.35591125488281,\n",
              " 'ind_var26_cte': 38.97875213623047,\n",
              " 'ind_var14': 0.43536376953125,\n",
              " 'ind_var32_cte': 1.810150146484375,\n",
              " 'num_var5_0': 8.002617835998535,\n",
              " 'num_var22_ult3': 48.76050567626953,\n",
              " 'var38': 497.2475280761719,\n",
              " 'ind_var39_0': 0.992642879486084,\n",
              " 'num_var12_0': 4.804057598114014,\n",
              " 'ind_var9_cte_ult1': 1.2042319774627686,\n",
              " 'num_var12': 0.6501331329345703,\n",
              " 'num_meses_var8_ult3': 13.849573135375977,\n",
              " 'ind_var1_0': 10.813850402832031,\n",
              " 'imp_aport_var13_ult1': 0.294189453125,\n",
              " 'num_var45_ult1': 22.083599090576172,\n",
              " 'saldo_var37': 36.520023345947266,\n",
              " 'num_op_var41_ult1': 0.9288911819458008,\n",
              " 'saldo_var12': 2.1448898315429688,\n",
              " 'saldo_medio_var5_hace3': 80.47489929199219,\n",
              " 'num_meses_var5_ult3': 14.136940002441406,\n",
              " 'saldo_medio_var12_ult1': 0.564178466796875,\n",
              " 'num_op_var41_hace3': 6.560430526733398,\n",
              " 'num_var37_med_ult2': 3.4964327812194824,\n",
              " 'ind_var10cte_ult1': 7.613857269287109,\n",
              " 'num_var42_0': 18.505632400512695,\n",
              " 'saldo_medio_var13_corto_ult1': 0.5862669944763184,\n",
              " 'num_var26_0': 5.824738025665283,\n",
              " 'imp_op_var41_efect_ult3': 44.975162506103516,\n",
              " 'num_op_var41_comer_ult3': 11.648862838745117,\n",
              " 'imp_var7_recib_ult1': 7.262480735778809,\n",
              " 'num_var37_0': 1.5648305416107178,\n",
              " 'num_op_var41_hace2': 16.56012725830078,\n",
              " 'num_ent_var16_ult1': 16.362388610839844,\n",
              " 'num_var30_0': 0.03149467706680298,\n",
              " 'imp_sal_var16_ult1': 8.155118942260742,\n",
              " 'saldo_var26': 5.832283973693848,\n",
              " 'saldo_medio_var8_hace3': 6.913547515869141,\n",
              " 'num_var43_recib_ult1': 8.538451194763184,\n",
              " 'saldo_var14': 0.3504981994628906,\n",
              " 'num_var30': 0.3160496652126312,\n",
              " 'imp_op_var41_comer_ult1': 25.838956832885742,\n",
              " 'num_op_var39_efect_ult1': 14.386993408203125,\n",
              " 'imp_op_var39_comer_ult1': 2.7260348796844482,\n",
              " 'saldo_medio_var8_ult1': 22.44825553894043,\n",
              " 'saldo_medio_var13_corto_hace2': 2.614315986633301,\n",
              " 'saldo_var13': 1.5276176929473877,\n",
              " 'imp_op_var41_efect_ult1': 27.361852645874023,\n",
              " 'num_op_var40_ult3': 1.599539041519165,\n",
              " 'saldo_var8': 34.03984832763672,\n",
              " 'saldo_var42': 41.19213104248047,\n",
              " 'saldo_medio_var5_ult3': 37.945884704589844,\n",
              " 'num_op_var41_comer_ult1': 0.13573455810546875,\n",
              " 'saldo_var24': 0.2130279541015625,\n",
              " 'num_var42': 0.37014007568359375,\n",
              " 'saldo_medio_var5_hace2': 92.62229919433594,\n",
              " 'num_var35': 11.260363578796387,\n",
              " 'num_var5': 4.410225868225098,\n",
              " 'num_op_var40_comer_ult3': 0.26177024841308594,\n",
              " 'var36': 11.410696029663086,\n",
              " 'num_op_var39_ult3': 16.59476661682129,\n",
              " 'num_trasp_var11_ult1': 2.122007369995117,\n",
              " 'num_meses_var39_vig_ult3': 27.730493545532227,\n",
              " 'num_var40_0': 0.25946980714797974,\n",
              " 'var3': 30.15439796447754,\n",
              " 'imp_op_var41_comer_ult3': 11.878061294555664,\n",
              " 'num_meses_var12_ult3': 1.1147918701171875,\n",
              " 'num_op_var39_efect_ult3': 4.264263153076172,\n",
              " 'var21': 1.7652034759521484,\n",
              " 'imp_op_var39_comer_ult3': 2.4853732585906982,\n",
              " 'num_op_var41_efect_ult3': 3.4664459228515625,\n",
              " 'num_var4': 1.2583580017089844,\n",
              " 'imp_ent_var16_ult1': 27.434511184692383,\n",
              " 'saldo_medio_var12_hace2': 2.084132432937622,\n",
              " 'var15': 824.8284912109375,\n",
              " 'saldo_var30': 489.9244689941406,\n",
              " 'num_var22_ult1': 50.30961608886719,\n",
              " 'imp_op_var41_ult1': 27.74729347229004,\n",
              " 'imp_op_var39_ult1': 3.46995210647583,\n",
              " 'num_op_var41_efect_ult1': 1.7025067806243896,\n",
              " 'imp_op_var39_efect_ult3': 2.449814796447754,\n",
              " 'num_var45_hace2': 35.12889099121094,\n",
              " 'saldo_medio_var13_corto_ult3': 0.24878311157226562,\n",
              " 'saldo_medio_var8_hace2': 6.56780481338501,\n",
              " 'num_op_var39_hace2': 0.7357397079467773,\n",
              " 'saldo_medio_var12_hace3': 2.07647705078125,\n",
              " 'num_op_var40_hace2': 2.069148063659668,\n",
              " 'saldo_var32': 1.753030776977539,\n",
              " 'num_op_var41_ult3': 3.1179938316345215,\n",
              " 'imp_trans_var37_ult1': 9.140922546386719,\n",
              " 'num_var32_0': 0.147491455078125,\n",
              " 'num_var43_emit_ult1': 3.4076521396636963,\n",
              " 'ind_var37_cte': 0.8896300792694092}"
            ]
          },
          "metadata": {},
          "execution_count": 71
        }
      ]
    },
    {
      "cell_type": "code",
      "metadata": {
        "id": "yg81nbtE_WzY",
        "colab": {
          "base_uri": "https://localhost:8080/",
          "height": 493
        },
        "outputId": "1c00a6f7-e93b-473c-b153-d62459fbf8fe"
      },
      "source": [
        "xgb.plot_importance(xgBoost, max_num_features=20, importance_type = 'total_gain')"
      ],
      "execution_count": 72,
      "outputs": [
        {
          "output_type": "execute_result",
          "data": {
            "text/plain": [
              "<Axes: title={'center': 'Feature importance'}, xlabel='F score', ylabel='Features'>"
            ]
          },
          "metadata": {},
          "execution_count": 72
        },
        {
          "output_type": "display_data",
          "data": {
            "text/plain": [
              "<Figure size 1000x600 with 1 Axes>"
            ],
            "image/png": "[encoded data removed]"
          },
          "metadata": {}
        }
      ]
    },
    {
      "cell_type": "code",
      "metadata": {
        "id": "1GIK4-wkOdWm",
        "colab": {
          "base_uri": "https://localhost:8080/",
          "height": 424
        },
        "outputId": "8e0d0766-1667-49c7-e0ec-9121958f5070"
      },
      "source": [
        "pdVarImp = pd.DataFrame({'Feature': list(importance.keys()),\n",
        "                         'Importance' : list(importance.values())}).sort_values('Importance', ascending = False)\n",
        "\n",
        "pdVarImp['C'] = np.arange(len(pdVarImp)) + 1\n",
        "pdVarImp"
      ],
      "execution_count": 73,
      "outputs": [
        {
          "output_type": "execute_result",
          "data": {
            "text/plain": [
              "                          Feature  Importance    C\n",
              "94                          var15  824.828491    1\n",
              "27                          var38  497.247528    2\n",
              "95                    saldo_var30  489.924469    3\n",
              "75         saldo_medio_var5_hace2   92.622299    4\n",
              "39         saldo_medio_var5_hace3   80.474899    5\n",
              "..                            ...         ...  ...\n",
              "102  saldo_medio_var13_corto_ult3    0.248783  109\n",
              "73                    saldo_var24    0.213028  110\n",
              "110                   num_var32_0    0.147491  111\n",
              "72        num_op_var41_comer_ult1    0.135735  112\n",
              "54                    num_var30_0    0.031495  113\n",
              "\n",
              "[113 rows x 3 columns]"
            ],
            "text/html": [
              "\n",
              "  <div id=\"df-50b334b0-0235-4778-8822-e8b036fb6f9c\">\n",
              "    <div class=\"colab-df-container\">\n",
              "      <div>\n",
              "<style scoped>\n",
              "    .dataframe tbody tr th:only-of-type {\n",
              "        vertical-align: middle;\n",
              "    }\n",
              "\n",
              "    .dataframe tbody tr th {\n",
              "        vertical-align: top;\n",
              "    }\n",
              "\n",
              "    .dataframe thead th {\n",
              "        text-align: right;\n",
              "    }\n",
              "</style>\n",
              "<table border=\"1\" class=\"dataframe\">\n",
              "  <thead>\n",
              "    <tr style=\"text-align: right;\">\n",
              "      <th></th>\n",
              "      <th>Feature</th>\n",
              "      <th>Importance</th>\n",
              "      <th>C</th>\n",
              "    </tr>\n",
              "  </thead>\n",
              "  <tbody>\n",
              "    <tr>\n",
              "      <th>94</th>\n",
              "      <td>var15</td>\n",
              "      <td>824.828491</td>\n",
              "      <td>1</td>\n",
              "    </tr>\n",
              "    <tr>\n",
              "      <th>27</th>\n",
              "      <td>var38</td>\n",
              "      <td>497.247528</td>\n",
              "      <td>2</td>\n",
              "    </tr>\n",
              "    <tr>\n",
              "      <th>95</th>\n",
              "      <td>saldo_var30</td>\n",
              "      <td>489.924469</td>\n",
              "      <td>3</td>\n",
              "    </tr>\n",
              "    <tr>\n",
              "      <th>75</th>\n",
              "      <td>saldo_medio_var5_hace2</td>\n",
              "      <td>92.622299</td>\n",
              "      <td>4</td>\n",
              "    </tr>\n",
              "    <tr>\n",
              "      <th>39</th>\n",
              "      <td>saldo_medio_var5_hace3</td>\n",
              "      <td>80.474899</td>\n",
              "      <td>5</td>\n",
              "    </tr>\n",
              "    <tr>\n",
              "      <th>...</th>\n",
              "      <td>...</td>\n",
              "      <td>...</td>\n",
              "      <td>...</td>\n",
              "    </tr>\n",
              "    <tr>\n",
              "      <th>102</th>\n",
              "      <td>saldo_medio_var13_corto_ult3</td>\n",
              "      <td>0.248783</td>\n",
              "      <td>109</td>\n",
              "    </tr>\n",
              "    <tr>\n",
              "      <th>73</th>\n",
              "      <td>saldo_var24</td>\n",
              "      <td>0.213028</td>\n",
              "      <td>110</td>\n",
              "    </tr>\n",
              "    <tr>\n",
              "      <th>110</th>\n",
              "      <td>num_var32_0</td>\n",
              "      <td>0.147491</td>\n",
              "      <td>111</td>\n",
              "    </tr>\n",
              "    <tr>\n",
              "      <th>72</th>\n",
              "      <td>num_op_var41_comer_ult1</td>\n",
              "      <td>0.135735</td>\n",
              "      <td>112</td>\n",
              "    </tr>\n",
              "    <tr>\n",
              "      <th>54</th>\n",
              "      <td>num_var30_0</td>\n",
              "      <td>0.031495</td>\n",
              "      <td>113</td>\n",
              "    </tr>\n",
              "  </tbody>\n",
              "</table>\n",
              "<p>113 rows × 3 columns</p>\n",
              "</div>\n",
              "      <button class=\"colab-df-convert\" onclick=\"convertToInteractive('df-50b334b0-0235-4778-8822-e8b036fb6f9c')\"\n",
              "              title=\"Convert this dataframe to an interactive table.\"\n",
              "              style=\"display:none;\">\n",
              "        \n",
              "  <svg xmlns=\"http://www.w3.org/2000/svg\" height=\"24px\"viewBox=\"0 0 24 24\"\n",
              "       width=\"24px\">\n",
              "    <path d=\"M0 0h24v24H0V0z\" fill=\"none\"/>\n",
              "    <path d=\"M18.56 5.44l.94 2.06.94-2.06 2.06-.94-2.06-.94-.94-2.06-.94 2.06-2.06.94zm-11 1L8.5 8.5l.94-2.06 2.06-.94-2.06-.94L8.5 2.5l-.94 2.06-2.06.94zm10 10l.94 2.06.94-2.06 2.06-.94-2.06-.94-.94-2.06-.94 2.06-2.06.94z\"/><path d=\"M17.41 7.96l-1.37-1.37c-.4-.4-.92-.59-1.43-.59-.52 0-1.04.2-1.43.59L10.3 9.45l-7.72 7.72c-.78.78-.78 2.05 0 2.83L4 21.41c.39.39.9.59 1.41.59.51 0 1.02-.2 1.41-.59l7.78-7.78 2.81-2.81c.8-.78.8-2.07 0-2.86zM5.41 20L4 18.59l7.72-7.72 1.47 1.35L5.41 20z\"/>\n",
              "  </svg>\n",
              "      </button>\n",
              "      \n",
              "  <style>\n",
              "    .colab-df-container {\n",
              "      display:flex;\n",
              "      flex-wrap:wrap;\n",
              "      gap: 12px;\n",
              "    }\n",
              "\n",
              "    .colab-df-convert {\n",
              "      background-color: #E8F0FE;\n",
              "      border: none;\n",
              "      border-radius: 50%;\n",
              "      cursor: pointer;\n",
              "      display: none;\n",
              "      fill: #1967D2;\n",
              "      height: 32px;\n",
              "      padding: 0 0 0 0;\n",
              "      width: 32px;\n",
              "    }\n",
              "\n",
              "    .colab-df-convert:hover {\n",
              "      background-color: #E2EBFA;\n",
              "      box-shadow: 0px 1px 2px rgba(60, 64, 67, 0.3), 0px 1px 3px 1px rgba(60, 64, 67, 0.15);\n",
              "      fill: #174EA6;\n",
              "    }\n",
              "\n",
              "    [theme=dark] .colab-df-convert {\n",
              "      background-color: #3B4455;\n",
              "      fill: #D2E3FC;\n",
              "    }\n",
              "\n",
              "    [theme=dark] .colab-df-convert:hover {\n",
              "      background-color: #434B5C;\n",
              "      box-shadow: 0px 1px 3px 1px rgba(0, 0, 0, 0.15);\n",
              "      filter: drop-shadow(0px 1px 2px rgba(0, 0, 0, 0.3));\n",
              "      fill: #FFFFFF;\n",
              "    }\n",
              "  </style>\n",
              "\n",
              "      <script>\n",
              "        const buttonEl =\n",
              "          document.querySelector('#df-50b334b0-0235-4778-8822-e8b036fb6f9c button.colab-df-convert');\n",
              "        buttonEl.style.display =\n",
              "          google.colab.kernel.accessAllowed ? 'block' : 'none';\n",
              "\n",
              "        async function convertToInteractive(key) {\n",
              "          const element = document.querySelector('#df-50b334b0-0235-4778-8822-e8b036fb6f9c');\n",
              "          const dataTable =\n",
              "            await google.colab.kernel.invokeFunction('convertToInteractive',\n",
              "                                                     [key], {});\n",
              "          if (!dataTable) return;\n",
              "\n",
              "          const docLinkHtml = 'Like what you see? Visit the ' +\n",
              "            '<a target=\"_blank\" href=https://colab.research.google.com/notebooks/data_table.ipynb>data table notebook</a>'\n",
              "            + ' to learn more about interactive tables.';\n",
              "          element.innerHTML = '';\n",
              "          dataTable['output_type'] = 'display_data';\n",
              "          await google.colab.output.renderOutput(dataTable, element);\n",
              "          const docLink = document.createElement('div');\n",
              "          docLink.innerHTML = docLinkHtml;\n",
              "          element.appendChild(docLink);\n",
              "        }\n",
              "      </script>\n",
              "    </div>\n",
              "  </div>\n",
              "  "
            ]
          },
          "metadata": {},
          "execution_count": 73
        }
      ]
    },
    {
      "cell_type": "code",
      "metadata": {
        "id": "ADGsicCEP67k",
        "colab": {
          "base_uri": "https://localhost:8080/",
          "height": 544
        },
        "outputId": "ddabe075-e7f8-4ee6-a9c9-bf87e0540009"
      },
      "source": [
        "plt.plot(pdVarImp.C,pdVarImp.Importance.cumsum(axis=0))"
      ],
      "execution_count": 74,
      "outputs": [
        {
          "output_type": "execute_result",
          "data": {
            "text/plain": [
              "[<matplotlib.lines.Line2D at 0x7fb803e81990>]"
            ]
          },
          "metadata": {},
          "execution_count": 74
        },
        {
          "output_type": "display_data",
          "data": {
            "text/plain": [
              "<Figure size 1000x600 with 1 Axes>"
            ],
            "image/png": "[encoded data removed]"
          },
          "metadata": {}
        }
      ]
    },
    {
      "cell_type": "code",
      "metadata": {
        "id": "cWZjq9vHQS2H",
        "colab": {
          "base_uri": "https://localhost:8080/",
          "height": 544
        },
        "outputId": "3fe1a430-3f3e-499a-9fab-8707d728527c"
      },
      "source": [
        "pdVarImp['porc_gain'] = pdVarImp.Importance.apply(lambda x: x/pdVarImp.Importance.sum())\n",
        "plt.plot(pdVarImp.C,pdVarImp.porc_gain.cumsum(axis=0))"
      ],
      "execution_count": 75,
      "outputs": [
        {
          "output_type": "execute_result",
          "data": {
            "text/plain": [
              "[<matplotlib.lines.Line2D at 0x7fb803ffa6b0>]"
            ]
          },
          "metadata": {},
          "execution_count": 75
        },
        {
          "output_type": "display_data",
          "data": {
            "text/plain": [
              "<Figure size 1000x600 with 1 Axes>"
            ],
            "image/png": "[encoded data removed]"
          },
          "metadata": {}
        }
      ]
    },
    {
      "cell_type": "code",
      "metadata": {
        "id": "bgIOmJGnRelh"
      },
      "source": [
        "pdVarImp['porc_gain_acum'] = pdVarImp.porc_gain.cumsum(axis = 0)\n"
      ],
      "execution_count": 76,
      "outputs": []
    },
    {
      "cell_type": "code",
      "source": [
        "pdVarImp.loc[pdVarImp.porc_gain_acum <= 0.95]"
      ],
      "metadata": {
        "id": "s9XBLS-FYIt4",
        "outputId": "3159bfaa-3b85-4d23-a019-ad8654ac3d1f",
        "colab": {
          "base_uri": "https://localhost:8080/",
          "height": 1000
        }
      },
      "execution_count": 77,
      "outputs": [
        {
          "output_type": "execute_result",
          "data": {
            "text/plain": [
              "                      Feature  Importance   C  porc_gain  porc_gain_acum\n",
              "94                      var15  824.828491   1   0.237866        0.237866\n",
              "27                      var38  497.247528   2   0.143398        0.381264\n",
              "95                saldo_var30  489.924469   3   0.141286        0.522550\n",
              "75     saldo_medio_var5_hace2   92.622299   4   0.026711        0.549260\n",
              "39     saldo_medio_var5_hace3   80.474899   5   0.023208        0.572468\n",
              "10             num_var45_ult3   78.133232   6   0.022532        0.595000\n",
              "8             num_var45_hace3   68.045403   7   0.019623        0.614623\n",
              "14                 saldo_var5   67.978378   8   0.019604        0.634227\n",
              "2             num_var22_hace3   64.408127   9   0.018574        0.652801\n",
              "11            num_var22_hace2   58.450542  10   0.016856        0.669658\n",
              "96             num_var22_ult1   50.309616  11   0.014508        0.684166\n",
              "26             num_var22_ult3   48.760506  12   0.014062        0.698228\n",
              "48    imp_op_var41_efect_ult3   44.975163  13   0.012970        0.711198\n",
              "21      saldo_medio_var5_ult1   42.355911  14   0.012215        0.723412\n",
              "70                saldo_var42   41.192131  15   0.011879        0.735292\n",
              "5     num_op_var39_comer_ult1   40.097862  16   0.011564        0.746855\n",
              "22              ind_var26_cte   38.978752  17   0.011241        0.758096\n",
              "71      saldo_medio_var5_ult3   37.945885  18   0.010943        0.769039\n",
              "36                saldo_var37   36.520023  19   0.010532        0.779571\n",
              "12      saldo_medio_var8_ult3   36.389095  20   0.010494        0.790065\n",
              "101           num_var45_hace2   35.128891  21   0.010131        0.800195\n",
              "69                 saldo_var8   34.039848  22   0.009817        0.810012\n",
              "18        imp_var43_emit_ult1   33.664383  23   0.009708        0.819720\n",
              "84                       var3   30.154398  24   0.008696        0.828416\n",
              "97          imp_op_var41_ult1   27.747293  25   0.008002        0.836418\n",
              "82   num_meses_var39_vig_ult3   27.730494  26   0.007997        0.844415\n",
              "92         imp_ent_var16_ult1   27.434511  27   0.007912        0.852326\n",
              "67    imp_op_var41_efect_ult1   27.361853  28   0.007891        0.860217\n",
              "61    imp_op_var41_comer_ult1   25.838957  29   0.007452        0.867669\n",
              "64      saldo_medio_var8_ult1   22.448256  30   0.006474        0.874142\n",
              "35             num_var45_ult1   22.083599  31   0.006369        0.880511\n",
              "45                num_var42_0   18.505632  32   0.005337        0.885848\n",
              "80          num_op_var39_ult3   16.594767  33   0.004786        0.890633\n",
              "52         num_op_var41_hace2   16.560127  34   0.004776        0.895409\n",
              "53         num_ent_var16_ult1   16.362389  35   0.004719        0.900127\n",
              "1     imp_op_var40_efect_ult1   15.830789  36   0.004565        0.904693\n",
              "0                  ind_var8_0   15.227508  37   0.004391        0.909084\n",
              "9           num_op_var39_ult1   14.744753  38   0.004252        0.913336\n",
              "62    num_op_var39_efect_ult1   14.386993  39   0.004149        0.917485\n",
              "40        num_meses_var5_ult3   14.136940  40   0.004077        0.921562\n",
              "32        num_meses_var8_ult3   13.849573  41   0.003994        0.925556\n",
              "85    imp_op_var41_comer_ult3   11.878061  42   0.003425        0.928981\n",
              "49    num_op_var41_comer_ult3   11.648863  43   0.003359        0.932341\n",
              "79                      var36   11.410696  44   0.003291        0.935631\n",
              "20                  ind_var37   11.397041  45   0.003287        0.938918\n",
              "76                  num_var35   11.260364  46   0.003247        0.942165\n",
              "33                 ind_var1_0   10.813850  47   0.003119        0.945284\n",
              "13                saldo_var25   10.731064  48   0.003095        0.948379"
            ],
            "text/html": [
              "\n",
              "  <div id=\"df-a1c94da0-9ca3-4515-a760-9dff97861e13\">\n",
              "    <div class=\"colab-df-container\">\n",
              "      <div>\n",
              "<style scoped>\n",
              "    .dataframe tbody tr th:only-of-type {\n",
              "        vertical-align: middle;\n",
              "    }\n",
              "\n",
              "    .dataframe tbody tr th {\n",
              "        vertical-align: top;\n",
              "    }\n",
              "\n",
              "    .dataframe thead th {\n",
              "        text-align: right;\n",
              "    }\n",
              "</style>\n",
              "<table border=\"1\" class=\"dataframe\">\n",
              "  <thead>\n",
              "    <tr style=\"text-align: right;\">\n",
              "      <th></th>\n",
              "      <th>Feature</th>\n",
              "      <th>Importance</th>\n",
              "      <th>C</th>\n",
              "      <th>porc_gain</th>\n",
              "      <th>porc_gain_acum</th>\n",
              "    </tr>\n",
              "  </thead>\n",
              "  <tbody>\n",
              "    <tr>\n",
              "      <th>94</th>\n",
              "      <td>var15</td>\n",
              "      <td>824.828491</td>\n",
              "      <td>1</td>\n",
              "      <td>0.237866</td>\n",
              "      <td>0.237866</td>\n",
              "    </tr>\n",
              "    <tr>\n",
              "      <th>27</th>\n",
              "      <td>var38</td>\n",
              "      <td>497.247528</td>\n",
              "      <td>2</td>\n",
              "      <td>0.143398</td>\n",
              "      <td>0.381264</td>\n",
              "    </tr>\n",
              "    <tr>\n",
              "      <th>95</th>\n",
              "      <td>saldo_var30</td>\n",
              "      <td>489.924469</td>\n",
              "      <td>3</td>\n",
              "      <td>0.141286</td>\n",
              "      <td>0.522550</td>\n",
              "    </tr>\n",
              "    <tr>\n",
              "      <th>75</th>\n",
              "      <td>saldo_medio_var5_hace2</td>\n",
              "      <td>92.622299</td>\n",
              "      <td>4</td>\n",
              "      <td>0.026711</td>\n",
              "      <td>0.549260</td>\n",
              "    </tr>\n",
              "    <tr>\n",
              "      <th>39</th>\n",
              "      <td>saldo_medio_var5_hace3</td>\n",
              "      <td>80.474899</td>\n",
              "      <td>5</td>\n",
              "      <td>0.023208</td>\n",
              "      <td>0.572468</td>\n",
              "    </tr>\n",
              "    <tr>\n",
              "      <th>10</th>\n",
              "      <td>num_var45_ult3</td>\n",
              "      <td>78.133232</td>\n",
              "      <td>6</td>\n",
              "      <td>0.022532</td>\n",
              "      <td>0.595000</td>\n",
              "    </tr>\n",
              "    <tr>\n",
              "      <th>8</th>\n",
              "      <td>num_var45_hace3</td>\n",
              "      <td>68.045403</td>\n",
              "      <td>7</td>\n",
              "      <td>0.019623</td>\n",
              "      <td>0.614623</td>\n",
              "    </tr>\n",
              "    <tr>\n",
              "      <th>14</th>\n",
              "      <td>saldo_var5</td>\n",
              "      <td>67.978378</td>\n",
              "      <td>8</td>\n",
              "      <td>0.019604</td>\n",
              "      <td>0.634227</td>\n",
              "    </tr>\n",
              "    <tr>\n",
              "      <th>2</th>\n",
              "      <td>num_var22_hace3</td>\n",
              "      <td>64.408127</td>\n",
              "      <td>9</td>\n",
              "      <td>0.018574</td>\n",
              "      <td>0.652801</td>\n",
              "    </tr>\n",
              "    <tr>\n",
              "      <th>11</th>\n",
              "      <td>num_var22_hace2</td>\n",
              "      <td>58.450542</td>\n",
              "      <td>10</td>\n",
              "      <td>0.016856</td>\n",
              "      <td>0.669658</td>\n",
              "    </tr>\n",
              "    <tr>\n",
              "      <th>96</th>\n",
              "      <td>num_var22_ult1</td>\n",
              "      <td>50.309616</td>\n",
              "      <td>11</td>\n",
              "      <td>0.014508</td>\n",
              "      <td>0.684166</td>\n",
              "    </tr>\n",
              "    <tr>\n",
              "      <th>26</th>\n",
              "      <td>num_var22_ult3</td>\n",
              "      <td>48.760506</td>\n",
              "      <td>12</td>\n",
              "      <td>0.014062</td>\n",
              "      <td>0.698228</td>\n",
              "    </tr>\n",
              "    <tr>\n",
              "      <th>48</th>\n",
              "      <td>imp_op_var41_efect_ult3</td>\n",
              "      <td>44.975163</td>\n",
              "      <td>13</td>\n",
              "      <td>0.012970</td>\n",
              "      <td>0.711198</td>\n",
              "    </tr>\n",
              "    <tr>\n",
              "      <th>21</th>\n",
              "      <td>saldo_medio_var5_ult1</td>\n",
              "      <td>42.355911</td>\n",
              "      <td>14</td>\n",
              "      <td>0.012215</td>\n",
              "      <td>0.723412</td>\n",
              "    </tr>\n",
              "    <tr>\n",
              "      <th>70</th>\n",
              "      <td>saldo_var42</td>\n",
              "      <td>41.192131</td>\n",
              "      <td>15</td>\n",
              "      <td>0.011879</td>\n",
              "      <td>0.735292</td>\n",
              "    </tr>\n",
              "    <tr>\n",
              "      <th>5</th>\n",
              "      <td>num_op_var39_comer_ult1</td>\n",
              "      <td>40.097862</td>\n",
              "      <td>16</td>\n",
              "      <td>0.011564</td>\n",
              "      <td>0.746855</td>\n",
              "    </tr>\n",
              "    <tr>\n",
              "      <th>22</th>\n",
              "      <td>ind_var26_cte</td>\n",
              "      <td>38.978752</td>\n",
              "      <td>17</td>\n",
              "      <td>0.011241</td>\n",
              "      <td>0.758096</td>\n",
              "    </tr>\n",
              "    <tr>\n",
              "      <th>71</th>\n",
              "      <td>saldo_medio_var5_ult3</td>\n",
              "      <td>37.945885</td>\n",
              "      <td>18</td>\n",
              "      <td>0.010943</td>\n",
              "      <td>0.769039</td>\n",
              "    </tr>\n",
              "    <tr>\n",
              "      <th>36</th>\n",
              "      <td>saldo_var37</td>\n",
              "      <td>36.520023</td>\n",
              "      <td>19</td>\n",
              "      <td>0.010532</td>\n",
              "      <td>0.779571</td>\n",
              "    </tr>\n",
              "    <tr>\n",
              "      <th>12</th>\n",
              "      <td>saldo_medio_var8_ult3</td>\n",
              "      <td>36.389095</td>\n",
              "      <td>20</td>\n",
              "      <td>0.010494</td>\n",
              "      <td>0.790065</td>\n",
              "    </tr>\n",
              "    <tr>\n",
              "      <th>101</th>\n",
              "      <td>num_var45_hace2</td>\n",
              "      <td>35.128891</td>\n",
              "      <td>21</td>\n",
              "      <td>0.010131</td>\n",
              "      <td>0.800195</td>\n",
              "    </tr>\n",
              "    <tr>\n",
              "      <th>69</th>\n",
              "      <td>saldo_var8</td>\n",
              "      <td>34.039848</td>\n",
              "      <td>22</td>\n",
              "      <td>0.009817</td>\n",
              "      <td>0.810012</td>\n",
              "    </tr>\n",
              "    <tr>\n",
              "      <th>18</th>\n",
              "      <td>imp_var43_emit_ult1</td>\n",
              "      <td>33.664383</td>\n",
              "      <td>23</td>\n",
              "      <td>0.009708</td>\n",
              "      <td>0.819720</td>\n",
              "    </tr>\n",
              "    <tr>\n",
              "      <th>84</th>\n",
              "      <td>var3</td>\n",
              "      <td>30.154398</td>\n",
              "      <td>24</td>\n",
              "      <td>0.008696</td>\n",
              "      <td>0.828416</td>\n",
              "    </tr>\n",
              "    <tr>\n",
              "      <th>97</th>\n",
              "      <td>imp_op_var41_ult1</td>\n",
              "      <td>27.747293</td>\n",
              "      <td>25</td>\n",
              "      <td>0.008002</td>\n",
              "      <td>0.836418</td>\n",
              "    </tr>\n",
              "    <tr>\n",
              "      <th>82</th>\n",
              "      <td>num_meses_var39_vig_ult3</td>\n",
              "      <td>27.730494</td>\n",
              "      <td>26</td>\n",
              "      <td>0.007997</td>\n",
              "      <td>0.844415</td>\n",
              "    </tr>\n",
              "    <tr>\n",
              "      <th>92</th>\n",
              "      <td>imp_ent_var16_ult1</td>\n",
              "      <td>27.434511</td>\n",
              "      <td>27</td>\n",
              "      <td>0.007912</td>\n",
              "      <td>0.852326</td>\n",
              "    </tr>\n",
              "    <tr>\n",
              "      <th>67</th>\n",
              "      <td>imp_op_var41_efect_ult1</td>\n",
              "      <td>27.361853</td>\n",
              "      <td>28</td>\n",
              "      <td>0.007891</td>\n",
              "      <td>0.860217</td>\n",
              "    </tr>\n",
              "    <tr>\n",
              "      <th>61</th>\n",
              "      <td>imp_op_var41_comer_ult1</td>\n",
              "      <td>25.838957</td>\n",
              "      <td>29</td>\n",
              "      <td>0.007452</td>\n",
              "      <td>0.867669</td>\n",
              "    </tr>\n",
              "    <tr>\n",
              "      <th>64</th>\n",
              "      <td>saldo_medio_var8_ult1</td>\n",
              "      <td>22.448256</td>\n",
              "      <td>30</td>\n",
              "      <td>0.006474</td>\n",
              "      <td>0.874142</td>\n",
              "    </tr>\n",
              "    <tr>\n",
              "      <th>35</th>\n",
              "      <td>num_var45_ult1</td>\n",
              "      <td>22.083599</td>\n",
              "      <td>31</td>\n",
              "      <td>0.006369</td>\n",
              "      <td>0.880511</td>\n",
              "    </tr>\n",
              "    <tr>\n",
              "      <th>45</th>\n",
              "      <td>num_var42_0</td>\n",
              "      <td>18.505632</td>\n",
              "      <td>32</td>\n",
              "      <td>0.005337</td>\n",
              "      <td>0.885848</td>\n",
              "    </tr>\n",
              "    <tr>\n",
              "      <th>80</th>\n",
              "      <td>num_op_var39_ult3</td>\n",
              "      <td>16.594767</td>\n",
              "      <td>33</td>\n",
              "      <td>0.004786</td>\n",
              "      <td>0.890633</td>\n",
              "    </tr>\n",
              "    <tr>\n",
              "      <th>52</th>\n",
              "      <td>num_op_var41_hace2</td>\n",
              "      <td>16.560127</td>\n",
              "      <td>34</td>\n",
              "      <td>0.004776</td>\n",
              "      <td>0.895409</td>\n",
              "    </tr>\n",
              "    <tr>\n",
              "      <th>53</th>\n",
              "      <td>num_ent_var16_ult1</td>\n",
              "      <td>16.362389</td>\n",
              "      <td>35</td>\n",
              "      <td>0.004719</td>\n",
              "      <td>0.900127</td>\n",
              "    </tr>\n",
              "    <tr>\n",
              "      <th>1</th>\n",
              "      <td>imp_op_var40_efect_ult1</td>\n",
              "      <td>15.830789</td>\n",
              "      <td>36</td>\n",
              "      <td>0.004565</td>\n",
              "      <td>0.904693</td>\n",
              "    </tr>\n",
              "    <tr>\n",
              "      <th>0</th>\n",
              "      <td>ind_var8_0</td>\n",
              "      <td>15.227508</td>\n",
              "      <td>37</td>\n",
              "      <td>0.004391</td>\n",
              "      <td>0.909084</td>\n",
              "    </tr>\n",
              "    <tr>\n",
              "      <th>9</th>\n",
              "      <td>num_op_var39_ult1</td>\n",
              "      <td>14.744753</td>\n",
              "      <td>38</td>\n",
              "      <td>0.004252</td>\n",
              "      <td>0.913336</td>\n",
              "    </tr>\n",
              "    <tr>\n",
              "      <th>62</th>\n",
              "      <td>num_op_var39_efect_ult1</td>\n",
              "      <td>14.386993</td>\n",
              "      <td>39</td>\n",
              "      <td>0.004149</td>\n",
              "      <td>0.917485</td>\n",
              "    </tr>\n",
              "    <tr>\n",
              "      <th>40</th>\n",
              "      <td>num_meses_var5_ult3</td>\n",
              "      <td>14.136940</td>\n",
              "      <td>40</td>\n",
              "      <td>0.004077</td>\n",
              "      <td>0.921562</td>\n",
              "    </tr>\n",
              "    <tr>\n",
              "      <th>32</th>\n",
              "      <td>num_meses_var8_ult3</td>\n",
              "      <td>13.849573</td>\n",
              "      <td>41</td>\n",
              "      <td>0.003994</td>\n",
              "      <td>0.925556</td>\n",
              "    </tr>\n",
              "    <tr>\n",
              "      <th>85</th>\n",
              "      <td>imp_op_var41_comer_ult3</td>\n",
              "      <td>11.878061</td>\n",
              "      <td>42</td>\n",
              "      <td>0.003425</td>\n",
              "      <td>0.928981</td>\n",
              "    </tr>\n",
              "    <tr>\n",
              "      <th>49</th>\n",
              "      <td>num_op_var41_comer_ult3</td>\n",
              "      <td>11.648863</td>\n",
              "      <td>43</td>\n",
              "      <td>0.003359</td>\n",
              "      <td>0.932341</td>\n",
              "    </tr>\n",
              "    <tr>\n",
              "      <th>79</th>\n",
              "      <td>var36</td>\n",
              "      <td>11.410696</td>\n",
              "      <td>44</td>\n",
              "      <td>0.003291</td>\n",
              "      <td>0.935631</td>\n",
              "    </tr>\n",
              "    <tr>\n",
              "      <th>20</th>\n",
              "      <td>ind_var37</td>\n",
              "      <td>11.397041</td>\n",
              "      <td>45</td>\n",
              "      <td>0.003287</td>\n",
              "      <td>0.938918</td>\n",
              "    </tr>\n",
              "    <tr>\n",
              "      <th>76</th>\n",
              "      <td>num_var35</td>\n",
              "      <td>11.260364</td>\n",
              "      <td>46</td>\n",
              "      <td>0.003247</td>\n",
              "      <td>0.942165</td>\n",
              "    </tr>\n",
              "    <tr>\n",
              "      <th>33</th>\n",
              "      <td>ind_var1_0</td>\n",
              "      <td>10.813850</td>\n",
              "      <td>47</td>\n",
              "      <td>0.003119</td>\n",
              "      <td>0.945284</td>\n",
              "    </tr>\n",
              "    <tr>\n",
              "      <th>13</th>\n",
              "      <td>saldo_var25</td>\n",
              "      <td>10.731064</td>\n",
              "      <td>48</td>\n",
              "      <td>0.003095</td>\n",
              "      <td>0.948379</td>\n",
              "    </tr>\n",
              "  </tbody>\n",
              "</table>\n",
              "</div>\n",
              "      <button class=\"colab-df-convert\" onclick=\"convertToInteractive('df-a1c94da0-9ca3-4515-a760-9dff97861e13')\"\n",
              "              title=\"Convert this dataframe to an interactive table.\"\n",
              "              style=\"display:none;\">\n",
              "        \n",
              "  <svg xmlns=\"http://www.w3.org/2000/svg\" height=\"24px\"viewBox=\"0 0 24 24\"\n",
              "       width=\"24px\">\n",
              "    <path d=\"M0 0h24v24H0V0z\" fill=\"none\"/>\n",
              "    <path d=\"M18.56 5.44l.94 2.06.94-2.06 2.06-.94-2.06-.94-.94-2.06-.94 2.06-2.06.94zm-11 1L8.5 8.5l.94-2.06 2.06-.94-2.06-.94L8.5 2.5l-.94 2.06-2.06.94zm10 10l.94 2.06.94-2.06 2.06-.94-2.06-.94-.94-2.06-.94 2.06-2.06.94z\"/><path d=\"M17.41 7.96l-1.37-1.37c-.4-.4-.92-.59-1.43-.59-.52 0-1.04.2-1.43.59L10.3 9.45l-7.72 7.72c-.78.78-.78 2.05 0 2.83L4 21.41c.39.39.9.59 1.41.59.51 0 1.02-.2 1.41-.59l7.78-7.78 2.81-2.81c.8-.78.8-2.07 0-2.86zM5.41 20L4 18.59l7.72-7.72 1.47 1.35L5.41 20z\"/>\n",
              "  </svg>\n",
              "      </button>\n",
              "      \n",
              "  <style>\n",
              "    .colab-df-container {\n",
              "      display:flex;\n",
              "      flex-wrap:wrap;\n",
              "      gap: 12px;\n",
              "    }\n",
              "\n",
              "    .colab-df-convert {\n",
              "      background-color: #E8F0FE;\n",
              "      border: none;\n",
              "      border-radius: 50%;\n",
              "      cursor: pointer;\n",
              "      display: none;\n",
              "      fill: #1967D2;\n",
              "      height: 32px;\n",
              "      padding: 0 0 0 0;\n",
              "      width: 32px;\n",
              "    }\n",
              "\n",
              "    .colab-df-convert:hover {\n",
              "      background-color: #E2EBFA;\n",
              "      box-shadow: 0px 1px 2px rgba(60, 64, 67, 0.3), 0px 1px 3px 1px rgba(60, 64, 67, 0.15);\n",
              "      fill: #174EA6;\n",
              "    }\n",
              "\n",
              "    [theme=dark] .colab-df-convert {\n",
              "      background-color: #3B4455;\n",
              "      fill: #D2E3FC;\n",
              "    }\n",
              "\n",
              "    [theme=dark] .colab-df-convert:hover {\n",
              "      background-color: #434B5C;\n",
              "      box-shadow: 0px 1px 3px 1px rgba(0, 0, 0, 0.15);\n",
              "      filter: drop-shadow(0px 1px 2px rgba(0, 0, 0, 0.3));\n",
              "      fill: #FFFFFF;\n",
              "    }\n",
              "  </style>\n",
              "\n",
              "      <script>\n",
              "        const buttonEl =\n",
              "          document.querySelector('#df-a1c94da0-9ca3-4515-a760-9dff97861e13 button.colab-df-convert');\n",
              "        buttonEl.style.display =\n",
              "          google.colab.kernel.accessAllowed ? 'block' : 'none';\n",
              "\n",
              "        async function convertToInteractive(key) {\n",
              "          const element = document.querySelector('#df-a1c94da0-9ca3-4515-a760-9dff97861e13');\n",
              "          const dataTable =\n",
              "            await google.colab.kernel.invokeFunction('convertToInteractive',\n",
              "                                                     [key], {});\n",
              "          if (!dataTable) return;\n",
              "\n",
              "          const docLinkHtml = 'Like what you see? Visit the ' +\n",
              "            '<a target=\"_blank\" href=https://colab.research.google.com/notebooks/data_table.ipynb>data table notebook</a>'\n",
              "            + ' to learn more about interactive tables.';\n",
              "          element.innerHTML = '';\n",
              "          dataTable['output_type'] = 'display_data';\n",
              "          await google.colab.output.renderOutput(dataTable, element);\n",
              "          const docLink = document.createElement('div');\n",
              "          docLink.innerHTML = docLinkHtml;\n",
              "          element.appendChild(docLink);\n",
              "        }\n",
              "      </script>\n",
              "    </div>\n",
              "  </div>\n",
              "  "
            ]
          },
          "metadata": {},
          "execution_count": 77
        }
      ]
    },
    {
      "cell_type": "code",
      "metadata": {
        "id": "3Vc3JuvLRiIY",
        "colab": {
          "base_uri": "https://localhost:8080/",
          "height": 300
        },
        "outputId": "a6347c59-1a50-4e69-8dad-58f9fbea9180"
      },
      "source": [
        "pdVarImp.transpose()"
      ],
      "execution_count": 78,
      "outputs": [
        {
          "output_type": "execute_result",
          "data": {
            "text/plain": [
              "                       94          27           95                      75   \\\n",
              "Feature              var15       var38  saldo_var30  saldo_medio_var5_hace2   \n",
              "Importance      824.828491  497.247528   489.924469               92.622299   \n",
              "C                        1           2            3                       4   \n",
              "porc_gain         0.237866    0.143398     0.141286                0.026711   \n",
              "porc_gain_acum    0.237866    0.381264      0.52255                 0.54926   \n",
              "\n",
              "                                   39              10               8    \\\n",
              "Feature         saldo_medio_var5_hace3  num_var45_ult3  num_var45_hace3   \n",
              "Importance                   80.474899       78.133232        68.045403   \n",
              "C                                    5               6                7   \n",
              "porc_gain                     0.023208        0.022532         0.019623   \n",
              "porc_gain_acum                0.572468           0.595         0.614623   \n",
              "\n",
              "                       14               2                11   ...        60   \\\n",
              "Feature         saldo_var5  num_var22_hace3  num_var22_hace2  ...  num_var30   \n",
              "Importance       67.978378        64.408127        58.450542  ...    0.31605   \n",
              "C                        8                9               10  ...        104   \n",
              "porc_gain         0.019604         0.018574         0.016856  ...   0.000091   \n",
              "porc_gain_acum    0.634227         0.652801         0.669658  ...   0.999459   \n",
              "\n",
              "                                 34         4                        78   \\\n",
              "Feature         imp_aport_var13_ult1  num_var31  num_op_var40_comer_ult3   \n",
              "Importance                  0.294189    0.28337                  0.26177   \n",
              "C                                105        106                      107   \n",
              "porc_gain                   0.000085   0.000082                 0.000075   \n",
              "porc_gain_acum              0.999544   0.999626                 0.999701   \n",
              "\n",
              "                        83                            102          73   \\\n",
              "Feature         num_var40_0  saldo_medio_var13_corto_ult3  saldo_var24   \n",
              "Importance          0.25947                      0.248783     0.213028   \n",
              "C                       108                           109          110   \n",
              "porc_gain          0.000075                      0.000072     0.000061   \n",
              "porc_gain_acum     0.999776                      0.999848     0.999909   \n",
              "\n",
              "                        110                      72           54   \n",
              "Feature         num_var32_0  num_op_var41_comer_ult1  num_var30_0  \n",
              "Importance         0.147491                 0.135735     0.031495  \n",
              "C                       111                      112          113  \n",
              "porc_gain          0.000043                 0.000039     0.000009  \n",
              "porc_gain_acum     0.999952                 0.999991          1.0  \n",
              "\n",
              "[5 rows x 113 columns]"
            ],
            "text/html": [
              "\n",
              "  <div id=\"df-d037f163-2614-4075-8418-47fc8ef3a31b\">\n",
              "    <div class=\"colab-df-container\">\n",
              "      <div>\n",
              "<style scoped>\n",
              "    .dataframe tbody tr th:only-of-type {\n",
              "        vertical-align: middle;\n",
              "    }\n",
              "\n",
              "    .dataframe tbody tr th {\n",
              "        vertical-align: top;\n",
              "    }\n",
              "\n",
              "    .dataframe thead th {\n",
              "        text-align: right;\n",
              "    }\n",
              "</style>\n",
              "<table border=\"1\" class=\"dataframe\">\n",
              "  <thead>\n",
              "    <tr style=\"text-align: right;\">\n",
              "      <th></th>\n",
              "      <th>94</th>\n",
              "      <th>27</th>\n",
              "      <th>95</th>\n",
              "      <th>75</th>\n",
              "      <th>39</th>\n",
              "      <th>10</th>\n",
              "      <th>8</th>\n",
              "      <th>14</th>\n",
              "      <th>2</th>\n",
              "      <th>11</th>\n",
              "      <th>...</th>\n",
              "      <th>60</th>\n",
              "      <th>34</th>\n",
              "      <th>4</th>\n",
              "      <th>78</th>\n",
              "      <th>83</th>\n",
              "      <th>102</th>\n",
              "      <th>73</th>\n",
              "      <th>110</th>\n",
              "      <th>72</th>\n",
              "      <th>54</th>\n",
              "    </tr>\n",
              "  </thead>\n",
              "  <tbody>\n",
              "    <tr>\n",
              "      <th>Feature</th>\n",
              "      <td>var15</td>\n",
              "      <td>var38</td>\n",
              "      <td>saldo_var30</td>\n",
              "      <td>saldo_medio_var5_hace2</td>\n",
              "      <td>saldo_medio_var5_hace3</td>\n",
              "      <td>num_var45_ult3</td>\n",
              "      <td>num_var45_hace3</td>\n",
              "      <td>saldo_var5</td>\n",
              "      <td>num_var22_hace3</td>\n",
              "      <td>num_var22_hace2</td>\n",
              "      <td>...</td>\n",
              "      <td>num_var30</td>\n",
              "      <td>imp_aport_var13_ult1</td>\n",
              "      <td>num_var31</td>\n",
              "      <td>num_op_var40_comer_ult3</td>\n",
              "      <td>num_var40_0</td>\n",
              "      <td>saldo_medio_var13_corto_ult3</td>\n",
              "      <td>saldo_var24</td>\n",
              "      <td>num_var32_0</td>\n",
              "      <td>num_op_var41_comer_ult1</td>\n",
              "      <td>num_var30_0</td>\n",
              "    </tr>\n",
              "    <tr>\n",
              "      <th>Importance</th>\n",
              "      <td>824.828491</td>\n",
              "      <td>497.247528</td>\n",
              "      <td>489.924469</td>\n",
              "      <td>92.622299</td>\n",
              "      <td>80.474899</td>\n",
              "      <td>78.133232</td>\n",
              "      <td>68.045403</td>\n",
              "      <td>67.978378</td>\n",
              "      <td>64.408127</td>\n",
              "      <td>58.450542</td>\n",
              "      <td>...</td>\n",
              "      <td>0.31605</td>\n",
              "      <td>0.294189</td>\n",
              "      <td>0.28337</td>\n",
              "      <td>0.26177</td>\n",
              "      <td>0.25947</td>\n",
              "      <td>0.248783</td>\n",
              "      <td>0.213028</td>\n",
              "      <td>0.147491</td>\n",
              "      <td>0.135735</td>\n",
              "      <td>0.031495</td>\n",
              "    </tr>\n",
              "    <tr>\n",
              "      <th>C</th>\n",
              "      <td>1</td>\n",
              "      <td>2</td>\n",
              "      <td>3</td>\n",
              "      <td>4</td>\n",
              "      <td>5</td>\n",
              "      <td>6</td>\n",
              "      <td>7</td>\n",
              "      <td>8</td>\n",
              "      <td>9</td>\n",
              "      <td>10</td>\n",
              "      <td>...</td>\n",
              "      <td>104</td>\n",
              "      <td>105</td>\n",
              "      <td>106</td>\n",
              "      <td>107</td>\n",
              "      <td>108</td>\n",
              "      <td>109</td>\n",
              "      <td>110</td>\n",
              "      <td>111</td>\n",
              "      <td>112</td>\n",
              "      <td>113</td>\n",
              "    </tr>\n",
              "    <tr>\n",
              "      <th>porc_gain</th>\n",
              "      <td>0.237866</td>\n",
              "      <td>0.143398</td>\n",
              "      <td>0.141286</td>\n",
              "      <td>0.026711</td>\n",
              "      <td>0.023208</td>\n",
              "      <td>0.022532</td>\n",
              "      <td>0.019623</td>\n",
              "      <td>0.019604</td>\n",
              "      <td>0.018574</td>\n",
              "      <td>0.016856</td>\n",
              "      <td>...</td>\n",
              "      <td>0.000091</td>\n",
              "      <td>0.000085</td>\n",
              "      <td>0.000082</td>\n",
              "      <td>0.000075</td>\n",
              "      <td>0.000075</td>\n",
              "      <td>0.000072</td>\n",
              "      <td>0.000061</td>\n",
              "      <td>0.000043</td>\n",
              "      <td>0.000039</td>\n",
              "      <td>0.000009</td>\n",
              "    </tr>\n",
              "    <tr>\n",
              "      <th>porc_gain_acum</th>\n",
              "      <td>0.237866</td>\n",
              "      <td>0.381264</td>\n",
              "      <td>0.52255</td>\n",
              "      <td>0.54926</td>\n",
              "      <td>0.572468</td>\n",
              "      <td>0.595</td>\n",
              "      <td>0.614623</td>\n",
              "      <td>0.634227</td>\n",
              "      <td>0.652801</td>\n",
              "      <td>0.669658</td>\n",
              "      <td>...</td>\n",
              "      <td>0.999459</td>\n",
              "      <td>0.999544</td>\n",
              "      <td>0.999626</td>\n",
              "      <td>0.999701</td>\n",
              "      <td>0.999776</td>\n",
              "      <td>0.999848</td>\n",
              "      <td>0.999909</td>\n",
              "      <td>0.999952</td>\n",
              "      <td>0.999991</td>\n",
              "      <td>1.0</td>\n",
              "    </tr>\n",
              "  </tbody>\n",
              "</table>\n",
              "<p>5 rows × 113 columns</p>\n",
              "</div>\n",
              "      <button class=\"colab-df-convert\" onclick=\"convertToInteractive('df-d037f163-2614-4075-8418-47fc8ef3a31b')\"\n",
              "              title=\"Convert this dataframe to an interactive table.\"\n",
              "              style=\"display:none;\">\n",
              "        \n",
              "  <svg xmlns=\"http://www.w3.org/2000/svg\" height=\"24px\"viewBox=\"0 0 24 24\"\n",
              "       width=\"24px\">\n",
              "    <path d=\"M0 0h24v24H0V0z\" fill=\"none\"/>\n",
              "    <path d=\"M18.56 5.44l.94 2.06.94-2.06 2.06-.94-2.06-.94-.94-2.06-.94 2.06-2.06.94zm-11 1L8.5 8.5l.94-2.06 2.06-.94-2.06-.94L8.5 2.5l-.94 2.06-2.06.94zm10 10l.94 2.06.94-2.06 2.06-.94-2.06-.94-.94-2.06-.94 2.06-2.06.94z\"/><path d=\"M17.41 7.96l-1.37-1.37c-.4-.4-.92-.59-1.43-.59-.52 0-1.04.2-1.43.59L10.3 9.45l-7.72 7.72c-.78.78-.78 2.05 0 2.83L4 21.41c.39.39.9.59 1.41.59.51 0 1.02-.2 1.41-.59l7.78-7.78 2.81-2.81c.8-.78.8-2.07 0-2.86zM5.41 20L4 18.59l7.72-7.72 1.47 1.35L5.41 20z\"/>\n",
              "  </svg>\n",
              "      </button>\n",
              "      \n",
              "  <style>\n",
              "    .colab-df-container {\n",
              "      display:flex;\n",
              "      flex-wrap:wrap;\n",
              "      gap: 12px;\n",
              "    }\n",
              "\n",
              "    .colab-df-convert {\n",
              "      background-color: #E8F0FE;\n",
              "      border: none;\n",
              "      border-radius: 50%;\n",
              "      cursor: pointer;\n",
              "      display: none;\n",
              "      fill: #1967D2;\n",
              "      height: 32px;\n",
              "      padding: 0 0 0 0;\n",
              "      width: 32px;\n",
              "    }\n",
              "\n",
              "    .colab-df-convert:hover {\n",
              "      background-color: #E2EBFA;\n",
              "      box-shadow: 0px 1px 2px rgba(60, 64, 67, 0.3), 0px 1px 3px 1px rgba(60, 64, 67, 0.15);\n",
              "      fill: #174EA6;\n",
              "    }\n",
              "\n",
              "    [theme=dark] .colab-df-convert {\n",
              "      background-color: #3B4455;\n",
              "      fill: #D2E3FC;\n",
              "    }\n",
              "\n",
              "    [theme=dark] .colab-df-convert:hover {\n",
              "      background-color: #434B5C;\n",
              "      box-shadow: 0px 1px 3px 1px rgba(0, 0, 0, 0.15);\n",
              "      filter: drop-shadow(0px 1px 2px rgba(0, 0, 0, 0.3));\n",
              "      fill: #FFFFFF;\n",
              "    }\n",
              "  </style>\n",
              "\n",
              "      <script>\n",
              "        const buttonEl =\n",
              "          document.querySelector('#df-d037f163-2614-4075-8418-47fc8ef3a31b button.colab-df-convert');\n",
              "        buttonEl.style.display =\n",
              "          google.colab.kernel.accessAllowed ? 'block' : 'none';\n",
              "\n",
              "        async function convertToInteractive(key) {\n",
              "          const element = document.querySelector('#df-d037f163-2614-4075-8418-47fc8ef3a31b');\n",
              "          const dataTable =\n",
              "            await google.colab.kernel.invokeFunction('convertToInteractive',\n",
              "                                                     [key], {});\n",
              "          if (!dataTable) return;\n",
              "\n",
              "          const docLinkHtml = 'Like what you see? Visit the ' +\n",
              "            '<a target=\"_blank\" href=https://colab.research.google.com/notebooks/data_table.ipynb>data table notebook</a>'\n",
              "            + ' to learn more about interactive tables.';\n",
              "          element.innerHTML = '';\n",
              "          dataTable['output_type'] = 'display_data';\n",
              "          await google.colab.output.renderOutput(dataTable, element);\n",
              "          const docLink = document.createElement('div');\n",
              "          docLink.innerHTML = docLinkHtml;\n",
              "          element.appendChild(docLink);\n",
              "        }\n",
              "      </script>\n",
              "    </div>\n",
              "  </div>\n",
              "  "
            ]
          },
          "metadata": {},
          "execution_count": 78
        }
      ]
    },
    {
      "cell_type": "code",
      "metadata": {
        "id": "XgocmyNHVsb9"
      },
      "source": [
        "# Usando el modelo para predecir\n",
        "\n",
        "X_train['probability']  = xgBoost.predict(xgb.DMatrix(X_train[features]))\n",
        "X_test['probability'] = xgBoost.predict(xgb.DMatrix(X_test[features]))\n",
        "\n",
        "X_train['prediction']  = X_train.probability.apply(lambda x: 1 if x > 0.5 else 0)\n",
        "X_test['prediction'] = X_test.probability.apply(lambda x: 1 if x > 0.5 else 0)"
      ],
      "execution_count": 79,
      "outputs": []
    },
    {
      "cell_type": "code",
      "metadata": {
        "id": "i12M9tBeVsWK",
        "colab": {
          "base_uri": "https://localhost:8080/",
          "height": 238
        },
        "outputId": "23af78d2-0c9f-41fa-f3e0-ba40e7918eb4"
      },
      "source": [
        "#Resumen de todas las métricas del modelo\n",
        "from sklearn.metrics import *\n",
        "\n",
        "metricsXGB = pd.DataFrame({'metric':['AUC','Gini','Accuracy','Precision','Recall','F1-score'],\n",
        "                                'xgb_train':[roc_auc_score(y_train, X_train.probability),\n",
        "                                        (roc_auc_score(y_train, X_train.probability)*2-1),\n",
        "                                        accuracy_score(y_train, X_train.prediction),\n",
        "                                        precision_score(y_train, X_train.prediction),\n",
        "                                        recall_score(y_train, X_train.prediction),\n",
        "                                        f1_score(y_train, X_train.prediction)],\n",
        "\n",
        "                                'xgb_test':[roc_auc_score(y_test, X_test.probability),\n",
        "                                        (roc_auc_score(y_test, X_test.probability)*2-1),\n",
        "                                        accuracy_score(y_test, X_test.prediction),\n",
        "                                        precision_score(y_test, X_test.prediction),\n",
        "                                        recall_score(y_test, X_test.prediction),\n",
        "                                        f1_score(y_test, X_test.prediction)]})\n",
        "\n",
        "metricsXGB\n",
        "metricsRes = pd.merge(metricsRes, metricsXGB, on = 'metric', how='left') \n",
        "metricsRes       "
      ],
      "execution_count": 80,
      "outputs": [
        {
          "output_type": "execute_result",
          "data": {
            "text/plain": [
              "      metric  dTree_smote_train  dTree_smote_test  rfc_train  rfc_test  \\\n",
              "0        AUC           0.800894          0.799110   0.802901  0.800285   \n",
              "1       Gini           0.601789          0.598221   0.605801  0.600570   \n",
              "2   Accuracy           0.783309          0.788389   0.711862  0.712225   \n",
              "3  Precision           0.112491          0.115143   0.090774  0.090909   \n",
              "4     Recall           0.649573          0.650776   0.696581  0.697339   \n",
              "5   F1-score           0.191771          0.195667   0.160618  0.160849   \n",
              "\n",
              "   adab_train  adab_test  xgb_train  xgb_test  \n",
              "0    0.858622   0.821658   0.898664  0.844663  \n",
              "1    0.717244   0.643317   0.797329  0.689326  \n",
              "2    0.960631   0.960405   0.963036  0.960602  \n",
              "3    0.720000   0.444444   1.000000  0.600000  \n",
              "4    0.008547   0.004435   0.065928  0.009983  \n",
              "5    0.016893   0.008782   0.123701  0.019640  "
            ],
            "text/html": [
              "\n",
              "  <div id=\"df-41e3e9cd-1c47-48fd-8d17-d764998cc9ee\">\n",
              "    <div class=\"colab-df-container\">\n",
              "      <div>\n",
              "<style scoped>\n",
              "    .dataframe tbody tr th:only-of-type {\n",
              "        vertical-align: middle;\n",
              "    }\n",
              "\n",
              "    .dataframe tbody tr th {\n",
              "        vertical-align: top;\n",
              "    }\n",
              "\n",
              "    .dataframe thead th {\n",
              "        text-align: right;\n",
              "    }\n",
              "</style>\n",
              "<table border=\"1\" class=\"dataframe\">\n",
              "  <thead>\n",
              "    <tr style=\"text-align: right;\">\n",
              "      <th></th>\n",
              "      <th>metric</th>\n",
              "      <th>dTree_smote_train</th>\n",
              "      <th>dTree_smote_test</th>\n",
              "      <th>rfc_train</th>\n",
              "      <th>rfc_test</th>\n",
              "      <th>adab_train</th>\n",
              "      <th>adab_test</th>\n",
              "      <th>xgb_train</th>\n",
              "      <th>xgb_test</th>\n",
              "    </tr>\n",
              "  </thead>\n",
              "  <tbody>\n",
              "    <tr>\n",
              "      <th>0</th>\n",
              "      <td>AUC</td>\n",
              "      <td>0.800894</td>\n",
              "      <td>0.799110</td>\n",
              "      <td>0.802901</td>\n",
              "      <td>0.800285</td>\n",
              "      <td>0.858622</td>\n",
              "      <td>0.821658</td>\n",
              "      <td>0.898664</td>\n",
              "      <td>0.844663</td>\n",
              "    </tr>\n",
              "    <tr>\n",
              "      <th>1</th>\n",
              "      <td>Gini</td>\n",
              "      <td>0.601789</td>\n",
              "      <td>0.598221</td>\n",
              "      <td>0.605801</td>\n",
              "      <td>0.600570</td>\n",
              "      <td>0.717244</td>\n",
              "      <td>0.643317</td>\n",
              "      <td>0.797329</td>\n",
              "      <td>0.689326</td>\n",
              "    </tr>\n",
              "    <tr>\n",
              "      <th>2</th>\n",
              "      <td>Accuracy</td>\n",
              "      <td>0.783309</td>\n",
              "      <td>0.788389</td>\n",
              "      <td>0.711862</td>\n",
              "      <td>0.712225</td>\n",
              "      <td>0.960631</td>\n",
              "      <td>0.960405</td>\n",
              "      <td>0.963036</td>\n",
              "      <td>0.960602</td>\n",
              "    </tr>\n",
              "    <tr>\n",
              "      <th>3</th>\n",
              "      <td>Precision</td>\n",
              "      <td>0.112491</td>\n",
              "      <td>0.115143</td>\n",
              "      <td>0.090774</td>\n",
              "      <td>0.090909</td>\n",
              "      <td>0.720000</td>\n",
              "      <td>0.444444</td>\n",
              "      <td>1.000000</td>\n",
              "      <td>0.600000</td>\n",
              "    </tr>\n",
              "    <tr>\n",
              "      <th>4</th>\n",
              "      <td>Recall</td>\n",
              "      <td>0.649573</td>\n",
              "      <td>0.650776</td>\n",
              "      <td>0.696581</td>\n",
              "      <td>0.697339</td>\n",
              "      <td>0.008547</td>\n",
              "      <td>0.004435</td>\n",
              "      <td>0.065928</td>\n",
              "      <td>0.009983</td>\n",
              "    </tr>\n",
              "    <tr>\n",
              "      <th>5</th>\n",
              "      <td>F1-score</td>\n",
              "      <td>0.191771</td>\n",
              "      <td>0.195667</td>\n",
              "      <td>0.160618</td>\n",
              "      <td>0.160849</td>\n",
              "      <td>0.016893</td>\n",
              "      <td>0.008782</td>\n",
              "      <td>0.123701</td>\n",
              "      <td>0.019640</td>\n",
              "    </tr>\n",
              "  </tbody>\n",
              "</table>\n",
              "</div>\n",
              "      <button class=\"colab-df-convert\" onclick=\"convertToInteractive('df-41e3e9cd-1c47-48fd-8d17-d764998cc9ee')\"\n",
              "              title=\"Convert this dataframe to an interactive table.\"\n",
              "              style=\"display:none;\">\n",
              "        \n",
              "  <svg xmlns=\"http://www.w3.org/2000/svg\" height=\"24px\"viewBox=\"0 0 24 24\"\n",
              "       width=\"24px\">\n",
              "    <path d=\"M0 0h24v24H0V0z\" fill=\"none\"/>\n",
              "    <path d=\"M18.56 5.44l.94 2.06.94-2.06 2.06-.94-2.06-.94-.94-2.06-.94 2.06-2.06.94zm-11 1L8.5 8.5l.94-2.06 2.06-.94-2.06-.94L8.5 2.5l-.94 2.06-2.06.94zm10 10l.94 2.06.94-2.06 2.06-.94-2.06-.94-.94-2.06-.94 2.06-2.06.94z\"/><path d=\"M17.41 7.96l-1.37-1.37c-.4-.4-.92-.59-1.43-.59-.52 0-1.04.2-1.43.59L10.3 9.45l-7.72 7.72c-.78.78-.78 2.05 0 2.83L4 21.41c.39.39.9.59 1.41.59.51 0 1.02-.2 1.41-.59l7.78-7.78 2.81-2.81c.8-.78.8-2.07 0-2.86zM5.41 20L4 18.59l7.72-7.72 1.47 1.35L5.41 20z\"/>\n",
              "  </svg>\n",
              "      </button>\n",
              "      \n",
              "  <style>\n",
              "    .colab-df-container {\n",
              "      display:flex;\n",
              "      flex-wrap:wrap;\n",
              "      gap: 12px;\n",
              "    }\n",
              "\n",
              "    .colab-df-convert {\n",
              "      background-color: #E8F0FE;\n",
              "      border: none;\n",
              "      border-radius: 50%;\n",
              "      cursor: pointer;\n",
              "      display: none;\n",
              "      fill: #1967D2;\n",
              "      height: 32px;\n",
              "      padding: 0 0 0 0;\n",
              "      width: 32px;\n",
              "    }\n",
              "\n",
              "    .colab-df-convert:hover {\n",
              "      background-color: #E2EBFA;\n",
              "      box-shadow: 0px 1px 2px rgba(60, 64, 67, 0.3), 0px 1px 3px 1px rgba(60, 64, 67, 0.15);\n",
              "      fill: #174EA6;\n",
              "    }\n",
              "\n",
              "    [theme=dark] .colab-df-convert {\n",
              "      background-color: #3B4455;\n",
              "      fill: #D2E3FC;\n",
              "    }\n",
              "\n",
              "    [theme=dark] .colab-df-convert:hover {\n",
              "      background-color: #434B5C;\n",
              "      box-shadow: 0px 1px 3px 1px rgba(0, 0, 0, 0.15);\n",
              "      filter: drop-shadow(0px 1px 2px rgba(0, 0, 0, 0.3));\n",
              "      fill: #FFFFFF;\n",
              "    }\n",
              "  </style>\n",
              "\n",
              "      <script>\n",
              "        const buttonEl =\n",
              "          document.querySelector('#df-41e3e9cd-1c47-48fd-8d17-d764998cc9ee button.colab-df-convert');\n",
              "        buttonEl.style.display =\n",
              "          google.colab.kernel.accessAllowed ? 'block' : 'none';\n",
              "\n",
              "        async function convertToInteractive(key) {\n",
              "          const element = document.querySelector('#df-41e3e9cd-1c47-48fd-8d17-d764998cc9ee');\n",
              "          const dataTable =\n",
              "            await google.colab.kernel.invokeFunction('convertToInteractive',\n",
              "                                                     [key], {});\n",
              "          if (!dataTable) return;\n",
              "\n",
              "          const docLinkHtml = 'Like what you see? Visit the ' +\n",
              "            '<a target=\"_blank\" href=https://colab.research.google.com/notebooks/data_table.ipynb>data table notebook</a>'\n",
              "            + ' to learn more about interactive tables.';\n",
              "          element.innerHTML = '';\n",
              "          dataTable['output_type'] = 'display_data';\n",
              "          await google.colab.output.renderOutput(dataTable, element);\n",
              "          const docLink = document.createElement('div');\n",
              "          docLink.innerHTML = docLinkHtml;\n",
              "          element.appendChild(docLink);\n",
              "        }\n",
              "      </script>\n",
              "    </div>\n",
              "  </div>\n",
              "  "
            ]
          },
          "metadata": {},
          "execution_count": 80
        }
      ]
    },
    {
      "cell_type": "markdown",
      "source": [
        "#Grid Search"
      ],
      "metadata": {
        "id": "z6SxZ523imz2"
      }
    },
    {
      "cell_type": "markdown",
      "metadata": {
        "id": "FttmZ9QVR5q4"
      },
      "source": [
        "# Random Search"
      ]
    },
    {
      "cell_type": "code",
      "metadata": {
        "id": "DSmFXeYTZ6Ou"
      },
      "source": [
        "# Muestreo de data\n",
        "\n",
        "from sklearn.model_selection import train_test_split\n",
        "\n",
        "X_train, X_test, y_train, y_test = train_test_split(X, y, \n",
        "                                                    stratify = y,\n",
        "                                                    test_size = 0.3,\n",
        "                                                    random_state = 123)\n"
      ],
      "execution_count": 81,
      "outputs": []
    },
    {
      "cell_type": "code",
      "metadata": {
        "id": "Mhcz2Zj1SmaL"
      },
      "source": [
        "# setear valores iniciales\n",
        "\n",
        "paramGrid = {'objetive' : ['binary_logistic'],\n",
        "         'max_depth' : [2,3,4,5,6,7,8,9,10,11,12],\n",
        "         'learning_rate': [0.01, 0.02, 0.05, 0.1, 0.2],\n",
        "         'seed' : [123],\n",
        "         'max_leaves' : [2, 4, 8],\n",
        "         'min_data_leaf' : [0.01, 0.02, 0.05, 0.08, 0.1, 0.15, 0.2],\n",
        "         'grow_policy' : ['lossguide'],\n",
        "         'min_child_weight' : [1,2,3,4,5,6,7,8,9,10]}\n",
        "\n",
        "param['eval_metric'] = 'auc'\n",
        "num_round = 100\n",
        "\n",
        "pdResults = pd.DataFrame()\n",
        "\n"
      ],
      "execution_count": 82,
      "outputs": []
    },
    {
      "cell_type": "code",
      "source": [
        "12*5*3*7*10*100"
      ],
      "metadata": {
        "id": "sYknwO8Hi71M",
        "outputId": "9b7ee7e6-2d88-4f1d-8e9e-e546abf9eba9",
        "colab": {
          "base_uri": "https://localhost:8080/"
        }
      },
      "execution_count": 83,
      "outputs": [
        {
          "output_type": "execute_result",
          "data": {
            "text/plain": [
              "1260000"
            ]
          },
          "metadata": {},
          "execution_count": 83
        }
      ]
    },
    {
      "cell_type": "code",
      "metadata": {
        "id": "MWM4-xnrUaZs"
      },
      "source": [
        "dtrain = xgb.DMatrix(X_train, label = y_train)\n",
        "dtest  = xgb.DMatrix(X_test, label = y_test)"
      ],
      "execution_count": 84,
      "outputs": []
    },
    {
      "cell_type": "code",
      "metadata": {
        "id": "bklFI4QqUvwv",
        "colab": {
          "base_uri": "https://localhost:8080/"
        },
        "outputId": "d2a62c34-c738-47e5-8124-c76ad047f3a5"
      },
      "source": [
        "# Iniciar iteración de Hyperparámetros\n",
        "import random\n",
        "\n",
        "for i in range(100):\n",
        "  print(\"****** Iteration : \" + str(i))\n",
        "  param = {}\n",
        "  for paramName, paramValue in paramGrid.items():\n",
        "    param[paramName] = random.choice(paramValue)\n",
        "  param['eval_metric' ] = 'auc'\n",
        "  evallist = [(dtrain,'train'),(dtest,'valid')]\n",
        "  num_round = 10     \n",
        "\n",
        "  bst = xgb.train(param, dtrain, num_round, evallist, verbose_eval = 5)\n",
        "\n",
        "  y_train_pred = bst.predict(dtrain)\n",
        "  y_test_pred = bst.predict(dtest)\n",
        "\n",
        "  giniTrain = ((roc_auc_score(y_train, y_train_pred) - 0.5)*200)\n",
        "  giniTest =  ((roc_auc_score(y_test, y_test_pred) - 0.5)*200)\n",
        "\n",
        "  pdResults = pdResults.append(pd.DataFrame({'iter' : i,\n",
        "                                             'paramName': list(param.keys()),\n",
        "                                             'paramValue': list(param.values()),\n",
        "                                             'giniTrain' : giniTrain,\n",
        "                                             'giniTest' : giniTest}))\n",
        "\n",
        "  pdResults.to_csv('HyperParamSearch.csv', index = False)"
      ],
      "execution_count": 85,
      "outputs": [
        {
          "output_type": "stream",
          "name": "stdout",
          "text": [
            "****** Iteration : 0\n",
            "[20:48:00] WARNING: ../src/learner.cc:767: \n",
            "Parameters: { \"min_data_leaf\", \"objetive\" } are not used.\n",
            "\n"
          ]
        },
        {
          "output_type": "stream",
          "name": "stderr",
          "text": [
            "/usr/local/lib/python3.10/dist-packages/xgboost/core.py:617: FutureWarning: Pass `evals` as keyword args.\n",
            "  warnings.warn(msg, FutureWarning)\n"
          ]
        },
        {
          "output_type": "stream",
          "name": "stdout",
          "text": [
            "[0]\ttrain-auc:0.86711\tvalid-auc:0.79690\n",
            "[5]\ttrain-auc:0.90762\tvalid-auc:0.80868\n",
            "[9]\ttrain-auc:0.91740\tvalid-auc:0.81281\n",
            "****** Iteration : 1\n",
            "[20:48:12] WARNING: ../src/learner.cc:767: \n",
            "Parameters: { \"min_data_leaf\", \"objetive\" } are not used.\n",
            "\n"
          ]
        },
        {
          "output_type": "stream",
          "name": "stderr",
          "text": [
            "<ipython-input-85-2345e3e9b7ee>:21: FutureWarning: The frame.append method is deprecated and will be removed from pandas in a future version. Use pandas.concat instead.\n",
            "  pdResults = pdResults.append(pd.DataFrame({'iter' : i,\n",
            "/usr/local/lib/python3.10/dist-packages/xgboost/core.py:617: FutureWarning: Pass `evals` as keyword args.\n",
            "  warnings.warn(msg, FutureWarning)\n"
          ]
        },
        {
          "output_type": "stream",
          "name": "stdout",
          "text": [
            "[0]\ttrain-auc:0.83516\tvalid-auc:0.80824\n",
            "[5]\ttrain-auc:0.84996\tvalid-auc:0.81985\n",
            "[9]\ttrain-auc:0.85654\tvalid-auc:0.82411\n",
            "****** Iteration : 2\n",
            "[20:48:18] WARNING: ../src/learner.cc:767: \n",
            "Parameters: { \"min_data_leaf\", \"objetive\" } are not used.\n",
            "\n"
          ]
        },
        {
          "output_type": "stream",
          "name": "stderr",
          "text": [
            "<ipython-input-85-2345e3e9b7ee>:21: FutureWarning: The frame.append method is deprecated and will be removed from pandas in a future version. Use pandas.concat instead.\n",
            "  pdResults = pdResults.append(pd.DataFrame({'iter' : i,\n",
            "/usr/local/lib/python3.10/dist-packages/xgboost/core.py:617: FutureWarning: Pass `evals` as keyword args.\n",
            "  warnings.warn(msg, FutureWarning)\n"
          ]
        },
        {
          "output_type": "stream",
          "name": "stdout",
          "text": [
            "[0]\ttrain-auc:0.86641\tvalid-auc:0.79627\n",
            "[5]\ttrain-auc:0.86957\tvalid-auc:0.80180\n",
            "[9]\ttrain-auc:0.87215\tvalid-auc:0.80402\n",
            "****** Iteration : 3\n",
            "[20:48:27] WARNING: ../src/learner.cc:767: \n",
            "Parameters: { \"min_data_leaf\", \"objetive\" } are not used.\n",
            "\n"
          ]
        },
        {
          "output_type": "stream",
          "name": "stderr",
          "text": [
            "<ipython-input-85-2345e3e9b7ee>:21: FutureWarning: The frame.append method is deprecated and will be removed from pandas in a future version. Use pandas.concat instead.\n",
            "  pdResults = pdResults.append(pd.DataFrame({'iter' : i,\n",
            "/usr/local/lib/python3.10/dist-packages/xgboost/core.py:617: FutureWarning: Pass `evals` as keyword args.\n",
            "  warnings.warn(msg, FutureWarning)\n"
          ]
        },
        {
          "output_type": "stream",
          "name": "stdout",
          "text": [
            "[0]\ttrain-auc:0.83826\tvalid-auc:0.80690\n",
            "[5]\ttrain-auc:0.85073\tvalid-auc:0.81490\n",
            "[9]\ttrain-auc:0.85546\tvalid-auc:0.81982\n",
            "****** Iteration : 4\n",
            "[20:48:32] WARNING: ../src/learner.cc:767: \n",
            "Parameters: { \"min_data_leaf\", \"objetive\" } are not used.\n",
            "\n"
          ]
        },
        {
          "output_type": "stream",
          "name": "stderr",
          "text": [
            "<ipython-input-85-2345e3e9b7ee>:21: FutureWarning: The frame.append method is deprecated and will be removed from pandas in a future version. Use pandas.concat instead.\n",
            "  pdResults = pdResults.append(pd.DataFrame({'iter' : i,\n",
            "/usr/local/lib/python3.10/dist-packages/xgboost/core.py:617: FutureWarning: Pass `evals` as keyword args.\n",
            "  warnings.warn(msg, FutureWarning)\n"
          ]
        },
        {
          "output_type": "stream",
          "name": "stdout",
          "text": [
            "[0]\ttrain-auc:0.83996\tvalid-auc:0.81317\n",
            "[5]\ttrain-auc:0.85926\tvalid-auc:0.82506\n",
            "[9]\ttrain-auc:0.86865\tvalid-auc:0.82607\n",
            "****** Iteration : 5\n",
            "[20:48:36] WARNING: ../src/learner.cc:767: \n",
            "Parameters: { \"min_data_leaf\", \"objetive\" } are not used.\n",
            "\n"
          ]
        },
        {
          "output_type": "stream",
          "name": "stderr",
          "text": [
            "<ipython-input-85-2345e3e9b7ee>:21: FutureWarning: The frame.append method is deprecated and will be removed from pandas in a future version. Use pandas.concat instead.\n",
            "  pdResults = pdResults.append(pd.DataFrame({'iter' : i,\n",
            "/usr/local/lib/python3.10/dist-packages/xgboost/core.py:617: FutureWarning: Pass `evals` as keyword args.\n",
            "  warnings.warn(msg, FutureWarning)\n"
          ]
        },
        {
          "output_type": "stream",
          "name": "stdout",
          "text": [
            "[0]\ttrain-auc:0.85585\tvalid-auc:0.80644\n",
            "[5]\ttrain-auc:0.87677\tvalid-auc:0.82175\n",
            "[9]\ttrain-auc:0.88491\tvalid-auc:0.82276\n",
            "****** Iteration : 6\n",
            "[20:48:44] WARNING: ../src/learner.cc:767: \n",
            "Parameters: { \"min_data_leaf\", \"objetive\" } are not used.\n",
            "\n"
          ]
        },
        {
          "output_type": "stream",
          "name": "stderr",
          "text": [
            "<ipython-input-85-2345e3e9b7ee>:21: FutureWarning: The frame.append method is deprecated and will be removed from pandas in a future version. Use pandas.concat instead.\n",
            "  pdResults = pdResults.append(pd.DataFrame({'iter' : i,\n",
            "/usr/local/lib/python3.10/dist-packages/xgboost/core.py:617: FutureWarning: Pass `evals` as keyword args.\n",
            "  warnings.warn(msg, FutureWarning)\n"
          ]
        },
        {
          "output_type": "stream",
          "name": "stdout",
          "text": [
            "[0]\ttrain-auc:0.85380\tvalid-auc:0.80693\n",
            "[5]\ttrain-auc:0.85878\tvalid-auc:0.81021\n",
            "[9]\ttrain-auc:0.86006\tvalid-auc:0.81119\n",
            "****** Iteration : 7\n",
            "[20:48:54] WARNING: ../src/learner.cc:767: \n",
            "Parameters: { \"min_data_leaf\", \"objetive\" } are not used.\n",
            "\n"
          ]
        },
        {
          "output_type": "stream",
          "name": "stderr",
          "text": [
            "<ipython-input-85-2345e3e9b7ee>:21: FutureWarning: The frame.append method is deprecated and will be removed from pandas in a future version. Use pandas.concat instead.\n",
            "  pdResults = pdResults.append(pd.DataFrame({'iter' : i,\n",
            "/usr/local/lib/python3.10/dist-packages/xgboost/core.py:617: FutureWarning: Pass `evals` as keyword args.\n",
            "  warnings.warn(msg, FutureWarning)\n"
          ]
        },
        {
          "output_type": "stream",
          "name": "stdout",
          "text": [
            "[0]\ttrain-auc:0.84933\tvalid-auc:0.80873\n",
            "[5]\ttrain-auc:0.87017\tvalid-auc:0.82028\n",
            "[9]\ttrain-auc:0.87733\tvalid-auc:0.82303\n",
            "****** Iteration : 8\n",
            "[20:48:59] WARNING: ../src/learner.cc:767: \n",
            "Parameters: { \"min_data_leaf\", \"objetive\" } are not used.\n",
            "\n",
            "[0]\ttrain-auc:0.77464\tvalid-auc:0.76449\n"
          ]
        },
        {
          "output_type": "stream",
          "name": "stderr",
          "text": [
            "<ipython-input-85-2345e3e9b7ee>:21: FutureWarning: The frame.append method is deprecated and will be removed from pandas in a future version. Use pandas.concat instead.\n",
            "  pdResults = pdResults.append(pd.DataFrame({'iter' : i,\n",
            "/usr/local/lib/python3.10/dist-packages/xgboost/core.py:617: FutureWarning: Pass `evals` as keyword args.\n",
            "  warnings.warn(msg, FutureWarning)\n"
          ]
        },
        {
          "output_type": "stream",
          "name": "stdout",
          "text": [
            "[5]\ttrain-auc:0.81925\tvalid-auc:0.80282\n",
            "[9]\ttrain-auc:0.82855\tvalid-auc:0.81579\n",
            "****** Iteration : 9\n",
            "[20:49:01] WARNING: ../src/learner.cc:767: \n",
            "Parameters: { \"min_data_leaf\", \"objetive\" } are not used.\n",
            "\n"
          ]
        },
        {
          "output_type": "stream",
          "name": "stderr",
          "text": [
            "<ipython-input-85-2345e3e9b7ee>:21: FutureWarning: The frame.append method is deprecated and will be removed from pandas in a future version. Use pandas.concat instead.\n",
            "  pdResults = pdResults.append(pd.DataFrame({'iter' : i,\n",
            "/usr/local/lib/python3.10/dist-packages/xgboost/core.py:617: FutureWarning: Pass `evals` as keyword args.\n",
            "  warnings.warn(msg, FutureWarning)\n"
          ]
        },
        {
          "output_type": "stream",
          "name": "stdout",
          "text": [
            "[0]\ttrain-auc:0.81771\tvalid-auc:0.79567\n",
            "[5]\ttrain-auc:0.82441\tvalid-auc:0.80279\n",
            "[9]\ttrain-auc:0.82905\tvalid-auc:0.80718\n",
            "****** Iteration : 10\n",
            "[20:49:06] WARNING: ../src/learner.cc:767: \n",
            "Parameters: { \"min_data_leaf\", \"objetive\" } are not used.\n",
            "\n"
          ]
        },
        {
          "output_type": "stream",
          "name": "stderr",
          "text": [
            "<ipython-input-85-2345e3e9b7ee>:21: FutureWarning: The frame.append method is deprecated and will be removed from pandas in a future version. Use pandas.concat instead.\n",
            "  pdResults = pdResults.append(pd.DataFrame({'iter' : i,\n",
            "/usr/local/lib/python3.10/dist-packages/xgboost/core.py:617: FutureWarning: Pass `evals` as keyword args.\n",
            "  warnings.warn(msg, FutureWarning)\n"
          ]
        },
        {
          "output_type": "stream",
          "name": "stdout",
          "text": [
            "[0]\ttrain-auc:0.86640\tvalid-auc:0.79728\n",
            "[5]\ttrain-auc:0.87204\tvalid-auc:0.80306\n",
            "[9]\ttrain-auc:0.87469\tvalid-auc:0.80461\n",
            "****** Iteration : 11\n",
            "[20:49:13] WARNING: ../src/learner.cc:767: \n",
            "Parameters: { \"min_data_leaf\", \"objetive\" } are not used.\n",
            "\n"
          ]
        },
        {
          "output_type": "stream",
          "name": "stderr",
          "text": [
            "<ipython-input-85-2345e3e9b7ee>:21: FutureWarning: The frame.append method is deprecated and will be removed from pandas in a future version. Use pandas.concat instead.\n",
            "  pdResults = pdResults.append(pd.DataFrame({'iter' : i,\n",
            "/usr/local/lib/python3.10/dist-packages/xgboost/core.py:617: FutureWarning: Pass `evals` as keyword args.\n",
            "  warnings.warn(msg, FutureWarning)\n"
          ]
        },
        {
          "output_type": "stream",
          "name": "stdout",
          "text": [
            "[0]\ttrain-auc:0.86430\tvalid-auc:0.79852\n",
            "[5]\ttrain-auc:0.87154\tvalid-auc:0.80299\n",
            "[9]\ttrain-auc:0.87371\tvalid-auc:0.80543\n",
            "****** Iteration : 12\n",
            "[20:49:23] WARNING: ../src/learner.cc:767: \n",
            "Parameters: { \"min_data_leaf\", \"objetive\" } are not used.\n",
            "\n"
          ]
        },
        {
          "output_type": "stream",
          "name": "stderr",
          "text": [
            "<ipython-input-85-2345e3e9b7ee>:21: FutureWarning: The frame.append method is deprecated and will be removed from pandas in a future version. Use pandas.concat instead.\n",
            "  pdResults = pdResults.append(pd.DataFrame({'iter' : i,\n",
            "/usr/local/lib/python3.10/dist-packages/xgboost/core.py:617: FutureWarning: Pass `evals` as keyword args.\n",
            "  warnings.warn(msg, FutureWarning)\n"
          ]
        },
        {
          "output_type": "stream",
          "name": "stdout",
          "text": [
            "[0]\ttrain-auc:0.85965\tvalid-auc:0.80965\n",
            "[5]\ttrain-auc:0.86208\tvalid-auc:0.81195\n",
            "[9]\ttrain-auc:0.86319\tvalid-auc:0.81284\n",
            "****** Iteration : 13\n",
            "[20:49:33] WARNING: ../src/learner.cc:767: \n",
            "Parameters: { \"min_data_leaf\", \"objetive\" } are not used.\n",
            "\n",
            "[0]\ttrain-auc:0.77464\tvalid-auc:0.76449\n"
          ]
        },
        {
          "output_type": "stream",
          "name": "stderr",
          "text": [
            "<ipython-input-85-2345e3e9b7ee>:21: FutureWarning: The frame.append method is deprecated and will be removed from pandas in a future version. Use pandas.concat instead.\n",
            "  pdResults = pdResults.append(pd.DataFrame({'iter' : i,\n",
            "/usr/local/lib/python3.10/dist-packages/xgboost/core.py:617: FutureWarning: Pass `evals` as keyword args.\n",
            "  warnings.warn(msg, FutureWarning)\n"
          ]
        },
        {
          "output_type": "stream",
          "name": "stdout",
          "text": [
            "[5]\ttrain-auc:0.78406\tvalid-auc:0.77659\n",
            "[9]\ttrain-auc:0.81792\tvalid-auc:0.80230\n",
            "****** Iteration : 14\n",
            "[20:49:34] WARNING: ../src/learner.cc:767: \n",
            "Parameters: { \"min_data_leaf\", \"objetive\" } are not used.\n",
            "\n"
          ]
        },
        {
          "output_type": "stream",
          "name": "stderr",
          "text": [
            "<ipython-input-85-2345e3e9b7ee>:21: FutureWarning: The frame.append method is deprecated and will be removed from pandas in a future version. Use pandas.concat instead.\n",
            "  pdResults = pdResults.append(pd.DataFrame({'iter' : i,\n",
            "/usr/local/lib/python3.10/dist-packages/xgboost/core.py:617: FutureWarning: Pass `evals` as keyword args.\n",
            "  warnings.warn(msg, FutureWarning)\n"
          ]
        },
        {
          "output_type": "stream",
          "name": "stdout",
          "text": [
            "[0]\ttrain-auc:0.85473\tvalid-auc:0.80911\n",
            "[5]\ttrain-auc:0.88476\tvalid-auc:0.81856\n",
            "[9]\ttrain-auc:0.89854\tvalid-auc:0.82494\n",
            "****** Iteration : 15\n",
            "[20:49:41] WARNING: ../src/learner.cc:767: \n",
            "Parameters: { \"min_data_leaf\", \"objetive\" } are not used.\n",
            "\n"
          ]
        },
        {
          "output_type": "stream",
          "name": "stderr",
          "text": [
            "<ipython-input-85-2345e3e9b7ee>:21: FutureWarning: The frame.append method is deprecated and will be removed from pandas in a future version. Use pandas.concat instead.\n",
            "  pdResults = pdResults.append(pd.DataFrame({'iter' : i,\n",
            "/usr/local/lib/python3.10/dist-packages/xgboost/core.py:617: FutureWarning: Pass `evals` as keyword args.\n",
            "  warnings.warn(msg, FutureWarning)\n"
          ]
        },
        {
          "output_type": "stream",
          "name": "stdout",
          "text": [
            "[0]\ttrain-auc:0.86305\tvalid-auc:0.80895\n",
            "[5]\ttrain-auc:0.90817\tvalid-auc:0.81656\n",
            "[9]\ttrain-auc:0.93345\tvalid-auc:0.81040\n",
            "****** Iteration : 16\n",
            "[20:49:51] WARNING: ../src/learner.cc:767: \n",
            "Parameters: { \"min_data_leaf\", \"objetive\" } are not used.\n",
            "\n"
          ]
        },
        {
          "output_type": "stream",
          "name": "stderr",
          "text": [
            "<ipython-input-85-2345e3e9b7ee>:21: FutureWarning: The frame.append method is deprecated and will be removed from pandas in a future version. Use pandas.concat instead.\n",
            "  pdResults = pdResults.append(pd.DataFrame({'iter' : i,\n",
            "/usr/local/lib/python3.10/dist-packages/xgboost/core.py:617: FutureWarning: Pass `evals` as keyword args.\n",
            "  warnings.warn(msg, FutureWarning)\n"
          ]
        },
        {
          "output_type": "stream",
          "name": "stdout",
          "text": [
            "[0]\ttrain-auc:0.84925\tvalid-auc:0.80949\n",
            "[5]\ttrain-auc:0.87113\tvalid-auc:0.82178\n",
            "[9]\ttrain-auc:0.87746\tvalid-auc:0.82495\n",
            "****** Iteration : 17\n",
            "[20:49:58] WARNING: ../src/learner.cc:767: \n",
            "Parameters: { \"min_data_leaf\", \"objetive\" } are not used.\n",
            "\n"
          ]
        },
        {
          "output_type": "stream",
          "name": "stderr",
          "text": [
            "<ipython-input-85-2345e3e9b7ee>:21: FutureWarning: The frame.append method is deprecated and will be removed from pandas in a future version. Use pandas.concat instead.\n",
            "  pdResults = pdResults.append(pd.DataFrame({'iter' : i,\n",
            "/usr/local/lib/python3.10/dist-packages/xgboost/core.py:617: FutureWarning: Pass `evals` as keyword args.\n",
            "  warnings.warn(msg, FutureWarning)\n"
          ]
        },
        {
          "output_type": "stream",
          "name": "stdout",
          "text": [
            "[0]\ttrain-auc:0.85854\tvalid-auc:0.80574\n",
            "[5]\ttrain-auc:0.86606\tvalid-auc:0.80804\n",
            "[9]\ttrain-auc:0.86854\tvalid-auc:0.80872\n",
            "****** Iteration : 18\n",
            "[20:50:06] WARNING: ../src/learner.cc:767: \n",
            "Parameters: { \"min_data_leaf\", \"objetive\" } are not used.\n",
            "\n"
          ]
        },
        {
          "output_type": "stream",
          "name": "stderr",
          "text": [
            "<ipython-input-85-2345e3e9b7ee>:21: FutureWarning: The frame.append method is deprecated and will be removed from pandas in a future version. Use pandas.concat instead.\n",
            "  pdResults = pdResults.append(pd.DataFrame({'iter' : i,\n",
            "/usr/local/lib/python3.10/dist-packages/xgboost/core.py:617: FutureWarning: Pass `evals` as keyword args.\n",
            "  warnings.warn(msg, FutureWarning)\n"
          ]
        },
        {
          "output_type": "stream",
          "name": "stdout",
          "text": [
            "[0]\ttrain-auc:0.81641\tvalid-auc:0.79462\n",
            "[5]\ttrain-auc:0.84277\tvalid-auc:0.82128\n",
            "[9]\ttrain-auc:0.84950\tvalid-auc:0.82532\n",
            "****** Iteration : 19\n",
            "[20:50:10] WARNING: ../src/learner.cc:767: \n",
            "Parameters: { \"min_data_leaf\", \"objetive\" } are not used.\n",
            "\n"
          ]
        },
        {
          "output_type": "stream",
          "name": "stderr",
          "text": [
            "<ipython-input-85-2345e3e9b7ee>:21: FutureWarning: The frame.append method is deprecated and will be removed from pandas in a future version. Use pandas.concat instead.\n",
            "  pdResults = pdResults.append(pd.DataFrame({'iter' : i,\n",
            "/usr/local/lib/python3.10/dist-packages/xgboost/core.py:617: FutureWarning: Pass `evals` as keyword args.\n",
            "  warnings.warn(msg, FutureWarning)\n"
          ]
        },
        {
          "output_type": "stream",
          "name": "stdout",
          "text": [
            "[0]\ttrain-auc:0.86509\tvalid-auc:0.80309\n",
            "[5]\ttrain-auc:0.87191\tvalid-auc:0.80800\n",
            "[9]\ttrain-auc:0.87863\tvalid-auc:0.81107\n",
            "****** Iteration : 20\n"
          ]
        },
        {
          "output_type": "stream",
          "name": "stderr",
          "text": [
            "<ipython-input-85-2345e3e9b7ee>:21: FutureWarning: The frame.append method is deprecated and will be removed from pandas in a future version. Use pandas.concat instead.\n",
            "  pdResults = pdResults.append(pd.DataFrame({'iter' : i,\n",
            "/usr/local/lib/python3.10/dist-packages/xgboost/core.py:617: FutureWarning: Pass `evals` as keyword args.\n",
            "  warnings.warn(msg, FutureWarning)\n"
          ]
        },
        {
          "output_type": "stream",
          "name": "stdout",
          "text": [
            "[20:50:20] WARNING: ../src/learner.cc:767: \n",
            "Parameters: { \"min_data_leaf\", \"objetive\" } are not used.\n",
            "\n",
            "[0]\ttrain-auc:0.85965\tvalid-auc:0.80965\n",
            "[5]\ttrain-auc:0.86208\tvalid-auc:0.81195\n",
            "[9]\ttrain-auc:0.86319\tvalid-auc:0.81284\n",
            "****** Iteration : 21\n",
            "[20:50:29] WARNING: ../src/learner.cc:767: \n",
            "Parameters: { \"min_data_leaf\", \"objetive\" } are not used.\n",
            "\n"
          ]
        },
        {
          "output_type": "stream",
          "name": "stderr",
          "text": [
            "<ipython-input-85-2345e3e9b7ee>:21: FutureWarning: The frame.append method is deprecated and will be removed from pandas in a future version. Use pandas.concat instead.\n",
            "  pdResults = pdResults.append(pd.DataFrame({'iter' : i,\n",
            "/usr/local/lib/python3.10/dist-packages/xgboost/core.py:617: FutureWarning: Pass `evals` as keyword args.\n",
            "  warnings.warn(msg, FutureWarning)\n"
          ]
        },
        {
          "output_type": "stream",
          "name": "stdout",
          "text": [
            "[0]\ttrain-auc:0.86006\tvalid-auc:0.80417\n",
            "[5]\ttrain-auc:0.86676\tvalid-auc:0.80930\n",
            "[9]\ttrain-auc:0.87146\tvalid-auc:0.81182\n",
            "****** Iteration : 22\n",
            "[20:50:38] WARNING: ../src/learner.cc:767: \n",
            "Parameters: { \"min_data_leaf\", \"objetive\" } are not used.\n",
            "\n"
          ]
        },
        {
          "output_type": "stream",
          "name": "stderr",
          "text": [
            "<ipython-input-85-2345e3e9b7ee>:21: FutureWarning: The frame.append method is deprecated and will be removed from pandas in a future version. Use pandas.concat instead.\n",
            "  pdResults = pdResults.append(pd.DataFrame({'iter' : i,\n",
            "/usr/local/lib/python3.10/dist-packages/xgboost/core.py:617: FutureWarning: Pass `evals` as keyword args.\n",
            "  warnings.warn(msg, FutureWarning)\n"
          ]
        },
        {
          "output_type": "stream",
          "name": "stdout",
          "text": [
            "[0]\ttrain-auc:0.86711\tvalid-auc:0.79690\n",
            "[5]\ttrain-auc:0.89597\tvalid-auc:0.81787\n",
            "[9]\ttrain-auc:0.90996\tvalid-auc:0.81618\n",
            "****** Iteration : 23\n",
            "[20:50:48] WARNING: ../src/learner.cc:767: \n",
            "Parameters: { \"min_data_leaf\", \"objetive\" } are not used.\n",
            "\n"
          ]
        },
        {
          "output_type": "stream",
          "name": "stderr",
          "text": [
            "<ipython-input-85-2345e3e9b7ee>:21: FutureWarning: The frame.append method is deprecated and will be removed from pandas in a future version. Use pandas.concat instead.\n",
            "  pdResults = pdResults.append(pd.DataFrame({'iter' : i,\n",
            "/usr/local/lib/python3.10/dist-packages/xgboost/core.py:617: FutureWarning: Pass `evals` as keyword args.\n",
            "  warnings.warn(msg, FutureWarning)\n"
          ]
        },
        {
          "output_type": "stream",
          "name": "stdout",
          "text": [
            "[0]\ttrain-auc:0.84933\tvalid-auc:0.80873\n",
            "[5]\ttrain-auc:0.85301\tvalid-auc:0.81274\n",
            "[9]\ttrain-auc:0.85452\tvalid-auc:0.81395\n",
            "****** Iteration : 24\n",
            "[20:50:54] WARNING: ../src/learner.cc:767: \n",
            "Parameters: { \"min_data_leaf\", \"objetive\" } are not used.\n",
            "\n"
          ]
        },
        {
          "output_type": "stream",
          "name": "stderr",
          "text": [
            "<ipython-input-85-2345e3e9b7ee>:21: FutureWarning: The frame.append method is deprecated and will be removed from pandas in a future version. Use pandas.concat instead.\n",
            "  pdResults = pdResults.append(pd.DataFrame({'iter' : i,\n",
            "/usr/local/lib/python3.10/dist-packages/xgboost/core.py:617: FutureWarning: Pass `evals` as keyword args.\n",
            "  warnings.warn(msg, FutureWarning)\n"
          ]
        },
        {
          "output_type": "stream",
          "name": "stdout",
          "text": [
            "[0]\ttrain-auc:0.83870\tvalid-auc:0.81357\n",
            "[5]\ttrain-auc:0.84263\tvalid-auc:0.81604\n",
            "[9]\ttrain-auc:0.84369\tvalid-auc:0.81649\n",
            "****** Iteration : 25\n",
            "[20:50:59] WARNING: ../src/learner.cc:767: \n",
            "Parameters: { \"min_data_leaf\", \"objetive\" } are not used.\n",
            "\n"
          ]
        },
        {
          "output_type": "stream",
          "name": "stderr",
          "text": [
            "<ipython-input-85-2345e3e9b7ee>:21: FutureWarning: The frame.append method is deprecated and will be removed from pandas in a future version. Use pandas.concat instead.\n",
            "  pdResults = pdResults.append(pd.DataFrame({'iter' : i,\n",
            "/usr/local/lib/python3.10/dist-packages/xgboost/core.py:617: FutureWarning: Pass `evals` as keyword args.\n",
            "  warnings.warn(msg, FutureWarning)\n"
          ]
        },
        {
          "output_type": "stream",
          "name": "stdout",
          "text": [
            "[0]\ttrain-auc:0.84925\tvalid-auc:0.80949\n",
            "[5]\ttrain-auc:0.85303\tvalid-auc:0.81283\n",
            "[9]\ttrain-auc:0.85454\tvalid-auc:0.81399\n",
            "****** Iteration : 26\n",
            "[20:51:05] WARNING: ../src/learner.cc:767: \n",
            "Parameters: { \"min_data_leaf\", \"objetive\" } are not used.\n",
            "\n"
          ]
        },
        {
          "output_type": "stream",
          "name": "stderr",
          "text": [
            "<ipython-input-85-2345e3e9b7ee>:21: FutureWarning: The frame.append method is deprecated and will be removed from pandas in a future version. Use pandas.concat instead.\n",
            "  pdResults = pdResults.append(pd.DataFrame({'iter' : i,\n",
            "/usr/local/lib/python3.10/dist-packages/xgboost/core.py:617: FutureWarning: Pass `evals` as keyword args.\n",
            "  warnings.warn(msg, FutureWarning)\n"
          ]
        },
        {
          "output_type": "stream",
          "name": "stdout",
          "text": [
            "[0]\ttrain-auc:0.86006\tvalid-auc:0.80417\n",
            "[5]\ttrain-auc:0.86328\tvalid-auc:0.80711\n",
            "[9]\ttrain-auc:0.86640\tvalid-auc:0.80912\n",
            "****** Iteration : 27\n",
            "[20:51:14] WARNING: ../src/learner.cc:767: \n",
            "Parameters: { \"min_data_leaf\", \"objetive\" } are not used.\n",
            "\n"
          ]
        },
        {
          "output_type": "stream",
          "name": "stderr",
          "text": [
            "<ipython-input-85-2345e3e9b7ee>:21: FutureWarning: The frame.append method is deprecated and will be removed from pandas in a future version. Use pandas.concat instead.\n",
            "  pdResults = pdResults.append(pd.DataFrame({'iter' : i,\n",
            "/usr/local/lib/python3.10/dist-packages/xgboost/core.py:617: FutureWarning: Pass `evals` as keyword args.\n",
            "  warnings.warn(msg, FutureWarning)\n"
          ]
        },
        {
          "output_type": "stream",
          "name": "stdout",
          "text": [
            "[0]\ttrain-auc:0.83522\tvalid-auc:0.80876\n",
            "[5]\ttrain-auc:0.84218\tvalid-auc:0.81468\n",
            "[9]\ttrain-auc:0.84298\tvalid-auc:0.81520\n",
            "****** Iteration : 28\n",
            "[20:51:18] WARNING: ../src/learner.cc:767: \n",
            "Parameters: { \"min_data_leaf\", \"objetive\" } are not used.\n",
            "\n"
          ]
        },
        {
          "output_type": "stream",
          "name": "stderr",
          "text": [
            "<ipython-input-85-2345e3e9b7ee>:21: FutureWarning: The frame.append method is deprecated and will be removed from pandas in a future version. Use pandas.concat instead.\n",
            "  pdResults = pdResults.append(pd.DataFrame({'iter' : i,\n",
            "/usr/local/lib/python3.10/dist-packages/xgboost/core.py:617: FutureWarning: Pass `evals` as keyword args.\n",
            "  warnings.warn(msg, FutureWarning)\n"
          ]
        },
        {
          "output_type": "stream",
          "name": "stdout",
          "text": [
            "[0]\ttrain-auc:0.86876\tvalid-auc:0.79570\n",
            "[5]\ttrain-auc:0.88587\tvalid-auc:0.81153\n",
            "[9]\ttrain-auc:0.89353\tvalid-auc:0.81597\n",
            "****** Iteration : 29\n",
            "[20:51:28] WARNING: ../src/learner.cc:767: \n",
            "Parameters: { \"min_data_leaf\", \"objetive\" } are not used.\n",
            "\n",
            "[0]\ttrain-auc:0.77464\tvalid-auc:0.76449\n"
          ]
        },
        {
          "output_type": "stream",
          "name": "stderr",
          "text": [
            "<ipython-input-85-2345e3e9b7ee>:21: FutureWarning: The frame.append method is deprecated and will be removed from pandas in a future version. Use pandas.concat instead.\n",
            "  pdResults = pdResults.append(pd.DataFrame({'iter' : i,\n",
            "/usr/local/lib/python3.10/dist-packages/xgboost/core.py:617: FutureWarning: Pass `evals` as keyword args.\n",
            "  warnings.warn(msg, FutureWarning)\n"
          ]
        },
        {
          "output_type": "stream",
          "name": "stdout",
          "text": [
            "[5]\ttrain-auc:0.81925\tvalid-auc:0.80282\n",
            "[9]\ttrain-auc:0.82847\tvalid-auc:0.81592\n",
            "****** Iteration : 30\n",
            "[20:51:30] WARNING: ../src/learner.cc:767: \n",
            "Parameters: { \"min_data_leaf\", \"objetive\" } are not used.\n",
            "\n"
          ]
        },
        {
          "output_type": "stream",
          "name": "stderr",
          "text": [
            "<ipython-input-85-2345e3e9b7ee>:21: FutureWarning: The frame.append method is deprecated and will be removed from pandas in a future version. Use pandas.concat instead.\n",
            "  pdResults = pdResults.append(pd.DataFrame({'iter' : i,\n",
            "/usr/local/lib/python3.10/dist-packages/xgboost/core.py:617: FutureWarning: Pass `evals` as keyword args.\n",
            "  warnings.warn(msg, FutureWarning)\n"
          ]
        },
        {
          "output_type": "stream",
          "name": "stdout",
          "text": [
            "[0]\ttrain-auc:0.84273\tvalid-auc:0.81109\n",
            "[5]\ttrain-auc:0.85508\tvalid-auc:0.81908\n",
            "[9]\ttrain-auc:0.86186\tvalid-auc:0.82251\n",
            "****** Iteration : 31\n",
            "[20:51:36] WARNING: ../src/learner.cc:767: \n",
            "Parameters: { \"min_data_leaf\", \"objetive\" } are not used.\n",
            "\n"
          ]
        },
        {
          "output_type": "stream",
          "name": "stderr",
          "text": [
            "<ipython-input-85-2345e3e9b7ee>:21: FutureWarning: The frame.append method is deprecated and will be removed from pandas in a future version. Use pandas.concat instead.\n",
            "  pdResults = pdResults.append(pd.DataFrame({'iter' : i,\n",
            "/usr/local/lib/python3.10/dist-packages/xgboost/core.py:617: FutureWarning: Pass `evals` as keyword args.\n",
            "  warnings.warn(msg, FutureWarning)\n"
          ]
        },
        {
          "output_type": "stream",
          "name": "stdout",
          "text": [
            "[0]\ttrain-auc:0.84197\tvalid-auc:0.80882\n",
            "[5]\ttrain-auc:0.84523\tvalid-auc:0.81406\n",
            "[9]\ttrain-auc:0.84719\tvalid-auc:0.81486\n",
            "****** Iteration : 32\n",
            "[20:51:41] WARNING: ../src/learner.cc:767: \n",
            "Parameters: { \"min_data_leaf\", \"objetive\" } are not used.\n",
            "\n"
          ]
        },
        {
          "output_type": "stream",
          "name": "stderr",
          "text": [
            "<ipython-input-85-2345e3e9b7ee>:21: FutureWarning: The frame.append method is deprecated and will be removed from pandas in a future version. Use pandas.concat instead.\n",
            "  pdResults = pdResults.append(pd.DataFrame({'iter' : i,\n",
            "/usr/local/lib/python3.10/dist-packages/xgboost/core.py:617: FutureWarning: Pass `evals` as keyword args.\n",
            "  warnings.warn(msg, FutureWarning)\n"
          ]
        },
        {
          "output_type": "stream",
          "name": "stdout",
          "text": [
            "[0]\ttrain-auc:0.83172\tvalid-auc:0.80810\n",
            "[5]\ttrain-auc:0.83342\tvalid-auc:0.81104\n",
            "[9]\ttrain-auc:0.83335\tvalid-auc:0.81109\n",
            "****** Iteration : 33\n",
            "[20:51:45] WARNING: ../src/learner.cc:767: \n",
            "Parameters: { \"min_data_leaf\", \"objetive\" } are not used.\n",
            "\n"
          ]
        },
        {
          "output_type": "stream",
          "name": "stderr",
          "text": [
            "<ipython-input-85-2345e3e9b7ee>:21: FutureWarning: The frame.append method is deprecated and will be removed from pandas in a future version. Use pandas.concat instead.\n",
            "  pdResults = pdResults.append(pd.DataFrame({'iter' : i,\n",
            "/usr/local/lib/python3.10/dist-packages/xgboost/core.py:617: FutureWarning: Pass `evals` as keyword args.\n",
            "  warnings.warn(msg, FutureWarning)\n"
          ]
        },
        {
          "output_type": "stream",
          "name": "stdout",
          "text": [
            "[0]\ttrain-auc:0.86352\tvalid-auc:0.79849\n",
            "[5]\ttrain-auc:0.89965\tvalid-auc:0.81689\n",
            "[9]\ttrain-auc:0.91067\tvalid-auc:0.81741\n",
            "****** Iteration : 34\n",
            "[20:51:54] WARNING: ../src/learner.cc:767: \n",
            "Parameters: { \"min_data_leaf\", \"objetive\" } are not used.\n",
            "\n"
          ]
        },
        {
          "output_type": "stream",
          "name": "stderr",
          "text": [
            "<ipython-input-85-2345e3e9b7ee>:21: FutureWarning: The frame.append method is deprecated and will be removed from pandas in a future version. Use pandas.concat instead.\n",
            "  pdResults = pdResults.append(pd.DataFrame({'iter' : i,\n",
            "/usr/local/lib/python3.10/dist-packages/xgboost/core.py:617: FutureWarning: Pass `evals` as keyword args.\n",
            "  warnings.warn(msg, FutureWarning)\n"
          ]
        },
        {
          "output_type": "stream",
          "name": "stdout",
          "text": [
            "[0]\ttrain-auc:0.83179\tvalid-auc:0.80826\n",
            "[5]\ttrain-auc:0.83389\tvalid-auc:0.81053\n",
            "[9]\ttrain-auc:0.83385\tvalid-auc:0.81065\n",
            "****** Iteration : 35\n",
            "[20:51:58] WARNING: ../src/learner.cc:767: \n",
            "Parameters: { \"min_data_leaf\", \"objetive\" } are not used.\n",
            "\n"
          ]
        },
        {
          "output_type": "stream",
          "name": "stderr",
          "text": [
            "<ipython-input-85-2345e3e9b7ee>:21: FutureWarning: The frame.append method is deprecated and will be removed from pandas in a future version. Use pandas.concat instead.\n",
            "  pdResults = pdResults.append(pd.DataFrame({'iter' : i,\n",
            "/usr/local/lib/python3.10/dist-packages/xgboost/core.py:617: FutureWarning: Pass `evals` as keyword args.\n",
            "  warnings.warn(msg, FutureWarning)\n"
          ]
        },
        {
          "output_type": "stream",
          "name": "stdout",
          "text": [
            "[0]\ttrain-auc:0.85482\tvalid-auc:0.81129\n",
            "[5]\ttrain-auc:0.86024\tvalid-auc:0.81403\n",
            "[9]\ttrain-auc:0.86372\tvalid-auc:0.81478\n",
            "****** Iteration : 36\n",
            "[20:52:07] WARNING: ../src/learner.cc:767: \n",
            "Parameters: { \"min_data_leaf\", \"objetive\" } are not used.\n",
            "\n"
          ]
        },
        {
          "output_type": "stream",
          "name": "stderr",
          "text": [
            "<ipython-input-85-2345e3e9b7ee>:21: FutureWarning: The frame.append method is deprecated and will be removed from pandas in a future version. Use pandas.concat instead.\n",
            "  pdResults = pdResults.append(pd.DataFrame({'iter' : i,\n",
            "/usr/local/lib/python3.10/dist-packages/xgboost/core.py:617: FutureWarning: Pass `evals` as keyword args.\n",
            "  warnings.warn(msg, FutureWarning)\n"
          ]
        },
        {
          "output_type": "stream",
          "name": "stdout",
          "text": [
            "[0]\ttrain-auc:0.84409\tvalid-auc:0.81084\n",
            "[5]\ttrain-auc:0.84856\tvalid-auc:0.81551\n",
            "[9]\ttrain-auc:0.85025\tvalid-auc:0.81605\n",
            "****** Iteration : 37\n",
            "[20:52:12] WARNING: ../src/learner.cc:767: \n",
            "Parameters: { \"min_data_leaf\", \"objetive\" } are not used.\n",
            "\n"
          ]
        },
        {
          "output_type": "stream",
          "name": "stderr",
          "text": [
            "<ipython-input-85-2345e3e9b7ee>:21: FutureWarning: The frame.append method is deprecated and will be removed from pandas in a future version. Use pandas.concat instead.\n",
            "  pdResults = pdResults.append(pd.DataFrame({'iter' : i,\n",
            "/usr/local/lib/python3.10/dist-packages/xgboost/core.py:617: FutureWarning: Pass `evals` as keyword args.\n",
            "  warnings.warn(msg, FutureWarning)\n"
          ]
        },
        {
          "output_type": "stream",
          "name": "stdout",
          "text": [
            "[0]\ttrain-auc:0.84933\tvalid-auc:0.80873\n",
            "[5]\ttrain-auc:0.85480\tvalid-auc:0.81380\n",
            "[9]\ttrain-auc:0.85877\tvalid-auc:0.81461\n",
            "****** Iteration : 38\n",
            "[20:52:19] WARNING: ../src/learner.cc:767: \n",
            "Parameters: { \"min_data_leaf\", \"objetive\" } are not used.\n",
            "\n"
          ]
        },
        {
          "output_type": "stream",
          "name": "stderr",
          "text": [
            "<ipython-input-85-2345e3e9b7ee>:21: FutureWarning: The frame.append method is deprecated and will be removed from pandas in a future version. Use pandas.concat instead.\n",
            "  pdResults = pdResults.append(pd.DataFrame({'iter' : i,\n",
            "/usr/local/lib/python3.10/dist-packages/xgboost/core.py:617: FutureWarning: Pass `evals` as keyword args.\n",
            "  warnings.warn(msg, FutureWarning)\n"
          ]
        },
        {
          "output_type": "stream",
          "name": "stdout",
          "text": [
            "[0]\ttrain-auc:0.86149\tvalid-auc:0.80619\n",
            "[5]\ttrain-auc:0.86413\tvalid-auc:0.80977\n",
            "[9]\ttrain-auc:0.86542\tvalid-auc:0.81026\n",
            "****** Iteration : 39\n",
            "[20:52:28] WARNING: ../src/learner.cc:767: \n",
            "Parameters: { \"min_data_leaf\", \"objetive\" } are not used.\n",
            "\n"
          ]
        },
        {
          "output_type": "stream",
          "name": "stderr",
          "text": [
            "<ipython-input-85-2345e3e9b7ee>:21: FutureWarning: The frame.append method is deprecated and will be removed from pandas in a future version. Use pandas.concat instead.\n",
            "  pdResults = pdResults.append(pd.DataFrame({'iter' : i,\n",
            "/usr/local/lib/python3.10/dist-packages/xgboost/core.py:617: FutureWarning: Pass `evals` as keyword args.\n",
            "  warnings.warn(msg, FutureWarning)\n"
          ]
        },
        {
          "output_type": "stream",
          "name": "stdout",
          "text": [
            "[0]\ttrain-auc:0.82048\tvalid-auc:0.79846\n",
            "[5]\ttrain-auc:0.83054\tvalid-auc:0.80736\n",
            "[9]\ttrain-auc:0.83853\tvalid-auc:0.81583\n",
            "****** Iteration : 40\n",
            "[20:52:31] WARNING: ../src/learner.cc:767: \n",
            "Parameters: { \"min_data_leaf\", \"objetive\" } are not used.\n",
            "\n"
          ]
        },
        {
          "output_type": "stream",
          "name": "stderr",
          "text": [
            "<ipython-input-85-2345e3e9b7ee>:21: FutureWarning: The frame.append method is deprecated and will be removed from pandas in a future version. Use pandas.concat instead.\n",
            "  pdResults = pdResults.append(pd.DataFrame({'iter' : i,\n",
            "/usr/local/lib/python3.10/dist-packages/xgboost/core.py:617: FutureWarning: Pass `evals` as keyword args.\n",
            "  warnings.warn(msg, FutureWarning)\n"
          ]
        },
        {
          "output_type": "stream",
          "name": "stdout",
          "text": [
            "[0]\ttrain-auc:0.81777\tvalid-auc:0.79576\n",
            "[5]\ttrain-auc:0.83871\tvalid-auc:0.81860\n",
            "[9]\ttrain-auc:0.84253\tvalid-auc:0.82302\n",
            "****** Iteration : 41\n",
            "[20:52:34] WARNING: ../src/learner.cc:767: \n",
            "Parameters: { \"min_data_leaf\", \"objetive\" } are not used.\n",
            "\n"
          ]
        },
        {
          "output_type": "stream",
          "name": "stderr",
          "text": [
            "<ipython-input-85-2345e3e9b7ee>:21: FutureWarning: The frame.append method is deprecated and will be removed from pandas in a future version. Use pandas.concat instead.\n",
            "  pdResults = pdResults.append(pd.DataFrame({'iter' : i,\n",
            "/usr/local/lib/python3.10/dist-packages/xgboost/core.py:617: FutureWarning: Pass `evals` as keyword args.\n",
            "  warnings.warn(msg, FutureWarning)\n"
          ]
        },
        {
          "output_type": "stream",
          "name": "stdout",
          "text": [
            "[0]\ttrain-auc:0.84382\tvalid-auc:0.80965\n",
            "[5]\ttrain-auc:0.86152\tvalid-auc:0.82083\n",
            "[9]\ttrain-auc:0.86723\tvalid-auc:0.82523\n",
            "****** Iteration : 42\n",
            "[20:52:40] WARNING: ../src/learner.cc:767: \n",
            "Parameters: { \"min_data_leaf\", \"objetive\" } are not used.\n",
            "\n"
          ]
        },
        {
          "output_type": "stream",
          "name": "stderr",
          "text": [
            "<ipython-input-85-2345e3e9b7ee>:21: FutureWarning: The frame.append method is deprecated and will be removed from pandas in a future version. Use pandas.concat instead.\n",
            "  pdResults = pdResults.append(pd.DataFrame({'iter' : i,\n",
            "/usr/local/lib/python3.10/dist-packages/xgboost/core.py:617: FutureWarning: Pass `evals` as keyword args.\n",
            "  warnings.warn(msg, FutureWarning)\n"
          ]
        },
        {
          "output_type": "stream",
          "name": "stdout",
          "text": [
            "[0]\ttrain-auc:0.83996\tvalid-auc:0.81317\n",
            "[5]\ttrain-auc:0.85345\tvalid-auc:0.82160\n",
            "[9]\ttrain-auc:0.85870\tvalid-auc:0.82629\n",
            "****** Iteration : 43\n",
            "[20:52:45] WARNING: ../src/learner.cc:767: \n",
            "Parameters: { \"min_data_leaf\", \"objetive\" } are not used.\n",
            "\n"
          ]
        },
        {
          "output_type": "stream",
          "name": "stderr",
          "text": [
            "<ipython-input-85-2345e3e9b7ee>:21: FutureWarning: The frame.append method is deprecated and will be removed from pandas in a future version. Use pandas.concat instead.\n",
            "  pdResults = pdResults.append(pd.DataFrame({'iter' : i,\n",
            "/usr/local/lib/python3.10/dist-packages/xgboost/core.py:617: FutureWarning: Pass `evals` as keyword args.\n",
            "  warnings.warn(msg, FutureWarning)\n"
          ]
        },
        {
          "output_type": "stream",
          "name": "stdout",
          "text": [
            "[0]\ttrain-auc:0.85380\tvalid-auc:0.80693\n",
            "[5]\ttrain-auc:0.86037\tvalid-auc:0.81124\n",
            "[9]\ttrain-auc:0.86414\tvalid-auc:0.81479\n",
            "****** Iteration : 44\n",
            "[20:52:53] WARNING: ../src/learner.cc:767: \n",
            "Parameters: { \"min_data_leaf\", \"objetive\" } are not used.\n",
            "\n"
          ]
        },
        {
          "output_type": "stream",
          "name": "stderr",
          "text": [
            "<ipython-input-85-2345e3e9b7ee>:21: FutureWarning: The frame.append method is deprecated and will be removed from pandas in a future version. Use pandas.concat instead.\n",
            "  pdResults = pdResults.append(pd.DataFrame({'iter' : i,\n",
            "/usr/local/lib/python3.10/dist-packages/xgboost/core.py:617: FutureWarning: Pass `evals` as keyword args.\n",
            "  warnings.warn(msg, FutureWarning)\n"
          ]
        },
        {
          "output_type": "stream",
          "name": "stdout",
          "text": [
            "[0]\ttrain-auc:0.87002\tvalid-auc:0.79485\n",
            "[5]\ttrain-auc:0.90898\tvalid-auc:0.81294\n",
            "[9]\ttrain-auc:0.92076\tvalid-auc:0.81149\n",
            "****** Iteration : 45\n",
            "[20:53:01] WARNING: ../src/learner.cc:767: \n",
            "Parameters: { \"min_data_leaf\", \"objetive\" } are not used.\n",
            "\n"
          ]
        },
        {
          "output_type": "stream",
          "name": "stderr",
          "text": [
            "<ipython-input-85-2345e3e9b7ee>:21: FutureWarning: The frame.append method is deprecated and will be removed from pandas in a future version. Use pandas.concat instead.\n",
            "  pdResults = pdResults.append(pd.DataFrame({'iter' : i,\n",
            "/usr/local/lib/python3.10/dist-packages/xgboost/core.py:617: FutureWarning: Pass `evals` as keyword args.\n",
            "  warnings.warn(msg, FutureWarning)\n"
          ]
        },
        {
          "output_type": "stream",
          "name": "stdout",
          "text": [
            "[0]\ttrain-auc:0.85635\tvalid-auc:0.81124\n",
            "[5]\ttrain-auc:0.89994\tvalid-auc:0.81812\n",
            "[9]\ttrain-auc:0.92530\tvalid-auc:0.81846\n",
            "****** Iteration : 46\n",
            "[20:53:10] WARNING: ../src/learner.cc:767: \n",
            "Parameters: { \"min_data_leaf\", \"objetive\" } are not used.\n",
            "\n",
            "[0]\ttrain-auc:0.77464\tvalid-auc:0.76449\n"
          ]
        },
        {
          "output_type": "stream",
          "name": "stderr",
          "text": [
            "<ipython-input-85-2345e3e9b7ee>:21: FutureWarning: The frame.append method is deprecated and will be removed from pandas in a future version. Use pandas.concat instead.\n",
            "  pdResults = pdResults.append(pd.DataFrame({'iter' : i,\n",
            "/usr/local/lib/python3.10/dist-packages/xgboost/core.py:617: FutureWarning: Pass `evals` as keyword args.\n",
            "  warnings.warn(msg, FutureWarning)\n"
          ]
        },
        {
          "output_type": "stream",
          "name": "stdout",
          "text": [
            "[5]\ttrain-auc:0.81925\tvalid-auc:0.80282\n",
            "[9]\ttrain-auc:0.82847\tvalid-auc:0.81592\n",
            "****** Iteration : 47\n",
            "[20:53:12] WARNING: ../src/learner.cc:767: \n",
            "Parameters: { \"min_data_leaf\", \"objetive\" } are not used.\n",
            "\n"
          ]
        },
        {
          "output_type": "stream",
          "name": "stderr",
          "text": [
            "<ipython-input-85-2345e3e9b7ee>:21: FutureWarning: The frame.append method is deprecated and will be removed from pandas in a future version. Use pandas.concat instead.\n",
            "  pdResults = pdResults.append(pd.DataFrame({'iter' : i,\n",
            "/usr/local/lib/python3.10/dist-packages/xgboost/core.py:617: FutureWarning: Pass `evals` as keyword args.\n",
            "  warnings.warn(msg, FutureWarning)\n"
          ]
        },
        {
          "output_type": "stream",
          "name": "stdout",
          "text": [
            "[0]\ttrain-auc:0.86542\tvalid-auc:0.79744\n",
            "[5]\ttrain-auc:0.87972\tvalid-auc:0.81104\n",
            "[9]\ttrain-auc:0.88789\tvalid-auc:0.81810\n",
            "****** Iteration : 48\n",
            "[20:53:21] WARNING: ../src/learner.cc:767: \n",
            "Parameters: { \"min_data_leaf\", \"objetive\" } are not used.\n",
            "\n"
          ]
        },
        {
          "output_type": "stream",
          "name": "stderr",
          "text": [
            "<ipython-input-85-2345e3e9b7ee>:21: FutureWarning: The frame.append method is deprecated and will be removed from pandas in a future version. Use pandas.concat instead.\n",
            "  pdResults = pdResults.append(pd.DataFrame({'iter' : i,\n",
            "/usr/local/lib/python3.10/dist-packages/xgboost/core.py:617: FutureWarning: Pass `evals` as keyword args.\n",
            "  warnings.warn(msg, FutureWarning)\n"
          ]
        },
        {
          "output_type": "stream",
          "name": "stdout",
          "text": [
            "[0]\ttrain-auc:0.84161\tvalid-auc:0.81093\n",
            "[5]\ttrain-auc:0.84531\tvalid-auc:0.81407\n",
            "[9]\ttrain-auc:0.84709\tvalid-auc:0.81466\n",
            "****** Iteration : 49\n",
            "[20:53:26] WARNING: ../src/learner.cc:767: \n",
            "Parameters: { \"min_data_leaf\", \"objetive\" } are not used.\n",
            "\n"
          ]
        },
        {
          "output_type": "stream",
          "name": "stderr",
          "text": [
            "<ipython-input-85-2345e3e9b7ee>:21: FutureWarning: The frame.append method is deprecated and will be removed from pandas in a future version. Use pandas.concat instead.\n",
            "  pdResults = pdResults.append(pd.DataFrame({'iter' : i,\n",
            "/usr/local/lib/python3.10/dist-packages/xgboost/core.py:617: FutureWarning: Pass `evals` as keyword args.\n",
            "  warnings.warn(msg, FutureWarning)\n"
          ]
        },
        {
          "output_type": "stream",
          "name": "stdout",
          "text": [
            "[0]\ttrain-auc:0.82082\tvalid-auc:0.79844\n",
            "[5]\ttrain-auc:0.84323\tvalid-auc:0.82113\n",
            "[9]\ttrain-auc:0.84948\tvalid-auc:0.82560\n",
            "****** Iteration : 50\n",
            "[20:53:30] WARNING: ../src/learner.cc:767: \n",
            "Parameters: { \"min_data_leaf\", \"objetive\" } are not used.\n",
            "\n"
          ]
        },
        {
          "output_type": "stream",
          "name": "stderr",
          "text": [
            "<ipython-input-85-2345e3e9b7ee>:21: FutureWarning: The frame.append method is deprecated and will be removed from pandas in a future version. Use pandas.concat instead.\n",
            "  pdResults = pdResults.append(pd.DataFrame({'iter' : i,\n",
            "/usr/local/lib/python3.10/dist-packages/xgboost/core.py:617: FutureWarning: Pass `evals` as keyword args.\n",
            "  warnings.warn(msg, FutureWarning)\n"
          ]
        },
        {
          "output_type": "stream",
          "name": "stdout",
          "text": [
            "[0]\ttrain-auc:0.85220\tvalid-auc:0.81277\n",
            "[5]\ttrain-auc:0.85851\tvalid-auc:0.81493\n",
            "[9]\ttrain-auc:0.86193\tvalid-auc:0.81546\n",
            "****** Iteration : 51\n",
            "[20:53:37] WARNING: ../src/learner.cc:767: \n",
            "Parameters: { \"min_data_leaf\", \"objetive\" } are not used.\n",
            "\n"
          ]
        },
        {
          "output_type": "stream",
          "name": "stderr",
          "text": [
            "<ipython-input-85-2345e3e9b7ee>:21: FutureWarning: The frame.append method is deprecated and will be removed from pandas in a future version. Use pandas.concat instead.\n",
            "  pdResults = pdResults.append(pd.DataFrame({'iter' : i,\n",
            "/usr/local/lib/python3.10/dist-packages/xgboost/core.py:617: FutureWarning: Pass `evals` as keyword args.\n",
            "  warnings.warn(msg, FutureWarning)\n"
          ]
        },
        {
          "output_type": "stream",
          "name": "stdout",
          "text": [
            "[0]\ttrain-auc:0.82082\tvalid-auc:0.79844\n",
            "[5]\ttrain-auc:0.84323\tvalid-auc:0.82113\n",
            "[9]\ttrain-auc:0.84948\tvalid-auc:0.82560\n"
          ]
        },
        {
          "output_type": "stream",
          "name": "stderr",
          "text": [
            "<ipython-input-85-2345e3e9b7ee>:21: FutureWarning: The frame.append method is deprecated and will be removed from pandas in a future version. Use pandas.concat instead.\n",
            "  pdResults = pdResults.append(pd.DataFrame({'iter' : i,\n",
            "/usr/local/lib/python3.10/dist-packages/xgboost/core.py:617: FutureWarning: Pass `evals` as keyword args.\n",
            "  warnings.warn(msg, FutureWarning)\n"
          ]
        },
        {
          "output_type": "stream",
          "name": "stdout",
          "text": [
            "****** Iteration : 52\n",
            "[20:53:41] WARNING: ../src/learner.cc:767: \n",
            "Parameters: { \"min_data_leaf\", \"objetive\" } are not used.\n",
            "\n",
            "[0]\ttrain-auc:0.85965\tvalid-auc:0.80965\n",
            "[5]\ttrain-auc:0.87413\tvalid-auc:0.81518\n",
            "[9]\ttrain-auc:0.88540\tvalid-auc:0.81704\n",
            "****** Iteration : 53\n",
            "[20:53:50] WARNING: ../src/learner.cc:767: \n",
            "Parameters: { \"min_data_leaf\", \"objetive\" } are not used.\n",
            "\n"
          ]
        },
        {
          "output_type": "stream",
          "name": "stderr",
          "text": [
            "<ipython-input-85-2345e3e9b7ee>:21: FutureWarning: The frame.append method is deprecated and will be removed from pandas in a future version. Use pandas.concat instead.\n",
            "  pdResults = pdResults.append(pd.DataFrame({'iter' : i,\n",
            "/usr/local/lib/python3.10/dist-packages/xgboost/core.py:617: FutureWarning: Pass `evals` as keyword args.\n",
            "  warnings.warn(msg, FutureWarning)\n"
          ]
        },
        {
          "output_type": "stream",
          "name": "stdout",
          "text": [
            "[0]\ttrain-auc:0.86172\tvalid-auc:0.80226\n",
            "[5]\ttrain-auc:0.90096\tvalid-auc:0.81584\n",
            "[9]\ttrain-auc:0.91769\tvalid-auc:0.81802\n",
            "****** Iteration : 54\n",
            "[20:53:59] WARNING: ../src/learner.cc:767: \n",
            "Parameters: { \"min_data_leaf\", \"objetive\" } are not used.\n",
            "\n"
          ]
        },
        {
          "output_type": "stream",
          "name": "stderr",
          "text": [
            "<ipython-input-85-2345e3e9b7ee>:21: FutureWarning: The frame.append method is deprecated and will be removed from pandas in a future version. Use pandas.concat instead.\n",
            "  pdResults = pdResults.append(pd.DataFrame({'iter' : i,\n",
            "/usr/local/lib/python3.10/dist-packages/xgboost/core.py:617: FutureWarning: Pass `evals` as keyword args.\n",
            "  warnings.warn(msg, FutureWarning)\n"
          ]
        },
        {
          "output_type": "stream",
          "name": "stdout",
          "text": [
            "[0]\ttrain-auc:0.80662\tvalid-auc:0.78658\n",
            "[5]\ttrain-auc:0.82213\tvalid-auc:0.80443\n",
            "[9]\ttrain-auc:0.82619\tvalid-auc:0.80870\n",
            "****** Iteration : 55\n",
            "[20:54:01] WARNING: ../src/learner.cc:767: \n",
            "Parameters: { \"min_data_leaf\", \"objetive\" } are not used.\n",
            "\n"
          ]
        },
        {
          "output_type": "stream",
          "name": "stderr",
          "text": [
            "<ipython-input-85-2345e3e9b7ee>:21: FutureWarning: The frame.append method is deprecated and will be removed from pandas in a future version. Use pandas.concat instead.\n",
            "  pdResults = pdResults.append(pd.DataFrame({'iter' : i,\n",
            "/usr/local/lib/python3.10/dist-packages/xgboost/core.py:617: FutureWarning: Pass `evals` as keyword args.\n",
            "  warnings.warn(msg, FutureWarning)\n"
          ]
        },
        {
          "output_type": "stream",
          "name": "stdout",
          "text": [
            "[0]\ttrain-auc:0.85660\tvalid-auc:0.80803\n",
            "[5]\ttrain-auc:0.89580\tvalid-auc:0.81914\n",
            "[9]\ttrain-auc:0.90930\tvalid-auc:0.82270\n",
            "****** Iteration : 56\n",
            "[20:54:09] WARNING: ../src/learner.cc:767: \n",
            "Parameters: { \"min_data_leaf\", \"objetive\" } are not used.\n",
            "\n"
          ]
        },
        {
          "output_type": "stream",
          "name": "stderr",
          "text": [
            "<ipython-input-85-2345e3e9b7ee>:21: FutureWarning: The frame.append method is deprecated and will be removed from pandas in a future version. Use pandas.concat instead.\n",
            "  pdResults = pdResults.append(pd.DataFrame({'iter' : i,\n",
            "/usr/local/lib/python3.10/dist-packages/xgboost/core.py:617: FutureWarning: Pass `evals` as keyword args.\n",
            "  warnings.warn(msg, FutureWarning)\n"
          ]
        },
        {
          "output_type": "stream",
          "name": "stdout",
          "text": [
            "[0]\ttrain-auc:0.84282\tvalid-auc:0.81078\n",
            "[5]\ttrain-auc:0.86783\tvalid-auc:0.82405\n",
            "[9]\ttrain-auc:0.87715\tvalid-auc:0.82659\n",
            "****** Iteration : 57\n",
            "[20:54:14] WARNING: ../src/learner.cc:767: \n",
            "Parameters: { \"min_data_leaf\", \"objetive\" } are not used.\n",
            "\n"
          ]
        },
        {
          "output_type": "stream",
          "name": "stderr",
          "text": [
            "<ipython-input-85-2345e3e9b7ee>:21: FutureWarning: The frame.append method is deprecated and will be removed from pandas in a future version. Use pandas.concat instead.\n",
            "  pdResults = pdResults.append(pd.DataFrame({'iter' : i,\n",
            "/usr/local/lib/python3.10/dist-packages/xgboost/core.py:617: FutureWarning: Pass `evals` as keyword args.\n",
            "  warnings.warn(msg, FutureWarning)\n"
          ]
        },
        {
          "output_type": "stream",
          "name": "stdout",
          "text": [
            "[0]\ttrain-auc:0.85581\tvalid-auc:0.80622\n",
            "[5]\ttrain-auc:0.88644\tvalid-auc:0.82023\n",
            "[9]\ttrain-auc:0.89871\tvalid-auc:0.82094\n",
            "****** Iteration : 58\n",
            "[20:54:22] WARNING: ../src/learner.cc:767: \n",
            "Parameters: { \"min_data_leaf\", \"objetive\" } are not used.\n",
            "\n"
          ]
        },
        {
          "output_type": "stream",
          "name": "stderr",
          "text": [
            "<ipython-input-85-2345e3e9b7ee>:21: FutureWarning: The frame.append method is deprecated and will be removed from pandas in a future version. Use pandas.concat instead.\n",
            "  pdResults = pdResults.append(pd.DataFrame({'iter' : i,\n",
            "/usr/local/lib/python3.10/dist-packages/xgboost/core.py:617: FutureWarning: Pass `evals` as keyword args.\n",
            "  warnings.warn(msg, FutureWarning)\n"
          ]
        },
        {
          "output_type": "stream",
          "name": "stdout",
          "text": [
            "[0]\ttrain-auc:0.85985\tvalid-auc:0.81038\n",
            "[5]\ttrain-auc:0.90916\tvalid-auc:0.81859\n",
            "[9]\ttrain-auc:0.93535\tvalid-auc:0.81713\n",
            "****** Iteration : 59\n",
            "[20:54:31] WARNING: ../src/learner.cc:767: \n",
            "Parameters: { \"min_data_leaf\", \"objetive\" } are not used.\n",
            "\n"
          ]
        },
        {
          "output_type": "stream",
          "name": "stderr",
          "text": [
            "<ipython-input-85-2345e3e9b7ee>:21: FutureWarning: The frame.append method is deprecated and will be removed from pandas in a future version. Use pandas.concat instead.\n",
            "  pdResults = pdResults.append(pd.DataFrame({'iter' : i,\n",
            "/usr/local/lib/python3.10/dist-packages/xgboost/core.py:617: FutureWarning: Pass `evals` as keyword args.\n",
            "  warnings.warn(msg, FutureWarning)\n"
          ]
        },
        {
          "output_type": "stream",
          "name": "stdout",
          "text": [
            "[0]\ttrain-auc:0.83267\tvalid-auc:0.80875\n",
            "[5]\ttrain-auc:0.84240\tvalid-auc:0.81666\n",
            "[9]\ttrain-auc:0.84547\tvalid-auc:0.82102\n",
            "****** Iteration : 60\n",
            "[20:54:36] WARNING: ../src/learner.cc:767: \n",
            "Parameters: { \"min_data_leaf\", \"objetive\" } are not used.\n",
            "\n"
          ]
        },
        {
          "output_type": "stream",
          "name": "stderr",
          "text": [
            "<ipython-input-85-2345e3e9b7ee>:21: FutureWarning: The frame.append method is deprecated and will be removed from pandas in a future version. Use pandas.concat instead.\n",
            "  pdResults = pdResults.append(pd.DataFrame({'iter' : i,\n",
            "/usr/local/lib/python3.10/dist-packages/xgboost/core.py:617: FutureWarning: Pass `evals` as keyword args.\n",
            "  warnings.warn(msg, FutureWarning)\n"
          ]
        },
        {
          "output_type": "stream",
          "name": "stdout",
          "text": [
            "[0]\ttrain-auc:0.86682\tvalid-auc:0.79781\n",
            "[5]\ttrain-auc:0.88463\tvalid-auc:0.81141\n",
            "[9]\ttrain-auc:0.89274\tvalid-auc:0.81591\n",
            "****** Iteration : 61\n",
            "[20:54:46] WARNING: ../src/learner.cc:767: \n",
            "Parameters: { \"min_data_leaf\", \"objetive\" } are not used.\n",
            "\n"
          ]
        },
        {
          "output_type": "stream",
          "name": "stderr",
          "text": [
            "<ipython-input-85-2345e3e9b7ee>:21: FutureWarning: The frame.append method is deprecated and will be removed from pandas in a future version. Use pandas.concat instead.\n",
            "  pdResults = pdResults.append(pd.DataFrame({'iter' : i,\n",
            "/usr/local/lib/python3.10/dist-packages/xgboost/core.py:617: FutureWarning: Pass `evals` as keyword args.\n",
            "  warnings.warn(msg, FutureWarning)\n"
          ]
        },
        {
          "output_type": "stream",
          "name": "stdout",
          "text": [
            "[0]\ttrain-auc:0.80662\tvalid-auc:0.78658\n",
            "[5]\ttrain-auc:0.82887\tvalid-auc:0.81130\n",
            "[9]\ttrain-auc:0.83462\tvalid-auc:0.81776\n",
            "****** Iteration : 62\n",
            "[20:54:48] WARNING: ../src/learner.cc:767: \n",
            "Parameters: { \"min_data_leaf\", \"objetive\" } are not used.\n",
            "\n"
          ]
        },
        {
          "output_type": "stream",
          "name": "stderr",
          "text": [
            "<ipython-input-85-2345e3e9b7ee>:21: FutureWarning: The frame.append method is deprecated and will be removed from pandas in a future version. Use pandas.concat instead.\n",
            "  pdResults = pdResults.append(pd.DataFrame({'iter' : i,\n",
            "/usr/local/lib/python3.10/dist-packages/xgboost/core.py:617: FutureWarning: Pass `evals` as keyword args.\n",
            "  warnings.warn(msg, FutureWarning)\n"
          ]
        },
        {
          "output_type": "stream",
          "name": "stdout",
          "text": [
            "[0]\ttrain-auc:0.80643\tvalid-auc:0.78668\n",
            "[5]\ttrain-auc:0.80891\tvalid-auc:0.78950\n",
            "[9]\ttrain-auc:0.81254\tvalid-auc:0.79339\n",
            "****** Iteration : 63\n",
            "[20:54:50] WARNING: ../src/learner.cc:767: \n",
            "Parameters: { \"min_data_leaf\", \"objetive\" } are not used.\n",
            "\n"
          ]
        },
        {
          "output_type": "stream",
          "name": "stderr",
          "text": [
            "<ipython-input-85-2345e3e9b7ee>:21: FutureWarning: The frame.append method is deprecated and will be removed from pandas in a future version. Use pandas.concat instead.\n",
            "  pdResults = pdResults.append(pd.DataFrame({'iter' : i,\n",
            "/usr/local/lib/python3.10/dist-packages/xgboost/core.py:617: FutureWarning: Pass `evals` as keyword args.\n",
            "  warnings.warn(msg, FutureWarning)\n"
          ]
        },
        {
          "output_type": "stream",
          "name": "stdout",
          "text": [
            "[0]\ttrain-auc:0.83179\tvalid-auc:0.80831\n",
            "[5]\ttrain-auc:0.85091\tvalid-auc:0.82135\n",
            "[9]\ttrain-auc:0.85767\tvalid-auc:0.82423\n",
            "****** Iteration : 64\n",
            "[20:54:54] WARNING: ../src/learner.cc:767: \n",
            "Parameters: { \"min_data_leaf\", \"objetive\" } are not used.\n",
            "\n"
          ]
        },
        {
          "output_type": "stream",
          "name": "stderr",
          "text": [
            "<ipython-input-85-2345e3e9b7ee>:21: FutureWarning: The frame.append method is deprecated and will be removed from pandas in a future version. Use pandas.concat instead.\n",
            "  pdResults = pdResults.append(pd.DataFrame({'iter' : i,\n",
            "/usr/local/lib/python3.10/dist-packages/xgboost/core.py:617: FutureWarning: Pass `evals` as keyword args.\n",
            "  warnings.warn(msg, FutureWarning)\n"
          ]
        },
        {
          "output_type": "stream",
          "name": "stdout",
          "text": [
            "[0]\ttrain-auc:0.84197\tvalid-auc:0.80882\n",
            "[5]\ttrain-auc:0.85322\tvalid-auc:0.81748\n",
            "[9]\ttrain-auc:0.85966\tvalid-auc:0.82128\n",
            "****** Iteration : 65\n",
            "[20:55:00] WARNING: ../src/learner.cc:767: \n",
            "Parameters: { \"min_data_leaf\", \"objetive\" } are not used.\n",
            "\n",
            "[0]\ttrain-auc:0.77464\tvalid-auc:0.76449\n"
          ]
        },
        {
          "output_type": "stream",
          "name": "stderr",
          "text": [
            "<ipython-input-85-2345e3e9b7ee>:21: FutureWarning: The frame.append method is deprecated and will be removed from pandas in a future version. Use pandas.concat instead.\n",
            "  pdResults = pdResults.append(pd.DataFrame({'iter' : i,\n",
            "/usr/local/lib/python3.10/dist-packages/xgboost/core.py:617: FutureWarning: Pass `evals` as keyword args.\n",
            "  warnings.warn(msg, FutureWarning)\n"
          ]
        },
        {
          "output_type": "stream",
          "name": "stdout",
          "text": [
            "[5]\ttrain-auc:0.78406\tvalid-auc:0.77659\n",
            "[9]\ttrain-auc:0.81792\tvalid-auc:0.80230\n",
            "****** Iteration : 66\n",
            "[20:55:02] WARNING: ../src/learner.cc:767: \n",
            "Parameters: { \"min_data_leaf\", \"objetive\" } are not used.\n",
            "\n"
          ]
        },
        {
          "output_type": "stream",
          "name": "stderr",
          "text": [
            "<ipython-input-85-2345e3e9b7ee>:21: FutureWarning: The frame.append method is deprecated and will be removed from pandas in a future version. Use pandas.concat instead.\n",
            "  pdResults = pdResults.append(pd.DataFrame({'iter' : i,\n",
            "/usr/local/lib/python3.10/dist-packages/xgboost/core.py:617: FutureWarning: Pass `evals` as keyword args.\n",
            "  warnings.warn(msg, FutureWarning)\n"
          ]
        },
        {
          "output_type": "stream",
          "name": "stdout",
          "text": [
            "[0]\ttrain-auc:0.86542\tvalid-auc:0.79744\n",
            "[5]\ttrain-auc:0.87186\tvalid-auc:0.80459\n",
            "[9]\ttrain-auc:0.87710\tvalid-auc:0.80764\n",
            "****** Iteration : 67\n",
            "[20:55:12] WARNING: ../src/learner.cc:767: \n",
            "Parameters: { \"min_data_leaf\", \"objetive\" } are not used.\n",
            "\n"
          ]
        },
        {
          "output_type": "stream",
          "name": "stderr",
          "text": [
            "<ipython-input-85-2345e3e9b7ee>:21: FutureWarning: The frame.append method is deprecated and will be removed from pandas in a future version. Use pandas.concat instead.\n",
            "  pdResults = pdResults.append(pd.DataFrame({'iter' : i,\n",
            "/usr/local/lib/python3.10/dist-packages/xgboost/core.py:617: FutureWarning: Pass `evals` as keyword args.\n",
            "  warnings.warn(msg, FutureWarning)\n"
          ]
        },
        {
          "output_type": "stream",
          "name": "stdout",
          "text": [
            "[0]\ttrain-auc:0.83272\tvalid-auc:0.80804\n",
            "[5]\ttrain-auc:0.84472\tvalid-auc:0.81940\n",
            "[9]\ttrain-auc:0.85070\tvalid-auc:0.82364\n",
            "****** Iteration : 68\n",
            "[20:55:16] WARNING: ../src/learner.cc:767: \n",
            "Parameters: { \"min_data_leaf\", \"objetive\" } are not used.\n",
            "\n"
          ]
        },
        {
          "output_type": "stream",
          "name": "stderr",
          "text": [
            "<ipython-input-85-2345e3e9b7ee>:21: FutureWarning: The frame.append method is deprecated and will be removed from pandas in a future version. Use pandas.concat instead.\n",
            "  pdResults = pdResults.append(pd.DataFrame({'iter' : i,\n",
            "/usr/local/lib/python3.10/dist-packages/xgboost/core.py:617: FutureWarning: Pass `evals` as keyword args.\n",
            "  warnings.warn(msg, FutureWarning)\n"
          ]
        },
        {
          "output_type": "stream",
          "name": "stdout",
          "text": [
            "[0]\ttrain-auc:0.83279\tvalid-auc:0.80787\n",
            "[5]\ttrain-auc:0.83473\tvalid-auc:0.81089\n",
            "[9]\ttrain-auc:0.83965\tvalid-auc:0.81527\n",
            "****** Iteration : 69\n",
            "[20:55:19] WARNING: ../src/learner.cc:767: \n",
            "Parameters: { \"min_data_leaf\", \"objetive\" } are not used.\n",
            "\n",
            "[0]\ttrain-auc:0.77464\tvalid-auc:0.76449\n"
          ]
        },
        {
          "output_type": "stream",
          "name": "stderr",
          "text": [
            "<ipython-input-85-2345e3e9b7ee>:21: FutureWarning: The frame.append method is deprecated and will be removed from pandas in a future version. Use pandas.concat instead.\n",
            "  pdResults = pdResults.append(pd.DataFrame({'iter' : i,\n",
            "/usr/local/lib/python3.10/dist-packages/xgboost/core.py:617: FutureWarning: Pass `evals` as keyword args.\n",
            "  warnings.warn(msg, FutureWarning)\n"
          ]
        },
        {
          "output_type": "stream",
          "name": "stdout",
          "text": [
            "[5]\ttrain-auc:0.77478\tvalid-auc:0.76484\n",
            "[9]\ttrain-auc:0.77478\tvalid-auc:0.76484\n",
            "****** Iteration : 70\n",
            "[20:55:21] WARNING: ../src/learner.cc:767: \n",
            "Parameters: { \"min_data_leaf\", \"objetive\" } are not used.\n",
            "\n"
          ]
        },
        {
          "output_type": "stream",
          "name": "stderr",
          "text": [
            "<ipython-input-85-2345e3e9b7ee>:21: FutureWarning: The frame.append method is deprecated and will be removed from pandas in a future version. Use pandas.concat instead.\n",
            "  pdResults = pdResults.append(pd.DataFrame({'iter' : i,\n",
            "/usr/local/lib/python3.10/dist-packages/xgboost/core.py:617: FutureWarning: Pass `evals` as keyword args.\n",
            "  warnings.warn(msg, FutureWarning)\n"
          ]
        },
        {
          "output_type": "stream",
          "name": "stdout",
          "text": [
            "[0]\ttrain-auc:0.83522\tvalid-auc:0.80876\n",
            "[5]\ttrain-auc:0.84635\tvalid-auc:0.81749\n",
            "[9]\ttrain-auc:0.85175\tvalid-auc:0.82080\n",
            "****** Iteration : 71\n",
            "[20:55:27] WARNING: ../src/learner.cc:767: \n",
            "Parameters: { \"min_data_leaf\", \"objetive\" } are not used.\n",
            "\n"
          ]
        },
        {
          "output_type": "stream",
          "name": "stderr",
          "text": [
            "<ipython-input-85-2345e3e9b7ee>:21: FutureWarning: The frame.append method is deprecated and will be removed from pandas in a future version. Use pandas.concat instead.\n",
            "  pdResults = pdResults.append(pd.DataFrame({'iter' : i,\n",
            "/usr/local/lib/python3.10/dist-packages/xgboost/core.py:617: FutureWarning: Pass `evals` as keyword args.\n",
            "  warnings.warn(msg, FutureWarning)\n"
          ]
        },
        {
          "output_type": "stream",
          "name": "stdout",
          "text": [
            "[0]\ttrain-auc:0.86006\tvalid-auc:0.80417\n",
            "[5]\ttrain-auc:0.89335\tvalid-auc:0.82002\n",
            "[9]\ttrain-auc:0.91235\tvalid-auc:0.82251\n",
            "****** Iteration : 72\n",
            "[20:55:34] WARNING: ../src/learner.cc:767: \n",
            "Parameters: { \"min_data_leaf\", \"objetive\" } are not used.\n",
            "\n"
          ]
        },
        {
          "output_type": "stream",
          "name": "stderr",
          "text": [
            "<ipython-input-85-2345e3e9b7ee>:21: FutureWarning: The frame.append method is deprecated and will be removed from pandas in a future version. Use pandas.concat instead.\n",
            "  pdResults = pdResults.append(pd.DataFrame({'iter' : i,\n",
            "/usr/local/lib/python3.10/dist-packages/xgboost/core.py:617: FutureWarning: Pass `evals` as keyword args.\n",
            "  warnings.warn(msg, FutureWarning)\n"
          ]
        },
        {
          "output_type": "stream",
          "name": "stdout",
          "text": [
            "[0]\ttrain-auc:0.84666\tvalid-auc:0.81047\n",
            "[5]\ttrain-auc:0.85289\tvalid-auc:0.81454\n",
            "[9]\ttrain-auc:0.85640\tvalid-auc:0.81565\n",
            "****** Iteration : 73\n",
            "[20:55:41] WARNING: ../src/learner.cc:767: \n",
            "Parameters: { \"min_data_leaf\", \"objetive\" } are not used.\n",
            "\n"
          ]
        },
        {
          "output_type": "stream",
          "name": "stderr",
          "text": [
            "<ipython-input-85-2345e3e9b7ee>:21: FutureWarning: The frame.append method is deprecated and will be removed from pandas in a future version. Use pandas.concat instead.\n",
            "  pdResults = pdResults.append(pd.DataFrame({'iter' : i,\n",
            "/usr/local/lib/python3.10/dist-packages/xgboost/core.py:617: FutureWarning: Pass `evals` as keyword args.\n",
            "  warnings.warn(msg, FutureWarning)\n"
          ]
        },
        {
          "output_type": "stream",
          "name": "stdout",
          "text": [
            "[0]\ttrain-auc:0.83176\tvalid-auc:0.80837\n",
            "[5]\ttrain-auc:0.83320\tvalid-auc:0.80994\n",
            "[9]\ttrain-auc:0.83748\tvalid-auc:0.81384\n",
            "****** Iteration : 74\n",
            "[20:55:44] WARNING: ../src/learner.cc:767: \n",
            "Parameters: { \"min_data_leaf\", \"objetive\" } are not used.\n",
            "\n"
          ]
        },
        {
          "output_type": "stream",
          "name": "stderr",
          "text": [
            "<ipython-input-85-2345e3e9b7ee>:21: FutureWarning: The frame.append method is deprecated and will be removed from pandas in a future version. Use pandas.concat instead.\n",
            "  pdResults = pdResults.append(pd.DataFrame({'iter' : i,\n",
            "/usr/local/lib/python3.10/dist-packages/xgboost/core.py:617: FutureWarning: Pass `evals` as keyword args.\n",
            "  warnings.warn(msg, FutureWarning)\n"
          ]
        },
        {
          "output_type": "stream",
          "name": "stdout",
          "text": [
            "[0]\ttrain-auc:0.84409\tvalid-auc:0.81084\n",
            "[5]\ttrain-auc:0.85022\tvalid-auc:0.81636\n",
            "[9]\ttrain-auc:0.85388\tvalid-auc:0.81838\n",
            "****** Iteration : 75\n",
            "[20:55:51] WARNING: ../src/learner.cc:767: \n",
            "Parameters: { \"min_data_leaf\", \"objetive\" } are not used.\n",
            "\n"
          ]
        },
        {
          "output_type": "stream",
          "name": "stderr",
          "text": [
            "<ipython-input-85-2345e3e9b7ee>:21: FutureWarning: The frame.append method is deprecated and will be removed from pandas in a future version. Use pandas.concat instead.\n",
            "  pdResults = pdResults.append(pd.DataFrame({'iter' : i,\n",
            "/usr/local/lib/python3.10/dist-packages/xgboost/core.py:617: FutureWarning: Pass `evals` as keyword args.\n",
            "  warnings.warn(msg, FutureWarning)\n"
          ]
        },
        {
          "output_type": "stream",
          "name": "stdout",
          "text": [
            "[0]\ttrain-auc:0.83996\tvalid-auc:0.81317\n",
            "[5]\ttrain-auc:0.85345\tvalid-auc:0.82160\n",
            "[9]\ttrain-auc:0.85870\tvalid-auc:0.82629\n",
            "****** Iteration : 76\n",
            "[20:55:55] WARNING: ../src/learner.cc:767: \n",
            "Parameters: { \"min_data_leaf\", \"objetive\" } are not used.\n",
            "\n"
          ]
        },
        {
          "output_type": "stream",
          "name": "stderr",
          "text": [
            "<ipython-input-85-2345e3e9b7ee>:21: FutureWarning: The frame.append method is deprecated and will be removed from pandas in a future version. Use pandas.concat instead.\n",
            "  pdResults = pdResults.append(pd.DataFrame({'iter' : i,\n",
            "/usr/local/lib/python3.10/dist-packages/xgboost/core.py:617: FutureWarning: Pass `evals` as keyword args.\n",
            "  warnings.warn(msg, FutureWarning)\n"
          ]
        },
        {
          "output_type": "stream",
          "name": "stdout",
          "text": [
            "[0]\ttrain-auc:0.85368\tvalid-auc:0.80721\n",
            "[5]\ttrain-auc:0.85893\tvalid-auc:0.81050\n",
            "[9]\ttrain-auc:0.86033\tvalid-auc:0.81098\n",
            "****** Iteration : 77\n",
            "[20:56:03] WARNING: ../src/learner.cc:767: \n",
            "Parameters: { \"min_data_leaf\", \"objetive\" } are not used.\n",
            "\n"
          ]
        },
        {
          "output_type": "stream",
          "name": "stderr",
          "text": [
            "<ipython-input-85-2345e3e9b7ee>:21: FutureWarning: The frame.append method is deprecated and will be removed from pandas in a future version. Use pandas.concat instead.\n",
            "  pdResults = pdResults.append(pd.DataFrame({'iter' : i,\n",
            "/usr/local/lib/python3.10/dist-packages/xgboost/core.py:617: FutureWarning: Pass `evals` as keyword args.\n",
            "  warnings.warn(msg, FutureWarning)\n"
          ]
        },
        {
          "output_type": "stream",
          "name": "stdout",
          "text": [
            "[0]\ttrain-auc:0.85482\tvalid-auc:0.81129\n",
            "[5]\ttrain-auc:0.86024\tvalid-auc:0.81403\n",
            "[9]\ttrain-auc:0.86372\tvalid-auc:0.81478\n",
            "****** Iteration : 78\n",
            "[20:56:10] WARNING: ../src/learner.cc:767: \n",
            "Parameters: { \"min_data_leaf\", \"objetive\" } are not used.\n",
            "\n"
          ]
        },
        {
          "output_type": "stream",
          "name": "stderr",
          "text": [
            "<ipython-input-85-2345e3e9b7ee>:21: FutureWarning: The frame.append method is deprecated and will be removed from pandas in a future version. Use pandas.concat instead.\n",
            "  pdResults = pdResults.append(pd.DataFrame({'iter' : i,\n",
            "/usr/local/lib/python3.10/dist-packages/xgboost/core.py:617: FutureWarning: Pass `evals` as keyword args.\n",
            "  warnings.warn(msg, FutureWarning)\n"
          ]
        },
        {
          "output_type": "stream",
          "name": "stdout",
          "text": [
            "[0]\ttrain-auc:0.80662\tvalid-auc:0.78658\n",
            "[5]\ttrain-auc:0.81577\tvalid-auc:0.79641\n",
            "[9]\ttrain-auc:0.81825\tvalid-auc:0.80026\n",
            "****** Iteration : 79\n",
            "[20:56:14] WARNING: ../src/learner.cc:767: \n",
            "Parameters: { \"min_data_leaf\", \"objetive\" } are not used.\n",
            "\n",
            "[0]\ttrain-auc:0.77464\tvalid-auc:0.76449\n"
          ]
        },
        {
          "output_type": "stream",
          "name": "stderr",
          "text": [
            "<ipython-input-85-2345e3e9b7ee>:21: FutureWarning: The frame.append method is deprecated and will be removed from pandas in a future version. Use pandas.concat instead.\n",
            "  pdResults = pdResults.append(pd.DataFrame({'iter' : i,\n",
            "/usr/local/lib/python3.10/dist-packages/xgboost/core.py:617: FutureWarning: Pass `evals` as keyword args.\n",
            "  warnings.warn(msg, FutureWarning)\n"
          ]
        },
        {
          "output_type": "stream",
          "name": "stdout",
          "text": [
            "[5]\ttrain-auc:0.81925\tvalid-auc:0.80282\n",
            "[9]\ttrain-auc:0.82847\tvalid-auc:0.81592\n",
            "****** Iteration : 80\n",
            "[20:56:16] WARNING: ../src/learner.cc:767: \n",
            "Parameters: { \"min_data_leaf\", \"objetive\" } are not used.\n",
            "\n"
          ]
        },
        {
          "output_type": "stream",
          "name": "stderr",
          "text": [
            "<ipython-input-85-2345e3e9b7ee>:21: FutureWarning: The frame.append method is deprecated and will be removed from pandas in a future version. Use pandas.concat instead.\n",
            "  pdResults = pdResults.append(pd.DataFrame({'iter' : i,\n",
            "/usr/local/lib/python3.10/dist-packages/xgboost/core.py:617: FutureWarning: Pass `evals` as keyword args.\n",
            "  warnings.warn(msg, FutureWarning)\n"
          ]
        },
        {
          "output_type": "stream",
          "name": "stdout",
          "text": [
            "[0]\ttrain-auc:0.81777\tvalid-auc:0.79576\n",
            "[5]\ttrain-auc:0.82495\tvalid-auc:0.80262\n",
            "[9]\ttrain-auc:0.82928\tvalid-auc:0.80650\n",
            "****** Iteration : 81\n",
            "[20:56:19] WARNING: ../src/learner.cc:767: \n",
            "Parameters: { \"min_data_leaf\", \"objetive\" } are not used.\n",
            "\n"
          ]
        },
        {
          "output_type": "stream",
          "name": "stderr",
          "text": [
            "<ipython-input-85-2345e3e9b7ee>:21: FutureWarning: The frame.append method is deprecated and will be removed from pandas in a future version. Use pandas.concat instead.\n",
            "  pdResults = pdResults.append(pd.DataFrame({'iter' : i,\n",
            "/usr/local/lib/python3.10/dist-packages/xgboost/core.py:617: FutureWarning: Pass `evals` as keyword args.\n",
            "  warnings.warn(msg, FutureWarning)\n"
          ]
        },
        {
          "output_type": "stream",
          "name": "stdout",
          "text": [
            "[0]\ttrain-auc:0.82040\tvalid-auc:0.79848\n",
            "[5]\ttrain-auc:0.84403\tvalid-auc:0.82071\n",
            "[9]\ttrain-auc:0.84977\tvalid-auc:0.82611\n",
            "****** Iteration : 82\n",
            "[20:56:21] WARNING: ../src/learner.cc:767: \n",
            "Parameters: { \"min_data_leaf\", \"objetive\" } are not used.\n",
            "\n"
          ]
        },
        {
          "output_type": "stream",
          "name": "stderr",
          "text": [
            "<ipython-input-85-2345e3e9b7ee>:21: FutureWarning: The frame.append method is deprecated and will be removed from pandas in a future version. Use pandas.concat instead.\n",
            "  pdResults = pdResults.append(pd.DataFrame({'iter' : i,\n",
            "/usr/local/lib/python3.10/dist-packages/xgboost/core.py:617: FutureWarning: Pass `evals` as keyword args.\n",
            "  warnings.warn(msg, FutureWarning)\n"
          ]
        },
        {
          "output_type": "stream",
          "name": "stdout",
          "text": [
            "[0]\ttrain-auc:0.84269\tvalid-auc:0.81072\n",
            "[5]\ttrain-auc:0.86167\tvalid-auc:0.82265\n",
            "[9]\ttrain-auc:0.86750\tvalid-auc:0.82632\n",
            "****** Iteration : 83\n",
            "[20:56:28] WARNING: ../src/learner.cc:767: \n",
            "Parameters: { \"min_data_leaf\", \"objetive\" } are not used.\n",
            "\n"
          ]
        },
        {
          "output_type": "stream",
          "name": "stderr",
          "text": [
            "<ipython-input-85-2345e3e9b7ee>:21: FutureWarning: The frame.append method is deprecated and will be removed from pandas in a future version. Use pandas.concat instead.\n",
            "  pdResults = pdResults.append(pd.DataFrame({'iter' : i,\n",
            "/usr/local/lib/python3.10/dist-packages/xgboost/core.py:617: FutureWarning: Pass `evals` as keyword args.\n",
            "  warnings.warn(msg, FutureWarning)\n"
          ]
        },
        {
          "output_type": "stream",
          "name": "stdout",
          "text": [
            "[0]\ttrain-auc:0.80662\tvalid-auc:0.78658\n",
            "[5]\ttrain-auc:0.83196\tvalid-auc:0.81673\n",
            "[9]\ttrain-auc:0.84012\tvalid-auc:0.82190\n",
            "****** Iteration : 84\n",
            "[20:56:30] WARNING: ../src/learner.cc:767: \n",
            "Parameters: { \"min_data_leaf\", \"objetive\" } are not used.\n",
            "\n"
          ]
        },
        {
          "output_type": "stream",
          "name": "stderr",
          "text": [
            "<ipython-input-85-2345e3e9b7ee>:21: FutureWarning: The frame.append method is deprecated and will be removed from pandas in a future version. Use pandas.concat instead.\n",
            "  pdResults = pdResults.append(pd.DataFrame({'iter' : i,\n",
            "/usr/local/lib/python3.10/dist-packages/xgboost/core.py:617: FutureWarning: Pass `evals` as keyword args.\n",
            "  warnings.warn(msg, FutureWarning)\n"
          ]
        },
        {
          "output_type": "stream",
          "name": "stdout",
          "text": [
            "[0]\ttrain-auc:0.80662\tvalid-auc:0.78658\n",
            "[5]\ttrain-auc:0.81577\tvalid-auc:0.79641\n",
            "[9]\ttrain-auc:0.81825\tvalid-auc:0.80026\n",
            "****** Iteration : 85\n",
            "[20:56:32] WARNING: ../src/learner.cc:767: \n",
            "Parameters: { \"min_data_leaf\", \"objetive\" } are not used.\n",
            "\n"
          ]
        },
        {
          "output_type": "stream",
          "name": "stderr",
          "text": [
            "<ipython-input-85-2345e3e9b7ee>:21: FutureWarning: The frame.append method is deprecated and will be removed from pandas in a future version. Use pandas.concat instead.\n",
            "  pdResults = pdResults.append(pd.DataFrame({'iter' : i,\n",
            "/usr/local/lib/python3.10/dist-packages/xgboost/core.py:617: FutureWarning: Pass `evals` as keyword args.\n",
            "  warnings.warn(msg, FutureWarning)\n"
          ]
        },
        {
          "output_type": "stream",
          "name": "stdout",
          "text": [
            "[0]\ttrain-auc:0.83172\tvalid-auc:0.80810\n",
            "[5]\ttrain-auc:0.83995\tvalid-auc:0.81643\n",
            "[9]\ttrain-auc:0.84503\tvalid-auc:0.81958\n",
            "****** Iteration : 86\n",
            "[20:56:36] WARNING: ../src/learner.cc:767: \n",
            "Parameters: { \"min_data_leaf\", \"objetive\" } are not used.\n",
            "\n"
          ]
        },
        {
          "output_type": "stream",
          "name": "stderr",
          "text": [
            "<ipython-input-85-2345e3e9b7ee>:21: FutureWarning: The frame.append method is deprecated and will be removed from pandas in a future version. Use pandas.concat instead.\n",
            "  pdResults = pdResults.append(pd.DataFrame({'iter' : i,\n",
            "/usr/local/lib/python3.10/dist-packages/xgboost/core.py:617: FutureWarning: Pass `evals` as keyword args.\n",
            "  warnings.warn(msg, FutureWarning)\n"
          ]
        },
        {
          "output_type": "stream",
          "name": "stdout",
          "text": [
            "[0]\ttrain-auc:0.84542\tvalid-auc:0.81106\n",
            "[5]\ttrain-auc:0.85726\tvalid-auc:0.81708\n",
            "[9]\ttrain-auc:0.86507\tvalid-auc:0.81935\n",
            "****** Iteration : 87\n",
            "[20:56:43] WARNING: ../src/learner.cc:767: \n",
            "Parameters: { \"min_data_leaf\", \"objetive\" } are not used.\n",
            "\n"
          ]
        },
        {
          "output_type": "stream",
          "name": "stderr",
          "text": [
            "<ipython-input-85-2345e3e9b7ee>:21: FutureWarning: The frame.append method is deprecated and will be removed from pandas in a future version. Use pandas.concat instead.\n",
            "  pdResults = pdResults.append(pd.DataFrame({'iter' : i,\n",
            "/usr/local/lib/python3.10/dist-packages/xgboost/core.py:617: FutureWarning: Pass `evals` as keyword args.\n",
            "  warnings.warn(msg, FutureWarning)\n"
          ]
        },
        {
          "output_type": "stream",
          "name": "stdout",
          "text": [
            "[0]\ttrain-auc:0.83272\tvalid-auc:0.80804\n",
            "[5]\ttrain-auc:0.84472\tvalid-auc:0.81940\n",
            "[9]\ttrain-auc:0.85070\tvalid-auc:0.82364\n",
            "****** Iteration : 88\n",
            "[20:56:47] WARNING: ../src/learner.cc:767: \n",
            "Parameters: { \"min_data_leaf\", \"objetive\" } are not used.\n",
            "\n"
          ]
        },
        {
          "output_type": "stream",
          "name": "stderr",
          "text": [
            "<ipython-input-85-2345e3e9b7ee>:21: FutureWarning: The frame.append method is deprecated and will be removed from pandas in a future version. Use pandas.concat instead.\n",
            "  pdResults = pdResults.append(pd.DataFrame({'iter' : i,\n",
            "/usr/local/lib/python3.10/dist-packages/xgboost/core.py:617: FutureWarning: Pass `evals` as keyword args.\n",
            "  warnings.warn(msg, FutureWarning)\n"
          ]
        },
        {
          "output_type": "stream",
          "name": "stdout",
          "text": [
            "[0]\ttrain-auc:0.83185\tvalid-auc:0.80831\n",
            "[5]\ttrain-auc:0.83446\tvalid-auc:0.81055\n",
            "[9]\ttrain-auc:0.83441\tvalid-auc:0.81113\n",
            "****** Iteration : 89\n",
            "[20:56:52] WARNING: ../src/learner.cc:767: \n",
            "Parameters: { \"min_data_leaf\", \"objetive\" } are not used.\n",
            "\n",
            "[0]\ttrain-auc:0.77464\tvalid-auc:0.76449\n"
          ]
        },
        {
          "output_type": "stream",
          "name": "stderr",
          "text": [
            "<ipython-input-85-2345e3e9b7ee>:21: FutureWarning: The frame.append method is deprecated and will be removed from pandas in a future version. Use pandas.concat instead.\n",
            "  pdResults = pdResults.append(pd.DataFrame({'iter' : i,\n",
            "/usr/local/lib/python3.10/dist-packages/xgboost/core.py:617: FutureWarning: Pass `evals` as keyword args.\n",
            "  warnings.warn(msg, FutureWarning)\n"
          ]
        },
        {
          "output_type": "stream",
          "name": "stdout",
          "text": [
            "[5]\ttrain-auc:0.81925\tvalid-auc:0.80282\n",
            "[9]\ttrain-auc:0.82847\tvalid-auc:0.81592\n",
            "****** Iteration : 90\n",
            "[20:56:53] WARNING: ../src/learner.cc:767: \n",
            "Parameters: { \"min_data_leaf\", \"objetive\" } are not used.\n",
            "\n"
          ]
        },
        {
          "output_type": "stream",
          "name": "stderr",
          "text": [
            "<ipython-input-85-2345e3e9b7ee>:21: FutureWarning: The frame.append method is deprecated and will be removed from pandas in a future version. Use pandas.concat instead.\n",
            "  pdResults = pdResults.append(pd.DataFrame({'iter' : i,\n",
            "/usr/local/lib/python3.10/dist-packages/xgboost/core.py:617: FutureWarning: Pass `evals` as keyword args.\n",
            "  warnings.warn(msg, FutureWarning)\n"
          ]
        },
        {
          "output_type": "stream",
          "name": "stdout",
          "text": [
            "[0]\ttrain-auc:0.84273\tvalid-auc:0.81109\n",
            "[5]\ttrain-auc:0.85000\tvalid-auc:0.81601\n",
            "[9]\ttrain-auc:0.85296\tvalid-auc:0.81775\n",
            "****** Iteration : 91\n",
            "[20:56:58] WARNING: ../src/learner.cc:767: \n",
            "Parameters: { \"min_data_leaf\", \"objetive\" } are not used.\n",
            "\n"
          ]
        },
        {
          "output_type": "stream",
          "name": "stderr",
          "text": [
            "<ipython-input-85-2345e3e9b7ee>:21: FutureWarning: The frame.append method is deprecated and will be removed from pandas in a future version. Use pandas.concat instead.\n",
            "  pdResults = pdResults.append(pd.DataFrame({'iter' : i,\n",
            "/usr/local/lib/python3.10/dist-packages/xgboost/core.py:617: FutureWarning: Pass `evals` as keyword args.\n",
            "  warnings.warn(msg, FutureWarning)\n"
          ]
        },
        {
          "output_type": "stream",
          "name": "stdout",
          "text": [
            "[0]\ttrain-auc:0.86968\tvalid-auc:0.79444\n",
            "[5]\ttrain-auc:0.90757\tvalid-auc:0.81471\n",
            "[9]\ttrain-auc:0.92046\tvalid-auc:0.81733\n",
            "****** Iteration : 92\n",
            "[20:57:08] WARNING: ../src/learner.cc:767: \n",
            "Parameters: { \"min_data_leaf\", \"objetive\" } are not used.\n",
            "\n"
          ]
        },
        {
          "output_type": "stream",
          "name": "stderr",
          "text": [
            "<ipython-input-85-2345e3e9b7ee>:21: FutureWarning: The frame.append method is deprecated and will be removed from pandas in a future version. Use pandas.concat instead.\n",
            "  pdResults = pdResults.append(pd.DataFrame({'iter' : i,\n",
            "/usr/local/lib/python3.10/dist-packages/xgboost/core.py:617: FutureWarning: Pass `evals` as keyword args.\n",
            "  warnings.warn(msg, FutureWarning)\n"
          ]
        },
        {
          "output_type": "stream",
          "name": "stdout",
          "text": [
            "[0]\ttrain-auc:0.81635\tvalid-auc:0.79453\n",
            "[5]\ttrain-auc:0.83927\tvalid-auc:0.81832\n",
            "[9]\ttrain-auc:0.84311\tvalid-auc:0.82120\n",
            "****** Iteration : 93\n",
            "[20:57:11] WARNING: ../src/learner.cc:767: \n",
            "Parameters: { \"min_data_leaf\", \"objetive\" } are not used.\n",
            "\n"
          ]
        },
        {
          "output_type": "stream",
          "name": "stderr",
          "text": [
            "<ipython-input-85-2345e3e9b7ee>:21: FutureWarning: The frame.append method is deprecated and will be removed from pandas in a future version. Use pandas.concat instead.\n",
            "  pdResults = pdResults.append(pd.DataFrame({'iter' : i,\n",
            "/usr/local/lib/python3.10/dist-packages/xgboost/core.py:617: FutureWarning: Pass `evals` as keyword args.\n",
            "  warnings.warn(msg, FutureWarning)\n"
          ]
        },
        {
          "output_type": "stream",
          "name": "stdout",
          "text": [
            "[0]\ttrain-auc:0.80662\tvalid-auc:0.78658\n",
            "[5]\ttrain-auc:0.81577\tvalid-auc:0.79641\n",
            "[9]\ttrain-auc:0.81825\tvalid-auc:0.80026\n",
            "****** Iteration : 94\n",
            "[20:57:13] WARNING: ../src/learner.cc:767: \n",
            "Parameters: { \"min_data_leaf\", \"objetive\" } are not used.\n",
            "\n",
            "[0]\ttrain-auc:0.77464\tvalid-auc:0.76449\n"
          ]
        },
        {
          "output_type": "stream",
          "name": "stderr",
          "text": [
            "<ipython-input-85-2345e3e9b7ee>:21: FutureWarning: The frame.append method is deprecated and will be removed from pandas in a future version. Use pandas.concat instead.\n",
            "  pdResults = pdResults.append(pd.DataFrame({'iter' : i,\n",
            "/usr/local/lib/python3.10/dist-packages/xgboost/core.py:617: FutureWarning: Pass `evals` as keyword args.\n",
            "  warnings.warn(msg, FutureWarning)\n"
          ]
        },
        {
          "output_type": "stream",
          "name": "stdout",
          "text": [
            "[5]\ttrain-auc:0.78406\tvalid-auc:0.77659\n",
            "[9]\ttrain-auc:0.81792\tvalid-auc:0.80230\n",
            "****** Iteration : 95\n",
            "[20:57:16] WARNING: ../src/learner.cc:767: \n",
            "Parameters: { \"min_data_leaf\", \"objetive\" } are not used.\n",
            "\n"
          ]
        },
        {
          "output_type": "stream",
          "name": "stderr",
          "text": [
            "<ipython-input-85-2345e3e9b7ee>:21: FutureWarning: The frame.append method is deprecated and will be removed from pandas in a future version. Use pandas.concat instead.\n",
            "  pdResults = pdResults.append(pd.DataFrame({'iter' : i,\n",
            "/usr/local/lib/python3.10/dist-packages/xgboost/core.py:617: FutureWarning: Pass `evals` as keyword args.\n",
            "  warnings.warn(msg, FutureWarning)\n"
          ]
        },
        {
          "output_type": "stream",
          "name": "stdout",
          "text": [
            "[0]\ttrain-auc:0.77464\tvalid-auc:0.76449\n",
            "[5]\ttrain-auc:0.78406\tvalid-auc:0.77659\n",
            "[9]\ttrain-auc:0.81792\tvalid-auc:0.80230\n",
            "****** Iteration : 96\n",
            "[20:57:18] WARNING: ../src/learner.cc:767: \n",
            "Parameters: { \"min_data_leaf\", \"objetive\" } are not used.\n",
            "\n"
          ]
        },
        {
          "output_type": "stream",
          "name": "stderr",
          "text": [
            "<ipython-input-85-2345e3e9b7ee>:21: FutureWarning: The frame.append method is deprecated and will be removed from pandas in a future version. Use pandas.concat instead.\n",
            "  pdResults = pdResults.append(pd.DataFrame({'iter' : i,\n",
            "/usr/local/lib/python3.10/dist-packages/xgboost/core.py:617: FutureWarning: Pass `evals` as keyword args.\n",
            "  warnings.warn(msg, FutureWarning)\n"
          ]
        },
        {
          "output_type": "stream",
          "name": "stdout",
          "text": [
            "[0]\ttrain-auc:0.84448\tvalid-auc:0.81094\n",
            "[5]\ttrain-auc:0.84981\tvalid-auc:0.81370\n",
            "[9]\ttrain-auc:0.85487\tvalid-auc:0.81667\n",
            "****** Iteration : 97\n",
            "[20:57:24] WARNING: ../src/learner.cc:767: \n",
            "Parameters: { \"min_data_leaf\", \"objetive\" } are not used.\n",
            "\n"
          ]
        },
        {
          "output_type": "stream",
          "name": "stderr",
          "text": [
            "<ipython-input-85-2345e3e9b7ee>:21: FutureWarning: The frame.append method is deprecated and will be removed from pandas in a future version. Use pandas.concat instead.\n",
            "  pdResults = pdResults.append(pd.DataFrame({'iter' : i,\n",
            "/usr/local/lib/python3.10/dist-packages/xgboost/core.py:617: FutureWarning: Pass `evals` as keyword args.\n",
            "  warnings.warn(msg, FutureWarning)\n"
          ]
        },
        {
          "output_type": "stream",
          "name": "stdout",
          "text": [
            "[0]\ttrain-auc:0.84542\tvalid-auc:0.81106\n",
            "[5]\ttrain-auc:0.85179\tvalid-auc:0.81426\n",
            "[9]\ttrain-auc:0.85552\tvalid-auc:0.81508\n",
            "****** Iteration : 98\n",
            "[20:57:31] WARNING: ../src/learner.cc:767: \n",
            "Parameters: { \"min_data_leaf\", \"objetive\" } are not used.\n",
            "\n"
          ]
        },
        {
          "output_type": "stream",
          "name": "stderr",
          "text": [
            "<ipython-input-85-2345e3e9b7ee>:21: FutureWarning: The frame.append method is deprecated and will be removed from pandas in a future version. Use pandas.concat instead.\n",
            "  pdResults = pdResults.append(pd.DataFrame({'iter' : i,\n",
            "/usr/local/lib/python3.10/dist-packages/xgboost/core.py:617: FutureWarning: Pass `evals` as keyword args.\n",
            "  warnings.warn(msg, FutureWarning)\n"
          ]
        },
        {
          "output_type": "stream",
          "name": "stdout",
          "text": [
            "[0]\ttrain-auc:0.83267\tvalid-auc:0.80875\n",
            "[5]\ttrain-auc:0.83462\tvalid-auc:0.81154\n",
            "[9]\ttrain-auc:0.83966\tvalid-auc:0.81595\n",
            "****** Iteration : 99\n",
            "[20:57:34] WARNING: ../src/learner.cc:767: \n",
            "Parameters: { \"min_data_leaf\", \"objetive\" } are not used.\n",
            "\n"
          ]
        },
        {
          "output_type": "stream",
          "name": "stderr",
          "text": [
            "<ipython-input-85-2345e3e9b7ee>:21: FutureWarning: The frame.append method is deprecated and will be removed from pandas in a future version. Use pandas.concat instead.\n",
            "  pdResults = pdResults.append(pd.DataFrame({'iter' : i,\n",
            "/usr/local/lib/python3.10/dist-packages/xgboost/core.py:617: FutureWarning: Pass `evals` as keyword args.\n",
            "  warnings.warn(msg, FutureWarning)\n"
          ]
        },
        {
          "output_type": "stream",
          "name": "stdout",
          "text": [
            "[0]\ttrain-auc:0.85473\tvalid-auc:0.80911\n",
            "[5]\ttrain-auc:0.87639\tvalid-auc:0.81861\n",
            "[9]\ttrain-auc:0.88636\tvalid-auc:0.82111\n"
          ]
        },
        {
          "output_type": "stream",
          "name": "stderr",
          "text": [
            "<ipython-input-85-2345e3e9b7ee>:21: FutureWarning: The frame.append method is deprecated and will be removed from pandas in a future version. Use pandas.concat instead.\n",
            "  pdResults = pdResults.append(pd.DataFrame({'iter' : i,\n"
          ]
        }
      ]
    },
    {
      "cell_type": "code",
      "metadata": {
        "id": "BS8ggXhrdy8b",
        "colab": {
          "base_uri": "https://localhost:8080/",
          "height": 424
        },
        "outputId": "24fecedb-25a2-45d9-82a4-41261f705d32"
      },
      "source": [
        "pddf = pd.read_csv(\"HyperParamSearch.csv\")\n",
        "pddf.sort_values('giniTest', ascending=False)"
      ],
      "execution_count": 86,
      "outputs": [
        {
          "output_type": "execute_result",
          "data": {
            "text/plain": [
              "     iter      paramName       paramValue  giniTrain   giniTest\n",
              "504    56       objetive  binary_logistic  75.429840  65.318295\n",
              "505    56      max_depth                7  75.429840  65.318295\n",
              "506    56  learning_rate              0.2  75.429840  65.318295\n",
              "507    56           seed              123  75.429840  65.318295\n",
              "508    56     max_leaves                2  75.429840  65.318295\n",
              "..    ...            ...              ...        ...        ...\n",
              "562    62     max_leaves                4  62.507152  58.678846\n",
              "561    62           seed              123  62.507152  58.678846\n",
              "560    62  learning_rate             0.01  62.507152  58.678846\n",
              "558    62       objetive  binary_logistic  62.507152  58.678846\n",
              "559    62      max_depth                3  62.507152  58.678846\n",
              "\n",
              "[900 rows x 5 columns]"
            ],
            "text/html": [
              "\n",
              "  <div id=\"df-f8ae1afb-3392-481a-a645-99ed84f67fdc\">\n",
              "    <div class=\"colab-df-container\">\n",
              "      <div>\n",
              "<style scoped>\n",
              "    .dataframe tbody tr th:only-of-type {\n",
              "        vertical-align: middle;\n",
              "    }\n",
              "\n",
              "    .dataframe tbody tr th {\n",
              "        vertical-align: top;\n",
              "    }\n",
              "\n",
              "    .dataframe thead th {\n",
              "        text-align: right;\n",
              "    }\n",
              "</style>\n",
              "<table border=\"1\" class=\"dataframe\">\n",
              "  <thead>\n",
              "    <tr style=\"text-align: right;\">\n",
              "      <th></th>\n",
              "      <th>iter</th>\n",
              "      <th>paramName</th>\n",
              "      <th>paramValue</th>\n",
              "      <th>giniTrain</th>\n",
              "      <th>giniTest</th>\n",
              "    </tr>\n",
              "  </thead>\n",
              "  <tbody>\n",
              "    <tr>\n",
              "      <th>504</th>\n",
              "      <td>56</td>\n",
              "      <td>objetive</td>\n",
              "      <td>binary_logistic</td>\n",
              "      <td>75.429840</td>\n",
              "      <td>65.318295</td>\n",
              "    </tr>\n",
              "    <tr>\n",
              "      <th>505</th>\n",
              "      <td>56</td>\n",
              "      <td>max_depth</td>\n",
              "      <td>7</td>\n",
              "      <td>75.429840</td>\n",
              "      <td>65.318295</td>\n",
              "    </tr>\n",
              "    <tr>\n",
              "      <th>506</th>\n",
              "      <td>56</td>\n",
              "      <td>learning_rate</td>\n",
              "      <td>0.2</td>\n",
              "      <td>75.429840</td>\n",
              "      <td>65.318295</td>\n",
              "    </tr>\n",
              "    <tr>\n",
              "      <th>507</th>\n",
              "      <td>56</td>\n",
              "      <td>seed</td>\n",
              "      <td>123</td>\n",
              "      <td>75.429840</td>\n",
              "      <td>65.318295</td>\n",
              "    </tr>\n",
              "    <tr>\n",
              "      <th>508</th>\n",
              "      <td>56</td>\n",
              "      <td>max_leaves</td>\n",
              "      <td>2</td>\n",
              "      <td>75.429840</td>\n",
              "      <td>65.318295</td>\n",
              "    </tr>\n",
              "    <tr>\n",
              "      <th>...</th>\n",
              "      <td>...</td>\n",
              "      <td>...</td>\n",
              "      <td>...</td>\n",
              "      <td>...</td>\n",
              "      <td>...</td>\n",
              "    </tr>\n",
              "    <tr>\n",
              "      <th>562</th>\n",
              "      <td>62</td>\n",
              "      <td>max_leaves</td>\n",
              "      <td>4</td>\n",
              "      <td>62.507152</td>\n",
              "      <td>58.678846</td>\n",
              "    </tr>\n",
              "    <tr>\n",
              "      <th>561</th>\n",
              "      <td>62</td>\n",
              "      <td>seed</td>\n",
              "      <td>123</td>\n",
              "      <td>62.507152</td>\n",
              "      <td>58.678846</td>\n",
              "    </tr>\n",
              "    <tr>\n",
              "      <th>560</th>\n",
              "      <td>62</td>\n",
              "      <td>learning_rate</td>\n",
              "      <td>0.01</td>\n",
              "      <td>62.507152</td>\n",
              "      <td>58.678846</td>\n",
              "    </tr>\n",
              "    <tr>\n",
              "      <th>558</th>\n",
              "      <td>62</td>\n",
              "      <td>objetive</td>\n",
              "      <td>binary_logistic</td>\n",
              "      <td>62.507152</td>\n",
              "      <td>58.678846</td>\n",
              "    </tr>\n",
              "    <tr>\n",
              "      <th>559</th>\n",
              "      <td>62</td>\n",
              "      <td>max_depth</td>\n",
              "      <td>3</td>\n",
              "      <td>62.507152</td>\n",
              "      <td>58.678846</td>\n",
              "    </tr>\n",
              "  </tbody>\n",
              "</table>\n",
              "<p>900 rows × 5 columns</p>\n",
              "</div>\n",
              "      <button class=\"colab-df-convert\" onclick=\"convertToInteractive('df-f8ae1afb-3392-481a-a645-99ed84f67fdc')\"\n",
              "              title=\"Convert this dataframe to an interactive table.\"\n",
              "              style=\"display:none;\">\n",
              "        \n",
              "  <svg xmlns=\"http://www.w3.org/2000/svg\" height=\"24px\"viewBox=\"0 0 24 24\"\n",
              "       width=\"24px\">\n",
              "    <path d=\"M0 0h24v24H0V0z\" fill=\"none\"/>\n",
              "    <path d=\"M18.56 5.44l.94 2.06.94-2.06 2.06-.94-2.06-.94-.94-2.06-.94 2.06-2.06.94zm-11 1L8.5 8.5l.94-2.06 2.06-.94-2.06-.94L8.5 2.5l-.94 2.06-2.06.94zm10 10l.94 2.06.94-2.06 2.06-.94-2.06-.94-.94-2.06-.94 2.06-2.06.94z\"/><path d=\"M17.41 7.96l-1.37-1.37c-.4-.4-.92-.59-1.43-.59-.52 0-1.04.2-1.43.59L10.3 9.45l-7.72 7.72c-.78.78-.78 2.05 0 2.83L4 21.41c.39.39.9.59 1.41.59.51 0 1.02-.2 1.41-.59l7.78-7.78 2.81-2.81c.8-.78.8-2.07 0-2.86zM5.41 20L4 18.59l7.72-7.72 1.47 1.35L5.41 20z\"/>\n",
              "  </svg>\n",
              "      </button>\n",
              "      \n",
              "  <style>\n",
              "    .colab-df-container {\n",
              "      display:flex;\n",
              "      flex-wrap:wrap;\n",
              "      gap: 12px;\n",
              "    }\n",
              "\n",
              "    .colab-df-convert {\n",
              "      background-color: #E8F0FE;\n",
              "      border: none;\n",
              "      border-radius: 50%;\n",
              "      cursor: pointer;\n",
              "      display: none;\n",
              "      fill: #1967D2;\n",
              "      height: 32px;\n",
              "      padding: 0 0 0 0;\n",
              "      width: 32px;\n",
              "    }\n",
              "\n",
              "    .colab-df-convert:hover {\n",
              "      background-color: #E2EBFA;\n",
              "      box-shadow: 0px 1px 2px rgba(60, 64, 67, 0.3), 0px 1px 3px 1px rgba(60, 64, 67, 0.15);\n",
              "      fill: #174EA6;\n",
              "    }\n",
              "\n",
              "    [theme=dark] .colab-df-convert {\n",
              "      background-color: #3B4455;\n",
              "      fill: #D2E3FC;\n",
              "    }\n",
              "\n",
              "    [theme=dark] .colab-df-convert:hover {\n",
              "      background-color: #434B5C;\n",
              "      box-shadow: 0px 1px 3px 1px rgba(0, 0, 0, 0.15);\n",
              "      filter: drop-shadow(0px 1px 2px rgba(0, 0, 0, 0.3));\n",
              "      fill: #FFFFFF;\n",
              "    }\n",
              "  </style>\n",
              "\n",
              "      <script>\n",
              "        const buttonEl =\n",
              "          document.querySelector('#df-f8ae1afb-3392-481a-a645-99ed84f67fdc button.colab-df-convert');\n",
              "        buttonEl.style.display =\n",
              "          google.colab.kernel.accessAllowed ? 'block' : 'none';\n",
              "\n",
              "        async function convertToInteractive(key) {\n",
              "          const element = document.querySelector('#df-f8ae1afb-3392-481a-a645-99ed84f67fdc');\n",
              "          const dataTable =\n",
              "            await google.colab.kernel.invokeFunction('convertToInteractive',\n",
              "                                                     [key], {});\n",
              "          if (!dataTable) return;\n",
              "\n",
              "          const docLinkHtml = 'Like what you see? Visit the ' +\n",
              "            '<a target=\"_blank\" href=https://colab.research.google.com/notebooks/data_table.ipynb>data table notebook</a>'\n",
              "            + ' to learn more about interactive tables.';\n",
              "          element.innerHTML = '';\n",
              "          dataTable['output_type'] = 'display_data';\n",
              "          await google.colab.output.renderOutput(dataTable, element);\n",
              "          const docLink = document.createElement('div');\n",
              "          docLink.innerHTML = docLinkHtml;\n",
              "          element.appendChild(docLink);\n",
              "        }\n",
              "      </script>\n",
              "    </div>\n",
              "  </div>\n",
              "  "
            ]
          },
          "metadata": {},
          "execution_count": 86
        }
      ]
    },
    {
      "cell_type": "code",
      "metadata": {
        "id": "WVZSfXk6ewE0",
        "colab": {
          "base_uri": "https://localhost:8080/",
          "height": 424
        },
        "outputId": "209c220f-1d89-4205-ea3c-6701e1b3ebd8"
      },
      "source": [
        "pddf['overfitting'] = pddf.giniTrain - pddf.giniTest\n",
        "pddf.sort_values('overfitting')"
      ],
      "execution_count": 87,
      "outputs": [
        {
          "output_type": "execute_result",
          "data": {
            "text/plain": [
              "     iter         paramName paramValue  giniTrain   giniTest  overfitting\n",
              "719    79       eval_metric        auc  65.694756  63.183764     2.510992\n",
              "716    79     min_data_leaf       0.01  65.694756  63.183764     2.510992\n",
              "717    79       grow_policy  lossguide  65.694756  63.183764     2.510992\n",
              "718    79  min_child_weight          9  65.694756  63.183764     2.510992\n",
              "809    89       eval_metric        auc  65.694756  63.183764     2.510992\n",
              "..    ...               ...        ...        ...        ...          ...\n",
              "139    15        max_leaves          8  86.689042  62.079798    24.609244\n",
              "140    15     min_data_leaf       0.15  86.689042  62.079798    24.609244\n",
              "141    15       grow_policy  lossguide  86.689042  62.079798    24.609244\n",
              "142    15  min_child_weight          2  86.689042  62.079798    24.609244\n",
              "143    15       eval_metric        auc  86.689042  62.079798    24.609244\n",
              "\n",
              "[900 rows x 6 columns]"
            ],
            "text/html": [
              "\n",
              "  <div id=\"df-44b91147-98c4-4477-9396-746c832e3543\">\n",
              "    <div class=\"colab-df-container\">\n",
              "      <div>\n",
              "<style scoped>\n",
              "    .dataframe tbody tr th:only-of-type {\n",
              "        vertical-align: middle;\n",
              "    }\n",
              "\n",
              "    .dataframe tbody tr th {\n",
              "        vertical-align: top;\n",
              "    }\n",
              "\n",
              "    .dataframe thead th {\n",
              "        text-align: right;\n",
              "    }\n",
              "</style>\n",
              "<table border=\"1\" class=\"dataframe\">\n",
              "  <thead>\n",
              "    <tr style=\"text-align: right;\">\n",
              "      <th></th>\n",
              "      <th>iter</th>\n",
              "      <th>paramName</th>\n",
              "      <th>paramValue</th>\n",
              "      <th>giniTrain</th>\n",
              "      <th>giniTest</th>\n",
              "      <th>overfitting</th>\n",
              "    </tr>\n",
              "  </thead>\n",
              "  <tbody>\n",
              "    <tr>\n",
              "      <th>719</th>\n",
              "      <td>79</td>\n",
              "      <td>eval_metric</td>\n",
              "      <td>auc</td>\n",
              "      <td>65.694756</td>\n",
              "      <td>63.183764</td>\n",
              "      <td>2.510992</td>\n",
              "    </tr>\n",
              "    <tr>\n",
              "      <th>716</th>\n",
              "      <td>79</td>\n",
              "      <td>min_data_leaf</td>\n",
              "      <td>0.01</td>\n",
              "      <td>65.694756</td>\n",
              "      <td>63.183764</td>\n",
              "      <td>2.510992</td>\n",
              "    </tr>\n",
              "    <tr>\n",
              "      <th>717</th>\n",
              "      <td>79</td>\n",
              "      <td>grow_policy</td>\n",
              "      <td>lossguide</td>\n",
              "      <td>65.694756</td>\n",
              "      <td>63.183764</td>\n",
              "      <td>2.510992</td>\n",
              "    </tr>\n",
              "    <tr>\n",
              "      <th>718</th>\n",
              "      <td>79</td>\n",
              "      <td>min_child_weight</td>\n",
              "      <td>9</td>\n",
              "      <td>65.694756</td>\n",
              "      <td>63.183764</td>\n",
              "      <td>2.510992</td>\n",
              "    </tr>\n",
              "    <tr>\n",
              "      <th>809</th>\n",
              "      <td>89</td>\n",
              "      <td>eval_metric</td>\n",
              "      <td>auc</td>\n",
              "      <td>65.694756</td>\n",
              "      <td>63.183764</td>\n",
              "      <td>2.510992</td>\n",
              "    </tr>\n",
              "    <tr>\n",
              "      <th>...</th>\n",
              "      <td>...</td>\n",
              "      <td>...</td>\n",
              "      <td>...</td>\n",
              "      <td>...</td>\n",
              "      <td>...</td>\n",
              "      <td>...</td>\n",
              "    </tr>\n",
              "    <tr>\n",
              "      <th>139</th>\n",
              "      <td>15</td>\n",
              "      <td>max_leaves</td>\n",
              "      <td>8</td>\n",
              "      <td>86.689042</td>\n",
              "      <td>62.079798</td>\n",
              "      <td>24.609244</td>\n",
              "    </tr>\n",
              "    <tr>\n",
              "      <th>140</th>\n",
              "      <td>15</td>\n",
              "      <td>min_data_leaf</td>\n",
              "      <td>0.15</td>\n",
              "      <td>86.689042</td>\n",
              "      <td>62.079798</td>\n",
              "      <td>24.609244</td>\n",
              "    </tr>\n",
              "    <tr>\n",
              "      <th>141</th>\n",
              "      <td>15</td>\n",
              "      <td>grow_policy</td>\n",
              "      <td>lossguide</td>\n",
              "      <td>86.689042</td>\n",
              "      <td>62.079798</td>\n",
              "      <td>24.609244</td>\n",
              "    </tr>\n",
              "    <tr>\n",
              "      <th>142</th>\n",
              "      <td>15</td>\n",
              "      <td>min_child_weight</td>\n",
              "      <td>2</td>\n",
              "      <td>86.689042</td>\n",
              "      <td>62.079798</td>\n",
              "      <td>24.609244</td>\n",
              "    </tr>\n",
              "    <tr>\n",
              "      <th>143</th>\n",
              "      <td>15</td>\n",
              "      <td>eval_metric</td>\n",
              "      <td>auc</td>\n",
              "      <td>86.689042</td>\n",
              "      <td>62.079798</td>\n",
              "      <td>24.609244</td>\n",
              "    </tr>\n",
              "  </tbody>\n",
              "</table>\n",
              "<p>900 rows × 6 columns</p>\n",
              "</div>\n",
              "      <button class=\"colab-df-convert\" onclick=\"convertToInteractive('df-44b91147-98c4-4477-9396-746c832e3543')\"\n",
              "              title=\"Convert this dataframe to an interactive table.\"\n",
              "              style=\"display:none;\">\n",
              "        \n",
              "  <svg xmlns=\"http://www.w3.org/2000/svg\" height=\"24px\"viewBox=\"0 0 24 24\"\n",
              "       width=\"24px\">\n",
              "    <path d=\"M0 0h24v24H0V0z\" fill=\"none\"/>\n",
              "    <path d=\"M18.56 5.44l.94 2.06.94-2.06 2.06-.94-2.06-.94-.94-2.06-.94 2.06-2.06.94zm-11 1L8.5 8.5l.94-2.06 2.06-.94-2.06-.94L8.5 2.5l-.94 2.06-2.06.94zm10 10l.94 2.06.94-2.06 2.06-.94-2.06-.94-.94-2.06-.94 2.06-2.06.94z\"/><path d=\"M17.41 7.96l-1.37-1.37c-.4-.4-.92-.59-1.43-.59-.52 0-1.04.2-1.43.59L10.3 9.45l-7.72 7.72c-.78.78-.78 2.05 0 2.83L4 21.41c.39.39.9.59 1.41.59.51 0 1.02-.2 1.41-.59l7.78-7.78 2.81-2.81c.8-.78.8-2.07 0-2.86zM5.41 20L4 18.59l7.72-7.72 1.47 1.35L5.41 20z\"/>\n",
              "  </svg>\n",
              "      </button>\n",
              "      \n",
              "  <style>\n",
              "    .colab-df-container {\n",
              "      display:flex;\n",
              "      flex-wrap:wrap;\n",
              "      gap: 12px;\n",
              "    }\n",
              "\n",
              "    .colab-df-convert {\n",
              "      background-color: #E8F0FE;\n",
              "      border: none;\n",
              "      border-radius: 50%;\n",
              "      cursor: pointer;\n",
              "      display: none;\n",
              "      fill: #1967D2;\n",
              "      height: 32px;\n",
              "      padding: 0 0 0 0;\n",
              "      width: 32px;\n",
              "    }\n",
              "\n",
              "    .colab-df-convert:hover {\n",
              "      background-color: #E2EBFA;\n",
              "      box-shadow: 0px 1px 2px rgba(60, 64, 67, 0.3), 0px 1px 3px 1px rgba(60, 64, 67, 0.15);\n",
              "      fill: #174EA6;\n",
              "    }\n",
              "\n",
              "    [theme=dark] .colab-df-convert {\n",
              "      background-color: #3B4455;\n",
              "      fill: #D2E3FC;\n",
              "    }\n",
              "\n",
              "    [theme=dark] .colab-df-convert:hover {\n",
              "      background-color: #434B5C;\n",
              "      box-shadow: 0px 1px 3px 1px rgba(0, 0, 0, 0.15);\n",
              "      filter: drop-shadow(0px 1px 2px rgba(0, 0, 0, 0.3));\n",
              "      fill: #FFFFFF;\n",
              "    }\n",
              "  </style>\n",
              "\n",
              "      <script>\n",
              "        const buttonEl =\n",
              "          document.querySelector('#df-44b91147-98c4-4477-9396-746c832e3543 button.colab-df-convert');\n",
              "        buttonEl.style.display =\n",
              "          google.colab.kernel.accessAllowed ? 'block' : 'none';\n",
              "\n",
              "        async function convertToInteractive(key) {\n",
              "          const element = document.querySelector('#df-44b91147-98c4-4477-9396-746c832e3543');\n",
              "          const dataTable =\n",
              "            await google.colab.kernel.invokeFunction('convertToInteractive',\n",
              "                                                     [key], {});\n",
              "          if (!dataTable) return;\n",
              "\n",
              "          const docLinkHtml = 'Like what you see? Visit the ' +\n",
              "            '<a target=\"_blank\" href=https://colab.research.google.com/notebooks/data_table.ipynb>data table notebook</a>'\n",
              "            + ' to learn more about interactive tables.';\n",
              "          element.innerHTML = '';\n",
              "          dataTable['output_type'] = 'display_data';\n",
              "          await google.colab.output.renderOutput(dataTable, element);\n",
              "          const docLink = document.createElement('div');\n",
              "          docLink.innerHTML = docLinkHtml;\n",
              "          element.appendChild(docLink);\n",
              "        }\n",
              "      </script>\n",
              "    </div>\n",
              "  </div>\n",
              "  "
            ]
          },
          "metadata": {},
          "execution_count": 87
        }
      ]
    },
    {
      "cell_type": "code",
      "source": [
        "pddf.loc[pddf.overfitting < 4].sort_values('giniTest', ascending = False)"
      ],
      "metadata": {
        "id": "HnMftD59ibJ7",
        "outputId": "b7f2c886-b1b9-4f4a-c3e0-7b6f88070580",
        "colab": {
          "base_uri": "https://localhost:8080/",
          "height": 424
        }
      },
      "execution_count": 88,
      "outputs": [
        {
          "output_type": "execute_result",
          "data": {
            "text/plain": [
              "     iter         paramName       paramValue  giniTrain   giniTest  \\\n",
              "396    44          objetive  binary_logistic  68.505322  64.604239   \n",
              "365    40     min_data_leaf             0.01  68.505322  64.604239   \n",
              "367    40  min_child_weight                3  68.505322  64.604239   \n",
              "368    40       eval_metric              auc  68.505322  64.604239   \n",
              "378    42          objetive  binary_logistic  68.505322  64.604239   \n",
              "..    ...               ...              ...        ...        ...   \n",
              "558    62          objetive  binary_logistic  62.507152  58.678846   \n",
              "564    62       grow_policy        lossguide  62.507152  58.678846   \n",
              "565    62  min_child_weight                3  62.507152  58.678846   \n",
              "566    62       eval_metric              auc  62.507152  58.678846   \n",
              "561    62              seed              123  62.507152  58.678846   \n",
              "\n",
              "     overfitting  \n",
              "396     3.901083  \n",
              "365     3.901083  \n",
              "367     3.901083  \n",
              "368     3.901083  \n",
              "378     3.901083  \n",
              "..           ...  \n",
              "558     3.828306  \n",
              "564     3.828306  \n",
              "565     3.828306  \n",
              "566     3.828306  \n",
              "561     3.828306  \n",
              "\n",
              "[189 rows x 6 columns]"
            ],
            "text/html": [
              "\n",
              "  <div id=\"df-ad6af949-a179-46b5-9ea8-54534db5fdba\">\n",
              "    <div class=\"colab-df-container\">\n",
              "      <div>\n",
              "<style scoped>\n",
              "    .dataframe tbody tr th:only-of-type {\n",
              "        vertical-align: middle;\n",
              "    }\n",
              "\n",
              "    .dataframe tbody tr th {\n",
              "        vertical-align: top;\n",
              "    }\n",
              "\n",
              "    .dataframe thead th {\n",
              "        text-align: right;\n",
              "    }\n",
              "</style>\n",
              "<table border=\"1\" class=\"dataframe\">\n",
              "  <thead>\n",
              "    <tr style=\"text-align: right;\">\n",
              "      <th></th>\n",
              "      <th>iter</th>\n",
              "      <th>paramName</th>\n",
              "      <th>paramValue</th>\n",
              "      <th>giniTrain</th>\n",
              "      <th>giniTest</th>\n",
              "      <th>overfitting</th>\n",
              "    </tr>\n",
              "  </thead>\n",
              "  <tbody>\n",
              "    <tr>\n",
              "      <th>396</th>\n",
              "      <td>44</td>\n",
              "      <td>objetive</td>\n",
              "      <td>binary_logistic</td>\n",
              "      <td>68.505322</td>\n",
              "      <td>64.604239</td>\n",
              "      <td>3.901083</td>\n",
              "    </tr>\n",
              "    <tr>\n",
              "      <th>365</th>\n",
              "      <td>40</td>\n",
              "      <td>min_data_leaf</td>\n",
              "      <td>0.01</td>\n",
              "      <td>68.505322</td>\n",
              "      <td>64.604239</td>\n",
              "      <td>3.901083</td>\n",
              "    </tr>\n",
              "    <tr>\n",
              "      <th>367</th>\n",
              "      <td>40</td>\n",
              "      <td>min_child_weight</td>\n",
              "      <td>3</td>\n",
              "      <td>68.505322</td>\n",
              "      <td>64.604239</td>\n",
              "      <td>3.901083</td>\n",
              "    </tr>\n",
              "    <tr>\n",
              "      <th>368</th>\n",
              "      <td>40</td>\n",
              "      <td>eval_metric</td>\n",
              "      <td>auc</td>\n",
              "      <td>68.505322</td>\n",
              "      <td>64.604239</td>\n",
              "      <td>3.901083</td>\n",
              "    </tr>\n",
              "    <tr>\n",
              "      <th>378</th>\n",
              "      <td>42</td>\n",
              "      <td>objetive</td>\n",
              "      <td>binary_logistic</td>\n",
              "      <td>68.505322</td>\n",
              "      <td>64.604239</td>\n",
              "      <td>3.901083</td>\n",
              "    </tr>\n",
              "    <tr>\n",
              "      <th>...</th>\n",
              "      <td>...</td>\n",
              "      <td>...</td>\n",
              "      <td>...</td>\n",
              "      <td>...</td>\n",
              "      <td>...</td>\n",
              "      <td>...</td>\n",
              "    </tr>\n",
              "    <tr>\n",
              "      <th>558</th>\n",
              "      <td>62</td>\n",
              "      <td>objetive</td>\n",
              "      <td>binary_logistic</td>\n",
              "      <td>62.507152</td>\n",
              "      <td>58.678846</td>\n",
              "      <td>3.828306</td>\n",
              "    </tr>\n",
              "    <tr>\n",
              "      <th>564</th>\n",
              "      <td>62</td>\n",
              "      <td>grow_policy</td>\n",
              "      <td>lossguide</td>\n",
              "      <td>62.507152</td>\n",
              "      <td>58.678846</td>\n",
              "      <td>3.828306</td>\n",
              "    </tr>\n",
              "    <tr>\n",
              "      <th>565</th>\n",
              "      <td>62</td>\n",
              "      <td>min_child_weight</td>\n",
              "      <td>3</td>\n",
              "      <td>62.507152</td>\n",
              "      <td>58.678846</td>\n",
              "      <td>3.828306</td>\n",
              "    </tr>\n",
              "    <tr>\n",
              "      <th>566</th>\n",
              "      <td>62</td>\n",
              "      <td>eval_metric</td>\n",
              "      <td>auc</td>\n",
              "      <td>62.507152</td>\n",
              "      <td>58.678846</td>\n",
              "      <td>3.828306</td>\n",
              "    </tr>\n",
              "    <tr>\n",
              "      <th>561</th>\n",
              "      <td>62</td>\n",
              "      <td>seed</td>\n",
              "      <td>123</td>\n",
              "      <td>62.507152</td>\n",
              "      <td>58.678846</td>\n",
              "      <td>3.828306</td>\n",
              "    </tr>\n",
              "  </tbody>\n",
              "</table>\n",
              "<p>189 rows × 6 columns</p>\n",
              "</div>\n",
              "      <button class=\"colab-df-convert\" onclick=\"convertToInteractive('df-ad6af949-a179-46b5-9ea8-54534db5fdba')\"\n",
              "              title=\"Convert this dataframe to an interactive table.\"\n",
              "              style=\"display:none;\">\n",
              "        \n",
              "  <svg xmlns=\"http://www.w3.org/2000/svg\" height=\"24px\"viewBox=\"0 0 24 24\"\n",
              "       width=\"24px\">\n",
              "    <path d=\"M0 0h24v24H0V0z\" fill=\"none\"/>\n",
              "    <path d=\"M18.56 5.44l.94 2.06.94-2.06 2.06-.94-2.06-.94-.94-2.06-.94 2.06-2.06.94zm-11 1L8.5 8.5l.94-2.06 2.06-.94-2.06-.94L8.5 2.5l-.94 2.06-2.06.94zm10 10l.94 2.06.94-2.06 2.06-.94-2.06-.94-.94-2.06-.94 2.06-2.06.94z\"/><path d=\"M17.41 7.96l-1.37-1.37c-.4-.4-.92-.59-1.43-.59-.52 0-1.04.2-1.43.59L10.3 9.45l-7.72 7.72c-.78.78-.78 2.05 0 2.83L4 21.41c.39.39.9.59 1.41.59.51 0 1.02-.2 1.41-.59l7.78-7.78 2.81-2.81c.8-.78.8-2.07 0-2.86zM5.41 20L4 18.59l7.72-7.72 1.47 1.35L5.41 20z\"/>\n",
              "  </svg>\n",
              "      </button>\n",
              "      \n",
              "  <style>\n",
              "    .colab-df-container {\n",
              "      display:flex;\n",
              "      flex-wrap:wrap;\n",
              "      gap: 12px;\n",
              "    }\n",
              "\n",
              "    .colab-df-convert {\n",
              "      background-color: #E8F0FE;\n",
              "      border: none;\n",
              "      border-radius: 50%;\n",
              "      cursor: pointer;\n",
              "      display: none;\n",
              "      fill: #1967D2;\n",
              "      height: 32px;\n",
              "      padding: 0 0 0 0;\n",
              "      width: 32px;\n",
              "    }\n",
              "\n",
              "    .colab-df-convert:hover {\n",
              "      background-color: #E2EBFA;\n",
              "      box-shadow: 0px 1px 2px rgba(60, 64, 67, 0.3), 0px 1px 3px 1px rgba(60, 64, 67, 0.15);\n",
              "      fill: #174EA6;\n",
              "    }\n",
              "\n",
              "    [theme=dark] .colab-df-convert {\n",
              "      background-color: #3B4455;\n",
              "      fill: #D2E3FC;\n",
              "    }\n",
              "\n",
              "    [theme=dark] .colab-df-convert:hover {\n",
              "      background-color: #434B5C;\n",
              "      box-shadow: 0px 1px 3px 1px rgba(0, 0, 0, 0.15);\n",
              "      filter: drop-shadow(0px 1px 2px rgba(0, 0, 0, 0.3));\n",
              "      fill: #FFFFFF;\n",
              "    }\n",
              "  </style>\n",
              "\n",
              "      <script>\n",
              "        const buttonEl =\n",
              "          document.querySelector('#df-ad6af949-a179-46b5-9ea8-54534db5fdba button.colab-df-convert');\n",
              "        buttonEl.style.display =\n",
              "          google.colab.kernel.accessAllowed ? 'block' : 'none';\n",
              "\n",
              "        async function convertToInteractive(key) {\n",
              "          const element = document.querySelector('#df-ad6af949-a179-46b5-9ea8-54534db5fdba');\n",
              "          const dataTable =\n",
              "            await google.colab.kernel.invokeFunction('convertToInteractive',\n",
              "                                                     [key], {});\n",
              "          if (!dataTable) return;\n",
              "\n",
              "          const docLinkHtml = 'Like what you see? Visit the ' +\n",
              "            '<a target=\"_blank\" href=https://colab.research.google.com/notebooks/data_table.ipynb>data table notebook</a>'\n",
              "            + ' to learn more about interactive tables.';\n",
              "          element.innerHTML = '';\n",
              "          dataTable['output_type'] = 'display_data';\n",
              "          await google.colab.output.renderOutput(dataTable, element);\n",
              "          const docLink = document.createElement('div');\n",
              "          docLink.innerHTML = docLinkHtml;\n",
              "          element.appendChild(docLink);\n",
              "        }\n",
              "      </script>\n",
              "    </div>\n",
              "  </div>\n",
              "  "
            ]
          },
          "metadata": {},
          "execution_count": 88
        }
      ]
    },
    {
      "cell_type": "code",
      "metadata": {
        "id": "HHbUYYLSfLo6"
      },
      "source": [
        "import seaborn as sns\n",
        "import matplotlib.pyplot as plt\n"
      ],
      "execution_count": 89,
      "outputs": []
    },
    {
      "cell_type": "code",
      "metadata": {
        "id": "OsXym2Dpe4Ok",
        "colab": {
          "base_uri": "https://localhost:8080/",
          "height": 373
        },
        "outputId": "bc9c093b-b0ff-4c98-d181-156d13a2294b"
      },
      "source": [
        "pdResults = pdResults[~pdResults.paramName.isin(['objective', 'eval_metric', 'eta'])]\n",
        "set(pdResults['paramName'])\n",
        "\n",
        "\n",
        "sns.FacetGrid(pdResults.loc[pdResults.paramName=='max_depth'],\n",
        "              row=\"paramName\", \n",
        "              sharex=False, aspect=1.5).\\\n",
        "          map(sns.boxplot,\n",
        "              'paramValue',\n",
        "              'giniTest')"
      ],
      "execution_count": 92,
      "outputs": [
        {
          "output_type": "stream",
          "name": "stderr",
          "text": [
            "/usr/local/lib/python3.10/dist-packages/seaborn/axisgrid.py:712: UserWarning: Using the boxplot function without specifying `order` is likely to produce an incorrect plot.\n",
            "  warnings.warn(warning)\n"
          ]
        },
        {
          "output_type": "execute_result",
          "data": {
            "text/plain": [
              "<seaborn.axisgrid.FacetGrid at 0x7fb803fee0e0>"
            ]
          },
          "metadata": {},
          "execution_count": 92
        },
        {
          "output_type": "display_data",
          "data": {
            "text/plain": [
              "<Figure size 450x300 with 1 Axes>"
            ],
            "image/png": "[encoded data removed]"
          },
          "metadata": {}
        }
      ]
    },
    {
      "cell_type": "code",
      "metadata": {
        "id": "mQJt2G5TU0IJ",
        "colab": {
          "base_uri": "https://localhost:8080/",
          "height": 373
        },
        "outputId": "5f2847f3-d448-4a6f-ea77-ab6f74edbec9"
      },
      "source": [
        "sns.FacetGrid(pdResults.loc[pdResults.paramName=='max_depth'],\n",
        "              row=\"paramName\", \n",
        "              sharex=False, aspect=1.5).\\\n",
        "          map(sns.boxplot,\n",
        "              'paramValue',\n",
        "              'giniTest')"
      ],
      "execution_count": 94,
      "outputs": [
        {
          "output_type": "stream",
          "name": "stderr",
          "text": [
            "/usr/local/lib/python3.10/dist-packages/seaborn/axisgrid.py:712: UserWarning: Using the boxplot function without specifying `order` is likely to produce an incorrect plot.\n",
            "  warnings.warn(warning)\n"
          ]
        },
        {
          "output_type": "execute_result",
          "data": {
            "text/plain": [
              "<seaborn.axisgrid.FacetGrid at 0x7fb803f9ba00>"
            ]
          },
          "metadata": {},
          "execution_count": 94
        },
        {
          "output_type": "display_data",
          "data": {
            "text/plain": [
              "<Figure size 450x300 with 1 Axes>"
            ],
            "image/png": "[encoded data removed]"
          },
          "metadata": {}
        }
      ]
    },
    {
      "cell_type": "markdown",
      "metadata": {
        "id": "4iMhUa5-gNCX"
      },
      "source": [
        "# Implementación de Modelos"
      ]
    },
    {
      "cell_type": "code",
      "metadata": {
        "id": "KYP3ZL4HgoGJ"
      },
      "source": [
        "import pickle"
      ],
      "execution_count": 95,
      "outputs": []
    },
    {
      "cell_type": "code",
      "metadata": {
        "id": "VDD_3bR1gSGv",
        "colab": {
          "base_uri": "https://localhost:8080/"
        },
        "outputId": "842e2d40-e666-4307-9b45-18987092e67d"
      },
      "source": [
        "xgBoost"
      ],
      "execution_count": 96,
      "outputs": [
        {
          "output_type": "execute_result",
          "data": {
            "text/plain": [
              "<xgboost.core.Booster at 0x7fb7c4462560>"
            ]
          },
          "metadata": {},
          "execution_count": 96
        }
      ]
    },
    {
      "cell_type": "code",
      "metadata": {
        "id": "jSXX5_Qsgx9B",
        "colab": {
          "base_uri": "https://localhost:8080/"
        },
        "outputId": "6b6cc570-8858-43a1-d0ec-24946acfe6f8"
      },
      "source": [
        "objectToSave = xgBoost\n",
        "filename = \"./XGBoost.xgb\"\n",
        "pickle.dump(objectToSave, open(filename, 'wb'))\n",
        "print(\"done\")"
      ],
      "execution_count": 97,
      "outputs": [
        {
          "output_type": "stream",
          "name": "stdout",
          "text": [
            "done\n"
          ]
        }
      ]
    },
    {
      "cell_type": "code",
      "source": [
        "loaded_model"
      ],
      "metadata": {
        "id": "TgGVHROrjk_X",
        "outputId": "45b7b3f7-72f3-4e88-c6c1-dfb94b5d274f",
        "colab": {
          "base_uri": "https://localhost:8080/"
        }
      },
      "execution_count": 100,
      "outputs": [
        {
          "output_type": "execute_result",
          "data": {
            "text/plain": [
              "<xgboost.core.Booster at 0x7fb803f9bc10>"
            ]
          },
          "metadata": {},
          "execution_count": 100
        }
      ]
    },
    {
      "cell_type": "code",
      "metadata": {
        "id": "HfhT8AyRhdSj"
      },
      "source": [
        "filename = \"./XGBoost.xgb\"\n",
        "loaded_model = pickle.load(open(filename, 'rb'))"
      ],
      "execution_count": 99,
      "outputs": []
    },
    {
      "cell_type": "code",
      "metadata": {
        "id": "RWdsHBSrhteA",
        "colab": {
          "base_uri": "https://localhost:8080/"
        },
        "outputId": "edb1b525-5f6c-47d7-d3ed-9679d73bb86b"
      },
      "source": [
        "loaded_model"
      ],
      "execution_count": 101,
      "outputs": [
        {
          "output_type": "execute_result",
          "data": {
            "text/plain": [
              "<xgboost.core.Booster at 0x7fb803f9bc10>"
            ]
          },
          "metadata": {},
          "execution_count": 101
        }
      ]
    },
    {
      "cell_type": "code",
      "metadata": {
        "id": "SjPOv4jG-2Oc",
        "colab": {
          "base_uri": "https://localhost:8080/"
        },
        "outputId": "b79bd5bb-4493-4cf7-e181-fbb935214b6b"
      },
      "source": [
        "loaded_model.predict(xgb.DMatrix(X_test[features][:1]))\n"
      ],
      "execution_count": 105,
      "outputs": [
        {
          "output_type": "execute_result",
          "data": {
            "text/plain": [
              "array([0.07358625], dtype=float32)"
            ]
          },
          "metadata": {},
          "execution_count": 105
        }
      ]
    },
    {
      "cell_type": "markdown",
      "metadata": {
        "id": "x-4g7hHrRY22"
      },
      "source": [
        "---\n",
        "\n",
        "# Gracias por completar este laboratorio!\n",
        "\n",
        "---\n",
        "\n"
      ]
    }
  ]
}